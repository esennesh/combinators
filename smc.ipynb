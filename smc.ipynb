{
 "cells": [
  {
   "cell_type": "code",
   "execution_count": 1,
   "metadata": {},
   "outputs": [],
   "source": [
    "import probtorch\n",
    "import torch\n",
    "\n",
    "import combinators\n",
    "import hmm\n",
    "import smc\n",
    "import utils"
   ]
  },
  {
   "cell_type": "code",
   "execution_count": 2,
   "metadata": {},
   "outputs": [],
   "source": [
    "generative = smc.ParticleTrace(1)"
   ]
  },
  {
   "cell_type": "code",
   "execution_count": 3,
   "metadata": {},
   "outputs": [],
   "source": [
    "mu = torch.zeros(1).unsqueeze(0)\n",
    "sigma = torch.ones(1, 1) / 2\n",
    "delta = torch.ones(1, 1)\n",
    "zs = torch.ones(1, 50+1) * -1\n",
    "zs[:, 0] = 0"
   ]
  },
  {
   "cell_type": "code",
   "execution_count": 4,
   "metadata": {},
   "outputs": [],
   "source": [
    "for t in range(zs.shape[1] - 1):\n",
    "    zs, mu, sigma, delta, generative = hmm.hmm_step(zs, mu, sigma, delta, t+1, generative)"
   ]
  },
  {
   "cell_type": "code",
   "execution_count": 5,
   "metadata": {},
   "outputs": [
    {
     "data": {
      "text/plain": [
       "Trace{'Z_1': Normal([torch.FloatTensor of size 1x1]), 'X_1': Normal([torch.FloatTensor of size 1]), 'Z_2': Normal([torch.FloatTensor of size 1x1]), 'X_2': Normal([torch.FloatTensor of size 1]), 'Z_3': Normal([torch.FloatTensor of size 1x1]), 'X_3': Normal([torch.FloatTensor of size 1]), 'Z_4': Normal([torch.FloatTensor of size 1x1]), 'X_4': Normal([torch.FloatTensor of size 1]), 'Z_5': Normal([torch.FloatTensor of size 1x1]), 'X_5': Normal([torch.FloatTensor of size 1]), 'Z_6': Normal([torch.FloatTensor of size 1x1]), 'X_6': Normal([torch.FloatTensor of size 1]), 'Z_7': Normal([torch.FloatTensor of size 1x1]), 'X_7': Normal([torch.FloatTensor of size 1]), 'Z_8': Normal([torch.FloatTensor of size 1x1]), 'X_8': Normal([torch.FloatTensor of size 1]), 'Z_9': Normal([torch.FloatTensor of size 1x1]), 'X_9': Normal([torch.FloatTensor of size 1]), 'Z_10': Normal([torch.FloatTensor of size 1x1]), 'X_10': Normal([torch.FloatTensor of size 1]), 'Z_11': Normal([torch.FloatTensor of size 1x1]), 'X_11': Normal([torch.FloatTensor of size 1]), 'Z_12': Normal([torch.FloatTensor of size 1x1]), 'X_12': Normal([torch.FloatTensor of size 1]), 'Z_13': Normal([torch.FloatTensor of size 1x1]), 'X_13': Normal([torch.FloatTensor of size 1]), 'Z_14': Normal([torch.FloatTensor of size 1x1]), 'X_14': Normal([torch.FloatTensor of size 1]), 'Z_15': Normal([torch.FloatTensor of size 1x1]), 'X_15': Normal([torch.FloatTensor of size 1]), 'Z_16': Normal([torch.FloatTensor of size 1x1]), 'X_16': Normal([torch.FloatTensor of size 1]), 'Z_17': Normal([torch.FloatTensor of size 1x1]), 'X_17': Normal([torch.FloatTensor of size 1]), 'Z_18': Normal([torch.FloatTensor of size 1x1]), 'X_18': Normal([torch.FloatTensor of size 1]), 'Z_19': Normal([torch.FloatTensor of size 1x1]), 'X_19': Normal([torch.FloatTensor of size 1]), 'Z_20': Normal([torch.FloatTensor of size 1x1]), 'X_20': Normal([torch.FloatTensor of size 1]), 'Z_21': Normal([torch.FloatTensor of size 1x1]), 'X_21': Normal([torch.FloatTensor of size 1]), 'Z_22': Normal([torch.FloatTensor of size 1x1]), 'X_22': Normal([torch.FloatTensor of size 1]), 'Z_23': Normal([torch.FloatTensor of size 1x1]), 'X_23': Normal([torch.FloatTensor of size 1]), 'Z_24': Normal([torch.FloatTensor of size 1x1]), 'X_24': Normal([torch.FloatTensor of size 1]), 'Z_25': Normal([torch.FloatTensor of size 1x1]), 'X_25': Normal([torch.FloatTensor of size 1]), 'Z_26': Normal([torch.FloatTensor of size 1x1]), 'X_26': Normal([torch.FloatTensor of size 1]), 'Z_27': Normal([torch.FloatTensor of size 1x1]), 'X_27': Normal([torch.FloatTensor of size 1]), 'Z_28': Normal([torch.FloatTensor of size 1x1]), 'X_28': Normal([torch.FloatTensor of size 1]), 'Z_29': Normal([torch.FloatTensor of size 1x1]), 'X_29': Normal([torch.FloatTensor of size 1]), 'Z_30': Normal([torch.FloatTensor of size 1x1]), 'X_30': Normal([torch.FloatTensor of size 1]), 'Z_31': Normal([torch.FloatTensor of size 1x1]), 'X_31': Normal([torch.FloatTensor of size 1]), 'Z_32': Normal([torch.FloatTensor of size 1x1]), 'X_32': Normal([torch.FloatTensor of size 1]), 'Z_33': Normal([torch.FloatTensor of size 1x1]), 'X_33': Normal([torch.FloatTensor of size 1]), 'Z_34': Normal([torch.FloatTensor of size 1x1]), 'X_34': Normal([torch.FloatTensor of size 1]), 'Z_35': Normal([torch.FloatTensor of size 1x1]), 'X_35': Normal([torch.FloatTensor of size 1]), 'Z_36': Normal([torch.FloatTensor of size 1x1]), 'X_36': Normal([torch.FloatTensor of size 1]), 'Z_37': Normal([torch.FloatTensor of size 1x1]), 'X_37': Normal([torch.FloatTensor of size 1]), 'Z_38': Normal([torch.FloatTensor of size 1x1]), 'X_38': Normal([torch.FloatTensor of size 1]), 'Z_39': Normal([torch.FloatTensor of size 1x1]), 'X_39': Normal([torch.FloatTensor of size 1]), 'Z_40': Normal([torch.FloatTensor of size 1x1]), 'X_40': Normal([torch.FloatTensor of size 1]), 'Z_41': Normal([torch.FloatTensor of size 1x1]), 'X_41': Normal([torch.FloatTensor of size 1]), 'Z_42': Normal([torch.FloatTensor of size 1x1]), 'X_42': Normal([torch.FloatTensor of size 1]), 'Z_43': Normal([torch.FloatTensor of size 1x1]), 'X_43': Normal([torch.FloatTensor of size 1]), 'Z_44': Normal([torch.FloatTensor of size 1x1]), 'X_44': Normal([torch.FloatTensor of size 1]), 'Z_45': Normal([torch.FloatTensor of size 1x1]), 'X_45': Normal([torch.FloatTensor of size 1]), 'Z_46': Normal([torch.FloatTensor of size 1x1]), 'X_46': Normal([torch.FloatTensor of size 1]), 'Z_47': Normal([torch.FloatTensor of size 1x1]), 'X_47': Normal([torch.FloatTensor of size 1]), 'Z_48': Normal([torch.FloatTensor of size 1x1]), 'X_48': Normal([torch.FloatTensor of size 1]), 'Z_49': Normal([torch.FloatTensor of size 1x1]), 'X_49': Normal([torch.FloatTensor of size 1]), 'Z_50': Normal([torch.FloatTensor of size 1x1]), 'X_50': Normal([torch.FloatTensor of size 1])}"
      ]
     },
     "execution_count": 5,
     "metadata": {},
     "output_type": "execute_result"
    }
   ],
   "source": [
    "generative"
   ]
  },
  {
   "cell_type": "code",
   "execution_count": 6,
   "metadata": {},
   "outputs": [],
   "source": [
    "num_particles = 500"
   ]
  },
  {
   "cell_type": "code",
   "execution_count": 7,
   "metadata": {},
   "outputs": [],
   "source": [
    "smc_step = smc.smc(hmm.hmm_step, hmm.hmm_retrace)"
   ]
  },
  {
   "cell_type": "code",
   "execution_count": 8,
   "metadata": {},
   "outputs": [],
   "source": [
    "hmm_params = {\n",
    "    'mu': {\n",
    "        'loc': torch.tensor(0.),\n",
    "        'scale': torch.tensor(1.),\n",
    "    },\n",
    "    'sigma': {\n",
    "        'loc': torch.tensor(0.),\n",
    "        'scale': torch.tensor(1.),\n",
    "    },\n",
    "    'delta': {\n",
    "        'loc': torch.tensor(0.),\n",
    "        'scale': torch.tensor(1.),\n",
    "    }\n",
    "}"
   ]
  },
  {
   "cell_type": "code",
   "execution_count": 9,
   "metadata": {},
   "outputs": [],
   "source": [
    "inference, init_hmm = smc.variational_smc(num_particles, hmm.init_hmm, smc_step, 500, 50, hmm_params, generative, 5)"
   ]
  },
  {
   "cell_type": "code",
   "execution_count": 10,
   "metadata": {},
   "outputs": [
    {
     "data": {
      "text/plain": [
       "Trace{'mu': Normal([torch.FloatTensor of size 500]), 'sigma': Normal([torch.FloatTensor of size 500]), 'delta': Normal([torch.FloatTensor of size 500]), 'Z_0': Normal([torch.FloatTensor of size 500]), 'Z_1': Normal([torch.FloatTensor of size 500]), 'X_1': Normal([torch.FloatTensor of size 1]), 'Z_2': Normal([torch.FloatTensor of size 500]), 'X_2': Normal([torch.FloatTensor of size 1]), 'Z_3': Normal([torch.FloatTensor of size 500]), 'X_3': Normal([torch.FloatTensor of size 1]), 'Z_4': Normal([torch.FloatTensor of size 500]), 'X_4': Normal([torch.FloatTensor of size 1]), 'Z_5': Normal([torch.FloatTensor of size 500]), 'X_5': Normal([torch.FloatTensor of size 1]), 'Z_6': Normal([torch.FloatTensor of size 500]), 'X_6': Normal([torch.FloatTensor of size 1]), 'Z_7': Normal([torch.FloatTensor of size 500]), 'X_7': Normal([torch.FloatTensor of size 1]), 'Z_8': Normal([torch.FloatTensor of size 500]), 'X_8': Normal([torch.FloatTensor of size 1]), 'Z_9': Normal([torch.FloatTensor of size 500]), 'X_9': Normal([torch.FloatTensor of size 1]), 'Z_10': Normal([torch.FloatTensor of size 500]), 'X_10': Normal([torch.FloatTensor of size 1]), 'Z_11': Normal([torch.FloatTensor of size 500]), 'X_11': Normal([torch.FloatTensor of size 1]), 'Z_12': Normal([torch.FloatTensor of size 500]), 'X_12': Normal([torch.FloatTensor of size 1]), 'Z_13': Normal([torch.FloatTensor of size 500]), 'X_13': Normal([torch.FloatTensor of size 1]), 'Z_14': Normal([torch.FloatTensor of size 500]), 'X_14': Normal([torch.FloatTensor of size 1]), 'Z_15': Normal([torch.FloatTensor of size 500]), 'X_15': Normal([torch.FloatTensor of size 1]), 'Z_16': Normal([torch.FloatTensor of size 500]), 'X_16': Normal([torch.FloatTensor of size 1]), 'Z_17': Normal([torch.FloatTensor of size 500]), 'X_17': Normal([torch.FloatTensor of size 1]), 'Z_18': Normal([torch.FloatTensor of size 500]), 'X_18': Normal([torch.FloatTensor of size 1]), 'Z_19': Normal([torch.FloatTensor of size 500]), 'X_19': Normal([torch.FloatTensor of size 1]), 'Z_20': Normal([torch.FloatTensor of size 500]), 'X_20': Normal([torch.FloatTensor of size 1]), 'Z_21': Normal([torch.FloatTensor of size 500]), 'X_21': Normal([torch.FloatTensor of size 1]), 'Z_22': Normal([torch.FloatTensor of size 500]), 'X_22': Normal([torch.FloatTensor of size 1]), 'Z_23': Normal([torch.FloatTensor of size 500]), 'X_23': Normal([torch.FloatTensor of size 1]), 'Z_24': Normal([torch.FloatTensor of size 500]), 'X_24': Normal([torch.FloatTensor of size 1]), 'Z_25': Normal([torch.FloatTensor of size 500]), 'X_25': Normal([torch.FloatTensor of size 1]), 'Z_26': Normal([torch.FloatTensor of size 500]), 'X_26': Normal([torch.FloatTensor of size 1]), 'Z_27': Normal([torch.FloatTensor of size 500]), 'X_27': Normal([torch.FloatTensor of size 1]), 'Z_28': Normal([torch.FloatTensor of size 500]), 'X_28': Normal([torch.FloatTensor of size 1]), 'Z_29': Normal([torch.FloatTensor of size 500]), 'X_29': Normal([torch.FloatTensor of size 1]), 'Z_30': Normal([torch.FloatTensor of size 500]), 'X_30': Normal([torch.FloatTensor of size 1]), 'Z_31': Normal([torch.FloatTensor of size 500]), 'X_31': Normal([torch.FloatTensor of size 1]), 'Z_32': Normal([torch.FloatTensor of size 500]), 'X_32': Normal([torch.FloatTensor of size 1]), 'Z_33': Normal([torch.FloatTensor of size 500]), 'X_33': Normal([torch.FloatTensor of size 1]), 'Z_34': Normal([torch.FloatTensor of size 500]), 'X_34': Normal([torch.FloatTensor of size 1]), 'Z_35': Normal([torch.FloatTensor of size 500]), 'X_35': Normal([torch.FloatTensor of size 1]), 'Z_36': Normal([torch.FloatTensor of size 500]), 'X_36': Normal([torch.FloatTensor of size 1]), 'Z_37': Normal([torch.FloatTensor of size 500]), 'X_37': Normal([torch.FloatTensor of size 1]), 'Z_38': Normal([torch.FloatTensor of size 500]), 'X_38': Normal([torch.FloatTensor of size 1]), 'Z_39': Normal([torch.FloatTensor of size 500]), 'X_39': Normal([torch.FloatTensor of size 1]), 'Z_40': Normal([torch.FloatTensor of size 500]), 'X_40': Normal([torch.FloatTensor of size 1]), 'Z_41': Normal([torch.FloatTensor of size 500]), 'X_41': Normal([torch.FloatTensor of size 1]), 'Z_42': Normal([torch.FloatTensor of size 500]), 'X_42': Normal([torch.FloatTensor of size 1]), 'Z_43': Normal([torch.FloatTensor of size 500]), 'X_43': Normal([torch.FloatTensor of size 1]), 'Z_44': Normal([torch.FloatTensor of size 500]), 'X_44': Normal([torch.FloatTensor of size 1]), 'Z_45': Normal([torch.FloatTensor of size 500]), 'X_45': Normal([torch.FloatTensor of size 1]), 'Z_46': Normal([torch.FloatTensor of size 500]), 'X_46': Normal([torch.FloatTensor of size 1]), 'Z_47': Normal([torch.FloatTensor of size 500]), 'X_47': Normal([torch.FloatTensor of size 1]), 'Z_48': Normal([torch.FloatTensor of size 500]), 'X_48': Normal([torch.FloatTensor of size 1]), 'Z_49': Normal([torch.FloatTensor of size 500]), 'X_49': Normal([torch.FloatTensor of size 1]), 'Z_50': Normal([torch.FloatTensor of size 500]), 'X_50': Normal([torch.FloatTensor of size 1])}"
      ]
     },
     "execution_count": 10,
     "metadata": {},
     "output_type": "execute_result"
    }
   ],
   "source": [
    "inference"
   ]
  },
  {
   "cell_type": "code",
   "execution_count": 11,
   "metadata": {},
   "outputs": [
    {
     "data": {
      "text/plain": [
       "Trace{'Z_1': Normal([torch.FloatTensor of size 1x1]), 'X_1': Normal([torch.FloatTensor of size 1]), 'Z_2': Normal([torch.FloatTensor of size 1x1]), 'X_2': Normal([torch.FloatTensor of size 1]), 'Z_3': Normal([torch.FloatTensor of size 1x1]), 'X_3': Normal([torch.FloatTensor of size 1]), 'Z_4': Normal([torch.FloatTensor of size 1x1]), 'X_4': Normal([torch.FloatTensor of size 1]), 'Z_5': Normal([torch.FloatTensor of size 1x1]), 'X_5': Normal([torch.FloatTensor of size 1]), 'Z_6': Normal([torch.FloatTensor of size 1x1]), 'X_6': Normal([torch.FloatTensor of size 1]), 'Z_7': Normal([torch.FloatTensor of size 1x1]), 'X_7': Normal([torch.FloatTensor of size 1]), 'Z_8': Normal([torch.FloatTensor of size 1x1]), 'X_8': Normal([torch.FloatTensor of size 1]), 'Z_9': Normal([torch.FloatTensor of size 1x1]), 'X_9': Normal([torch.FloatTensor of size 1]), 'Z_10': Normal([torch.FloatTensor of size 1x1]), 'X_10': Normal([torch.FloatTensor of size 1]), 'Z_11': Normal([torch.FloatTensor of size 1x1]), 'X_11': Normal([torch.FloatTensor of size 1]), 'Z_12': Normal([torch.FloatTensor of size 1x1]), 'X_12': Normal([torch.FloatTensor of size 1]), 'Z_13': Normal([torch.FloatTensor of size 1x1]), 'X_13': Normal([torch.FloatTensor of size 1]), 'Z_14': Normal([torch.FloatTensor of size 1x1]), 'X_14': Normal([torch.FloatTensor of size 1]), 'Z_15': Normal([torch.FloatTensor of size 1x1]), 'X_15': Normal([torch.FloatTensor of size 1]), 'Z_16': Normal([torch.FloatTensor of size 1x1]), 'X_16': Normal([torch.FloatTensor of size 1]), 'Z_17': Normal([torch.FloatTensor of size 1x1]), 'X_17': Normal([torch.FloatTensor of size 1]), 'Z_18': Normal([torch.FloatTensor of size 1x1]), 'X_18': Normal([torch.FloatTensor of size 1]), 'Z_19': Normal([torch.FloatTensor of size 1x1]), 'X_19': Normal([torch.FloatTensor of size 1]), 'Z_20': Normal([torch.FloatTensor of size 1x1]), 'X_20': Normal([torch.FloatTensor of size 1]), 'Z_21': Normal([torch.FloatTensor of size 1x1]), 'X_21': Normal([torch.FloatTensor of size 1]), 'Z_22': Normal([torch.FloatTensor of size 1x1]), 'X_22': Normal([torch.FloatTensor of size 1]), 'Z_23': Normal([torch.FloatTensor of size 1x1]), 'X_23': Normal([torch.FloatTensor of size 1]), 'Z_24': Normal([torch.FloatTensor of size 1x1]), 'X_24': Normal([torch.FloatTensor of size 1]), 'Z_25': Normal([torch.FloatTensor of size 1x1]), 'X_25': Normal([torch.FloatTensor of size 1]), 'Z_26': Normal([torch.FloatTensor of size 1x1]), 'X_26': Normal([torch.FloatTensor of size 1]), 'Z_27': Normal([torch.FloatTensor of size 1x1]), 'X_27': Normal([torch.FloatTensor of size 1]), 'Z_28': Normal([torch.FloatTensor of size 1x1]), 'X_28': Normal([torch.FloatTensor of size 1]), 'Z_29': Normal([torch.FloatTensor of size 1x1]), 'X_29': Normal([torch.FloatTensor of size 1]), 'Z_30': Normal([torch.FloatTensor of size 1x1]), 'X_30': Normal([torch.FloatTensor of size 1]), 'Z_31': Normal([torch.FloatTensor of size 1x1]), 'X_31': Normal([torch.FloatTensor of size 1]), 'Z_32': Normal([torch.FloatTensor of size 1x1]), 'X_32': Normal([torch.FloatTensor of size 1]), 'Z_33': Normal([torch.FloatTensor of size 1x1]), 'X_33': Normal([torch.FloatTensor of size 1]), 'Z_34': Normal([torch.FloatTensor of size 1x1]), 'X_34': Normal([torch.FloatTensor of size 1]), 'Z_35': Normal([torch.FloatTensor of size 1x1]), 'X_35': Normal([torch.FloatTensor of size 1]), 'Z_36': Normal([torch.FloatTensor of size 1x1]), 'X_36': Normal([torch.FloatTensor of size 1]), 'Z_37': Normal([torch.FloatTensor of size 1x1]), 'X_37': Normal([torch.FloatTensor of size 1]), 'Z_38': Normal([torch.FloatTensor of size 1x1]), 'X_38': Normal([torch.FloatTensor of size 1]), 'Z_39': Normal([torch.FloatTensor of size 1x1]), 'X_39': Normal([torch.FloatTensor of size 1]), 'Z_40': Normal([torch.FloatTensor of size 1x1]), 'X_40': Normal([torch.FloatTensor of size 1]), 'Z_41': Normal([torch.FloatTensor of size 1x1]), 'X_41': Normal([torch.FloatTensor of size 1]), 'Z_42': Normal([torch.FloatTensor of size 1x1]), 'X_42': Normal([torch.FloatTensor of size 1]), 'Z_43': Normal([torch.FloatTensor of size 1x1]), 'X_43': Normal([torch.FloatTensor of size 1]), 'Z_44': Normal([torch.FloatTensor of size 1x1]), 'X_44': Normal([torch.FloatTensor of size 1]), 'Z_45': Normal([torch.FloatTensor of size 1x1]), 'X_45': Normal([torch.FloatTensor of size 1]), 'Z_46': Normal([torch.FloatTensor of size 1x1]), 'X_46': Normal([torch.FloatTensor of size 1]), 'Z_47': Normal([torch.FloatTensor of size 1x1]), 'X_47': Normal([torch.FloatTensor of size 1]), 'Z_48': Normal([torch.FloatTensor of size 1x1]), 'X_48': Normal([torch.FloatTensor of size 1]), 'Z_49': Normal([torch.FloatTensor of size 1x1]), 'X_49': Normal([torch.FloatTensor of size 1]), 'Z_50': Normal([torch.FloatTensor of size 1x1]), 'X_50': Normal([torch.FloatTensor of size 1])}"
      ]
     },
     "execution_count": 11,
     "metadata": {},
     "output_type": "execute_result"
    }
   ],
   "source": [
    "generative"
   ]
  },
  {
   "cell_type": "code",
   "execution_count": 12,
   "metadata": {},
   "outputs": [
    {
     "name": "stdout",
     "output_type": "stream",
     "text": [
      "SMC MSE at time 1: 1.723170\n",
      "SMC MSE at time 2: 0.842310\n",
      "SMC MSE at time 3: 1.588546\n",
      "SMC MSE at time 4: 0.186023\n",
      "SMC MSE at time 5: 0.627453\n",
      "SMC MSE at time 6: 0.478724\n",
      "SMC MSE at time 7: 1.426999\n",
      "SMC MSE at time 8: 0.316259\n",
      "SMC MSE at time 9: 0.825677\n",
      "SMC MSE at time 10: 0.915360\n",
      "SMC MSE at time 11: 2.174628\n",
      "SMC MSE at time 12: 1.263073\n",
      "SMC MSE at time 13: 0.060577\n",
      "SMC MSE at time 14: 0.422524\n",
      "SMC MSE at time 15: 0.302408\n",
      "SMC MSE at time 16: 5.797582\n",
      "SMC MSE at time 17: 0.051837\n",
      "SMC MSE at time 18: 0.252933\n",
      "SMC MSE at time 19: 0.286296\n",
      "SMC MSE at time 20: 6.142094\n",
      "SMC MSE at time 21: 1.435743\n",
      "SMC MSE at time 22: 0.713476\n",
      "SMC MSE at time 23: 5.013797\n",
      "SMC MSE at time 24: 0.762840\n",
      "SMC MSE at time 25: 0.031600\n",
      "SMC MSE at time 26: 1.622066\n",
      "SMC MSE at time 27: 14.095006\n",
      "SMC MSE at time 28: 0.146375\n",
      "SMC MSE at time 29: 3.207798\n",
      "SMC MSE at time 30: 0.003540\n",
      "SMC MSE at time 31: 4.088219\n",
      "SMC MSE at time 32: 0.251796\n",
      "SMC MSE at time 33: 0.011031\n",
      "SMC MSE at time 34: 1.880746\n",
      "SMC MSE at time 35: 0.351322\n",
      "SMC MSE at time 36: 0.188546\n",
      "SMC MSE at time 37: 0.230378\n",
      "SMC MSE at time 38: 0.432825\n",
      "SMC MSE at time 39: 13.082527\n",
      "SMC MSE at time 40: 1.204791\n",
      "SMC MSE at time 41: 0.095756\n",
      "SMC MSE at time 42: 0.887841\n",
      "SMC MSE at time 43: 0.252723\n",
      "SMC MSE at time 44: 8.260756\n",
      "SMC MSE at time 45: 1.195705\n",
      "SMC MSE at time 46: 0.004772\n",
      "SMC MSE at time 47: 0.689137\n",
      "SMC MSE at time 48: 0.338725\n",
      "SMC MSE at time 49: 2.835951\n",
      "SMC MSE at time 50: 1.422208\n"
     ]
    }
   ],
   "source": [
    "for t in range(1, zs.shape[1]):\n",
    "    key = 'Z_%d' % t\n",
    "    accuracy = ((inference[key].value - generative[key].value)**2).mean()\n",
    "    print('SMC MSE at time %d: %f' % (t, accuracy))"
   ]
  },
  {
   "cell_type": "code",
   "execution_count": null,
   "metadata": {},
   "outputs": [],
   "source": []
  },
  {
   "cell_type": "code",
   "execution_count": null,
   "metadata": {},
   "outputs": [],
   "source": []
  },
  {
   "cell_type": "code",
   "execution_count": null,
   "metadata": {},
   "outputs": [],
   "source": []
  }
 ],
 "metadata": {
  "kernelspec": {
   "display_name": "Python [conda env:funcytorch]",
   "language": "python",
   "name": "conda-env-funcytorch-py"
  },
  "language_info": {
   "codemirror_mode": {
    "name": "ipython",
    "version": 3
   },
   "file_extension": ".py",
   "mimetype": "text/x-python",
   "name": "python",
   "nbconvert_exporter": "python",
   "pygments_lexer": "ipython3",
   "version": "3.6.5"
  }
 },
 "nbformat": 4,
 "nbformat_minor": 2
}
