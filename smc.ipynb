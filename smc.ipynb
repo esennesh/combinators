{
 "cells": [
  {
   "cell_type": "code",
   "execution_count": 1,
   "metadata": {},
   "outputs": [],
   "source": [
    "import probtorch\n",
    "import torch\n",
    "\n",
    "import combinators\n",
    "import hmm\n",
    "import smc\n",
    "import utils"
   ]
  },
  {
   "cell_type": "code",
   "execution_count": 2,
   "metadata": {},
   "outputs": [],
   "source": [
    "generative = smc.ParticleTrace(1)"
   ]
  },
  {
   "cell_type": "code",
   "execution_count": 3,
   "metadata": {},
   "outputs": [],
   "source": [
    "mu = torch.zeros(1, 1)\n",
    "sigma = torch.ones(1, 1) / 2\n",
    "delta = torch.ones(1, 1)\n",
    "zs = torch.ones(1, 50+1) * -1\n",
    "zs[:, 0] = 0"
   ]
  },
  {
   "cell_type": "code",
   "execution_count": 4,
   "metadata": {},
   "outputs": [],
   "source": [
    "for t in range(zs.shape[1] - 1):\n",
    "    zs, mu, sigma, delta, generative = hmm.hmm_step(zs, mu, sigma, delta, t+1, generative)"
   ]
  },
  {
   "cell_type": "code",
   "execution_count": 5,
   "metadata": {},
   "outputs": [
    {
     "data": {
      "text/plain": [
       "Trace{'Z_1': Normal([torch.FloatTensor of size 1x1]), 'X_1': Normal([torch.FloatTensor of size 1]), 'Z_2': Normal([torch.FloatTensor of size 1x1]), 'X_2': Normal([torch.FloatTensor of size 1]), 'Z_3': Normal([torch.FloatTensor of size 1x1]), 'X_3': Normal([torch.FloatTensor of size 1]), 'Z_4': Normal([torch.FloatTensor of size 1x1]), 'X_4': Normal([torch.FloatTensor of size 1]), 'Z_5': Normal([torch.FloatTensor of size 1x1]), 'X_5': Normal([torch.FloatTensor of size 1]), 'Z_6': Normal([torch.FloatTensor of size 1x1]), 'X_6': Normal([torch.FloatTensor of size 1]), 'Z_7': Normal([torch.FloatTensor of size 1x1]), 'X_7': Normal([torch.FloatTensor of size 1]), 'Z_8': Normal([torch.FloatTensor of size 1x1]), 'X_8': Normal([torch.FloatTensor of size 1]), 'Z_9': Normal([torch.FloatTensor of size 1x1]), 'X_9': Normal([torch.FloatTensor of size 1]), 'Z_10': Normal([torch.FloatTensor of size 1x1]), 'X_10': Normal([torch.FloatTensor of size 1]), 'Z_11': Normal([torch.FloatTensor of size 1x1]), 'X_11': Normal([torch.FloatTensor of size 1]), 'Z_12': Normal([torch.FloatTensor of size 1x1]), 'X_12': Normal([torch.FloatTensor of size 1]), 'Z_13': Normal([torch.FloatTensor of size 1x1]), 'X_13': Normal([torch.FloatTensor of size 1]), 'Z_14': Normal([torch.FloatTensor of size 1x1]), 'X_14': Normal([torch.FloatTensor of size 1]), 'Z_15': Normal([torch.FloatTensor of size 1x1]), 'X_15': Normal([torch.FloatTensor of size 1]), 'Z_16': Normal([torch.FloatTensor of size 1x1]), 'X_16': Normal([torch.FloatTensor of size 1]), 'Z_17': Normal([torch.FloatTensor of size 1x1]), 'X_17': Normal([torch.FloatTensor of size 1]), 'Z_18': Normal([torch.FloatTensor of size 1x1]), 'X_18': Normal([torch.FloatTensor of size 1]), 'Z_19': Normal([torch.FloatTensor of size 1x1]), 'X_19': Normal([torch.FloatTensor of size 1]), 'Z_20': Normal([torch.FloatTensor of size 1x1]), 'X_20': Normal([torch.FloatTensor of size 1]), 'Z_21': Normal([torch.FloatTensor of size 1x1]), 'X_21': Normal([torch.FloatTensor of size 1]), 'Z_22': Normal([torch.FloatTensor of size 1x1]), 'X_22': Normal([torch.FloatTensor of size 1]), 'Z_23': Normal([torch.FloatTensor of size 1x1]), 'X_23': Normal([torch.FloatTensor of size 1]), 'Z_24': Normal([torch.FloatTensor of size 1x1]), 'X_24': Normal([torch.FloatTensor of size 1]), 'Z_25': Normal([torch.FloatTensor of size 1x1]), 'X_25': Normal([torch.FloatTensor of size 1]), 'Z_26': Normal([torch.FloatTensor of size 1x1]), 'X_26': Normal([torch.FloatTensor of size 1]), 'Z_27': Normal([torch.FloatTensor of size 1x1]), 'X_27': Normal([torch.FloatTensor of size 1]), 'Z_28': Normal([torch.FloatTensor of size 1x1]), 'X_28': Normal([torch.FloatTensor of size 1]), 'Z_29': Normal([torch.FloatTensor of size 1x1]), 'X_29': Normal([torch.FloatTensor of size 1]), 'Z_30': Normal([torch.FloatTensor of size 1x1]), 'X_30': Normal([torch.FloatTensor of size 1]), 'Z_31': Normal([torch.FloatTensor of size 1x1]), 'X_31': Normal([torch.FloatTensor of size 1]), 'Z_32': Normal([torch.FloatTensor of size 1x1]), 'X_32': Normal([torch.FloatTensor of size 1]), 'Z_33': Normal([torch.FloatTensor of size 1x1]), 'X_33': Normal([torch.FloatTensor of size 1]), 'Z_34': Normal([torch.FloatTensor of size 1x1]), 'X_34': Normal([torch.FloatTensor of size 1]), 'Z_35': Normal([torch.FloatTensor of size 1x1]), 'X_35': Normal([torch.FloatTensor of size 1]), 'Z_36': Normal([torch.FloatTensor of size 1x1]), 'X_36': Normal([torch.FloatTensor of size 1]), 'Z_37': Normal([torch.FloatTensor of size 1x1]), 'X_37': Normal([torch.FloatTensor of size 1]), 'Z_38': Normal([torch.FloatTensor of size 1x1]), 'X_38': Normal([torch.FloatTensor of size 1]), 'Z_39': Normal([torch.FloatTensor of size 1x1]), 'X_39': Normal([torch.FloatTensor of size 1]), 'Z_40': Normal([torch.FloatTensor of size 1x1]), 'X_40': Normal([torch.FloatTensor of size 1]), 'Z_41': Normal([torch.FloatTensor of size 1x1]), 'X_41': Normal([torch.FloatTensor of size 1]), 'Z_42': Normal([torch.FloatTensor of size 1x1]), 'X_42': Normal([torch.FloatTensor of size 1]), 'Z_43': Normal([torch.FloatTensor of size 1x1]), 'X_43': Normal([torch.FloatTensor of size 1]), 'Z_44': Normal([torch.FloatTensor of size 1x1]), 'X_44': Normal([torch.FloatTensor of size 1]), 'Z_45': Normal([torch.FloatTensor of size 1x1]), 'X_45': Normal([torch.FloatTensor of size 1]), 'Z_46': Normal([torch.FloatTensor of size 1x1]), 'X_46': Normal([torch.FloatTensor of size 1]), 'Z_47': Normal([torch.FloatTensor of size 1x1]), 'X_47': Normal([torch.FloatTensor of size 1]), 'Z_48': Normal([torch.FloatTensor of size 1x1]), 'X_48': Normal([torch.FloatTensor of size 1]), 'Z_49': Normal([torch.FloatTensor of size 1x1]), 'X_49': Normal([torch.FloatTensor of size 1]), 'Z_50': Normal([torch.FloatTensor of size 1x1]), 'X_50': Normal([torch.FloatTensor of size 1])}"
      ]
     },
     "execution_count": 5,
     "metadata": {},
     "output_type": "execute_result"
    }
   ],
   "source": [
    "generative"
   ]
  },
  {
   "cell_type": "code",
   "execution_count": 6,
   "metadata": {},
   "outputs": [],
   "source": [
    "num_particles = 500"
   ]
  },
  {
   "cell_type": "code",
   "execution_count": 7,
   "metadata": {},
   "outputs": [],
   "source": [
    "smc_step = smc.smc(hmm.hmm_step, hmm.hmm_retrace)"
   ]
  },
  {
   "cell_type": "code",
   "execution_count": 8,
   "metadata": {},
   "outputs": [],
   "source": [
    "hmm_params = {\n",
    "    'mu': {\n",
    "        'loc': torch.tensor(0.),\n",
    "        'scale': torch.tensor(0.25),\n",
    "    },\n",
    "    'sigma': {\n",
    "        'loc': torch.tensor(0.),\n",
    "        'scale': torch.tensor(0.25),\n",
    "    },\n",
    "    'delta': {\n",
    "        'loc': torch.tensor(0.),\n",
    "        'scale': torch.tensor(0.25),\n",
    "    }\n",
    "}"
   ]
  },
  {
   "cell_type": "code",
   "execution_count": 9,
   "metadata": {},
   "outputs": [],
   "source": [
    "inference, init_hmm = smc.variational_smc(num_particles, hmm.init_hmm, smc_step, 500, 50, hmm_params, generative, 5)"
   ]
  },
  {
   "cell_type": "code",
   "execution_count": 10,
   "metadata": {},
   "outputs": [
    {
     "data": {
      "text/plain": [
       "Trace{'mu': Normal([torch.FloatTensor of size 500]), 'sigma': Normal([torch.FloatTensor of size 500]), 'delta': Normal([torch.FloatTensor of size 500]), 'Z_0': Normal([torch.FloatTensor of size 500]), 'Z_1': Normal([torch.FloatTensor of size 500]), 'X_1': Normal([torch.FloatTensor of size 1]), 'Z_2': Normal([torch.FloatTensor of size 500]), 'X_2': Normal([torch.FloatTensor of size 1]), 'Z_3': Normal([torch.FloatTensor of size 500]), 'X_3': Normal([torch.FloatTensor of size 1]), 'Z_4': Normal([torch.FloatTensor of size 500]), 'X_4': Normal([torch.FloatTensor of size 1]), 'Z_5': Normal([torch.FloatTensor of size 500]), 'X_5': Normal([torch.FloatTensor of size 1]), 'Z_6': Normal([torch.FloatTensor of size 500]), 'X_6': Normal([torch.FloatTensor of size 1]), 'Z_7': Normal([torch.FloatTensor of size 500]), 'X_7': Normal([torch.FloatTensor of size 1]), 'Z_8': Normal([torch.FloatTensor of size 500]), 'X_8': Normal([torch.FloatTensor of size 1]), 'Z_9': Normal([torch.FloatTensor of size 500]), 'X_9': Normal([torch.FloatTensor of size 1]), 'Z_10': Normal([torch.FloatTensor of size 500]), 'X_10': Normal([torch.FloatTensor of size 1]), 'Z_11': Normal([torch.FloatTensor of size 500]), 'X_11': Normal([torch.FloatTensor of size 1]), 'Z_12': Normal([torch.FloatTensor of size 500]), 'X_12': Normal([torch.FloatTensor of size 1]), 'Z_13': Normal([torch.FloatTensor of size 500]), 'X_13': Normal([torch.FloatTensor of size 1]), 'Z_14': Normal([torch.FloatTensor of size 500]), 'X_14': Normal([torch.FloatTensor of size 1]), 'Z_15': Normal([torch.FloatTensor of size 500]), 'X_15': Normal([torch.FloatTensor of size 1]), 'Z_16': Normal([torch.FloatTensor of size 500]), 'X_16': Normal([torch.FloatTensor of size 1]), 'Z_17': Normal([torch.FloatTensor of size 500]), 'X_17': Normal([torch.FloatTensor of size 1]), 'Z_18': Normal([torch.FloatTensor of size 500]), 'X_18': Normal([torch.FloatTensor of size 1]), 'Z_19': Normal([torch.FloatTensor of size 500]), 'X_19': Normal([torch.FloatTensor of size 1]), 'Z_20': Normal([torch.FloatTensor of size 500]), 'X_20': Normal([torch.FloatTensor of size 1]), 'Z_21': Normal([torch.FloatTensor of size 500]), 'X_21': Normal([torch.FloatTensor of size 1]), 'Z_22': Normal([torch.FloatTensor of size 500]), 'X_22': Normal([torch.FloatTensor of size 1]), 'Z_23': Normal([torch.FloatTensor of size 500]), 'X_23': Normal([torch.FloatTensor of size 1]), 'Z_24': Normal([torch.FloatTensor of size 500]), 'X_24': Normal([torch.FloatTensor of size 1]), 'Z_25': Normal([torch.FloatTensor of size 500]), 'X_25': Normal([torch.FloatTensor of size 1]), 'Z_26': Normal([torch.FloatTensor of size 500]), 'X_26': Normal([torch.FloatTensor of size 1]), 'Z_27': Normal([torch.FloatTensor of size 500]), 'X_27': Normal([torch.FloatTensor of size 1]), 'Z_28': Normal([torch.FloatTensor of size 500]), 'X_28': Normal([torch.FloatTensor of size 1]), 'Z_29': Normal([torch.FloatTensor of size 500]), 'X_29': Normal([torch.FloatTensor of size 1]), 'Z_30': Normal([torch.FloatTensor of size 500]), 'X_30': Normal([torch.FloatTensor of size 1]), 'Z_31': Normal([torch.FloatTensor of size 500]), 'X_31': Normal([torch.FloatTensor of size 1]), 'Z_32': Normal([torch.FloatTensor of size 500]), 'X_32': Normal([torch.FloatTensor of size 1]), 'Z_33': Normal([torch.FloatTensor of size 500]), 'X_33': Normal([torch.FloatTensor of size 1]), 'Z_34': Normal([torch.FloatTensor of size 500]), 'X_34': Normal([torch.FloatTensor of size 1]), 'Z_35': Normal([torch.FloatTensor of size 500]), 'X_35': Normal([torch.FloatTensor of size 1]), 'Z_36': Normal([torch.FloatTensor of size 500]), 'X_36': Normal([torch.FloatTensor of size 1]), 'Z_37': Normal([torch.FloatTensor of size 500]), 'X_37': Normal([torch.FloatTensor of size 1]), 'Z_38': Normal([torch.FloatTensor of size 500]), 'X_38': Normal([torch.FloatTensor of size 1]), 'Z_39': Normal([torch.FloatTensor of size 500]), 'X_39': Normal([torch.FloatTensor of size 1]), 'Z_40': Normal([torch.FloatTensor of size 500]), 'X_40': Normal([torch.FloatTensor of size 1]), 'Z_41': Normal([torch.FloatTensor of size 500]), 'X_41': Normal([torch.FloatTensor of size 1]), 'Z_42': Normal([torch.FloatTensor of size 500]), 'X_42': Normal([torch.FloatTensor of size 1]), 'Z_43': Normal([torch.FloatTensor of size 500]), 'X_43': Normal([torch.FloatTensor of size 1]), 'Z_44': Normal([torch.FloatTensor of size 500]), 'X_44': Normal([torch.FloatTensor of size 1]), 'Z_45': Normal([torch.FloatTensor of size 500]), 'X_45': Normal([torch.FloatTensor of size 1]), 'Z_46': Normal([torch.FloatTensor of size 500]), 'X_46': Normal([torch.FloatTensor of size 1]), 'Z_47': Normal([torch.FloatTensor of size 500]), 'X_47': Normal([torch.FloatTensor of size 1]), 'Z_48': Normal([torch.FloatTensor of size 500]), 'X_48': Normal([torch.FloatTensor of size 1]), 'Z_49': Normal([torch.FloatTensor of size 500]), 'X_49': Normal([torch.FloatTensor of size 1]), 'Z_50': Normal([torch.FloatTensor of size 500]), 'X_50': Normal([torch.FloatTensor of size 1])}"
      ]
     },
     "execution_count": 10,
     "metadata": {},
     "output_type": "execute_result"
    }
   ],
   "source": [
    "inference"
   ]
  },
  {
   "cell_type": "code",
   "execution_count": 11,
   "metadata": {},
   "outputs": [
    {
     "data": {
      "text/plain": [
       "Trace{'Z_1': Normal([torch.FloatTensor of size 1x1]), 'X_1': Normal([torch.FloatTensor of size 1]), 'Z_2': Normal([torch.FloatTensor of size 1x1]), 'X_2': Normal([torch.FloatTensor of size 1]), 'Z_3': Normal([torch.FloatTensor of size 1x1]), 'X_3': Normal([torch.FloatTensor of size 1]), 'Z_4': Normal([torch.FloatTensor of size 1x1]), 'X_4': Normal([torch.FloatTensor of size 1]), 'Z_5': Normal([torch.FloatTensor of size 1x1]), 'X_5': Normal([torch.FloatTensor of size 1]), 'Z_6': Normal([torch.FloatTensor of size 1x1]), 'X_6': Normal([torch.FloatTensor of size 1]), 'Z_7': Normal([torch.FloatTensor of size 1x1]), 'X_7': Normal([torch.FloatTensor of size 1]), 'Z_8': Normal([torch.FloatTensor of size 1x1]), 'X_8': Normal([torch.FloatTensor of size 1]), 'Z_9': Normal([torch.FloatTensor of size 1x1]), 'X_9': Normal([torch.FloatTensor of size 1]), 'Z_10': Normal([torch.FloatTensor of size 1x1]), 'X_10': Normal([torch.FloatTensor of size 1]), 'Z_11': Normal([torch.FloatTensor of size 1x1]), 'X_11': Normal([torch.FloatTensor of size 1]), 'Z_12': Normal([torch.FloatTensor of size 1x1]), 'X_12': Normal([torch.FloatTensor of size 1]), 'Z_13': Normal([torch.FloatTensor of size 1x1]), 'X_13': Normal([torch.FloatTensor of size 1]), 'Z_14': Normal([torch.FloatTensor of size 1x1]), 'X_14': Normal([torch.FloatTensor of size 1]), 'Z_15': Normal([torch.FloatTensor of size 1x1]), 'X_15': Normal([torch.FloatTensor of size 1]), 'Z_16': Normal([torch.FloatTensor of size 1x1]), 'X_16': Normal([torch.FloatTensor of size 1]), 'Z_17': Normal([torch.FloatTensor of size 1x1]), 'X_17': Normal([torch.FloatTensor of size 1]), 'Z_18': Normal([torch.FloatTensor of size 1x1]), 'X_18': Normal([torch.FloatTensor of size 1]), 'Z_19': Normal([torch.FloatTensor of size 1x1]), 'X_19': Normal([torch.FloatTensor of size 1]), 'Z_20': Normal([torch.FloatTensor of size 1x1]), 'X_20': Normal([torch.FloatTensor of size 1]), 'Z_21': Normal([torch.FloatTensor of size 1x1]), 'X_21': Normal([torch.FloatTensor of size 1]), 'Z_22': Normal([torch.FloatTensor of size 1x1]), 'X_22': Normal([torch.FloatTensor of size 1]), 'Z_23': Normal([torch.FloatTensor of size 1x1]), 'X_23': Normal([torch.FloatTensor of size 1]), 'Z_24': Normal([torch.FloatTensor of size 1x1]), 'X_24': Normal([torch.FloatTensor of size 1]), 'Z_25': Normal([torch.FloatTensor of size 1x1]), 'X_25': Normal([torch.FloatTensor of size 1]), 'Z_26': Normal([torch.FloatTensor of size 1x1]), 'X_26': Normal([torch.FloatTensor of size 1]), 'Z_27': Normal([torch.FloatTensor of size 1x1]), 'X_27': Normal([torch.FloatTensor of size 1]), 'Z_28': Normal([torch.FloatTensor of size 1x1]), 'X_28': Normal([torch.FloatTensor of size 1]), 'Z_29': Normal([torch.FloatTensor of size 1x1]), 'X_29': Normal([torch.FloatTensor of size 1]), 'Z_30': Normal([torch.FloatTensor of size 1x1]), 'X_30': Normal([torch.FloatTensor of size 1]), 'Z_31': Normal([torch.FloatTensor of size 1x1]), 'X_31': Normal([torch.FloatTensor of size 1]), 'Z_32': Normal([torch.FloatTensor of size 1x1]), 'X_32': Normal([torch.FloatTensor of size 1]), 'Z_33': Normal([torch.FloatTensor of size 1x1]), 'X_33': Normal([torch.FloatTensor of size 1]), 'Z_34': Normal([torch.FloatTensor of size 1x1]), 'X_34': Normal([torch.FloatTensor of size 1]), 'Z_35': Normal([torch.FloatTensor of size 1x1]), 'X_35': Normal([torch.FloatTensor of size 1]), 'Z_36': Normal([torch.FloatTensor of size 1x1]), 'X_36': Normal([torch.FloatTensor of size 1]), 'Z_37': Normal([torch.FloatTensor of size 1x1]), 'X_37': Normal([torch.FloatTensor of size 1]), 'Z_38': Normal([torch.FloatTensor of size 1x1]), 'X_38': Normal([torch.FloatTensor of size 1]), 'Z_39': Normal([torch.FloatTensor of size 1x1]), 'X_39': Normal([torch.FloatTensor of size 1]), 'Z_40': Normal([torch.FloatTensor of size 1x1]), 'X_40': Normal([torch.FloatTensor of size 1]), 'Z_41': Normal([torch.FloatTensor of size 1x1]), 'X_41': Normal([torch.FloatTensor of size 1]), 'Z_42': Normal([torch.FloatTensor of size 1x1]), 'X_42': Normal([torch.FloatTensor of size 1]), 'Z_43': Normal([torch.FloatTensor of size 1x1]), 'X_43': Normal([torch.FloatTensor of size 1]), 'Z_44': Normal([torch.FloatTensor of size 1x1]), 'X_44': Normal([torch.FloatTensor of size 1]), 'Z_45': Normal([torch.FloatTensor of size 1x1]), 'X_45': Normal([torch.FloatTensor of size 1]), 'Z_46': Normal([torch.FloatTensor of size 1x1]), 'X_46': Normal([torch.FloatTensor of size 1]), 'Z_47': Normal([torch.FloatTensor of size 1x1]), 'X_47': Normal([torch.FloatTensor of size 1]), 'Z_48': Normal([torch.FloatTensor of size 1x1]), 'X_48': Normal([torch.FloatTensor of size 1]), 'Z_49': Normal([torch.FloatTensor of size 1x1]), 'X_49': Normal([torch.FloatTensor of size 1]), 'Z_50': Normal([torch.FloatTensor of size 1x1]), 'X_50': Normal([torch.FloatTensor of size 1])}"
      ]
     },
     "execution_count": 11,
     "metadata": {},
     "output_type": "execute_result"
    }
   ],
   "source": [
    "generative"
   ]
  },
  {
   "cell_type": "code",
   "execution_count": 12,
   "metadata": {},
   "outputs": [
    {
     "name": "stdout",
     "output_type": "stream",
     "text": [
      "SMC MSE at time 1: 0.001479\n",
      "SMC MSE at time 2: 30.054335\n",
      "SMC MSE at time 3: 22.487921\n",
      "SMC MSE at time 4: 7.175554\n",
      "SMC MSE at time 5: 20.824797\n",
      "SMC MSE at time 6: 18.373857\n",
      "SMC MSE at time 7: 5.069932\n",
      "SMC MSE at time 8: 2.358100\n",
      "SMC MSE at time 9: 0.422409\n",
      "SMC MSE at time 10: 15.750609\n",
      "SMC MSE at time 11: 2.560673\n",
      "SMC MSE at time 12: 3.379993\n",
      "SMC MSE at time 13: 18.762814\n",
      "SMC MSE at time 14: 0.001609\n",
      "SMC MSE at time 15: 0.000003\n",
      "SMC MSE at time 16: 0.087420\n",
      "SMC MSE at time 17: 4.336171\n",
      "SMC MSE at time 18: 0.277719\n",
      "SMC MSE at time 19: 2.539819\n",
      "SMC MSE at time 20: 3.632300\n",
      "SMC MSE at time 21: 0.555960\n",
      "SMC MSE at time 22: 0.048985\n",
      "SMC MSE at time 23: 0.053555\n",
      "SMC MSE at time 24: 11.865206\n",
      "SMC MSE at time 25: 4.122310\n",
      "SMC MSE at time 26: 3.180465\n",
      "SMC MSE at time 27: 1.965402\n",
      "SMC MSE at time 28: 1.483395\n",
      "SMC MSE at time 29: 5.827371\n",
      "SMC MSE at time 30: 0.833220\n",
      "SMC MSE at time 31: 5.546090\n",
      "SMC MSE at time 32: 6.011144\n",
      "SMC MSE at time 33: 1.046634\n",
      "SMC MSE at time 34: 6.954966\n",
      "SMC MSE at time 35: 5.894219\n",
      "SMC MSE at time 36: 1.131561\n",
      "SMC MSE at time 37: 8.270393\n",
      "SMC MSE at time 38: 2.917359\n",
      "SMC MSE at time 39: 1.132826\n",
      "SMC MSE at time 40: 14.307017\n",
      "SMC MSE at time 41: 17.215298\n",
      "SMC MSE at time 42: 5.254841\n",
      "SMC MSE at time 43: 1.038405\n",
      "SMC MSE at time 44: 2.674563\n",
      "SMC MSE at time 45: 5.369876\n",
      "SMC MSE at time 46: 2.323091\n",
      "SMC MSE at time 47: 10.868312\n",
      "SMC MSE at time 48: 1.613340\n",
      "SMC MSE at time 49: 2.495640\n",
      "SMC MSE at time 50: 3.747274\n"
     ]
    }
   ],
   "source": [
    "for t in range(1, zs.shape[1]):\n",
    "    key = 'Z_%d' % t\n",
    "    accuracy = ((inference[key].value - generative[key].value)**2).mean()\n",
    "    print('SMC MSE at time %d: %f' % (t, accuracy))"
   ]
  },
  {
   "cell_type": "code",
   "execution_count": null,
   "metadata": {},
   "outputs": [],
   "source": []
  },
  {
   "cell_type": "code",
   "execution_count": null,
   "metadata": {},
   "outputs": [],
   "source": []
  },
  {
   "cell_type": "code",
   "execution_count": null,
   "metadata": {},
   "outputs": [],
   "source": []
  }
 ],
 "metadata": {
  "kernelspec": {
   "display_name": "Python [conda env:funcytorch]",
   "language": "python",
   "name": "conda-env-funcytorch-py"
  },
  "language_info": {
   "codemirror_mode": {
    "name": "ipython",
    "version": 3
   },
   "file_extension": ".py",
   "mimetype": "text/x-python",
   "name": "python",
   "nbconvert_exporter": "python",
   "pygments_lexer": "ipython3",
   "version": "3.6.5"
  }
 },
 "nbformat": 4,
 "nbformat_minor": 2
}
