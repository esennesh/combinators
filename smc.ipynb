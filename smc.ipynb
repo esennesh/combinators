{
 "cells": [
  {
   "cell_type": "code",
   "execution_count": 1,
   "metadata": {},
   "outputs": [],
   "source": [
    "import probtorch\n",
    "import torch\n",
    "\n",
    "import combinators\n",
    "import smc\n",
    "import ssm\n",
    "import utils"
   ]
  },
  {
   "cell_type": "code",
   "execution_count": 2,
   "metadata": {},
   "outputs": [],
   "source": [
    "generative = smc.ParticleTrace(1)"
   ]
  },
  {
   "cell_type": "code",
   "execution_count": 3,
   "metadata": {},
   "outputs": [],
   "source": [
    "mu = torch.zeros(1, 1)\n",
    "sigma = torch.ones(1, 1) / 2\n",
    "delta = torch.ones(1, 1)\n",
    "zs = torch.ones(1, 50+1) * -1\n",
    "zs[:, 0] = 0"
   ]
  },
  {
   "cell_type": "code",
   "execution_count": 4,
   "metadata": {},
   "outputs": [],
   "source": [
    "for t in range(zs.shape[1] - 1):\n",
    "    zs[:, t+1], mu, sigma, delta, generative = ssm.ssm_step(zs[:, t], mu, sigma, delta, t, generative)"
   ]
  },
  {
   "cell_type": "code",
   "execution_count": 5,
   "metadata": {},
   "outputs": [
    {
     "data": {
      "text/plain": [
       "Trace{'Z_1': Normal([torch.FloatTensor of size 1x1]), 'X_1': Normal([torch.FloatTensor of size 1x1]), 'Z_2': Normal([torch.FloatTensor of size 1x1]), 'X_2': Normal([torch.FloatTensor of size 1x1]), 'Z_3': Normal([torch.FloatTensor of size 1x1]), 'X_3': Normal([torch.FloatTensor of size 1x1]), 'Z_4': Normal([torch.FloatTensor of size 1x1]), 'X_4': Normal([torch.FloatTensor of size 1x1]), 'Z_5': Normal([torch.FloatTensor of size 1x1]), 'X_5': Normal([torch.FloatTensor of size 1x1]), 'Z_6': Normal([torch.FloatTensor of size 1x1]), 'X_6': Normal([torch.FloatTensor of size 1x1]), 'Z_7': Normal([torch.FloatTensor of size 1x1]), 'X_7': Normal([torch.FloatTensor of size 1x1]), 'Z_8': Normal([torch.FloatTensor of size 1x1]), 'X_8': Normal([torch.FloatTensor of size 1x1]), 'Z_9': Normal([torch.FloatTensor of size 1x1]), 'X_9': Normal([torch.FloatTensor of size 1x1]), 'Z_10': Normal([torch.FloatTensor of size 1x1]), 'X_10': Normal([torch.FloatTensor of size 1x1]), 'Z_11': Normal([torch.FloatTensor of size 1x1]), 'X_11': Normal([torch.FloatTensor of size 1x1]), 'Z_12': Normal([torch.FloatTensor of size 1x1]), 'X_12': Normal([torch.FloatTensor of size 1x1]), 'Z_13': Normal([torch.FloatTensor of size 1x1]), 'X_13': Normal([torch.FloatTensor of size 1x1]), 'Z_14': Normal([torch.FloatTensor of size 1x1]), 'X_14': Normal([torch.FloatTensor of size 1x1]), 'Z_15': Normal([torch.FloatTensor of size 1x1]), 'X_15': Normal([torch.FloatTensor of size 1x1]), 'Z_16': Normal([torch.FloatTensor of size 1x1]), 'X_16': Normal([torch.FloatTensor of size 1x1]), 'Z_17': Normal([torch.FloatTensor of size 1x1]), 'X_17': Normal([torch.FloatTensor of size 1x1]), 'Z_18': Normal([torch.FloatTensor of size 1x1]), 'X_18': Normal([torch.FloatTensor of size 1x1]), 'Z_19': Normal([torch.FloatTensor of size 1x1]), 'X_19': Normal([torch.FloatTensor of size 1x1]), 'Z_20': Normal([torch.FloatTensor of size 1x1]), 'X_20': Normal([torch.FloatTensor of size 1x1]), 'Z_21': Normal([torch.FloatTensor of size 1x1]), 'X_21': Normal([torch.FloatTensor of size 1x1]), 'Z_22': Normal([torch.FloatTensor of size 1x1]), 'X_22': Normal([torch.FloatTensor of size 1x1]), 'Z_23': Normal([torch.FloatTensor of size 1x1]), 'X_23': Normal([torch.FloatTensor of size 1x1]), 'Z_24': Normal([torch.FloatTensor of size 1x1]), 'X_24': Normal([torch.FloatTensor of size 1x1]), 'Z_25': Normal([torch.FloatTensor of size 1x1]), 'X_25': Normal([torch.FloatTensor of size 1x1]), 'Z_26': Normal([torch.FloatTensor of size 1x1]), 'X_26': Normal([torch.FloatTensor of size 1x1]), 'Z_27': Normal([torch.FloatTensor of size 1x1]), 'X_27': Normal([torch.FloatTensor of size 1x1]), 'Z_28': Normal([torch.FloatTensor of size 1x1]), 'X_28': Normal([torch.FloatTensor of size 1x1]), 'Z_29': Normal([torch.FloatTensor of size 1x1]), 'X_29': Normal([torch.FloatTensor of size 1x1]), 'Z_30': Normal([torch.FloatTensor of size 1x1]), 'X_30': Normal([torch.FloatTensor of size 1x1]), 'Z_31': Normal([torch.FloatTensor of size 1x1]), 'X_31': Normal([torch.FloatTensor of size 1x1]), 'Z_32': Normal([torch.FloatTensor of size 1x1]), 'X_32': Normal([torch.FloatTensor of size 1x1]), 'Z_33': Normal([torch.FloatTensor of size 1x1]), 'X_33': Normal([torch.FloatTensor of size 1x1]), 'Z_34': Normal([torch.FloatTensor of size 1x1]), 'X_34': Normal([torch.FloatTensor of size 1x1]), 'Z_35': Normal([torch.FloatTensor of size 1x1]), 'X_35': Normal([torch.FloatTensor of size 1x1]), 'Z_36': Normal([torch.FloatTensor of size 1x1]), 'X_36': Normal([torch.FloatTensor of size 1x1]), 'Z_37': Normal([torch.FloatTensor of size 1x1]), 'X_37': Normal([torch.FloatTensor of size 1x1]), 'Z_38': Normal([torch.FloatTensor of size 1x1]), 'X_38': Normal([torch.FloatTensor of size 1x1]), 'Z_39': Normal([torch.FloatTensor of size 1x1]), 'X_39': Normal([torch.FloatTensor of size 1x1]), 'Z_40': Normal([torch.FloatTensor of size 1x1]), 'X_40': Normal([torch.FloatTensor of size 1x1]), 'Z_41': Normal([torch.FloatTensor of size 1x1]), 'X_41': Normal([torch.FloatTensor of size 1x1]), 'Z_42': Normal([torch.FloatTensor of size 1x1]), 'X_42': Normal([torch.FloatTensor of size 1x1]), 'Z_43': Normal([torch.FloatTensor of size 1x1]), 'X_43': Normal([torch.FloatTensor of size 1x1]), 'Z_44': Normal([torch.FloatTensor of size 1x1]), 'X_44': Normal([torch.FloatTensor of size 1x1]), 'Z_45': Normal([torch.FloatTensor of size 1x1]), 'X_45': Normal([torch.FloatTensor of size 1x1]), 'Z_46': Normal([torch.FloatTensor of size 1x1]), 'X_46': Normal([torch.FloatTensor of size 1x1]), 'Z_47': Normal([torch.FloatTensor of size 1x1]), 'X_47': Normal([torch.FloatTensor of size 1x1]), 'Z_48': Normal([torch.FloatTensor of size 1x1]), 'X_48': Normal([torch.FloatTensor of size 1x1]), 'Z_49': Normal([torch.FloatTensor of size 1x1]), 'X_49': Normal([torch.FloatTensor of size 1x1]), 'Z_50': Normal([torch.FloatTensor of size 1x1]), 'X_50': Normal([torch.FloatTensor of size 1x1])}"
      ]
     },
     "execution_count": 5,
     "metadata": {},
     "output_type": "execute_result"
    }
   ],
   "source": [
    "generative"
   ]
  },
  {
   "cell_type": "code",
   "execution_count": 6,
   "metadata": {},
   "outputs": [],
   "source": [
    "num_particles = 2500"
   ]
  },
  {
   "cell_type": "code",
   "execution_count": 7,
   "metadata": {},
   "outputs": [],
   "source": [
    "smc_runner = smc.smc(ssm.ssm_step, ssm.ssm_retrace)"
   ]
  },
  {
   "cell_type": "code",
   "execution_count": 8,
   "metadata": {},
   "outputs": [],
   "source": [
    "ssm_params = {\n",
    "    'mu': {\n",
    "        'loc': torch.tensor(0.),\n",
    "        'scale': torch.tensor(0.25),\n",
    "    },\n",
    "    'sigma': {\n",
    "        'loc': torch.tensor(0.),\n",
    "        'scale': torch.tensor(0.25),\n",
    "    },\n",
    "    'delta': {\n",
    "        'loc': torch.tensor(0.),\n",
    "        'scale': torch.tensor(0.25),\n",
    "    }\n",
    "}"
   ]
  },
  {
   "cell_type": "code",
   "execution_count": 9,
   "metadata": {},
   "outputs": [],
   "source": [
    "inference, init_ssm = smc.variational_smc(num_particles, ssm.init_ssm, smc_runner, 500, 50, ssm_params, generative)"
   ]
  },
  {
   "cell_type": "code",
   "execution_count": 10,
   "metadata": {},
   "outputs": [
    {
     "data": {
      "text/plain": [
       "Trace{'mu': Normal([torch.cuda.FloatTensor of size 2500]), 'sigma': Normal([torch.cuda.FloatTensor of size 2500]), 'delta': Normal([torch.cuda.FloatTensor of size 2500]), 'Z_0': Normal([torch.cuda.FloatTensor of size 2500]), 'Z_1': Normal([torch.cuda.FloatTensor of size 2500]), 'X_1': Normal([torch.cuda.FloatTensor of size 2500x1x1]), 'Z_2': Normal([torch.cuda.FloatTensor of size 2500]), 'X_2': Normal([torch.cuda.FloatTensor of size 2500x1x1]), 'Z_3': Normal([torch.cuda.FloatTensor of size 2500]), 'X_3': Normal([torch.cuda.FloatTensor of size 2500x1x1]), 'Z_4': Normal([torch.cuda.FloatTensor of size 2500]), 'X_4': Normal([torch.cuda.FloatTensor of size 2500x1x1]), 'Z_5': Normal([torch.cuda.FloatTensor of size 2500]), 'X_5': Normal([torch.cuda.FloatTensor of size 2500x1x1]), 'Z_6': Normal([torch.cuda.FloatTensor of size 2500]), 'X_6': Normal([torch.cuda.FloatTensor of size 2500x1x1]), 'Z_7': Normal([torch.cuda.FloatTensor of size 2500]), 'X_7': Normal([torch.cuda.FloatTensor of size 2500x1x1]), 'Z_8': Normal([torch.cuda.FloatTensor of size 2500]), 'X_8': Normal([torch.cuda.FloatTensor of size 2500x1x1]), 'Z_9': Normal([torch.cuda.FloatTensor of size 2500]), 'X_9': Normal([torch.cuda.FloatTensor of size 2500x1x1]), 'Z_10': Normal([torch.cuda.FloatTensor of size 2500]), 'X_10': Normal([torch.cuda.FloatTensor of size 2500x1x1]), 'Z_11': Normal([torch.cuda.FloatTensor of size 2500]), 'X_11': Normal([torch.cuda.FloatTensor of size 2500x1x1]), 'Z_12': Normal([torch.cuda.FloatTensor of size 2500]), 'X_12': Normal([torch.cuda.FloatTensor of size 2500x1x1]), 'Z_13': Normal([torch.cuda.FloatTensor of size 2500]), 'X_13': Normal([torch.cuda.FloatTensor of size 2500x1x1]), 'Z_14': Normal([torch.cuda.FloatTensor of size 2500]), 'X_14': Normal([torch.cuda.FloatTensor of size 2500x1x1]), 'Z_15': Normal([torch.cuda.FloatTensor of size 2500]), 'X_15': Normal([torch.cuda.FloatTensor of size 2500x1x1]), 'Z_16': Normal([torch.cuda.FloatTensor of size 2500]), 'X_16': Normal([torch.cuda.FloatTensor of size 2500x1x1]), 'Z_17': Normal([torch.cuda.FloatTensor of size 2500]), 'X_17': Normal([torch.cuda.FloatTensor of size 2500x1x1]), 'Z_18': Normal([torch.cuda.FloatTensor of size 2500]), 'X_18': Normal([torch.cuda.FloatTensor of size 2500x1x1]), 'Z_19': Normal([torch.cuda.FloatTensor of size 2500]), 'X_19': Normal([torch.cuda.FloatTensor of size 2500x1x1]), 'Z_20': Normal([torch.cuda.FloatTensor of size 2500]), 'X_20': Normal([torch.cuda.FloatTensor of size 2500x1x1]), 'Z_21': Normal([torch.cuda.FloatTensor of size 2500]), 'X_21': Normal([torch.cuda.FloatTensor of size 2500x1x1]), 'Z_22': Normal([torch.cuda.FloatTensor of size 2500]), 'X_22': Normal([torch.cuda.FloatTensor of size 2500x1x1]), 'Z_23': Normal([torch.cuda.FloatTensor of size 2500]), 'X_23': Normal([torch.cuda.FloatTensor of size 2500x1x1]), 'Z_24': Normal([torch.cuda.FloatTensor of size 2500]), 'X_24': Normal([torch.cuda.FloatTensor of size 2500x1x1]), 'Z_25': Normal([torch.cuda.FloatTensor of size 2500]), 'X_25': Normal([torch.cuda.FloatTensor of size 2500x1x1]), 'Z_26': Normal([torch.cuda.FloatTensor of size 2500]), 'X_26': Normal([torch.cuda.FloatTensor of size 2500x1x1]), 'Z_27': Normal([torch.cuda.FloatTensor of size 2500]), 'X_27': Normal([torch.cuda.FloatTensor of size 2500x1x1]), 'Z_28': Normal([torch.cuda.FloatTensor of size 2500]), 'X_28': Normal([torch.cuda.FloatTensor of size 2500x1x1]), 'Z_29': Normal([torch.cuda.FloatTensor of size 2500]), 'X_29': Normal([torch.cuda.FloatTensor of size 2500x1x1]), 'Z_30': Normal([torch.cuda.FloatTensor of size 2500]), 'X_30': Normal([torch.cuda.FloatTensor of size 2500x1x1]), 'Z_31': Normal([torch.cuda.FloatTensor of size 2500]), 'X_31': Normal([torch.cuda.FloatTensor of size 2500x1x1]), 'Z_32': Normal([torch.cuda.FloatTensor of size 2500]), 'X_32': Normal([torch.cuda.FloatTensor of size 2500x1x1]), 'Z_33': Normal([torch.cuda.FloatTensor of size 2500]), 'X_33': Normal([torch.cuda.FloatTensor of size 2500x1x1]), 'Z_34': Normal([torch.cuda.FloatTensor of size 2500]), 'X_34': Normal([torch.cuda.FloatTensor of size 2500x1x1]), 'Z_35': Normal([torch.cuda.FloatTensor of size 2500]), 'X_35': Normal([torch.cuda.FloatTensor of size 2500x1x1]), 'Z_36': Normal([torch.cuda.FloatTensor of size 2500]), 'X_36': Normal([torch.cuda.FloatTensor of size 2500x1x1]), 'Z_37': Normal([torch.cuda.FloatTensor of size 2500]), 'X_37': Normal([torch.cuda.FloatTensor of size 2500x1x1]), 'Z_38': Normal([torch.cuda.FloatTensor of size 2500]), 'X_38': Normal([torch.cuda.FloatTensor of size 2500x1x1]), 'Z_39': Normal([torch.cuda.FloatTensor of size 2500]), 'X_39': Normal([torch.cuda.FloatTensor of size 2500x1x1]), 'Z_40': Normal([torch.cuda.FloatTensor of size 2500]), 'X_40': Normal([torch.cuda.FloatTensor of size 2500x1x1]), 'Z_41': Normal([torch.cuda.FloatTensor of size 2500]), 'X_41': Normal([torch.cuda.FloatTensor of size 2500x1x1]), 'Z_42': Normal([torch.cuda.FloatTensor of size 2500]), 'X_42': Normal([torch.cuda.FloatTensor of size 2500x1x1]), 'Z_43': Normal([torch.cuda.FloatTensor of size 2500]), 'X_43': Normal([torch.cuda.FloatTensor of size 2500x1x1]), 'Z_44': Normal([torch.cuda.FloatTensor of size 2500]), 'X_44': Normal([torch.cuda.FloatTensor of size 2500x1x1]), 'Z_45': Normal([torch.cuda.FloatTensor of size 2500]), 'X_45': Normal([torch.cuda.FloatTensor of size 2500x1x1]), 'Z_46': Normal([torch.cuda.FloatTensor of size 2500]), 'X_46': Normal([torch.cuda.FloatTensor of size 2500x1x1]), 'Z_47': Normal([torch.cuda.FloatTensor of size 2500]), 'X_47': Normal([torch.cuda.FloatTensor of size 2500x1x1]), 'Z_48': Normal([torch.cuda.FloatTensor of size 2500]), 'X_48': Normal([torch.cuda.FloatTensor of size 2500x1x1]), 'Z_49': Normal([torch.cuda.FloatTensor of size 2500]), 'X_49': Normal([torch.cuda.FloatTensor of size 2500x1x1]), 'Z_50': Normal([torch.cuda.FloatTensor of size 2500]), 'X_50': Normal([torch.cuda.FloatTensor of size 2500x1x1])}"
      ]
     },
     "execution_count": 10,
     "metadata": {},
     "output_type": "execute_result"
    }
   ],
   "source": [
    "inference"
   ]
  },
  {
   "cell_type": "code",
   "execution_count": 11,
   "metadata": {},
   "outputs": [
    {
     "data": {
      "text/plain": [
       "Trace{'Z_1': Normal([torch.FloatTensor of size 1x1]), 'X_1': Normal([torch.FloatTensor of size 1x1]), 'Z_2': Normal([torch.FloatTensor of size 1x1]), 'X_2': Normal([torch.FloatTensor of size 1x1]), 'Z_3': Normal([torch.FloatTensor of size 1x1]), 'X_3': Normal([torch.FloatTensor of size 1x1]), 'Z_4': Normal([torch.FloatTensor of size 1x1]), 'X_4': Normal([torch.FloatTensor of size 1x1]), 'Z_5': Normal([torch.FloatTensor of size 1x1]), 'X_5': Normal([torch.FloatTensor of size 1x1]), 'Z_6': Normal([torch.FloatTensor of size 1x1]), 'X_6': Normal([torch.FloatTensor of size 1x1]), 'Z_7': Normal([torch.FloatTensor of size 1x1]), 'X_7': Normal([torch.FloatTensor of size 1x1]), 'Z_8': Normal([torch.FloatTensor of size 1x1]), 'X_8': Normal([torch.FloatTensor of size 1x1]), 'Z_9': Normal([torch.FloatTensor of size 1x1]), 'X_9': Normal([torch.FloatTensor of size 1x1]), 'Z_10': Normal([torch.FloatTensor of size 1x1]), 'X_10': Normal([torch.FloatTensor of size 1x1]), 'Z_11': Normal([torch.FloatTensor of size 1x1]), 'X_11': Normal([torch.FloatTensor of size 1x1]), 'Z_12': Normal([torch.FloatTensor of size 1x1]), 'X_12': Normal([torch.FloatTensor of size 1x1]), 'Z_13': Normal([torch.FloatTensor of size 1x1]), 'X_13': Normal([torch.FloatTensor of size 1x1]), 'Z_14': Normal([torch.FloatTensor of size 1x1]), 'X_14': Normal([torch.FloatTensor of size 1x1]), 'Z_15': Normal([torch.FloatTensor of size 1x1]), 'X_15': Normal([torch.FloatTensor of size 1x1]), 'Z_16': Normal([torch.FloatTensor of size 1x1]), 'X_16': Normal([torch.FloatTensor of size 1x1]), 'Z_17': Normal([torch.FloatTensor of size 1x1]), 'X_17': Normal([torch.FloatTensor of size 1x1]), 'Z_18': Normal([torch.FloatTensor of size 1x1]), 'X_18': Normal([torch.FloatTensor of size 1x1]), 'Z_19': Normal([torch.FloatTensor of size 1x1]), 'X_19': Normal([torch.FloatTensor of size 1x1]), 'Z_20': Normal([torch.FloatTensor of size 1x1]), 'X_20': Normal([torch.FloatTensor of size 1x1]), 'Z_21': Normal([torch.FloatTensor of size 1x1]), 'X_21': Normal([torch.FloatTensor of size 1x1]), 'Z_22': Normal([torch.FloatTensor of size 1x1]), 'X_22': Normal([torch.FloatTensor of size 1x1]), 'Z_23': Normal([torch.FloatTensor of size 1x1]), 'X_23': Normal([torch.FloatTensor of size 1x1]), 'Z_24': Normal([torch.FloatTensor of size 1x1]), 'X_24': Normal([torch.FloatTensor of size 1x1]), 'Z_25': Normal([torch.FloatTensor of size 1x1]), 'X_25': Normal([torch.FloatTensor of size 1x1]), 'Z_26': Normal([torch.FloatTensor of size 1x1]), 'X_26': Normal([torch.FloatTensor of size 1x1]), 'Z_27': Normal([torch.FloatTensor of size 1x1]), 'X_27': Normal([torch.FloatTensor of size 1x1]), 'Z_28': Normal([torch.FloatTensor of size 1x1]), 'X_28': Normal([torch.FloatTensor of size 1x1]), 'Z_29': Normal([torch.FloatTensor of size 1x1]), 'X_29': Normal([torch.FloatTensor of size 1x1]), 'Z_30': Normal([torch.FloatTensor of size 1x1]), 'X_30': Normal([torch.FloatTensor of size 1x1]), 'Z_31': Normal([torch.FloatTensor of size 1x1]), 'X_31': Normal([torch.FloatTensor of size 1x1]), 'Z_32': Normal([torch.FloatTensor of size 1x1]), 'X_32': Normal([torch.FloatTensor of size 1x1]), 'Z_33': Normal([torch.FloatTensor of size 1x1]), 'X_33': Normal([torch.FloatTensor of size 1x1]), 'Z_34': Normal([torch.FloatTensor of size 1x1]), 'X_34': Normal([torch.FloatTensor of size 1x1]), 'Z_35': Normal([torch.FloatTensor of size 1x1]), 'X_35': Normal([torch.FloatTensor of size 1x1]), 'Z_36': Normal([torch.FloatTensor of size 1x1]), 'X_36': Normal([torch.FloatTensor of size 1x1]), 'Z_37': Normal([torch.FloatTensor of size 1x1]), 'X_37': Normal([torch.FloatTensor of size 1x1]), 'Z_38': Normal([torch.FloatTensor of size 1x1]), 'X_38': Normal([torch.FloatTensor of size 1x1]), 'Z_39': Normal([torch.FloatTensor of size 1x1]), 'X_39': Normal([torch.FloatTensor of size 1x1]), 'Z_40': Normal([torch.FloatTensor of size 1x1]), 'X_40': Normal([torch.FloatTensor of size 1x1]), 'Z_41': Normal([torch.FloatTensor of size 1x1]), 'X_41': Normal([torch.FloatTensor of size 1x1]), 'Z_42': Normal([torch.FloatTensor of size 1x1]), 'X_42': Normal([torch.FloatTensor of size 1x1]), 'Z_43': Normal([torch.FloatTensor of size 1x1]), 'X_43': Normal([torch.FloatTensor of size 1x1]), 'Z_44': Normal([torch.FloatTensor of size 1x1]), 'X_44': Normal([torch.FloatTensor of size 1x1]), 'Z_45': Normal([torch.FloatTensor of size 1x1]), 'X_45': Normal([torch.FloatTensor of size 1x1]), 'Z_46': Normal([torch.FloatTensor of size 1x1]), 'X_46': Normal([torch.FloatTensor of size 1x1]), 'Z_47': Normal([torch.FloatTensor of size 1x1]), 'X_47': Normal([torch.FloatTensor of size 1x1]), 'Z_48': Normal([torch.FloatTensor of size 1x1]), 'X_48': Normal([torch.FloatTensor of size 1x1]), 'Z_49': Normal([torch.FloatTensor of size 1x1]), 'X_49': Normal([torch.FloatTensor of size 1x1]), 'Z_50': Normal([torch.FloatTensor of size 1x1]), 'X_50': Normal([torch.FloatTensor of size 1x1])}"
      ]
     },
     "execution_count": 11,
     "metadata": {},
     "output_type": "execute_result"
    }
   ],
   "source": [
    "generative"
   ]
  },
  {
   "cell_type": "code",
   "execution_count": 12,
   "metadata": {},
   "outputs": [
    {
     "name": "stdout",
     "output_type": "stream",
     "text": [
      "SMC MSE at time 1: 0.089686\n",
      "SMC MSE at time 2: 0.000171\n",
      "SMC MSE at time 3: 0.399279\n",
      "SMC MSE at time 4: 0.487131\n",
      "SMC MSE at time 5: 0.011356\n",
      "SMC MSE at time 6: 0.623917\n",
      "SMC MSE at time 7: 0.136536\n",
      "SMC MSE at time 8: 0.010016\n",
      "SMC MSE at time 9: 0.082361\n",
      "SMC MSE at time 10: 1.525826\n",
      "SMC MSE at time 11: 2.017944\n",
      "SMC MSE at time 12: 0.442272\n",
      "SMC MSE at time 13: 3.585109\n",
      "SMC MSE at time 14: 0.004128\n",
      "SMC MSE at time 15: 1.394654\n",
      "SMC MSE at time 16: 2.339747\n",
      "SMC MSE at time 17: 5.314420\n",
      "SMC MSE at time 18: 0.155542\n",
      "SMC MSE at time 19: 2.414379\n",
      "SMC MSE at time 20: 1.617982\n",
      "SMC MSE at time 21: 1.636509\n",
      "SMC MSE at time 22: 0.634583\n",
      "SMC MSE at time 23: 4.407403\n",
      "SMC MSE at time 24: 1.074982\n",
      "SMC MSE at time 25: 2.038974\n",
      "SMC MSE at time 26: 0.451838\n",
      "SMC MSE at time 27: 0.082934\n",
      "SMC MSE at time 28: 0.703546\n",
      "SMC MSE at time 29: 2.457116\n",
      "SMC MSE at time 30: 1.107323\n",
      "SMC MSE at time 31: 0.695903\n",
      "SMC MSE at time 32: 0.518482\n",
      "SMC MSE at time 33: 0.433728\n",
      "SMC MSE at time 34: 0.311828\n",
      "SMC MSE at time 35: 0.832981\n",
      "SMC MSE at time 36: 1.374996\n",
      "SMC MSE at time 37: 1.650314\n",
      "SMC MSE at time 38: 5.210338\n",
      "SMC MSE at time 39: 0.359112\n",
      "SMC MSE at time 40: 0.547843\n",
      "SMC MSE at time 41: 2.905697\n",
      "SMC MSE at time 42: 1.371030\n",
      "SMC MSE at time 43: 4.669911\n",
      "SMC MSE at time 44: 0.859438\n",
      "SMC MSE at time 45: 0.677206\n",
      "SMC MSE at time 46: 0.726486\n",
      "SMC MSE at time 47: 0.919161\n",
      "SMC MSE at time 48: 0.585963\n",
      "SMC MSE at time 49: 0.970667\n",
      "SMC MSE at time 50: 1.334421\n"
     ]
    }
   ],
   "source": [
    "for t in range(1, zs.shape[1]):\n",
    "    key = 'Z_%d' % t\n",
    "    accuracy = ((inference[key].value - utils.optional_to(generative[key], inference[key].value))**2).mean()\n",
    "    print('SMC MSE at time %d: %f' % (t, accuracy))"
   ]
  },
  {
   "cell_type": "code",
   "execution_count": null,
   "metadata": {},
   "outputs": [],
   "source": []
  },
  {
   "cell_type": "code",
   "execution_count": null,
   "metadata": {},
   "outputs": [],
   "source": []
  },
  {
   "cell_type": "code",
   "execution_count": null,
   "metadata": {},
   "outputs": [],
   "source": []
  }
 ],
 "metadata": {
  "kernelspec": {
   "display_name": "Python [conda env:funcytorch]",
   "language": "python",
   "name": "conda-env-funcytorch-py"
  },
  "language_info": {
   "codemirror_mode": {
    "name": "ipython",
    "version": 3
   },
   "file_extension": ".py",
   "mimetype": "text/x-python",
   "name": "python",
   "nbconvert_exporter": "python",
   "pygments_lexer": "ipython3",
   "version": "3.6.5"
  }
 },
 "nbformat": 4,
 "nbformat_minor": 2
}
