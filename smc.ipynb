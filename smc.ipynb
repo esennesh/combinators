{
 "cells": [
  {
   "cell_type": "code",
   "execution_count": 1,
   "metadata": {},
   "outputs": [],
   "source": [
    "import probtorch\n",
    "import torch\n",
    "\n",
    "import combinators\n",
    "import hmm\n",
    "import smc\n",
    "import utils"
   ]
  },
  {
   "cell_type": "code",
   "execution_count": 2,
   "metadata": {},
   "outputs": [],
   "source": [
    "generative = smc.ParticleTrace(1)"
   ]
  },
  {
   "cell_type": "code",
   "execution_count": 3,
   "metadata": {},
   "outputs": [],
   "source": [
    "pi = torch.zeros(1, 5, 5)\n",
    "for i in range(5):\n",
    "    n = i + 1\n",
    "    if n >= 5:\n",
    "        n = 0\n",
    "    pi[:, i, n] = 1\n",
    "mu = torch.arange(5).unsqueeze(0)\n",
    "sigma = torch.ones(1, 5) / 2\n",
    "zs = torch.ones(1, 50+1, dtype=torch.long) * -1\n",
    "zs[:, 0] = 0"
   ]
  },
  {
   "cell_type": "code",
   "execution_count": 4,
   "metadata": {},
   "outputs": [],
   "source": [
    "for t in range(zs.shape[1] - 1):\n",
    "    zs, pi, mu, sigma, generative = hmm.hmm_step(zs, pi, mu, sigma, t+1, generative)"
   ]
  },
  {
   "cell_type": "code",
   "execution_count": 5,
   "metadata": {},
   "outputs": [
    {
     "data": {
      "text/plain": [
       "Trace{'Z_1': Categorical([torch.LongTensor of size 1]), 'X_1': Normal([torch.FloatTensor of size 1]), 'Z_2': Categorical([torch.LongTensor of size 1]), 'X_2': Normal([torch.FloatTensor of size 1]), 'Z_3': Categorical([torch.LongTensor of size 1]), 'X_3': Normal([torch.FloatTensor of size 1]), 'Z_4': Categorical([torch.LongTensor of size 1]), 'X_4': Normal([torch.FloatTensor of size 1]), 'Z_5': Categorical([torch.LongTensor of size 1]), 'X_5': Normal([torch.FloatTensor of size 1]), 'Z_6': Categorical([torch.LongTensor of size 1]), 'X_6': Normal([torch.FloatTensor of size 1]), 'Z_7': Categorical([torch.LongTensor of size 1]), 'X_7': Normal([torch.FloatTensor of size 1]), 'Z_8': Categorical([torch.LongTensor of size 1]), 'X_8': Normal([torch.FloatTensor of size 1]), 'Z_9': Categorical([torch.LongTensor of size 1]), 'X_9': Normal([torch.FloatTensor of size 1]), 'Z_10': Categorical([torch.LongTensor of size 1]), 'X_10': Normal([torch.FloatTensor of size 1]), 'Z_11': Categorical([torch.LongTensor of size 1]), 'X_11': Normal([torch.FloatTensor of size 1]), 'Z_12': Categorical([torch.LongTensor of size 1]), 'X_12': Normal([torch.FloatTensor of size 1]), 'Z_13': Categorical([torch.LongTensor of size 1]), 'X_13': Normal([torch.FloatTensor of size 1]), 'Z_14': Categorical([torch.LongTensor of size 1]), 'X_14': Normal([torch.FloatTensor of size 1]), 'Z_15': Categorical([torch.LongTensor of size 1]), 'X_15': Normal([torch.FloatTensor of size 1]), 'Z_16': Categorical([torch.LongTensor of size 1]), 'X_16': Normal([torch.FloatTensor of size 1]), 'Z_17': Categorical([torch.LongTensor of size 1]), 'X_17': Normal([torch.FloatTensor of size 1]), 'Z_18': Categorical([torch.LongTensor of size 1]), 'X_18': Normal([torch.FloatTensor of size 1]), 'Z_19': Categorical([torch.LongTensor of size 1]), 'X_19': Normal([torch.FloatTensor of size 1]), 'Z_20': Categorical([torch.LongTensor of size 1]), 'X_20': Normal([torch.FloatTensor of size 1]), 'Z_21': Categorical([torch.LongTensor of size 1]), 'X_21': Normal([torch.FloatTensor of size 1]), 'Z_22': Categorical([torch.LongTensor of size 1]), 'X_22': Normal([torch.FloatTensor of size 1]), 'Z_23': Categorical([torch.LongTensor of size 1]), 'X_23': Normal([torch.FloatTensor of size 1]), 'Z_24': Categorical([torch.LongTensor of size 1]), 'X_24': Normal([torch.FloatTensor of size 1]), 'Z_25': Categorical([torch.LongTensor of size 1]), 'X_25': Normal([torch.FloatTensor of size 1]), 'Z_26': Categorical([torch.LongTensor of size 1]), 'X_26': Normal([torch.FloatTensor of size 1]), 'Z_27': Categorical([torch.LongTensor of size 1]), 'X_27': Normal([torch.FloatTensor of size 1]), 'Z_28': Categorical([torch.LongTensor of size 1]), 'X_28': Normal([torch.FloatTensor of size 1]), 'Z_29': Categorical([torch.LongTensor of size 1]), 'X_29': Normal([torch.FloatTensor of size 1]), 'Z_30': Categorical([torch.LongTensor of size 1]), 'X_30': Normal([torch.FloatTensor of size 1]), 'Z_31': Categorical([torch.LongTensor of size 1]), 'X_31': Normal([torch.FloatTensor of size 1]), 'Z_32': Categorical([torch.LongTensor of size 1]), 'X_32': Normal([torch.FloatTensor of size 1]), 'Z_33': Categorical([torch.LongTensor of size 1]), 'X_33': Normal([torch.FloatTensor of size 1]), 'Z_34': Categorical([torch.LongTensor of size 1]), 'X_34': Normal([torch.FloatTensor of size 1]), 'Z_35': Categorical([torch.LongTensor of size 1]), 'X_35': Normal([torch.FloatTensor of size 1]), 'Z_36': Categorical([torch.LongTensor of size 1]), 'X_36': Normal([torch.FloatTensor of size 1]), 'Z_37': Categorical([torch.LongTensor of size 1]), 'X_37': Normal([torch.FloatTensor of size 1]), 'Z_38': Categorical([torch.LongTensor of size 1]), 'X_38': Normal([torch.FloatTensor of size 1]), 'Z_39': Categorical([torch.LongTensor of size 1]), 'X_39': Normal([torch.FloatTensor of size 1]), 'Z_40': Categorical([torch.LongTensor of size 1]), 'X_40': Normal([torch.FloatTensor of size 1]), 'Z_41': Categorical([torch.LongTensor of size 1]), 'X_41': Normal([torch.FloatTensor of size 1]), 'Z_42': Categorical([torch.LongTensor of size 1]), 'X_42': Normal([torch.FloatTensor of size 1]), 'Z_43': Categorical([torch.LongTensor of size 1]), 'X_43': Normal([torch.FloatTensor of size 1]), 'Z_44': Categorical([torch.LongTensor of size 1]), 'X_44': Normal([torch.FloatTensor of size 1]), 'Z_45': Categorical([torch.LongTensor of size 1]), 'X_45': Normal([torch.FloatTensor of size 1]), 'Z_46': Categorical([torch.LongTensor of size 1]), 'X_46': Normal([torch.FloatTensor of size 1]), 'Z_47': Categorical([torch.LongTensor of size 1]), 'X_47': Normal([torch.FloatTensor of size 1]), 'Z_48': Categorical([torch.LongTensor of size 1]), 'X_48': Normal([torch.FloatTensor of size 1]), 'Z_49': Categorical([torch.LongTensor of size 1]), 'X_49': Normal([torch.FloatTensor of size 1]), 'Z_50': Categorical([torch.LongTensor of size 1]), 'X_50': Normal([torch.FloatTensor of size 1])}"
      ]
     },
     "execution_count": 5,
     "metadata": {},
     "output_type": "execute_result"
    }
   ],
   "source": [
    "generative"
   ]
  },
  {
   "cell_type": "code",
   "execution_count": 6,
   "metadata": {},
   "outputs": [],
   "source": [
    "num_particles = 5000"
   ]
  },
  {
   "cell_type": "code",
   "execution_count": 7,
   "metadata": {},
   "outputs": [],
   "source": [
    "smc_step = smc.smc(hmm.hmm_step, hmm.hmm_retrace)"
   ]
  },
  {
   "cell_type": "code",
   "execution_count": 8,
   "metadata": {},
   "outputs": [],
   "source": [
    "hmm_params = {\n",
    "    '\\\\Pi_0': {\n",
    "        'concentration': torch.ones(5),\n",
    "    },\n",
    "    '\\\\Pi_1': {\n",
    "        'concentration': torch.ones(5),\n",
    "    },\n",
    "    '\\\\Pi_2': {\n",
    "        'concentration': torch.ones(5),\n",
    "    },\n",
    "    '\\\\Pi_3': {\n",
    "        'concentration': torch.ones(5),\n",
    "    },\n",
    "    '\\\\Pi_4': {\n",
    "        'concentration': torch.ones(5),\n",
    "    },\n",
    "    '\\\\Pi_5': {\n",
    "        'concentration': torch.ones(5),\n",
    "    },\n",
    "    '\\\\mu': {\n",
    "        'loc': mu[0],\n",
    "        'scale': torch.sqrt(torch.rand(5)),\n",
    "    },\n",
    "    '\\\\sigma': {\n",
    "        'loc': sigma[0],\n",
    "        'scale': torch.sqrt(torch.rand(5)),\n",
    "    }\n",
    "}"
   ]
  },
  {
   "cell_type": "code",
   "execution_count": null,
   "metadata": {},
   "outputs": [],
   "source": [
    "inference, init_hmm = smc.variational_smc(num_particles, hmm.init_hmm, smc_step, 100, 50, hmm_params, generative, 5)"
   ]
  },
  {
   "cell_type": "code",
   "execution_count": null,
   "metadata": {},
   "outputs": [],
   "source": [
    "inference"
   ]
  },
  {
   "cell_type": "code",
   "execution_count": null,
   "metadata": {},
   "outputs": [],
   "source": [
    "generative"
   ]
  },
  {
   "cell_type": "code",
   "execution_count": null,
   "metadata": {},
   "outputs": [],
   "source": [
    "for t in range(1, zs.shape[1]):\n",
    "    key = 'Z_%d' % t\n",
    "    accuracy = (inference[key].value == generative[key].value).sum().item()\n",
    "    print('SMC accuracy at time %d: %f' % (t, accuracy / num_particles))"
   ]
  },
  {
   "cell_type": "code",
   "execution_count": null,
   "metadata": {},
   "outputs": [],
   "source": []
  },
  {
   "cell_type": "code",
   "execution_count": null,
   "metadata": {},
   "outputs": [],
   "source": []
  },
  {
   "cell_type": "code",
   "execution_count": null,
   "metadata": {},
   "outputs": [],
   "source": []
  }
 ],
 "metadata": {
  "kernelspec": {
   "display_name": "Python [conda env:funcytorch]",
   "language": "python",
   "name": "conda-env-funcytorch-py"
  },
  "language_info": {
   "codemirror_mode": {
    "name": "ipython",
    "version": 3
   },
   "file_extension": ".py",
   "mimetype": "text/x-python",
   "name": "python",
   "nbconvert_exporter": "python",
   "pygments_lexer": "ipython3",
   "version": "3.6.5"
  }
 },
 "nbformat": 4,
 "nbformat_minor": 2
}
