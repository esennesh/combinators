{
 "cells": [
  {
   "cell_type": "code",
   "execution_count": 1,
   "metadata": {},
   "outputs": [],
   "source": [
    "import probtorch\n",
    "import torch\n",
    "\n",
    "import combinators\n",
    "import smc\n",
    "import ssm\n",
    "import utils"
   ]
  },
  {
   "cell_type": "code",
   "execution_count": 2,
   "metadata": {},
   "outputs": [],
   "source": [
    "generative = smc.ParticleTrace(1)"
   ]
  },
  {
   "cell_type": "code",
   "execution_count": 3,
   "metadata": {},
   "outputs": [],
   "source": [
    "mu = torch.zeros(1, 1)\n",
    "sigma = torch.ones(1, 1) / 2\n",
    "delta = torch.ones(1, 1)\n",
    "zs = torch.ones(1, 50+1) * -1\n",
    "zs[:, 0] = 0"
   ]
  },
  {
   "cell_type": "code",
   "execution_count": 4,
   "metadata": {},
   "outputs": [],
   "source": [
    "for t in range(zs.shape[1] - 1):\n",
    "    zs[:, t+1], mu, sigma, delta, generative = ssm.ssm_step(zs[:, t], mu, sigma, delta, t, generative)"
   ]
  },
  {
   "cell_type": "code",
   "execution_count": 5,
   "metadata": {},
   "outputs": [
    {
     "data": {
      "text/plain": [
       "Trace{'Z_1': Normal([torch.FloatTensor of size 1x1]), 'X_1': Normal([torch.FloatTensor of size 1x1]), 'Z_2': Normal([torch.FloatTensor of size 1x1]), 'X_2': Normal([torch.FloatTensor of size 1x1]), 'Z_3': Normal([torch.FloatTensor of size 1x1]), 'X_3': Normal([torch.FloatTensor of size 1x1]), 'Z_4': Normal([torch.FloatTensor of size 1x1]), 'X_4': Normal([torch.FloatTensor of size 1x1]), 'Z_5': Normal([torch.FloatTensor of size 1x1]), 'X_5': Normal([torch.FloatTensor of size 1x1]), 'Z_6': Normal([torch.FloatTensor of size 1x1]), 'X_6': Normal([torch.FloatTensor of size 1x1]), 'Z_7': Normal([torch.FloatTensor of size 1x1]), 'X_7': Normal([torch.FloatTensor of size 1x1]), 'Z_8': Normal([torch.FloatTensor of size 1x1]), 'X_8': Normal([torch.FloatTensor of size 1x1]), 'Z_9': Normal([torch.FloatTensor of size 1x1]), 'X_9': Normal([torch.FloatTensor of size 1x1]), 'Z_10': Normal([torch.FloatTensor of size 1x1]), 'X_10': Normal([torch.FloatTensor of size 1x1]), 'Z_11': Normal([torch.FloatTensor of size 1x1]), 'X_11': Normal([torch.FloatTensor of size 1x1]), 'Z_12': Normal([torch.FloatTensor of size 1x1]), 'X_12': Normal([torch.FloatTensor of size 1x1]), 'Z_13': Normal([torch.FloatTensor of size 1x1]), 'X_13': Normal([torch.FloatTensor of size 1x1]), 'Z_14': Normal([torch.FloatTensor of size 1x1]), 'X_14': Normal([torch.FloatTensor of size 1x1]), 'Z_15': Normal([torch.FloatTensor of size 1x1]), 'X_15': Normal([torch.FloatTensor of size 1x1]), 'Z_16': Normal([torch.FloatTensor of size 1x1]), 'X_16': Normal([torch.FloatTensor of size 1x1]), 'Z_17': Normal([torch.FloatTensor of size 1x1]), 'X_17': Normal([torch.FloatTensor of size 1x1]), 'Z_18': Normal([torch.FloatTensor of size 1x1]), 'X_18': Normal([torch.FloatTensor of size 1x1]), 'Z_19': Normal([torch.FloatTensor of size 1x1]), 'X_19': Normal([torch.FloatTensor of size 1x1]), 'Z_20': Normal([torch.FloatTensor of size 1x1]), 'X_20': Normal([torch.FloatTensor of size 1x1]), 'Z_21': Normal([torch.FloatTensor of size 1x1]), 'X_21': Normal([torch.FloatTensor of size 1x1]), 'Z_22': Normal([torch.FloatTensor of size 1x1]), 'X_22': Normal([torch.FloatTensor of size 1x1]), 'Z_23': Normal([torch.FloatTensor of size 1x1]), 'X_23': Normal([torch.FloatTensor of size 1x1]), 'Z_24': Normal([torch.FloatTensor of size 1x1]), 'X_24': Normal([torch.FloatTensor of size 1x1]), 'Z_25': Normal([torch.FloatTensor of size 1x1]), 'X_25': Normal([torch.FloatTensor of size 1x1]), 'Z_26': Normal([torch.FloatTensor of size 1x1]), 'X_26': Normal([torch.FloatTensor of size 1x1]), 'Z_27': Normal([torch.FloatTensor of size 1x1]), 'X_27': Normal([torch.FloatTensor of size 1x1]), 'Z_28': Normal([torch.FloatTensor of size 1x1]), 'X_28': Normal([torch.FloatTensor of size 1x1]), 'Z_29': Normal([torch.FloatTensor of size 1x1]), 'X_29': Normal([torch.FloatTensor of size 1x1]), 'Z_30': Normal([torch.FloatTensor of size 1x1]), 'X_30': Normal([torch.FloatTensor of size 1x1]), 'Z_31': Normal([torch.FloatTensor of size 1x1]), 'X_31': Normal([torch.FloatTensor of size 1x1]), 'Z_32': Normal([torch.FloatTensor of size 1x1]), 'X_32': Normal([torch.FloatTensor of size 1x1]), 'Z_33': Normal([torch.FloatTensor of size 1x1]), 'X_33': Normal([torch.FloatTensor of size 1x1]), 'Z_34': Normal([torch.FloatTensor of size 1x1]), 'X_34': Normal([torch.FloatTensor of size 1x1]), 'Z_35': Normal([torch.FloatTensor of size 1x1]), 'X_35': Normal([torch.FloatTensor of size 1x1]), 'Z_36': Normal([torch.FloatTensor of size 1x1]), 'X_36': Normal([torch.FloatTensor of size 1x1]), 'Z_37': Normal([torch.FloatTensor of size 1x1]), 'X_37': Normal([torch.FloatTensor of size 1x1]), 'Z_38': Normal([torch.FloatTensor of size 1x1]), 'X_38': Normal([torch.FloatTensor of size 1x1]), 'Z_39': Normal([torch.FloatTensor of size 1x1]), 'X_39': Normal([torch.FloatTensor of size 1x1]), 'Z_40': Normal([torch.FloatTensor of size 1x1]), 'X_40': Normal([torch.FloatTensor of size 1x1]), 'Z_41': Normal([torch.FloatTensor of size 1x1]), 'X_41': Normal([torch.FloatTensor of size 1x1]), 'Z_42': Normal([torch.FloatTensor of size 1x1]), 'X_42': Normal([torch.FloatTensor of size 1x1]), 'Z_43': Normal([torch.FloatTensor of size 1x1]), 'X_43': Normal([torch.FloatTensor of size 1x1]), 'Z_44': Normal([torch.FloatTensor of size 1x1]), 'X_44': Normal([torch.FloatTensor of size 1x1]), 'Z_45': Normal([torch.FloatTensor of size 1x1]), 'X_45': Normal([torch.FloatTensor of size 1x1]), 'Z_46': Normal([torch.FloatTensor of size 1x1]), 'X_46': Normal([torch.FloatTensor of size 1x1]), 'Z_47': Normal([torch.FloatTensor of size 1x1]), 'X_47': Normal([torch.FloatTensor of size 1x1]), 'Z_48': Normal([torch.FloatTensor of size 1x1]), 'X_48': Normal([torch.FloatTensor of size 1x1]), 'Z_49': Normal([torch.FloatTensor of size 1x1]), 'X_49': Normal([torch.FloatTensor of size 1x1]), 'Z_50': Normal([torch.FloatTensor of size 1x1]), 'X_50': Normal([torch.FloatTensor of size 1x1])}"
      ]
     },
     "execution_count": 5,
     "metadata": {},
     "output_type": "execute_result"
    }
   ],
   "source": [
    "generative"
   ]
  },
  {
   "cell_type": "code",
   "execution_count": 6,
   "metadata": {},
   "outputs": [],
   "source": [
    "num_particles = 500"
   ]
  },
  {
   "cell_type": "code",
   "execution_count": 7,
   "metadata": {},
   "outputs": [],
   "source": [
    "smc_runner = smc.smc(ssm.ssm_step, ssm.ssm_retrace)"
   ]
  },
  {
   "cell_type": "code",
   "execution_count": 8,
   "metadata": {},
   "outputs": [],
   "source": [
    "ssm_params = {\n",
    "    'mu': {\n",
    "        'loc': torch.tensor(0.),\n",
    "        'scale': torch.tensor(0.25),\n",
    "    },\n",
    "    'sigma': {\n",
    "        'loc': torch.tensor(0.),\n",
    "        'scale': torch.tensor(0.25),\n",
    "    },\n",
    "    'delta': {\n",
    "        'loc': torch.tensor(0.),\n",
    "        'scale': torch.tensor(0.25),\n",
    "    }\n",
    "}"
   ]
  },
  {
   "cell_type": "code",
   "execution_count": 9,
   "metadata": {},
   "outputs": [],
   "source": [
    "inference, init_ssm = smc.variational_smc(num_particles, ssm.init_ssm, smc_runner, 500, 50, ssm_params, generative)"
   ]
  },
  {
   "cell_type": "code",
   "execution_count": 10,
   "metadata": {},
   "outputs": [
    {
     "data": {
      "text/plain": [
       "Trace{'mu': Normal([torch.cuda.FloatTensor of size 500]), 'sigma': Normal([torch.cuda.FloatTensor of size 500]), 'delta': Normal([torch.cuda.FloatTensor of size 500]), 'Z_0': Normal([torch.cuda.FloatTensor of size 500]), 'Z_1': Normal([torch.cuda.FloatTensor of size 500]), 'X_1': Normal([torch.cuda.FloatTensor of size 500x1x1]), 'Z_2': Normal([torch.cuda.FloatTensor of size 500]), 'X_2': Normal([torch.cuda.FloatTensor of size 500x1x1]), 'Z_3': Normal([torch.cuda.FloatTensor of size 500]), 'X_3': Normal([torch.cuda.FloatTensor of size 500x1x1]), 'Z_4': Normal([torch.cuda.FloatTensor of size 500]), 'X_4': Normal([torch.cuda.FloatTensor of size 500x1x1]), 'Z_5': Normal([torch.cuda.FloatTensor of size 500]), 'X_5': Normal([torch.cuda.FloatTensor of size 500x1x1]), 'Z_6': Normal([torch.cuda.FloatTensor of size 500]), 'X_6': Normal([torch.cuda.FloatTensor of size 500x1x1]), 'Z_7': Normal([torch.cuda.FloatTensor of size 500]), 'X_7': Normal([torch.cuda.FloatTensor of size 500x1x1]), 'Z_8': Normal([torch.cuda.FloatTensor of size 500]), 'X_8': Normal([torch.cuda.FloatTensor of size 500x1x1]), 'Z_9': Normal([torch.cuda.FloatTensor of size 500]), 'X_9': Normal([torch.cuda.FloatTensor of size 500x1x1]), 'Z_10': Normal([torch.cuda.FloatTensor of size 500]), 'X_10': Normal([torch.cuda.FloatTensor of size 500x1x1]), 'Z_11': Normal([torch.cuda.FloatTensor of size 500]), 'X_11': Normal([torch.cuda.FloatTensor of size 500x1x1]), 'Z_12': Normal([torch.cuda.FloatTensor of size 500]), 'X_12': Normal([torch.cuda.FloatTensor of size 500x1x1]), 'Z_13': Normal([torch.cuda.FloatTensor of size 500]), 'X_13': Normal([torch.cuda.FloatTensor of size 500x1x1]), 'Z_14': Normal([torch.cuda.FloatTensor of size 500]), 'X_14': Normal([torch.cuda.FloatTensor of size 500x1x1]), 'Z_15': Normal([torch.cuda.FloatTensor of size 500]), 'X_15': Normal([torch.cuda.FloatTensor of size 500x1x1]), 'Z_16': Normal([torch.cuda.FloatTensor of size 500]), 'X_16': Normal([torch.cuda.FloatTensor of size 500x1x1]), 'Z_17': Normal([torch.cuda.FloatTensor of size 500]), 'X_17': Normal([torch.cuda.FloatTensor of size 500x1x1]), 'Z_18': Normal([torch.cuda.FloatTensor of size 500]), 'X_18': Normal([torch.cuda.FloatTensor of size 500x1x1]), 'Z_19': Normal([torch.cuda.FloatTensor of size 500]), 'X_19': Normal([torch.cuda.FloatTensor of size 500x1x1]), 'Z_20': Normal([torch.cuda.FloatTensor of size 500]), 'X_20': Normal([torch.cuda.FloatTensor of size 500x1x1]), 'Z_21': Normal([torch.cuda.FloatTensor of size 500]), 'X_21': Normal([torch.cuda.FloatTensor of size 500x1x1]), 'Z_22': Normal([torch.cuda.FloatTensor of size 500]), 'X_22': Normal([torch.cuda.FloatTensor of size 500x1x1]), 'Z_23': Normal([torch.cuda.FloatTensor of size 500]), 'X_23': Normal([torch.cuda.FloatTensor of size 500x1x1]), 'Z_24': Normal([torch.cuda.FloatTensor of size 500]), 'X_24': Normal([torch.cuda.FloatTensor of size 500x1x1]), 'Z_25': Normal([torch.cuda.FloatTensor of size 500]), 'X_25': Normal([torch.cuda.FloatTensor of size 500x1x1]), 'Z_26': Normal([torch.cuda.FloatTensor of size 500]), 'X_26': Normal([torch.cuda.FloatTensor of size 500x1x1]), 'Z_27': Normal([torch.cuda.FloatTensor of size 500]), 'X_27': Normal([torch.cuda.FloatTensor of size 500x1x1]), 'Z_28': Normal([torch.cuda.FloatTensor of size 500]), 'X_28': Normal([torch.cuda.FloatTensor of size 500x1x1]), 'Z_29': Normal([torch.cuda.FloatTensor of size 500]), 'X_29': Normal([torch.cuda.FloatTensor of size 500x1x1]), 'Z_30': Normal([torch.cuda.FloatTensor of size 500]), 'X_30': Normal([torch.cuda.FloatTensor of size 500x1x1]), 'Z_31': Normal([torch.cuda.FloatTensor of size 500]), 'X_31': Normal([torch.cuda.FloatTensor of size 500x1x1]), 'Z_32': Normal([torch.cuda.FloatTensor of size 500]), 'X_32': Normal([torch.cuda.FloatTensor of size 500x1x1]), 'Z_33': Normal([torch.cuda.FloatTensor of size 500]), 'X_33': Normal([torch.cuda.FloatTensor of size 500x1x1]), 'Z_34': Normal([torch.cuda.FloatTensor of size 500]), 'X_34': Normal([torch.cuda.FloatTensor of size 500x1x1]), 'Z_35': Normal([torch.cuda.FloatTensor of size 500]), 'X_35': Normal([torch.cuda.FloatTensor of size 500x1x1]), 'Z_36': Normal([torch.cuda.FloatTensor of size 500]), 'X_36': Normal([torch.cuda.FloatTensor of size 500x1x1]), 'Z_37': Normal([torch.cuda.FloatTensor of size 500]), 'X_37': Normal([torch.cuda.FloatTensor of size 500x1x1]), 'Z_38': Normal([torch.cuda.FloatTensor of size 500]), 'X_38': Normal([torch.cuda.FloatTensor of size 500x1x1]), 'Z_39': Normal([torch.cuda.FloatTensor of size 500]), 'X_39': Normal([torch.cuda.FloatTensor of size 500x1x1]), 'Z_40': Normal([torch.cuda.FloatTensor of size 500]), 'X_40': Normal([torch.cuda.FloatTensor of size 500x1x1]), 'Z_41': Normal([torch.cuda.FloatTensor of size 500]), 'X_41': Normal([torch.cuda.FloatTensor of size 500x1x1]), 'Z_42': Normal([torch.cuda.FloatTensor of size 500]), 'X_42': Normal([torch.cuda.FloatTensor of size 500x1x1]), 'Z_43': Normal([torch.cuda.FloatTensor of size 500]), 'X_43': Normal([torch.cuda.FloatTensor of size 500x1x1]), 'Z_44': Normal([torch.cuda.FloatTensor of size 500]), 'X_44': Normal([torch.cuda.FloatTensor of size 500x1x1]), 'Z_45': Normal([torch.cuda.FloatTensor of size 500]), 'X_45': Normal([torch.cuda.FloatTensor of size 500x1x1]), 'Z_46': Normal([torch.cuda.FloatTensor of size 500]), 'X_46': Normal([torch.cuda.FloatTensor of size 500x1x1]), 'Z_47': Normal([torch.cuda.FloatTensor of size 500]), 'X_47': Normal([torch.cuda.FloatTensor of size 500x1x1]), 'Z_48': Normal([torch.cuda.FloatTensor of size 500]), 'X_48': Normal([torch.cuda.FloatTensor of size 500x1x1]), 'Z_49': Normal([torch.cuda.FloatTensor of size 500]), 'X_49': Normal([torch.cuda.FloatTensor of size 500x1x1]), 'Z_50': Normal([torch.cuda.FloatTensor of size 500]), 'X_50': Normal([torch.cuda.FloatTensor of size 500x1x1])}"
      ]
     },
     "execution_count": 10,
     "metadata": {},
     "output_type": "execute_result"
    }
   ],
   "source": [
    "inference"
   ]
  },
  {
   "cell_type": "code",
   "execution_count": 11,
   "metadata": {},
   "outputs": [
    {
     "data": {
      "text/plain": [
       "Trace{'Z_1': Normal([torch.FloatTensor of size 1x1]), 'X_1': Normal([torch.FloatTensor of size 1x1]), 'Z_2': Normal([torch.FloatTensor of size 1x1]), 'X_2': Normal([torch.FloatTensor of size 1x1]), 'Z_3': Normal([torch.FloatTensor of size 1x1]), 'X_3': Normal([torch.FloatTensor of size 1x1]), 'Z_4': Normal([torch.FloatTensor of size 1x1]), 'X_4': Normal([torch.FloatTensor of size 1x1]), 'Z_5': Normal([torch.FloatTensor of size 1x1]), 'X_5': Normal([torch.FloatTensor of size 1x1]), 'Z_6': Normal([torch.FloatTensor of size 1x1]), 'X_6': Normal([torch.FloatTensor of size 1x1]), 'Z_7': Normal([torch.FloatTensor of size 1x1]), 'X_7': Normal([torch.FloatTensor of size 1x1]), 'Z_8': Normal([torch.FloatTensor of size 1x1]), 'X_8': Normal([torch.FloatTensor of size 1x1]), 'Z_9': Normal([torch.FloatTensor of size 1x1]), 'X_9': Normal([torch.FloatTensor of size 1x1]), 'Z_10': Normal([torch.FloatTensor of size 1x1]), 'X_10': Normal([torch.FloatTensor of size 1x1]), 'Z_11': Normal([torch.FloatTensor of size 1x1]), 'X_11': Normal([torch.FloatTensor of size 1x1]), 'Z_12': Normal([torch.FloatTensor of size 1x1]), 'X_12': Normal([torch.FloatTensor of size 1x1]), 'Z_13': Normal([torch.FloatTensor of size 1x1]), 'X_13': Normal([torch.FloatTensor of size 1x1]), 'Z_14': Normal([torch.FloatTensor of size 1x1]), 'X_14': Normal([torch.FloatTensor of size 1x1]), 'Z_15': Normal([torch.FloatTensor of size 1x1]), 'X_15': Normal([torch.FloatTensor of size 1x1]), 'Z_16': Normal([torch.FloatTensor of size 1x1]), 'X_16': Normal([torch.FloatTensor of size 1x1]), 'Z_17': Normal([torch.FloatTensor of size 1x1]), 'X_17': Normal([torch.FloatTensor of size 1x1]), 'Z_18': Normal([torch.FloatTensor of size 1x1]), 'X_18': Normal([torch.FloatTensor of size 1x1]), 'Z_19': Normal([torch.FloatTensor of size 1x1]), 'X_19': Normal([torch.FloatTensor of size 1x1]), 'Z_20': Normal([torch.FloatTensor of size 1x1]), 'X_20': Normal([torch.FloatTensor of size 1x1]), 'Z_21': Normal([torch.FloatTensor of size 1x1]), 'X_21': Normal([torch.FloatTensor of size 1x1]), 'Z_22': Normal([torch.FloatTensor of size 1x1]), 'X_22': Normal([torch.FloatTensor of size 1x1]), 'Z_23': Normal([torch.FloatTensor of size 1x1]), 'X_23': Normal([torch.FloatTensor of size 1x1]), 'Z_24': Normal([torch.FloatTensor of size 1x1]), 'X_24': Normal([torch.FloatTensor of size 1x1]), 'Z_25': Normal([torch.FloatTensor of size 1x1]), 'X_25': Normal([torch.FloatTensor of size 1x1]), 'Z_26': Normal([torch.FloatTensor of size 1x1]), 'X_26': Normal([torch.FloatTensor of size 1x1]), 'Z_27': Normal([torch.FloatTensor of size 1x1]), 'X_27': Normal([torch.FloatTensor of size 1x1]), 'Z_28': Normal([torch.FloatTensor of size 1x1]), 'X_28': Normal([torch.FloatTensor of size 1x1]), 'Z_29': Normal([torch.FloatTensor of size 1x1]), 'X_29': Normal([torch.FloatTensor of size 1x1]), 'Z_30': Normal([torch.FloatTensor of size 1x1]), 'X_30': Normal([torch.FloatTensor of size 1x1]), 'Z_31': Normal([torch.FloatTensor of size 1x1]), 'X_31': Normal([torch.FloatTensor of size 1x1]), 'Z_32': Normal([torch.FloatTensor of size 1x1]), 'X_32': Normal([torch.FloatTensor of size 1x1]), 'Z_33': Normal([torch.FloatTensor of size 1x1]), 'X_33': Normal([torch.FloatTensor of size 1x1]), 'Z_34': Normal([torch.FloatTensor of size 1x1]), 'X_34': Normal([torch.FloatTensor of size 1x1]), 'Z_35': Normal([torch.FloatTensor of size 1x1]), 'X_35': Normal([torch.FloatTensor of size 1x1]), 'Z_36': Normal([torch.FloatTensor of size 1x1]), 'X_36': Normal([torch.FloatTensor of size 1x1]), 'Z_37': Normal([torch.FloatTensor of size 1x1]), 'X_37': Normal([torch.FloatTensor of size 1x1]), 'Z_38': Normal([torch.FloatTensor of size 1x1]), 'X_38': Normal([torch.FloatTensor of size 1x1]), 'Z_39': Normal([torch.FloatTensor of size 1x1]), 'X_39': Normal([torch.FloatTensor of size 1x1]), 'Z_40': Normal([torch.FloatTensor of size 1x1]), 'X_40': Normal([torch.FloatTensor of size 1x1]), 'Z_41': Normal([torch.FloatTensor of size 1x1]), 'X_41': Normal([torch.FloatTensor of size 1x1]), 'Z_42': Normal([torch.FloatTensor of size 1x1]), 'X_42': Normal([torch.FloatTensor of size 1x1]), 'Z_43': Normal([torch.FloatTensor of size 1x1]), 'X_43': Normal([torch.FloatTensor of size 1x1]), 'Z_44': Normal([torch.FloatTensor of size 1x1]), 'X_44': Normal([torch.FloatTensor of size 1x1]), 'Z_45': Normal([torch.FloatTensor of size 1x1]), 'X_45': Normal([torch.FloatTensor of size 1x1]), 'Z_46': Normal([torch.FloatTensor of size 1x1]), 'X_46': Normal([torch.FloatTensor of size 1x1]), 'Z_47': Normal([torch.FloatTensor of size 1x1]), 'X_47': Normal([torch.FloatTensor of size 1x1]), 'Z_48': Normal([torch.FloatTensor of size 1x1]), 'X_48': Normal([torch.FloatTensor of size 1x1]), 'Z_49': Normal([torch.FloatTensor of size 1x1]), 'X_49': Normal([torch.FloatTensor of size 1x1]), 'Z_50': Normal([torch.FloatTensor of size 1x1]), 'X_50': Normal([torch.FloatTensor of size 1x1])}"
      ]
     },
     "execution_count": 11,
     "metadata": {},
     "output_type": "execute_result"
    }
   ],
   "source": [
    "generative"
   ]
  },
  {
   "cell_type": "code",
   "execution_count": 12,
   "metadata": {},
   "outputs": [
    {
     "name": "stdout",
     "output_type": "stream",
     "text": [
      "SMC MSE at time 1: 0.879748\n",
      "SMC MSE at time 2: 0.197309\n",
      "SMC MSE at time 3: 5.447684\n",
      "SMC MSE at time 4: 0.432873\n",
      "SMC MSE at time 5: 1.063342\n",
      "SMC MSE at time 6: 2.387942\n",
      "SMC MSE at time 7: 0.725969\n",
      "SMC MSE at time 8: 1.031265\n",
      "SMC MSE at time 9: 0.855301\n",
      "SMC MSE at time 10: 1.389647\n",
      "SMC MSE at time 11: 0.128377\n",
      "SMC MSE at time 12: 1.045317\n",
      "SMC MSE at time 13: 0.087704\n",
      "SMC MSE at time 14: 0.708137\n",
      "SMC MSE at time 15: 0.705568\n",
      "SMC MSE at time 16: 0.301687\n",
      "SMC MSE at time 17: 0.145586\n",
      "SMC MSE at time 18: 0.347885\n",
      "SMC MSE at time 19: 0.550593\n",
      "SMC MSE at time 20: 0.295335\n",
      "SMC MSE at time 21: 0.661778\n",
      "SMC MSE at time 22: 1.294861\n",
      "SMC MSE at time 23: 0.759832\n",
      "SMC MSE at time 24: 0.517229\n",
      "SMC MSE at time 25: 0.592529\n",
      "SMC MSE at time 26: 0.690473\n",
      "SMC MSE at time 27: 0.583936\n",
      "SMC MSE at time 28: 0.827036\n",
      "SMC MSE at time 29: 2.549140\n",
      "SMC MSE at time 30: 2.535645\n",
      "SMC MSE at time 31: 3.780965\n",
      "SMC MSE at time 32: 1.375670\n",
      "SMC MSE at time 33: 0.506408\n",
      "SMC MSE at time 34: 2.455970\n",
      "SMC MSE at time 35: 1.114676\n",
      "SMC MSE at time 36: 2.262806\n",
      "SMC MSE at time 37: 0.918391\n",
      "SMC MSE at time 38: 0.970003\n",
      "SMC MSE at time 39: 0.159712\n",
      "SMC MSE at time 40: 0.358393\n",
      "SMC MSE at time 41: 2.759909\n",
      "SMC MSE at time 42: 0.372051\n",
      "SMC MSE at time 43: 1.120938\n",
      "SMC MSE at time 44: 0.528462\n",
      "SMC MSE at time 45: 1.364462\n",
      "SMC MSE at time 46: 0.916698\n",
      "SMC MSE at time 47: 1.287234\n",
      "SMC MSE at time 48: 0.557958\n",
      "SMC MSE at time 49: 7.758704\n",
      "SMC MSE at time 50: 2.577600\n"
     ]
    }
   ],
   "source": [
    "for t in range(1, zs.shape[1]):\n",
    "    key = 'Z_%d' % t\n",
    "    accuracy = ((inference[key].value - utils.optional_to(generative[key], inference[key].value))**2).mean()\n",
    "    print('SMC MSE at time %d: %f' % (t, accuracy))"
   ]
  },
  {
   "cell_type": "code",
   "execution_count": null,
   "metadata": {},
   "outputs": [],
   "source": []
  },
  {
   "cell_type": "code",
   "execution_count": null,
   "metadata": {},
   "outputs": [],
   "source": []
  },
  {
   "cell_type": "code",
   "execution_count": null,
   "metadata": {},
   "outputs": [],
   "source": []
  }
 ],
 "metadata": {
  "kernelspec": {
   "display_name": "Python [conda env:funcytorch]",
   "language": "python",
   "name": "conda-env-funcytorch-py"
  },
  "language_info": {
   "codemirror_mode": {
    "name": "ipython",
    "version": 3
   },
   "file_extension": ".py",
   "mimetype": "text/x-python",
   "name": "python",
   "nbconvert_exporter": "python",
   "pygments_lexer": "ipython3",
   "version": "3.6.5"
  }
 },
 "nbformat": 4,
 "nbformat_minor": 2
}
