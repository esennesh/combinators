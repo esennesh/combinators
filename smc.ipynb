{
 "cells": [
  {
   "cell_type": "code",
   "execution_count": 1,
   "metadata": {},
   "outputs": [],
   "source": [
    "import probtorch\n",
    "import torch\n",
    "\n",
    "import combinators\n",
    "import smc\n",
    "import ssm\n",
    "import utils"
   ]
  },
  {
   "cell_type": "code",
   "execution_count": 2,
   "metadata": {},
   "outputs": [],
   "source": [
    "generative = smc.ParticleTrace(1)"
   ]
  },
  {
   "cell_type": "code",
   "execution_count": 3,
   "metadata": {},
   "outputs": [],
   "source": [
    "mu = torch.zeros(1, 1)\n",
    "sigma = torch.ones(1, 1) / 2\n",
    "delta = torch.ones(1, 1)\n",
    "zs = torch.ones(1, 50+1) * -1\n",
    "zs[:, 0] = 0"
   ]
  },
  {
   "cell_type": "code",
   "execution_count": 4,
   "metadata": {},
   "outputs": [],
   "source": [
    "for t in range(zs.shape[1] - 1):\n",
    "    zs, mu, sigma, delta, generative = ssm.ssm_step(zs, mu, sigma, delta, t+1, generative)"
   ]
  },
  {
   "cell_type": "code",
   "execution_count": 5,
   "metadata": {},
   "outputs": [
    {
     "data": {
      "text/plain": [
       "Trace{'Z_1': Normal([torch.FloatTensor of size 1x1]), 'X_1': Normal([torch.FloatTensor of size 1]), 'Z_2': Normal([torch.FloatTensor of size 1x1]), 'X_2': Normal([torch.FloatTensor of size 1]), 'Z_3': Normal([torch.FloatTensor of size 1x1]), 'X_3': Normal([torch.FloatTensor of size 1]), 'Z_4': Normal([torch.FloatTensor of size 1x1]), 'X_4': Normal([torch.FloatTensor of size 1]), 'Z_5': Normal([torch.FloatTensor of size 1x1]), 'X_5': Normal([torch.FloatTensor of size 1]), 'Z_6': Normal([torch.FloatTensor of size 1x1]), 'X_6': Normal([torch.FloatTensor of size 1]), 'Z_7': Normal([torch.FloatTensor of size 1x1]), 'X_7': Normal([torch.FloatTensor of size 1]), 'Z_8': Normal([torch.FloatTensor of size 1x1]), 'X_8': Normal([torch.FloatTensor of size 1]), 'Z_9': Normal([torch.FloatTensor of size 1x1]), 'X_9': Normal([torch.FloatTensor of size 1]), 'Z_10': Normal([torch.FloatTensor of size 1x1]), 'X_10': Normal([torch.FloatTensor of size 1]), 'Z_11': Normal([torch.FloatTensor of size 1x1]), 'X_11': Normal([torch.FloatTensor of size 1]), 'Z_12': Normal([torch.FloatTensor of size 1x1]), 'X_12': Normal([torch.FloatTensor of size 1]), 'Z_13': Normal([torch.FloatTensor of size 1x1]), 'X_13': Normal([torch.FloatTensor of size 1]), 'Z_14': Normal([torch.FloatTensor of size 1x1]), 'X_14': Normal([torch.FloatTensor of size 1]), 'Z_15': Normal([torch.FloatTensor of size 1x1]), 'X_15': Normal([torch.FloatTensor of size 1]), 'Z_16': Normal([torch.FloatTensor of size 1x1]), 'X_16': Normal([torch.FloatTensor of size 1]), 'Z_17': Normal([torch.FloatTensor of size 1x1]), 'X_17': Normal([torch.FloatTensor of size 1]), 'Z_18': Normal([torch.FloatTensor of size 1x1]), 'X_18': Normal([torch.FloatTensor of size 1]), 'Z_19': Normal([torch.FloatTensor of size 1x1]), 'X_19': Normal([torch.FloatTensor of size 1]), 'Z_20': Normal([torch.FloatTensor of size 1x1]), 'X_20': Normal([torch.FloatTensor of size 1]), 'Z_21': Normal([torch.FloatTensor of size 1x1]), 'X_21': Normal([torch.FloatTensor of size 1]), 'Z_22': Normal([torch.FloatTensor of size 1x1]), 'X_22': Normal([torch.FloatTensor of size 1]), 'Z_23': Normal([torch.FloatTensor of size 1x1]), 'X_23': Normal([torch.FloatTensor of size 1]), 'Z_24': Normal([torch.FloatTensor of size 1x1]), 'X_24': Normal([torch.FloatTensor of size 1]), 'Z_25': Normal([torch.FloatTensor of size 1x1]), 'X_25': Normal([torch.FloatTensor of size 1]), 'Z_26': Normal([torch.FloatTensor of size 1x1]), 'X_26': Normal([torch.FloatTensor of size 1]), 'Z_27': Normal([torch.FloatTensor of size 1x1]), 'X_27': Normal([torch.FloatTensor of size 1]), 'Z_28': Normal([torch.FloatTensor of size 1x1]), 'X_28': Normal([torch.FloatTensor of size 1]), 'Z_29': Normal([torch.FloatTensor of size 1x1]), 'X_29': Normal([torch.FloatTensor of size 1]), 'Z_30': Normal([torch.FloatTensor of size 1x1]), 'X_30': Normal([torch.FloatTensor of size 1]), 'Z_31': Normal([torch.FloatTensor of size 1x1]), 'X_31': Normal([torch.FloatTensor of size 1]), 'Z_32': Normal([torch.FloatTensor of size 1x1]), 'X_32': Normal([torch.FloatTensor of size 1]), 'Z_33': Normal([torch.FloatTensor of size 1x1]), 'X_33': Normal([torch.FloatTensor of size 1]), 'Z_34': Normal([torch.FloatTensor of size 1x1]), 'X_34': Normal([torch.FloatTensor of size 1]), 'Z_35': Normal([torch.FloatTensor of size 1x1]), 'X_35': Normal([torch.FloatTensor of size 1]), 'Z_36': Normal([torch.FloatTensor of size 1x1]), 'X_36': Normal([torch.FloatTensor of size 1]), 'Z_37': Normal([torch.FloatTensor of size 1x1]), 'X_37': Normal([torch.FloatTensor of size 1]), 'Z_38': Normal([torch.FloatTensor of size 1x1]), 'X_38': Normal([torch.FloatTensor of size 1]), 'Z_39': Normal([torch.FloatTensor of size 1x1]), 'X_39': Normal([torch.FloatTensor of size 1]), 'Z_40': Normal([torch.FloatTensor of size 1x1]), 'X_40': Normal([torch.FloatTensor of size 1]), 'Z_41': Normal([torch.FloatTensor of size 1x1]), 'X_41': Normal([torch.FloatTensor of size 1]), 'Z_42': Normal([torch.FloatTensor of size 1x1]), 'X_42': Normal([torch.FloatTensor of size 1]), 'Z_43': Normal([torch.FloatTensor of size 1x1]), 'X_43': Normal([torch.FloatTensor of size 1]), 'Z_44': Normal([torch.FloatTensor of size 1x1]), 'X_44': Normal([torch.FloatTensor of size 1]), 'Z_45': Normal([torch.FloatTensor of size 1x1]), 'X_45': Normal([torch.FloatTensor of size 1]), 'Z_46': Normal([torch.FloatTensor of size 1x1]), 'X_46': Normal([torch.FloatTensor of size 1]), 'Z_47': Normal([torch.FloatTensor of size 1x1]), 'X_47': Normal([torch.FloatTensor of size 1]), 'Z_48': Normal([torch.FloatTensor of size 1x1]), 'X_48': Normal([torch.FloatTensor of size 1]), 'Z_49': Normal([torch.FloatTensor of size 1x1]), 'X_49': Normal([torch.FloatTensor of size 1]), 'Z_50': Normal([torch.FloatTensor of size 1x1]), 'X_50': Normal([torch.FloatTensor of size 1])}"
      ]
     },
     "execution_count": 5,
     "metadata": {},
     "output_type": "execute_result"
    }
   ],
   "source": [
    "generative"
   ]
  },
  {
   "cell_type": "code",
   "execution_count": 6,
   "metadata": {},
   "outputs": [],
   "source": [
    "num_particles = 500"
   ]
  },
  {
   "cell_type": "code",
   "execution_count": 7,
   "metadata": {},
   "outputs": [],
   "source": [
    "smc_step = smc.smc(ssm.ssm_step, ssm.ssm_retrace)"
   ]
  },
  {
   "cell_type": "code",
   "execution_count": 8,
   "metadata": {},
   "outputs": [],
   "source": [
    "ssm_params = {\n",
    "    'mu': {\n",
    "        'loc': torch.tensor(0.),\n",
    "        'scale': torch.tensor(0.25),\n",
    "    },\n",
    "    'sigma': {\n",
    "        'loc': torch.tensor(0.),\n",
    "        'scale': torch.tensor(0.25),\n",
    "    },\n",
    "    'delta': {\n",
    "        'loc': torch.tensor(0.),\n",
    "        'scale': torch.tensor(0.25),\n",
    "    }\n",
    "}"
   ]
  },
  {
   "cell_type": "code",
   "execution_count": 9,
   "metadata": {},
   "outputs": [],
   "source": [
    "inference, init_ssm = smc.variational_smc(num_particles, ssm.init_ssm, smc_step, 500, 50, ssm_params, generative)"
   ]
  },
  {
   "cell_type": "code",
   "execution_count": 10,
   "metadata": {},
   "outputs": [
    {
     "data": {
      "text/plain": [
       "Trace{'mu': Normal([torch.cuda.FloatTensor of size 500]), 'sigma': Normal([torch.cuda.FloatTensor of size 500]), 'delta': Normal([torch.cuda.FloatTensor of size 500]), 'Z_0': Normal([torch.cuda.FloatTensor of size 500]), 'Z_1': Normal([torch.cuda.FloatTensor of size 500]), 'X_1': Normal([torch.cuda.FloatTensor of size 500x1]), 'Z_2': Normal([torch.cuda.FloatTensor of size 500]), 'X_2': Normal([torch.cuda.FloatTensor of size 500x1]), 'Z_3': Normal([torch.cuda.FloatTensor of size 500]), 'X_3': Normal([torch.cuda.FloatTensor of size 500x1]), 'Z_4': Normal([torch.cuda.FloatTensor of size 500]), 'X_4': Normal([torch.cuda.FloatTensor of size 500x1]), 'Z_5': Normal([torch.cuda.FloatTensor of size 500]), 'X_5': Normal([torch.cuda.FloatTensor of size 500x1]), 'Z_6': Normal([torch.cuda.FloatTensor of size 500]), 'X_6': Normal([torch.cuda.FloatTensor of size 500x1]), 'Z_7': Normal([torch.cuda.FloatTensor of size 500]), 'X_7': Normal([torch.cuda.FloatTensor of size 500x1]), 'Z_8': Normal([torch.cuda.FloatTensor of size 500]), 'X_8': Normal([torch.cuda.FloatTensor of size 500x1]), 'Z_9': Normal([torch.cuda.FloatTensor of size 500]), 'X_9': Normal([torch.cuda.FloatTensor of size 500x1]), 'Z_10': Normal([torch.cuda.FloatTensor of size 500]), 'X_10': Normal([torch.cuda.FloatTensor of size 500x1]), 'Z_11': Normal([torch.cuda.FloatTensor of size 500]), 'X_11': Normal([torch.cuda.FloatTensor of size 500x1]), 'Z_12': Normal([torch.cuda.FloatTensor of size 500]), 'X_12': Normal([torch.cuda.FloatTensor of size 500x1]), 'Z_13': Normal([torch.cuda.FloatTensor of size 500]), 'X_13': Normal([torch.cuda.FloatTensor of size 500x1]), 'Z_14': Normal([torch.cuda.FloatTensor of size 500]), 'X_14': Normal([torch.cuda.FloatTensor of size 500x1]), 'Z_15': Normal([torch.cuda.FloatTensor of size 500]), 'X_15': Normal([torch.cuda.FloatTensor of size 500x1]), 'Z_16': Normal([torch.cuda.FloatTensor of size 500]), 'X_16': Normal([torch.cuda.FloatTensor of size 500x1]), 'Z_17': Normal([torch.cuda.FloatTensor of size 500]), 'X_17': Normal([torch.cuda.FloatTensor of size 500x1]), 'Z_18': Normal([torch.cuda.FloatTensor of size 500]), 'X_18': Normal([torch.cuda.FloatTensor of size 500x1]), 'Z_19': Normal([torch.cuda.FloatTensor of size 500]), 'X_19': Normal([torch.cuda.FloatTensor of size 500x1]), 'Z_20': Normal([torch.cuda.FloatTensor of size 500]), 'X_20': Normal([torch.cuda.FloatTensor of size 500x1]), 'Z_21': Normal([torch.cuda.FloatTensor of size 500]), 'X_21': Normal([torch.cuda.FloatTensor of size 500x1]), 'Z_22': Normal([torch.cuda.FloatTensor of size 500]), 'X_22': Normal([torch.cuda.FloatTensor of size 500x1]), 'Z_23': Normal([torch.cuda.FloatTensor of size 500]), 'X_23': Normal([torch.cuda.FloatTensor of size 500x1]), 'Z_24': Normal([torch.cuda.FloatTensor of size 500]), 'X_24': Normal([torch.cuda.FloatTensor of size 500x1]), 'Z_25': Normal([torch.cuda.FloatTensor of size 500]), 'X_25': Normal([torch.cuda.FloatTensor of size 500x1]), 'Z_26': Normal([torch.cuda.FloatTensor of size 500]), 'X_26': Normal([torch.cuda.FloatTensor of size 500x1]), 'Z_27': Normal([torch.cuda.FloatTensor of size 500]), 'X_27': Normal([torch.cuda.FloatTensor of size 500x1]), 'Z_28': Normal([torch.cuda.FloatTensor of size 500]), 'X_28': Normal([torch.cuda.FloatTensor of size 500x1]), 'Z_29': Normal([torch.cuda.FloatTensor of size 500]), 'X_29': Normal([torch.cuda.FloatTensor of size 500x1]), 'Z_30': Normal([torch.cuda.FloatTensor of size 500]), 'X_30': Normal([torch.cuda.FloatTensor of size 500x1]), 'Z_31': Normal([torch.cuda.FloatTensor of size 500]), 'X_31': Normal([torch.cuda.FloatTensor of size 500x1]), 'Z_32': Normal([torch.cuda.FloatTensor of size 500]), 'X_32': Normal([torch.cuda.FloatTensor of size 500x1]), 'Z_33': Normal([torch.cuda.FloatTensor of size 500]), 'X_33': Normal([torch.cuda.FloatTensor of size 500x1]), 'Z_34': Normal([torch.cuda.FloatTensor of size 500]), 'X_34': Normal([torch.cuda.FloatTensor of size 500x1]), 'Z_35': Normal([torch.cuda.FloatTensor of size 500]), 'X_35': Normal([torch.cuda.FloatTensor of size 500x1]), 'Z_36': Normal([torch.cuda.FloatTensor of size 500]), 'X_36': Normal([torch.cuda.FloatTensor of size 500x1]), 'Z_37': Normal([torch.cuda.FloatTensor of size 500]), 'X_37': Normal([torch.cuda.FloatTensor of size 500x1]), 'Z_38': Normal([torch.cuda.FloatTensor of size 500]), 'X_38': Normal([torch.cuda.FloatTensor of size 500x1]), 'Z_39': Normal([torch.cuda.FloatTensor of size 500]), 'X_39': Normal([torch.cuda.FloatTensor of size 500x1]), 'Z_40': Normal([torch.cuda.FloatTensor of size 500]), 'X_40': Normal([torch.cuda.FloatTensor of size 500x1]), 'Z_41': Normal([torch.cuda.FloatTensor of size 500]), 'X_41': Normal([torch.cuda.FloatTensor of size 500x1]), 'Z_42': Normal([torch.cuda.FloatTensor of size 500]), 'X_42': Normal([torch.cuda.FloatTensor of size 500x1]), 'Z_43': Normal([torch.cuda.FloatTensor of size 500]), 'X_43': Normal([torch.cuda.FloatTensor of size 500x1]), 'Z_44': Normal([torch.cuda.FloatTensor of size 500]), 'X_44': Normal([torch.cuda.FloatTensor of size 500x1]), 'Z_45': Normal([torch.cuda.FloatTensor of size 500]), 'X_45': Normal([torch.cuda.FloatTensor of size 500x1]), 'Z_46': Normal([torch.cuda.FloatTensor of size 500]), 'X_46': Normal([torch.cuda.FloatTensor of size 500x1]), 'Z_47': Normal([torch.cuda.FloatTensor of size 500]), 'X_47': Normal([torch.cuda.FloatTensor of size 500x1]), 'Z_48': Normal([torch.cuda.FloatTensor of size 500]), 'X_48': Normal([torch.cuda.FloatTensor of size 500x1]), 'Z_49': Normal([torch.cuda.FloatTensor of size 500]), 'X_49': Normal([torch.cuda.FloatTensor of size 500x1]), 'Z_50': Normal([torch.cuda.FloatTensor of size 500]), 'X_50': Normal([torch.cuda.FloatTensor of size 500x1])}"
      ]
     },
     "execution_count": 10,
     "metadata": {},
     "output_type": "execute_result"
    }
   ],
   "source": [
    "inference"
   ]
  },
  {
   "cell_type": "code",
   "execution_count": 11,
   "metadata": {},
   "outputs": [
    {
     "data": {
      "text/plain": [
       "Trace{'Z_1': Normal([torch.FloatTensor of size 1x1]), 'X_1': Normal([torch.FloatTensor of size 1]), 'Z_2': Normal([torch.FloatTensor of size 1x1]), 'X_2': Normal([torch.FloatTensor of size 1]), 'Z_3': Normal([torch.FloatTensor of size 1x1]), 'X_3': Normal([torch.FloatTensor of size 1]), 'Z_4': Normal([torch.FloatTensor of size 1x1]), 'X_4': Normal([torch.FloatTensor of size 1]), 'Z_5': Normal([torch.FloatTensor of size 1x1]), 'X_5': Normal([torch.FloatTensor of size 1]), 'Z_6': Normal([torch.FloatTensor of size 1x1]), 'X_6': Normal([torch.FloatTensor of size 1]), 'Z_7': Normal([torch.FloatTensor of size 1x1]), 'X_7': Normal([torch.FloatTensor of size 1]), 'Z_8': Normal([torch.FloatTensor of size 1x1]), 'X_8': Normal([torch.FloatTensor of size 1]), 'Z_9': Normal([torch.FloatTensor of size 1x1]), 'X_9': Normal([torch.FloatTensor of size 1]), 'Z_10': Normal([torch.FloatTensor of size 1x1]), 'X_10': Normal([torch.FloatTensor of size 1]), 'Z_11': Normal([torch.FloatTensor of size 1x1]), 'X_11': Normal([torch.FloatTensor of size 1]), 'Z_12': Normal([torch.FloatTensor of size 1x1]), 'X_12': Normal([torch.FloatTensor of size 1]), 'Z_13': Normal([torch.FloatTensor of size 1x1]), 'X_13': Normal([torch.FloatTensor of size 1]), 'Z_14': Normal([torch.FloatTensor of size 1x1]), 'X_14': Normal([torch.FloatTensor of size 1]), 'Z_15': Normal([torch.FloatTensor of size 1x1]), 'X_15': Normal([torch.FloatTensor of size 1]), 'Z_16': Normal([torch.FloatTensor of size 1x1]), 'X_16': Normal([torch.FloatTensor of size 1]), 'Z_17': Normal([torch.FloatTensor of size 1x1]), 'X_17': Normal([torch.FloatTensor of size 1]), 'Z_18': Normal([torch.FloatTensor of size 1x1]), 'X_18': Normal([torch.FloatTensor of size 1]), 'Z_19': Normal([torch.FloatTensor of size 1x1]), 'X_19': Normal([torch.FloatTensor of size 1]), 'Z_20': Normal([torch.FloatTensor of size 1x1]), 'X_20': Normal([torch.FloatTensor of size 1]), 'Z_21': Normal([torch.FloatTensor of size 1x1]), 'X_21': Normal([torch.FloatTensor of size 1]), 'Z_22': Normal([torch.FloatTensor of size 1x1]), 'X_22': Normal([torch.FloatTensor of size 1]), 'Z_23': Normal([torch.FloatTensor of size 1x1]), 'X_23': Normal([torch.FloatTensor of size 1]), 'Z_24': Normal([torch.FloatTensor of size 1x1]), 'X_24': Normal([torch.FloatTensor of size 1]), 'Z_25': Normal([torch.FloatTensor of size 1x1]), 'X_25': Normal([torch.FloatTensor of size 1]), 'Z_26': Normal([torch.FloatTensor of size 1x1]), 'X_26': Normal([torch.FloatTensor of size 1]), 'Z_27': Normal([torch.FloatTensor of size 1x1]), 'X_27': Normal([torch.FloatTensor of size 1]), 'Z_28': Normal([torch.FloatTensor of size 1x1]), 'X_28': Normal([torch.FloatTensor of size 1]), 'Z_29': Normal([torch.FloatTensor of size 1x1]), 'X_29': Normal([torch.FloatTensor of size 1]), 'Z_30': Normal([torch.FloatTensor of size 1x1]), 'X_30': Normal([torch.FloatTensor of size 1]), 'Z_31': Normal([torch.FloatTensor of size 1x1]), 'X_31': Normal([torch.FloatTensor of size 1]), 'Z_32': Normal([torch.FloatTensor of size 1x1]), 'X_32': Normal([torch.FloatTensor of size 1]), 'Z_33': Normal([torch.FloatTensor of size 1x1]), 'X_33': Normal([torch.FloatTensor of size 1]), 'Z_34': Normal([torch.FloatTensor of size 1x1]), 'X_34': Normal([torch.FloatTensor of size 1]), 'Z_35': Normal([torch.FloatTensor of size 1x1]), 'X_35': Normal([torch.FloatTensor of size 1]), 'Z_36': Normal([torch.FloatTensor of size 1x1]), 'X_36': Normal([torch.FloatTensor of size 1]), 'Z_37': Normal([torch.FloatTensor of size 1x1]), 'X_37': Normal([torch.FloatTensor of size 1]), 'Z_38': Normal([torch.FloatTensor of size 1x1]), 'X_38': Normal([torch.FloatTensor of size 1]), 'Z_39': Normal([torch.FloatTensor of size 1x1]), 'X_39': Normal([torch.FloatTensor of size 1]), 'Z_40': Normal([torch.FloatTensor of size 1x1]), 'X_40': Normal([torch.FloatTensor of size 1]), 'Z_41': Normal([torch.FloatTensor of size 1x1]), 'X_41': Normal([torch.FloatTensor of size 1]), 'Z_42': Normal([torch.FloatTensor of size 1x1]), 'X_42': Normal([torch.FloatTensor of size 1]), 'Z_43': Normal([torch.FloatTensor of size 1x1]), 'X_43': Normal([torch.FloatTensor of size 1]), 'Z_44': Normal([torch.FloatTensor of size 1x1]), 'X_44': Normal([torch.FloatTensor of size 1]), 'Z_45': Normal([torch.FloatTensor of size 1x1]), 'X_45': Normal([torch.FloatTensor of size 1]), 'Z_46': Normal([torch.FloatTensor of size 1x1]), 'X_46': Normal([torch.FloatTensor of size 1]), 'Z_47': Normal([torch.FloatTensor of size 1x1]), 'X_47': Normal([torch.FloatTensor of size 1]), 'Z_48': Normal([torch.FloatTensor of size 1x1]), 'X_48': Normal([torch.FloatTensor of size 1]), 'Z_49': Normal([torch.FloatTensor of size 1x1]), 'X_49': Normal([torch.FloatTensor of size 1]), 'Z_50': Normal([torch.FloatTensor of size 1x1]), 'X_50': Normal([torch.FloatTensor of size 1])}"
      ]
     },
     "execution_count": 11,
     "metadata": {},
     "output_type": "execute_result"
    }
   ],
   "source": [
    "generative"
   ]
  },
  {
   "cell_type": "code",
   "execution_count": 12,
   "metadata": {},
   "outputs": [
    {
     "name": "stdout",
     "output_type": "stream",
     "text": [
      "SMC MSE at time 1: 616.224731\n",
      "SMC MSE at time 2: 220.069305\n",
      "SMC MSE at time 3: 12.920108\n",
      "SMC MSE at time 4: 2.852032\n",
      "SMC MSE at time 5: 475.883667\n",
      "SMC MSE at time 6: 308.648041\n",
      "SMC MSE at time 7: 555.606018\n",
      "SMC MSE at time 8: 47.613407\n",
      "SMC MSE at time 9: 2225.171631\n",
      "SMC MSE at time 10: 410.863403\n",
      "SMC MSE at time 11: 28.431664\n",
      "SMC MSE at time 12: 340.140656\n",
      "SMC MSE at time 13: 7349.819824\n",
      "SMC MSE at time 14: 4502.643555\n",
      "SMC MSE at time 15: 257.731171\n",
      "SMC MSE at time 16: 82.166145\n",
      "SMC MSE at time 17: 2900.500244\n",
      "SMC MSE at time 18: 8208.047852\n",
      "SMC MSE at time 19: 3260.217529\n",
      "SMC MSE at time 20: 3521.967773\n",
      "SMC MSE at time 21: 1891.838867\n",
      "SMC MSE at time 22: 14566.572266\n",
      "SMC MSE at time 23: 318.286743\n",
      "SMC MSE at time 24: 675.926819\n",
      "SMC MSE at time 25: 4827.039062\n",
      "SMC MSE at time 26: 5462.046875\n",
      "SMC MSE at time 27: 2702.441406\n",
      "SMC MSE at time 28: 2855.416748\n",
      "SMC MSE at time 29: 12459.928711\n",
      "SMC MSE at time 30: 9374.930664\n",
      "SMC MSE at time 31: 21338.238281\n",
      "SMC MSE at time 32: 14878.122070\n",
      "SMC MSE at time 33: 6388.773926\n",
      "SMC MSE at time 34: 16960.250000\n",
      "SMC MSE at time 35: 4676.325195\n",
      "SMC MSE at time 36: 9614.158203\n",
      "SMC MSE at time 37: 6758.780762\n",
      "SMC MSE at time 38: 15867.165039\n",
      "SMC MSE at time 39: 18652.621094\n",
      "SMC MSE at time 40: 11490.112305\n",
      "SMC MSE at time 41: 14779.226562\n",
      "SMC MSE at time 42: 10540.149414\n",
      "SMC MSE at time 43: 9291.203125\n",
      "SMC MSE at time 44: 9098.491211\n",
      "SMC MSE at time 45: 15462.105469\n",
      "SMC MSE at time 46: 13170.087891\n",
      "SMC MSE at time 47: 17913.398438\n",
      "SMC MSE at time 48: 24029.255859\n",
      "SMC MSE at time 49: 16655.712891\n",
      "SMC MSE at time 50: 20298.146484\n"
     ]
    }
   ],
   "source": [
    "for t in range(1, zs.shape[1]):\n",
    "    key = 'Z_%d' % t\n",
    "    accuracy = ((inference[key].value - utils.optional_to(generative[key], inference[key].value))**2).mean()\n",
    "    print('SMC MSE at time %d: %f' % (t, accuracy))"
   ]
  },
  {
   "cell_type": "code",
   "execution_count": null,
   "metadata": {},
   "outputs": [],
   "source": []
  },
  {
   "cell_type": "code",
   "execution_count": null,
   "metadata": {},
   "outputs": [],
   "source": []
  },
  {
   "cell_type": "code",
   "execution_count": null,
   "metadata": {},
   "outputs": [],
   "source": []
  }
 ],
 "metadata": {
  "kernelspec": {
   "display_name": "Python [conda env:funcytorch]",
   "language": "python",
   "name": "conda-env-funcytorch-py"
  },
  "language_info": {
   "codemirror_mode": {
    "name": "ipython",
    "version": 3
   },
   "file_extension": ".py",
   "mimetype": "text/x-python",
   "name": "python",
   "nbconvert_exporter": "python",
   "pygments_lexer": "ipython3",
   "version": "3.6.5"
  }
 },
 "nbformat": 4,
 "nbformat_minor": 2
}
