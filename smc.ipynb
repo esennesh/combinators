{
 "cells": [
  {
   "cell_type": "code",
   "execution_count": 1,
   "metadata": {},
   "outputs": [],
   "source": [
    "import probtorch\n",
    "import torch\n",
    "\n",
    "import combinators\n",
    "import hmm\n",
    "import smc\n",
    "import utils"
   ]
  },
  {
   "cell_type": "code",
   "execution_count": 2,
   "metadata": {},
   "outputs": [],
   "source": [
    "generative = smc.ParticleTrace(1)"
   ]
  },
  {
   "cell_type": "code",
   "execution_count": 3,
   "metadata": {},
   "outputs": [],
   "source": [
    "pi = torch.zeros(1, 5, 5)\n",
    "for i in range(5):\n",
    "    n = i + 1\n",
    "    if n >= 5:\n",
    "        n = 0\n",
    "    pi[:, i, n] = 1\n",
    "mu = torch.arange(5).unsqueeze(0)\n",
    "sigma = torch.ones(1, 5) / 2\n",
    "zs = torch.ones(1, 50+1, dtype=torch.long) * -1\n",
    "zs[:, 0] = 0"
   ]
  },
  {
   "cell_type": "code",
   "execution_count": 4,
   "metadata": {},
   "outputs": [],
   "source": [
    "for t in range(zs.shape[1] - 1):\n",
    "    zs, pi, mu, sigma, t, generative = hmm.hmm_step(zs, pi, mu, sigma, t+1, generative)"
   ]
  },
  {
   "cell_type": "code",
   "execution_count": 5,
   "metadata": {},
   "outputs": [
    {
     "data": {
      "text/plain": [
       "Trace{'Z_1': Categorical([torch.LongTensor of size 1]), 'X_1': Normal([torch.FloatTensor of size 1]), 'Z_2': Categorical([torch.LongTensor of size 1]), 'X_2': Normal([torch.FloatTensor of size 1]), 'Z_3': Categorical([torch.LongTensor of size 1]), 'X_3': Normal([torch.FloatTensor of size 1]), 'Z_4': Categorical([torch.LongTensor of size 1]), 'X_4': Normal([torch.FloatTensor of size 1]), 'Z_5': Categorical([torch.LongTensor of size 1]), 'X_5': Normal([torch.FloatTensor of size 1]), 'Z_6': Categorical([torch.LongTensor of size 1]), 'X_6': Normal([torch.FloatTensor of size 1]), 'Z_7': Categorical([torch.LongTensor of size 1]), 'X_7': Normal([torch.FloatTensor of size 1]), 'Z_8': Categorical([torch.LongTensor of size 1]), 'X_8': Normal([torch.FloatTensor of size 1]), 'Z_9': Categorical([torch.LongTensor of size 1]), 'X_9': Normal([torch.FloatTensor of size 1]), 'Z_10': Categorical([torch.LongTensor of size 1]), 'X_10': Normal([torch.FloatTensor of size 1]), 'Z_11': Categorical([torch.LongTensor of size 1]), 'X_11': Normal([torch.FloatTensor of size 1]), 'Z_12': Categorical([torch.LongTensor of size 1]), 'X_12': Normal([torch.FloatTensor of size 1]), 'Z_13': Categorical([torch.LongTensor of size 1]), 'X_13': Normal([torch.FloatTensor of size 1]), 'Z_14': Categorical([torch.LongTensor of size 1]), 'X_14': Normal([torch.FloatTensor of size 1]), 'Z_15': Categorical([torch.LongTensor of size 1]), 'X_15': Normal([torch.FloatTensor of size 1]), 'Z_16': Categorical([torch.LongTensor of size 1]), 'X_16': Normal([torch.FloatTensor of size 1]), 'Z_17': Categorical([torch.LongTensor of size 1]), 'X_17': Normal([torch.FloatTensor of size 1]), 'Z_18': Categorical([torch.LongTensor of size 1]), 'X_18': Normal([torch.FloatTensor of size 1]), 'Z_19': Categorical([torch.LongTensor of size 1]), 'X_19': Normal([torch.FloatTensor of size 1]), 'Z_20': Categorical([torch.LongTensor of size 1]), 'X_20': Normal([torch.FloatTensor of size 1]), 'Z_21': Categorical([torch.LongTensor of size 1]), 'X_21': Normal([torch.FloatTensor of size 1]), 'Z_22': Categorical([torch.LongTensor of size 1]), 'X_22': Normal([torch.FloatTensor of size 1]), 'Z_23': Categorical([torch.LongTensor of size 1]), 'X_23': Normal([torch.FloatTensor of size 1]), 'Z_24': Categorical([torch.LongTensor of size 1]), 'X_24': Normal([torch.FloatTensor of size 1]), 'Z_25': Categorical([torch.LongTensor of size 1]), 'X_25': Normal([torch.FloatTensor of size 1]), 'Z_26': Categorical([torch.LongTensor of size 1]), 'X_26': Normal([torch.FloatTensor of size 1]), 'Z_27': Categorical([torch.LongTensor of size 1]), 'X_27': Normal([torch.FloatTensor of size 1]), 'Z_28': Categorical([torch.LongTensor of size 1]), 'X_28': Normal([torch.FloatTensor of size 1]), 'Z_29': Categorical([torch.LongTensor of size 1]), 'X_29': Normal([torch.FloatTensor of size 1]), 'Z_30': Categorical([torch.LongTensor of size 1]), 'X_30': Normal([torch.FloatTensor of size 1]), 'Z_31': Categorical([torch.LongTensor of size 1]), 'X_31': Normal([torch.FloatTensor of size 1]), 'Z_32': Categorical([torch.LongTensor of size 1]), 'X_32': Normal([torch.FloatTensor of size 1]), 'Z_33': Categorical([torch.LongTensor of size 1]), 'X_33': Normal([torch.FloatTensor of size 1]), 'Z_34': Categorical([torch.LongTensor of size 1]), 'X_34': Normal([torch.FloatTensor of size 1]), 'Z_35': Categorical([torch.LongTensor of size 1]), 'X_35': Normal([torch.FloatTensor of size 1]), 'Z_36': Categorical([torch.LongTensor of size 1]), 'X_36': Normal([torch.FloatTensor of size 1]), 'Z_37': Categorical([torch.LongTensor of size 1]), 'X_37': Normal([torch.FloatTensor of size 1]), 'Z_38': Categorical([torch.LongTensor of size 1]), 'X_38': Normal([torch.FloatTensor of size 1]), 'Z_39': Categorical([torch.LongTensor of size 1]), 'X_39': Normal([torch.FloatTensor of size 1]), 'Z_40': Categorical([torch.LongTensor of size 1]), 'X_40': Normal([torch.FloatTensor of size 1]), 'Z_41': Categorical([torch.LongTensor of size 1]), 'X_41': Normal([torch.FloatTensor of size 1]), 'Z_42': Categorical([torch.LongTensor of size 1]), 'X_42': Normal([torch.FloatTensor of size 1]), 'Z_43': Categorical([torch.LongTensor of size 1]), 'X_43': Normal([torch.FloatTensor of size 1]), 'Z_44': Categorical([torch.LongTensor of size 1]), 'X_44': Normal([torch.FloatTensor of size 1]), 'Z_45': Categorical([torch.LongTensor of size 1]), 'X_45': Normal([torch.FloatTensor of size 1]), 'Z_46': Categorical([torch.LongTensor of size 1]), 'X_46': Normal([torch.FloatTensor of size 1]), 'Z_47': Categorical([torch.LongTensor of size 1]), 'X_47': Normal([torch.FloatTensor of size 1]), 'Z_48': Categorical([torch.LongTensor of size 1]), 'X_48': Normal([torch.FloatTensor of size 1]), 'Z_49': Categorical([torch.LongTensor of size 1]), 'X_49': Normal([torch.FloatTensor of size 1]), 'Z_50': Categorical([torch.LongTensor of size 1]), 'X_50': Normal([torch.FloatTensor of size 1])}"
      ]
     },
     "execution_count": 5,
     "metadata": {},
     "output_type": "execute_result"
    }
   ],
   "source": [
    "generative"
   ]
  },
  {
   "cell_type": "code",
   "execution_count": 6,
   "metadata": {},
   "outputs": [],
   "source": [
    "num_particles = 5000"
   ]
  },
  {
   "cell_type": "code",
   "execution_count": 7,
   "metadata": {},
   "outputs": [],
   "source": [
    "inference = smc.ParticleTrace(num_particles)"
   ]
  },
  {
   "cell_type": "code",
   "execution_count": 8,
   "metadata": {},
   "outputs": [],
   "source": [
    "smc_step = smc.smc(hmm.hmm_step, hmm.hmm_retrace)"
   ]
  },
  {
   "cell_type": "code",
   "execution_count": 9,
   "metadata": {},
   "outputs": [],
   "source": [
    "pi, _, _, zs = hmm.init_hmm(5, 50, inference)\n",
    "mu = mu.expand(num_particles, 5)\n",
    "sigma = sigma.expand(num_particles, 5)"
   ]
  },
  {
   "cell_type": "code",
   "execution_count": 10,
   "metadata": {},
   "outputs": [],
   "source": [
    "for t in range(zs.shape[1] - 1):\n",
    "    zs, pi, mu, sigma, t, inference = smc_step(zs, pi, mu, sigma, t+1, trace=inference, conditions=generative)"
   ]
  },
  {
   "cell_type": "code",
   "execution_count": 11,
   "metadata": {},
   "outputs": [
    {
     "data": {
      "text/plain": [
       "Trace{'\\\\Pi_0': Dirichlet([torch.FloatTensor of size 5000x5]), '\\\\Pi_1': Dirichlet([torch.FloatTensor of size 5000x5]), '\\\\Pi_2': Dirichlet([torch.FloatTensor of size 5000x5]), '\\\\Pi_3': Dirichlet([torch.FloatTensor of size 5000x5]), '\\\\Pi_4': Dirichlet([torch.FloatTensor of size 5000x5]), '\\\\Pi_5': Dirichlet([torch.FloatTensor of size 5000x5]), '\\\\mu': Normal([torch.FloatTensor of size 5000x5]), '\\\\sigma': LogNormal([torch.FloatTensor of size 5000x5]), 'Z_0': Categorical([torch.LongTensor of size 5000]), 'Z_1': Categorical([torch.LongTensor of size 5000]), 'X_1': Normal([torch.FloatTensor of size 1]), 'Z_2': Categorical([torch.LongTensor of size 5000]), 'X_2': Normal([torch.FloatTensor of size 1]), 'Z_3': Categorical([torch.LongTensor of size 5000]), 'X_3': Normal([torch.FloatTensor of size 1]), 'Z_4': Categorical([torch.LongTensor of size 5000]), 'X_4': Normal([torch.FloatTensor of size 1]), 'Z_5': Categorical([torch.LongTensor of size 5000]), 'X_5': Normal([torch.FloatTensor of size 1]), 'Z_6': Categorical([torch.LongTensor of size 5000]), 'X_6': Normal([torch.FloatTensor of size 1]), 'Z_7': Categorical([torch.LongTensor of size 5000]), 'X_7': Normal([torch.FloatTensor of size 1]), 'Z_8': Categorical([torch.LongTensor of size 5000]), 'X_8': Normal([torch.FloatTensor of size 1]), 'Z_9': Categorical([torch.LongTensor of size 5000]), 'X_9': Normal([torch.FloatTensor of size 1]), 'Z_10': Categorical([torch.LongTensor of size 5000]), 'X_10': Normal([torch.FloatTensor of size 1]), 'Z_11': Categorical([torch.LongTensor of size 5000]), 'X_11': Normal([torch.FloatTensor of size 1]), 'Z_12': Categorical([torch.LongTensor of size 5000]), 'X_12': Normal([torch.FloatTensor of size 1]), 'Z_13': Categorical([torch.LongTensor of size 5000]), 'X_13': Normal([torch.FloatTensor of size 1]), 'Z_14': Categorical([torch.LongTensor of size 5000]), 'X_14': Normal([torch.FloatTensor of size 1]), 'Z_15': Categorical([torch.LongTensor of size 5000]), 'X_15': Normal([torch.FloatTensor of size 1]), 'Z_16': Categorical([torch.LongTensor of size 5000]), 'X_16': Normal([torch.FloatTensor of size 1]), 'Z_17': Categorical([torch.LongTensor of size 5000]), 'X_17': Normal([torch.FloatTensor of size 1]), 'Z_18': Categorical([torch.LongTensor of size 5000]), 'X_18': Normal([torch.FloatTensor of size 1]), 'Z_19': Categorical([torch.LongTensor of size 5000]), 'X_19': Normal([torch.FloatTensor of size 1]), 'Z_20': Categorical([torch.LongTensor of size 5000]), 'X_20': Normal([torch.FloatTensor of size 1]), 'Z_21': Categorical([torch.LongTensor of size 5000]), 'X_21': Normal([torch.FloatTensor of size 1]), 'Z_22': Categorical([torch.LongTensor of size 5000]), 'X_22': Normal([torch.FloatTensor of size 1]), 'Z_23': Categorical([torch.LongTensor of size 5000]), 'X_23': Normal([torch.FloatTensor of size 1]), 'Z_24': Categorical([torch.LongTensor of size 5000]), 'X_24': Normal([torch.FloatTensor of size 1]), 'Z_25': Categorical([torch.LongTensor of size 5000]), 'X_25': Normal([torch.FloatTensor of size 1]), 'Z_26': Categorical([torch.LongTensor of size 5000]), 'X_26': Normal([torch.FloatTensor of size 1]), 'Z_27': Categorical([torch.LongTensor of size 5000]), 'X_27': Normal([torch.FloatTensor of size 1]), 'Z_28': Categorical([torch.LongTensor of size 5000]), 'X_28': Normal([torch.FloatTensor of size 1]), 'Z_29': Categorical([torch.LongTensor of size 5000]), 'X_29': Normal([torch.FloatTensor of size 1]), 'Z_30': Categorical([torch.LongTensor of size 5000]), 'X_30': Normal([torch.FloatTensor of size 1]), 'Z_31': Categorical([torch.LongTensor of size 5000]), 'X_31': Normal([torch.FloatTensor of size 1]), 'Z_32': Categorical([torch.LongTensor of size 5000]), 'X_32': Normal([torch.FloatTensor of size 1]), 'Z_33': Categorical([torch.LongTensor of size 5000]), 'X_33': Normal([torch.FloatTensor of size 1]), 'Z_34': Categorical([torch.LongTensor of size 5000]), 'X_34': Normal([torch.FloatTensor of size 1]), 'Z_35': Categorical([torch.LongTensor of size 5000]), 'X_35': Normal([torch.FloatTensor of size 1]), 'Z_36': Categorical([torch.LongTensor of size 5000]), 'X_36': Normal([torch.FloatTensor of size 1]), 'Z_37': Categorical([torch.LongTensor of size 5000]), 'X_37': Normal([torch.FloatTensor of size 1]), 'Z_38': Categorical([torch.LongTensor of size 5000]), 'X_38': Normal([torch.FloatTensor of size 1]), 'Z_39': Categorical([torch.LongTensor of size 5000]), 'X_39': Normal([torch.FloatTensor of size 1]), 'Z_40': Categorical([torch.LongTensor of size 5000]), 'X_40': Normal([torch.FloatTensor of size 1]), 'Z_41': Categorical([torch.LongTensor of size 5000]), 'X_41': Normal([torch.FloatTensor of size 1]), 'Z_42': Categorical([torch.LongTensor of size 5000]), 'X_42': Normal([torch.FloatTensor of size 1]), 'Z_43': Categorical([torch.LongTensor of size 5000]), 'X_43': Normal([torch.FloatTensor of size 1]), 'Z_44': Categorical([torch.LongTensor of size 5000]), 'X_44': Normal([torch.FloatTensor of size 1]), 'Z_45': Categorical([torch.LongTensor of size 5000]), 'X_45': Normal([torch.FloatTensor of size 1]), 'Z_46': Categorical([torch.LongTensor of size 5000]), 'X_46': Normal([torch.FloatTensor of size 1]), 'Z_47': Categorical([torch.LongTensor of size 5000]), 'X_47': Normal([torch.FloatTensor of size 1]), 'Z_48': Categorical([torch.LongTensor of size 5000]), 'X_48': Normal([torch.FloatTensor of size 1]), 'Z_49': Categorical([torch.LongTensor of size 5000]), 'X_49': Normal([torch.FloatTensor of size 1]), 'Z_50': Categorical([torch.LongTensor of size 5000]), 'X_50': Normal([torch.FloatTensor of size 1])}"
      ]
     },
     "execution_count": 11,
     "metadata": {},
     "output_type": "execute_result"
    }
   ],
   "source": [
    "inference"
   ]
  },
  {
   "cell_type": "code",
   "execution_count": 12,
   "metadata": {},
   "outputs": [
    {
     "data": {
      "text/plain": [
       "Trace{'Z_1': Categorical([torch.LongTensor of size 1]), 'X_1': Normal([torch.FloatTensor of size 1]), 'Z_2': Categorical([torch.LongTensor of size 1]), 'X_2': Normal([torch.FloatTensor of size 1]), 'Z_3': Categorical([torch.LongTensor of size 1]), 'X_3': Normal([torch.FloatTensor of size 1]), 'Z_4': Categorical([torch.LongTensor of size 1]), 'X_4': Normal([torch.FloatTensor of size 1]), 'Z_5': Categorical([torch.LongTensor of size 1]), 'X_5': Normal([torch.FloatTensor of size 1]), 'Z_6': Categorical([torch.LongTensor of size 1]), 'X_6': Normal([torch.FloatTensor of size 1]), 'Z_7': Categorical([torch.LongTensor of size 1]), 'X_7': Normal([torch.FloatTensor of size 1]), 'Z_8': Categorical([torch.LongTensor of size 1]), 'X_8': Normal([torch.FloatTensor of size 1]), 'Z_9': Categorical([torch.LongTensor of size 1]), 'X_9': Normal([torch.FloatTensor of size 1]), 'Z_10': Categorical([torch.LongTensor of size 1]), 'X_10': Normal([torch.FloatTensor of size 1]), 'Z_11': Categorical([torch.LongTensor of size 1]), 'X_11': Normal([torch.FloatTensor of size 1]), 'Z_12': Categorical([torch.LongTensor of size 1]), 'X_12': Normal([torch.FloatTensor of size 1]), 'Z_13': Categorical([torch.LongTensor of size 1]), 'X_13': Normal([torch.FloatTensor of size 1]), 'Z_14': Categorical([torch.LongTensor of size 1]), 'X_14': Normal([torch.FloatTensor of size 1]), 'Z_15': Categorical([torch.LongTensor of size 1]), 'X_15': Normal([torch.FloatTensor of size 1]), 'Z_16': Categorical([torch.LongTensor of size 1]), 'X_16': Normal([torch.FloatTensor of size 1]), 'Z_17': Categorical([torch.LongTensor of size 1]), 'X_17': Normal([torch.FloatTensor of size 1]), 'Z_18': Categorical([torch.LongTensor of size 1]), 'X_18': Normal([torch.FloatTensor of size 1]), 'Z_19': Categorical([torch.LongTensor of size 1]), 'X_19': Normal([torch.FloatTensor of size 1]), 'Z_20': Categorical([torch.LongTensor of size 1]), 'X_20': Normal([torch.FloatTensor of size 1]), 'Z_21': Categorical([torch.LongTensor of size 1]), 'X_21': Normal([torch.FloatTensor of size 1]), 'Z_22': Categorical([torch.LongTensor of size 1]), 'X_22': Normal([torch.FloatTensor of size 1]), 'Z_23': Categorical([torch.LongTensor of size 1]), 'X_23': Normal([torch.FloatTensor of size 1]), 'Z_24': Categorical([torch.LongTensor of size 1]), 'X_24': Normal([torch.FloatTensor of size 1]), 'Z_25': Categorical([torch.LongTensor of size 1]), 'X_25': Normal([torch.FloatTensor of size 1]), 'Z_26': Categorical([torch.LongTensor of size 1]), 'X_26': Normal([torch.FloatTensor of size 1]), 'Z_27': Categorical([torch.LongTensor of size 1]), 'X_27': Normal([torch.FloatTensor of size 1]), 'Z_28': Categorical([torch.LongTensor of size 1]), 'X_28': Normal([torch.FloatTensor of size 1]), 'Z_29': Categorical([torch.LongTensor of size 1]), 'X_29': Normal([torch.FloatTensor of size 1]), 'Z_30': Categorical([torch.LongTensor of size 1]), 'X_30': Normal([torch.FloatTensor of size 1]), 'Z_31': Categorical([torch.LongTensor of size 1]), 'X_31': Normal([torch.FloatTensor of size 1]), 'Z_32': Categorical([torch.LongTensor of size 1]), 'X_32': Normal([torch.FloatTensor of size 1]), 'Z_33': Categorical([torch.LongTensor of size 1]), 'X_33': Normal([torch.FloatTensor of size 1]), 'Z_34': Categorical([torch.LongTensor of size 1]), 'X_34': Normal([torch.FloatTensor of size 1]), 'Z_35': Categorical([torch.LongTensor of size 1]), 'X_35': Normal([torch.FloatTensor of size 1]), 'Z_36': Categorical([torch.LongTensor of size 1]), 'X_36': Normal([torch.FloatTensor of size 1]), 'Z_37': Categorical([torch.LongTensor of size 1]), 'X_37': Normal([torch.FloatTensor of size 1]), 'Z_38': Categorical([torch.LongTensor of size 1]), 'X_38': Normal([torch.FloatTensor of size 1]), 'Z_39': Categorical([torch.LongTensor of size 1]), 'X_39': Normal([torch.FloatTensor of size 1]), 'Z_40': Categorical([torch.LongTensor of size 1]), 'X_40': Normal([torch.FloatTensor of size 1]), 'Z_41': Categorical([torch.LongTensor of size 1]), 'X_41': Normal([torch.FloatTensor of size 1]), 'Z_42': Categorical([torch.LongTensor of size 1]), 'X_42': Normal([torch.FloatTensor of size 1]), 'Z_43': Categorical([torch.LongTensor of size 1]), 'X_43': Normal([torch.FloatTensor of size 1]), 'Z_44': Categorical([torch.LongTensor of size 1]), 'X_44': Normal([torch.FloatTensor of size 1]), 'Z_45': Categorical([torch.LongTensor of size 1]), 'X_45': Normal([torch.FloatTensor of size 1]), 'Z_46': Categorical([torch.LongTensor of size 1]), 'X_46': Normal([torch.FloatTensor of size 1]), 'Z_47': Categorical([torch.LongTensor of size 1]), 'X_47': Normal([torch.FloatTensor of size 1]), 'Z_48': Categorical([torch.LongTensor of size 1]), 'X_48': Normal([torch.FloatTensor of size 1]), 'Z_49': Categorical([torch.LongTensor of size 1]), 'X_49': Normal([torch.FloatTensor of size 1]), 'Z_50': Categorical([torch.LongTensor of size 1]), 'X_50': Normal([torch.FloatTensor of size 1])}"
      ]
     },
     "execution_count": 12,
     "metadata": {},
     "output_type": "execute_result"
    }
   ],
   "source": [
    "generative"
   ]
  },
  {
   "cell_type": "code",
   "execution_count": 13,
   "metadata": {},
   "outputs": [
    {
     "name": "stdout",
     "output_type": "stream",
     "text": [
      "SMC accuracy at time 1: 0.329000\n",
      "SMC accuracy at time 2: 0.851200\n",
      "SMC accuracy at time 3: 0.887400\n",
      "SMC accuracy at time 4: 0.894000\n",
      "SMC accuracy at time 5: 0.984800\n",
      "SMC accuracy at time 6: 0.420400\n",
      "SMC accuracy at time 7: 0.765200\n",
      "SMC accuracy at time 8: 0.543400\n",
      "SMC accuracy at time 9: 0.978200\n",
      "SMC accuracy at time 10: 0.998400\n",
      "SMC accuracy at time 11: 0.570000\n",
      "SMC accuracy at time 12: 0.234800\n",
      "SMC accuracy at time 13: 0.796000\n",
      "SMC accuracy at time 14: 0.992200\n",
      "SMC accuracy at time 15: 0.877000\n",
      "SMC accuracy at time 16: 0.182400\n",
      "SMC accuracy at time 17: 0.920200\n",
      "SMC accuracy at time 18: 0.784400\n",
      "SMC accuracy at time 19: 0.968000\n",
      "SMC accuracy at time 20: 1.000000\n",
      "SMC accuracy at time 21: 0.243400\n",
      "SMC accuracy at time 22: 0.426400\n",
      "SMC accuracy at time 23: 0.217200\n",
      "SMC accuracy at time 24: 0.588200\n",
      "SMC accuracy at time 25: 0.880400\n",
      "SMC accuracy at time 26: 0.802600\n",
      "SMC accuracy at time 27: 0.600200\n",
      "SMC accuracy at time 28: 0.060200\n",
      "SMC accuracy at time 29: 0.841800\n",
      "SMC accuracy at time 30: 1.000000\n",
      "SMC accuracy at time 31: 0.269200\n",
      "SMC accuracy at time 32: 0.748800\n",
      "SMC accuracy at time 33: 0.253400\n",
      "SMC accuracy at time 34: 0.548000\n",
      "SMC accuracy at time 35: 0.611400\n",
      "SMC accuracy at time 36: 0.344000\n",
      "SMC accuracy at time 37: 0.839600\n",
      "SMC accuracy at time 38: 0.826600\n",
      "SMC accuracy at time 39: 0.866000\n",
      "SMC accuracy at time 40: 0.834600\n",
      "SMC accuracy at time 41: 0.739200\n",
      "SMC accuracy at time 42: 0.671000\n",
      "SMC accuracy at time 43: 0.724400\n",
      "SMC accuracy at time 44: 0.611000\n",
      "SMC accuracy at time 45: 0.784200\n",
      "SMC accuracy at time 46: 0.057000\n",
      "SMC accuracy at time 47: 0.127600\n",
      "SMC accuracy at time 48: 0.781000\n",
      "SMC accuracy at time 49: 0.316000\n",
      "SMC accuracy at time 50: 0.998600\n"
     ]
    }
   ],
   "source": [
    "for t in range(1, zs.shape[1]):\n",
    "    key = 'Z_%d' % t\n",
    "    accuracy = (inference[key].value == generative[key].value).sum().item()\n",
    "    print('SMC accuracy at time %d: %f' % (t, accuracy / num_particles))"
   ]
  },
  {
   "cell_type": "code",
   "execution_count": null,
   "metadata": {},
   "outputs": [],
   "source": []
  },
  {
   "cell_type": "code",
   "execution_count": null,
   "metadata": {},
   "outputs": [],
   "source": []
  }
 ],
 "metadata": {
  "kernelspec": {
   "display_name": "Python [conda env:funcytorch]",
   "language": "python",
   "name": "conda-env-funcytorch-py"
  },
  "language_info": {
   "codemirror_mode": {
    "name": "ipython",
    "version": 3
   },
   "file_extension": ".py",
   "mimetype": "text/x-python",
   "name": "python",
   "nbconvert_exporter": "python",
   "pygments_lexer": "ipython3",
   "version": "3.6.5"
  }
 },
 "nbformat": 4,
 "nbformat_minor": 2
}
