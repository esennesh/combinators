{
 "cells": [
  {
   "cell_type": "code",
   "execution_count": 1,
   "metadata": {},
   "outputs": [],
   "source": [
    "import logging\n",
    "\n",
    "import probtorch\n",
    "import torch\n",
    "\n",
    "import combinators\n",
    "import hmm\n",
    "import importance\n",
    "import mcmc\n",
    "import trace_tries\n",
    "import utils\n",
    "\n",
    "logging.basicConfig(format='%(asctime)s %(message)s', datefmt='%m/%d/%Y %H:%M:%S',\n",
    "                    level=logging.INFO)"
   ]
  },
  {
   "cell_type": "code",
   "execution_count": 2,
   "metadata": {},
   "outputs": [],
   "source": [
    "hmm_params = utils.vardict({\n",
    "    'mu': {\n",
    "        'loc': torch.arange(5, dtype=torch.float) * 2,\n",
    "        'scale': torch.ones(5) * 0.25,\n",
    "    },\n",
    "    'sigma': {\n",
    "        'loc': torch.ones(5),\n",
    "        'scale': torch.ones(5) * 0.25,\n",
    "    }\n",
    "})\n",
    "for k in range(6):\n",
    "    hmm_params['Pi_%d' % k] = {'concentration': torch.ones(5)}"
   ]
  },
  {
   "cell_type": "code",
   "execution_count": 3,
   "metadata": {},
   "outputs": [],
   "source": [
    "init_hmm = combinators.HyperPopulation(hmm.init_hmm, (1,), hyper=hmm_params)\n",
    "hmm_step = combinators.PrimitiveCall(hmm.hmm_step)\n",
    "hmm_run = combinators.Reduce(hmm_step, generator=lambda: range(50), initializer=init_hmm)"
   ]
  },
  {
   "cell_type": "code",
   "execution_count": 4,
   "metadata": {},
   "outputs": [],
   "source": [
    "(z_last, mu, sigma, pi, pi0), generative = hmm_run()"
   ]
  },
  {
   "cell_type": "code",
   "execution_count": 5,
   "metadata": {},
   "outputs": [],
   "source": [
    "data = {k.rpartition('/')[-1]: rv.value for (k, rv) in generative.filter(lambda k, rv: 'X_' in k)}"
   ]
  },
  {
   "cell_type": "code",
   "execution_count": 6,
   "metadata": {},
   "outputs": [],
   "source": [
    "num_particles = 250"
   ]
  },
  {
   "cell_type": "code",
   "execution_count": 7,
   "metadata": {},
   "outputs": [],
   "source": [
    "smc_hmm_params = utils.vardict({\n",
    "    'mu': {\n",
    "        'loc': torch.arange(5, dtype=torch.float) * 2,\n",
    "        'scale': torch.ones(5),\n",
    "    },\n",
    "    'sigma': {\n",
    "        'loc': torch.ones(5),\n",
    "        'scale': torch.ones(5),\n",
    "    }\n",
    "})\n",
    "for k in range(6):\n",
    "    smc_hmm_params['Pi_%d' % k] = {'concentration': torch.ones(5)}"
   ]
  },
  {
   "cell_type": "code",
   "execution_count": 8,
   "metadata": {},
   "outputs": [],
   "source": [
    "init_hmm = combinators.HyperPopulation(hmm.init_hmm, (num_particles,), trainable=smc_hmm_params)"
   ]
  },
  {
   "cell_type": "code",
   "execution_count": 9,
   "metadata": {},
   "outputs": [],
   "source": [
    "smc_hmm = importance.smc(hmm_step, (num_particles,), lambda: range(50), initializer=init_hmm)"
   ]
  },
  {
   "cell_type": "code",
   "execution_count": 10,
   "metadata": {},
   "outputs": [],
   "source": [
    "particle_mh = mcmc.LightweightMH(smc_hmm)"
   ]
  },
  {
   "cell_type": "code",
   "execution_count": 11,
   "metadata": {},
   "outputs": [],
   "source": [
    "samples, inference = particle_mh(data=data, trace=trace_tries.HierarchicalTrace())"
   ]
  },
  {
   "cell_type": "code",
   "execution_count": 12,
   "metadata": {},
   "outputs": [
    {
     "name": "stdout",
     "output_type": "stream",
     "text": [
      "SMC accuracy at time 1: 0.680000\n",
      "SMC accuracy at time 2: 0.896000\n",
      "SMC accuracy at time 3: 0.408000\n",
      "SMC accuracy at time 4: 0.856000\n",
      "SMC accuracy at time 5: 0.500000\n",
      "SMC accuracy at time 6: 0.464000\n",
      "SMC accuracy at time 7: 0.216000\n",
      "SMC accuracy at time 8: 0.280000\n",
      "SMC accuracy at time 9: 0.832000\n",
      "SMC accuracy at time 10: 0.040000\n",
      "SMC accuracy at time 11: 0.872000\n",
      "SMC accuracy at time 12: 0.648000\n",
      "SMC accuracy at time 13: 0.616000\n",
      "SMC accuracy at time 14: 0.352000\n",
      "SMC accuracy at time 15: 0.616000\n",
      "SMC accuracy at time 16: 0.316000\n",
      "SMC accuracy at time 17: 0.392000\n",
      "SMC accuracy at time 18: 0.788000\n",
      "SMC accuracy at time 19: 0.644000\n",
      "SMC accuracy at time 20: 0.828000\n",
      "SMC accuracy at time 21: 0.152000\n",
      "SMC accuracy at time 22: 0.972000\n",
      "SMC accuracy at time 23: 0.688000\n",
      "SMC accuracy at time 24: 0.760000\n",
      "SMC accuracy at time 25: 0.928000\n",
      "SMC accuracy at time 26: 0.316000\n",
      "SMC accuracy at time 27: 0.984000\n",
      "SMC accuracy at time 28: 0.352000\n",
      "SMC accuracy at time 29: 0.392000\n",
      "SMC accuracy at time 30: 0.700000\n",
      "SMC accuracy at time 31: 0.984000\n",
      "SMC accuracy at time 32: 0.364000\n",
      "SMC accuracy at time 33: 0.920000\n",
      "SMC accuracy at time 34: 0.444000\n",
      "SMC accuracy at time 35: 0.864000\n",
      "SMC accuracy at time 36: 0.988000\n",
      "SMC accuracy at time 37: 0.516000\n",
      "SMC accuracy at time 38: 0.572000\n",
      "SMC accuracy at time 39: 0.432000\n",
      "SMC accuracy at time 40: 0.840000\n",
      "SMC accuracy at time 41: 0.836000\n",
      "SMC accuracy at time 42: 0.348000\n",
      "SMC accuracy at time 43: 0.392000\n",
      "SMC accuracy at time 44: 0.792000\n",
      "SMC accuracy at time 45: 0.664000\n",
      "SMC accuracy at time 46: 0.744000\n",
      "SMC accuracy at time 47: 0.004000\n",
      "SMC accuracy at time 48: 0.520000\n",
      "SMC accuracy at time 49: 0.856000\n",
      "SMC accuracy at time 50: 0.024000\n"
     ]
    }
   ],
   "source": [
    "for t in range(50):\n",
    "    t += 1\n",
    "    key = list(filter(lambda key: ('Z_%d' % t) in key, generative.keys()))[0]\n",
    "    accuracy = (inference[key].value == generative[key].value).to(dtype=torch.float).mean()\n",
    "    print('SMC accuracy at time %d: %f' % (t, accuracy))"
   ]
  },
  {
   "cell_type": "code",
   "execution_count": null,
   "metadata": {},
   "outputs": [],
   "source": []
  },
  {
   "cell_type": "code",
   "execution_count": null,
   "metadata": {},
   "outputs": [],
   "source": []
  }
 ],
 "metadata": {
  "kernelspec": {
   "display_name": "Python [conda env:funcytorch]",
   "language": "python",
   "name": "conda-env-funcytorch-py"
  },
  "language_info": {
   "codemirror_mode": {
    "name": "ipython",
    "version": 3
   },
   "file_extension": ".py",
   "mimetype": "text/x-python",
   "name": "python",
   "nbconvert_exporter": "python",
   "pygments_lexer": "ipython3",
   "version": "3.6.5"
  }
 },
 "nbformat": 4,
 "nbformat_minor": 2
}
