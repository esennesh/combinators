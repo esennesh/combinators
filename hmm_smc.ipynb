{
 "cells": [
  {
   "cell_type": "code",
   "execution_count": 1,
   "metadata": {},
   "outputs": [],
   "source": [
    "import logging\n",
    "\n",
    "import probtorch\n",
    "import torch\n",
    "\n",
    "import combinators\n",
    "import hmm\n",
    "import importance\n",
    "import smc\n",
    "import utils\n",
    "\n",
    "logging.basicConfig(format='%(asctime)s %(message)s', datefmt='%m/%d/%Y %H:%M:%S',\n",
    "                    level=logging.INFO)"
   ]
  },
  {
   "cell_type": "code",
   "execution_count": 2,
   "metadata": {},
   "outputs": [],
   "source": [
    "generative = combinators.ParticleTrace(1)"
   ]
  },
  {
   "cell_type": "code",
   "execution_count": 3,
   "metadata": {},
   "outputs": [],
   "source": [
    "hmm_params = utils.vardict({\n",
    "    'mu': {\n",
    "        'loc': torch.arange(5, dtype=torch.float).unsqueeze(0) * 2,\n",
    "        'scale': torch.ones(1, 5) * 0.25,\n",
    "    },\n",
    "    'sigma': {\n",
    "        'loc': torch.ones(1, 5),\n",
    "        'scale': torch.ones(1, 5) * 0.25,\n",
    "    }\n",
    "})\n",
    "for k in range(6):\n",
    "    hmm_params['Pi_%d' % k] = {'concentration': torch.ones(1, 5)}"
   ]
  },
  {
   "cell_type": "code",
   "execution_count": 4,
   "metadata": {},
   "outputs": [],
   "source": [
    "init_hmm = combinators.Model(f=hmm.init_hmm, hyper=hmm_params)"
   ]
  },
  {
   "cell_type": "code",
   "execution_count": 5,
   "metadata": {},
   "outputs": [],
   "source": [
    "z0, mu, sigma, pi, pi0 = init_hmm(trace=generative)"
   ]
  },
  {
   "cell_type": "code",
   "execution_count": 6,
   "metadata": {},
   "outputs": [],
   "source": [
    "hmm_step = combinators.Model(f=hmm.hmm_step)\n",
    "hmm_run = combinators.Model.sequence(hmm_step, 50, z0, mu, sigma, pi, pi0)"
   ]
  },
  {
   "cell_type": "code",
   "execution_count": 7,
   "metadata": {},
   "outputs": [],
   "source": [
    "z_last, mu, sigma, pi, pi0 = hmm_run(trace=generative)"
   ]
  },
  {
   "cell_type": "code",
   "execution_count": 8,
   "metadata": {},
   "outputs": [],
   "source": [
    "generative = generative.squeeze()"
   ]
  },
  {
   "cell_type": "code",
   "execution_count": 9,
   "metadata": {},
   "outputs": [],
   "source": [
    "num_particles = 100"
   ]
  },
  {
   "cell_type": "code",
   "execution_count": 10,
   "metadata": {},
   "outputs": [],
   "source": [
    "smc_hmm_params = utils.vardict({\n",
    "    'mu': {\n",
    "        'loc': torch.arange(5, dtype=torch.float) * 2,\n",
    "        'scale': torch.ones(5),\n",
    "    },\n",
    "    'sigma': {\n",
    "        'loc': torch.ones(5),\n",
    "        'scale': torch.ones(5),\n",
    "    }\n",
    "})\n",
    "for k in range(6):\n",
    "    smc_hmm_params['Pi_%d' % k] = {'concentration': torch.ones(5)}"
   ]
  },
  {
   "cell_type": "code",
   "execution_count": 11,
   "metadata": {},
   "outputs": [],
   "source": [
    "smc_hmm = smc.SequentialMonteCarlo(hmm.hmm_step, 50)"
   ]
  },
  {
   "cell_type": "code",
   "execution_count": 12,
   "metadata": {},
   "outputs": [],
   "source": [
    "init_hmm = combinators.Model(hmm.init_hmm, trainable=smc_hmm_params)"
   ]
  },
  {
   "cell_type": "code",
   "execution_count": 13,
   "metadata": {},
   "outputs": [],
   "source": [
    "particle_mh = smc.ParticleMH(init_hmm, smc_hmm, num_particles)"
   ]
  },
  {
   "cell_type": "code",
   "execution_count": 14,
   "metadata": {},
   "outputs": [],
   "source": [
    "samples, elbos = particle_mh(trace=importance.ResamplerTrace(num_particles), guide=generative)\n",
    "inference = particle_mh.trace"
   ]
  },
  {
   "cell_type": "code",
   "execution_count": 15,
   "metadata": {},
   "outputs": [
    {
     "name": "stdout",
     "output_type": "stream",
     "text": [
      "SMC accuracy at time 1: 1.000000\n",
      "SMC accuracy at time 2: 0.000000\n",
      "SMC accuracy at time 3: 0.000000\n",
      "SMC accuracy at time 4: 1.000000\n",
      "SMC accuracy at time 5: 0.000000\n",
      "SMC accuracy at time 6: 1.000000\n",
      "SMC accuracy at time 7: 0.000000\n",
      "SMC accuracy at time 8: 0.000000\n",
      "SMC accuracy at time 9: 1.000000\n",
      "SMC accuracy at time 10: 1.000000\n",
      "SMC accuracy at time 11: 1.000000\n",
      "SMC accuracy at time 12: 0.000000\n",
      "SMC accuracy at time 13: 1.000000\n",
      "SMC accuracy at time 14: 1.000000\n",
      "SMC accuracy at time 15: 0.000000\n",
      "SMC accuracy at time 16: 1.000000\n",
      "SMC accuracy at time 17: 1.000000\n",
      "SMC accuracy at time 18: 1.000000\n",
      "SMC accuracy at time 19: 1.000000\n",
      "SMC accuracy at time 20: 1.000000\n",
      "SMC accuracy at time 21: 1.000000\n",
      "SMC accuracy at time 22: 1.000000\n",
      "SMC accuracy at time 23: 1.000000\n",
      "SMC accuracy at time 24: 0.150000\n",
      "SMC accuracy at time 25: 1.000000\n",
      "SMC accuracy at time 26: 1.000000\n",
      "SMC accuracy at time 27: 0.150000\n",
      "SMC accuracy at time 28: 0.000000\n",
      "SMC accuracy at time 29: 1.000000\n",
      "SMC accuracy at time 30: 1.000000\n",
      "SMC accuracy at time 31: 0.400000\n",
      "SMC accuracy at time 32: 0.000000\n",
      "SMC accuracy at time 33: 0.550000\n",
      "SMC accuracy at time 34: 0.620000\n",
      "SMC accuracy at time 35: 0.170000\n",
      "SMC accuracy at time 36: 0.700000\n",
      "SMC accuracy at time 37: 0.980000\n",
      "SMC accuracy at time 38: 0.950000\n",
      "SMC accuracy at time 39: 0.400000\n",
      "SMC accuracy at time 40: 0.620000\n",
      "SMC accuracy at time 41: 0.150000\n",
      "SMC accuracy at time 42: 0.350000\n",
      "SMC accuracy at time 43: 0.000000\n",
      "SMC accuracy at time 44: 0.620000\n",
      "SMC accuracy at time 45: 0.910000\n",
      "SMC accuracy at time 46: 0.900000\n",
      "SMC accuracy at time 47: 0.570000\n",
      "SMC accuracy at time 48: 0.350000\n",
      "SMC accuracy at time 49: 0.040000\n",
      "SMC accuracy at time 50: 0.370000\n"
     ]
    }
   ],
   "source": [
    "for t in range(50):\n",
    "    t += 1\n",
    "    key = 'Z_%d' % t\n",
    "    accuracy = (inference[key].value == generative[key].value).sum().to(dtype=torch.float) / inference.num_particles\n",
    "    print('SMC accuracy at time %d: %f' % (t, accuracy))"
   ]
  },
  {
   "cell_type": "code",
   "execution_count": 16,
   "metadata": {},
   "outputs": [
    {
     "data": {
      "text/plain": [
       "tensor([-248.2384, -241.0446, -241.0446, -237.8353, -237.8353, -237.8353,\n",
       "        -237.8353, -237.8353, -237.8353, -237.8353, -237.8353, -234.5399,\n",
       "        -234.5399, -234.5399, -234.5399, -234.5399, -234.5399, -234.5399,\n",
       "        -234.5399, -234.5399, -234.5399, -234.9090, -234.9090, -234.9090,\n",
       "        -234.9090, -234.9090, -234.9090, -234.9090, -234.9090, -234.9090,\n",
       "        -234.9090, -234.9090, -234.9090, -234.9090, -234.9090, -234.9090,\n",
       "        -234.9090, -234.9090, -234.9090, -234.9090, -234.9090, -234.9090,\n",
       "        -234.9090, -232.4838, -232.4838, -232.4838, -226.3694, -226.3694,\n",
       "        -226.3694, -226.3694, -226.3694, -226.3694, -226.3694, -226.3694,\n",
       "        -226.3694, -226.3694, -226.3694, -226.3694, -226.3694, -226.3694,\n",
       "        -226.3694, -226.3694, -226.3694, -226.3694, -226.3694, -226.3694,\n",
       "        -226.3694, -226.3694, -226.3694, -226.3694, -226.3694, -226.3694,\n",
       "        -226.3694, -226.3694, -226.3694, -226.3694, -226.3694, -226.3694,\n",
       "        -226.3694, -226.3694, -226.3694, -226.3694, -226.3694, -226.3694,\n",
       "        -226.3694, -226.3694, -226.3694, -226.3694, -226.3694, -226.3694,\n",
       "        -226.3694, -226.3694, -226.3694, -226.3694, -226.3694, -226.3694,\n",
       "        -226.3694, -226.3694, -226.3694, -226.3694], grad_fn=<CopySlices>)"
      ]
     },
     "execution_count": 16,
     "metadata": {},
     "output_type": "execute_result"
    }
   ],
   "source": [
    "elbos"
   ]
  },
  {
   "cell_type": "code",
   "execution_count": null,
   "metadata": {},
   "outputs": [],
   "source": []
  }
 ],
 "metadata": {
  "kernelspec": {
   "display_name": "Python [conda env:funcytorch]",
   "language": "python",
   "name": "conda-env-funcytorch-py"
  },
  "language_info": {
   "codemirror_mode": {
    "name": "ipython",
    "version": 3
   },
   "file_extension": ".py",
   "mimetype": "text/x-python",
   "name": "python",
   "nbconvert_exporter": "python",
   "pygments_lexer": "ipython3",
   "version": "3.6.5"
  }
 },
 "nbformat": 4,
 "nbformat_minor": 2
}
