{
 "cells": [
  {
   "cell_type": "code",
   "execution_count": 1,
   "metadata": {},
   "outputs": [],
   "source": [
    "import logging\n",
    "\n",
    "import probtorch\n",
    "import torch\n",
    "\n",
    "import combinators\n",
    "import hmm\n",
    "import importance\n",
    "import mcmc\n",
    "import trace_tries\n",
    "import utils\n",
    "\n",
    "logging.basicConfig(format='%(asctime)s %(message)s', datefmt='%m/%d/%Y %H:%M:%S',\n",
    "                    level=logging.INFO)"
   ]
  },
  {
   "cell_type": "code",
   "execution_count": 2,
   "metadata": {},
   "outputs": [],
   "source": [
    "hmm_params = utils.vardict({\n",
    "    'mu': {\n",
    "        'loc': torch.arange(5, dtype=torch.float) * 2,\n",
    "        'scale': torch.ones(5) * 0.25,\n",
    "    },\n",
    "    'sigma': {\n",
    "        'loc': torch.ones(5),\n",
    "        'scale': torch.ones(5) * 0.25,\n",
    "    }\n",
    "})\n",
    "for k in range(6):\n",
    "    hmm_params['Pi_%d' % k] = {'concentration': torch.ones(5)}"
   ]
  },
  {
   "cell_type": "code",
   "execution_count": 3,
   "metadata": {},
   "outputs": [],
   "source": [
    "init_hmm = combinators.HyperPopulation(hmm.init_hmm, (1,), hyper=hmm_params)\n",
    "hmm_step = combinators.PrimitiveCall(hmm.hmm_step)\n",
    "hmm_run = combinators.Reduce(hmm_step, generator=lambda: range(50), initializer=init_hmm)"
   ]
  },
  {
   "cell_type": "code",
   "execution_count": 4,
   "metadata": {},
   "outputs": [],
   "source": [
    "(z_last, mu, sigma, pi, pi0), generative = hmm_run()"
   ]
  },
  {
   "cell_type": "code",
   "execution_count": 5,
   "metadata": {},
   "outputs": [],
   "source": [
    "data = {k.rpartition('/')[-1]: rv.value for (k, rv) in generative.filter(lambda k, rv: 'X_' in k)}"
   ]
  },
  {
   "cell_type": "code",
   "execution_count": 6,
   "metadata": {},
   "outputs": [],
   "source": [
    "num_particles = 250"
   ]
  },
  {
   "cell_type": "code",
   "execution_count": 7,
   "metadata": {},
   "outputs": [],
   "source": [
    "smc_hmm_params = utils.vardict({\n",
    "    'mu': {\n",
    "        'loc': torch.arange(5, dtype=torch.float) * 2,\n",
    "        'scale': torch.ones(5),\n",
    "    },\n",
    "    'sigma': {\n",
    "        'loc': torch.ones(5),\n",
    "        'scale': torch.ones(5),\n",
    "    }\n",
    "})\n",
    "for k in range(6):\n",
    "    smc_hmm_params['Pi_%d' % k] = {'concentration': torch.ones(5)}"
   ]
  },
  {
   "cell_type": "code",
   "execution_count": 8,
   "metadata": {},
   "outputs": [],
   "source": [
    "init_hmm = combinators.HyperPopulation(hmm.init_hmm, (num_particles,), trainable=smc_hmm_params)"
   ]
  },
  {
   "cell_type": "code",
   "execution_count": 9,
   "metadata": {},
   "outputs": [],
   "source": [
    "smc_hmm = importance.smc(hmm_step, (num_particles,), lambda: range(50), initializer=init_hmm)"
   ]
  },
  {
   "cell_type": "code",
   "execution_count": 10,
   "metadata": {},
   "outputs": [],
   "source": [
    "particle_mh = mcmc.IndependentMH(smc_hmm, num_particles*10)"
   ]
  },
  {
   "cell_type": "code",
   "execution_count": null,
   "metadata": {},
   "outputs": [],
   "source": [
    "samples, inference = particle_mh(trace=trace_tries.HierarchicalTrace(observations=utils.dict_lookup(data)))"
   ]
  },
  {
   "cell_type": "code",
   "execution_count": null,
   "metadata": {},
   "outputs": [],
   "source": [
    "for t in range(50):\n",
    "    t += 1\n",
    "    key = 'Z_%d' % t\n",
    "    accuracy = (inference[key].value == generative[key].value).sum().to(dtype=torch.float) / inference.num_particles\n",
    "    print('SMC accuracy at time %d: %f' % (t, accuracy))"
   ]
  },
  {
   "cell_type": "code",
   "execution_count": null,
   "metadata": {},
   "outputs": [],
   "source": []
  },
  {
   "cell_type": "code",
   "execution_count": null,
   "metadata": {},
   "outputs": [],
   "source": []
  }
 ],
 "metadata": {
  "kernelspec": {
   "display_name": "Python [conda env:funcytorch]",
   "language": "python",
   "name": "conda-env-funcytorch-py"
  },
  "language_info": {
   "codemirror_mode": {
    "name": "ipython",
    "version": 3
   },
   "file_extension": ".py",
   "mimetype": "text/x-python",
   "name": "python",
   "nbconvert_exporter": "python",
   "pygments_lexer": "ipython3",
   "version": "3.6.6"
  }
 },
 "nbformat": 4,
 "nbformat_minor": 2
}
