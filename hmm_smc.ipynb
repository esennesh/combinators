{
 "cells": [
  {
   "cell_type": "code",
   "execution_count": 1,
   "metadata": {},
   "outputs": [],
   "source": [
    "import logging\n",
    "\n",
    "import probtorch\n",
    "import torch\n",
    "\n",
    "import combinators\n",
    "import hmm\n",
    "import importance\n",
    "import mcmc\n",
    "import utils\n",
    "\n",
    "logging.basicConfig(format='%(asctime)s %(message)s', datefmt='%m/%d/%Y %H:%M:%S',\n",
    "                    level=logging.INFO)"
   ]
  },
  {
   "cell_type": "code",
   "execution_count": 2,
   "metadata": {},
   "outputs": [],
   "source": [
    "generative = combinators.BroadcastingTrace(1)"
   ]
  },
  {
   "cell_type": "code",
   "execution_count": 3,
   "metadata": {},
   "outputs": [],
   "source": [
    "hmm_params = utils.vardict({\n",
    "    'mu': {\n",
    "        'loc': torch.arange(5, dtype=torch.float) * 2,\n",
    "        'scale': torch.ones(5) * 0.25,\n",
    "    },\n",
    "    'sigma': {\n",
    "        'loc': torch.ones(5),\n",
    "        'scale': torch.ones(5) * 0.25,\n",
    "    }\n",
    "})\n",
    "for k in range(6):\n",
    "    hmm_params['Pi_%d' % k] = {'concentration': torch.ones(5)}"
   ]
  },
  {
   "cell_type": "code",
   "execution_count": 4,
   "metadata": {},
   "outputs": [],
   "source": [
    "init_hmm = combinators.Model(f=hmm.init_hmm, hyper=hmm_params)"
   ]
  },
  {
   "cell_type": "code",
   "execution_count": 5,
   "metadata": {},
   "outputs": [],
   "source": [
    "z0, mu, sigma, pi, pi0 = init_hmm(trace=generative)"
   ]
  },
  {
   "cell_type": "code",
   "execution_count": 6,
   "metadata": {},
   "outputs": [],
   "source": [
    "hmm_step = combinators.Model(f=hmm.hmm_step)\n",
    "hmm_run = combinators.Model.sequence(hmm_step, 50, z0, mu, sigma, pi, pi0)"
   ]
  },
  {
   "cell_type": "code",
   "execution_count": 7,
   "metadata": {},
   "outputs": [],
   "source": [
    "z_last, mu, sigma, pi, pi0 = hmm_run(trace=generative)"
   ]
  },
  {
   "cell_type": "code",
   "execution_count": 8,
   "metadata": {},
   "outputs": [],
   "source": [
    "data = generative.unwrap(lambda k, rv: 'X_' in k)"
   ]
  },
  {
   "cell_type": "code",
   "execution_count": 9,
   "metadata": {},
   "outputs": [],
   "source": [
    "num_particles = 250"
   ]
  },
  {
   "cell_type": "code",
   "execution_count": 10,
   "metadata": {},
   "outputs": [],
   "source": [
    "smc_hmm_params = utils.vardict({\n",
    "    'mu': {\n",
    "        'loc': torch.arange(5, dtype=torch.float) * 2,\n",
    "        'scale': torch.ones(5),\n",
    "    },\n",
    "    'sigma': {\n",
    "        'loc': torch.ones(5),\n",
    "        'scale': torch.ones(5),\n",
    "    }\n",
    "})\n",
    "for k in range(6):\n",
    "    smc_hmm_params['Pi_%d' % k] = {'concentration': torch.ones(5)}"
   ]
  },
  {
   "cell_type": "code",
   "execution_count": 11,
   "metadata": {},
   "outputs": [],
   "source": [
    "init_hmm = combinators.Model(hmm.init_hmm, trainable=smc_hmm_params)"
   ]
  },
  {
   "cell_type": "code",
   "execution_count": 12,
   "metadata": {},
   "outputs": [],
   "source": [
    "smc_hmm = importance.ImportanceResampler.smc(combinators.Model(hmm.hmm_step), 50, initializer=init_hmm)"
   ]
  },
  {
   "cell_type": "code",
   "execution_count": 13,
   "metadata": {},
   "outputs": [],
   "source": [
    "hmm_proposal = combinators.Model.compose(combinators.Model.sequence(combinators.Model(hmm.hmm_step), 50), init_hmm, intermediate_name='initializer')"
   ]
  },
  {
   "cell_type": "code",
   "execution_count": 14,
   "metadata": {},
   "outputs": [],
   "source": [
    "particle_mh = mcmc.IndependentMH(smc_hmm, hmm_proposal, num_particles*10)"
   ]
  },
  {
   "cell_type": "code",
   "execution_count": 15,
   "metadata": {},
   "outputs": [],
   "source": [
    "samples, elbos = particle_mh(trace=importance.ResamplerTrace(num_particles, data=data))\n",
    "inference = particle_mh.trace"
   ]
  },
  {
   "cell_type": "code",
   "execution_count": 16,
   "metadata": {},
   "outputs": [
    {
     "name": "stdout",
     "output_type": "stream",
     "text": [
      "SMC accuracy at time 1: 0.000000\n",
      "SMC accuracy at time 2: 0.124000\n",
      "SMC accuracy at time 3: 0.000000\n",
      "SMC accuracy at time 4: 0.200000\n",
      "SMC accuracy at time 5: 0.324000\n",
      "SMC accuracy at time 6: 0.200000\n",
      "SMC accuracy at time 7: 1.000000\n",
      "SMC accuracy at time 8: 1.000000\n",
      "SMC accuracy at time 9: 1.000000\n",
      "SMC accuracy at time 10: 0.480000\n",
      "SMC accuracy at time 11: 0.356000\n",
      "SMC accuracy at time 12: 0.320000\n",
      "SMC accuracy at time 13: 0.000000\n",
      "SMC accuracy at time 14: 0.380000\n",
      "SMC accuracy at time 15: 0.000000\n",
      "SMC accuracy at time 16: 0.124000\n",
      "SMC accuracy at time 17: 0.696000\n",
      "SMC accuracy at time 18: 0.324000\n",
      "SMC accuracy at time 19: 0.064000\n",
      "SMC accuracy at time 20: 0.064000\n",
      "SMC accuracy at time 21: 0.360000\n",
      "SMC accuracy at time 22: 0.240000\n",
      "SMC accuracy at time 23: 0.644000\n",
      "SMC accuracy at time 24: 0.256000\n",
      "SMC accuracy at time 25: 0.060000\n",
      "SMC accuracy at time 26: 0.124000\n",
      "SMC accuracy at time 27: 0.356000\n",
      "SMC accuracy at time 28: 0.488000\n",
      "SMC accuracy at time 29: 0.000000\n",
      "SMC accuracy at time 30: 0.272000\n",
      "SMC accuracy at time 31: 0.124000\n",
      "SMC accuracy at time 32: 0.296000\n",
      "SMC accuracy at time 33: 0.144000\n",
      "SMC accuracy at time 34: 0.284000\n",
      "SMC accuracy at time 35: 0.800000\n",
      "SMC accuracy at time 36: 0.060000\n",
      "SMC accuracy at time 37: 0.064000\n",
      "SMC accuracy at time 38: 0.064000\n",
      "SMC accuracy at time 39: 0.344000\n",
      "SMC accuracy at time 40: 0.168000\n",
      "SMC accuracy at time 41: 0.000000\n",
      "SMC accuracy at time 42: 0.036000\n",
      "SMC accuracy at time 43: 0.768000\n",
      "SMC accuracy at time 44: 0.260000\n",
      "SMC accuracy at time 45: 0.016000\n",
      "SMC accuracy at time 46: 0.620000\n",
      "SMC accuracy at time 47: 0.352000\n",
      "SMC accuracy at time 48: 0.328000\n",
      "SMC accuracy at time 49: 0.328000\n",
      "SMC accuracy at time 50: 0.220000\n"
     ]
    }
   ],
   "source": [
    "for t in range(50):\n",
    "    t += 1\n",
    "    key = 'Z_%d' % t\n",
    "    accuracy = (inference[key].value == generative[key].value).sum().to(dtype=torch.float) / inference.num_particles\n",
    "    print('SMC accuracy at time %d: %f' % (t, accuracy))"
   ]
  },
  {
   "cell_type": "code",
   "execution_count": 17,
   "metadata": {},
   "outputs": [
    {
     "data": {
      "text/plain": [
       "tensor([-136.5953, -136.5953, -136.5953,  ..., -116.5143, -116.5143,\n",
       "        -116.5143])"
      ]
     },
     "execution_count": 17,
     "metadata": {},
     "output_type": "execute_result"
    }
   ],
   "source": [
    "elbos"
   ]
  },
  {
   "cell_type": "code",
   "execution_count": null,
   "metadata": {},
   "outputs": [],
   "source": []
  },
  {
   "cell_type": "code",
   "execution_count": null,
   "metadata": {},
   "outputs": [],
   "source": []
  }
 ],
 "metadata": {
  "kernelspec": {
   "display_name": "Python [conda env:funcytorch]",
   "language": "python",
   "name": "conda-env-funcytorch-py"
  },
  "language_info": {
   "codemirror_mode": {
    "name": "ipython",
    "version": 3
   },
   "file_extension": ".py",
   "mimetype": "text/x-python",
   "name": "python",
   "nbconvert_exporter": "python",
   "pygments_lexer": "ipython3",
   "version": "3.6.5"
  }
 },
 "nbformat": 4,
 "nbformat_minor": 2
}
