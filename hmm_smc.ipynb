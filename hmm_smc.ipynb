{
 "cells": [
  {
   "cell_type": "code",
   "execution_count": 1,
   "metadata": {},
   "outputs": [],
   "source": [
    "import logging\n",
    "\n",
    "import probtorch\n",
    "import torch\n",
    "\n",
    "import combinators\n",
    "import foldable\n",
    "import gmm\n",
    "import hmm\n",
    "import importance\n",
    "import mcmc\n",
    "import utils\n",
    "\n",
    "logging.basicConfig(format='%(asctime)s %(message)s', datefmt='%m/%d/%Y %H:%M:%S',\n",
    "                    level=logging.INFO)"
   ]
  },
  {
   "cell_type": "code",
   "execution_count": 2,
   "metadata": {},
   "outputs": [],
   "source": [
    "hmm_params = utils.vardict({\n",
    "    'mu': {\n",
    "        'loc': torch.arange(5, dtype=torch.float) * 2,\n",
    "        'scale': torch.ones(5) * 0.25,\n",
    "    },\n",
    "    'sigma': {\n",
    "        'loc': torch.ones(5),\n",
    "        'scale': torch.ones(5) * 0.25,\n",
    "    }\n",
    "})\n",
    "for k in range(6):\n",
    "    key = 'Pi_%d' % k if k else 'Pi'\n",
    "    hmm_params[key] = {'concentration': torch.ones(5)}"
   ]
  },
  {
   "cell_type": "code",
   "execution_count": 3,
   "metadata": {},
   "outputs": [],
   "source": [
    "init_gmm = gmm.InitGmm(params=hmm_params, trainable=False, batch_shape=(1,))\n",
    "init_hmm = hmm.InitHmm(params=hmm_params, trainable=False, batch_shape=(1,))\n",
    "init_hmm = combinators.Composition(init_hmm, init_gmm)\n",
    "hmm_foldable = foldable.Foldable(hmm.HmmStep(), initializer=init_hmm)\n",
    "hmm_run = foldable.Reduce(hmm_foldable, generator=lambda: range(50))"
   ]
  },
  {
   "cell_type": "code",
   "execution_count": 4,
   "metadata": {},
   "outputs": [],
   "source": [
    "(z_last, mu, sigma, pi), generative, _ = hmm_run()"
   ]
  },
  {
   "cell_type": "code",
   "execution_count": 5,
   "metadata": {},
   "outputs": [],
   "source": [
    "data = {k: v.value for k, v in generative.variables() if 'X_' in k}"
   ]
  },
  {
   "cell_type": "code",
   "execution_count": 6,
   "metadata": {},
   "outputs": [],
   "source": [
    "num_particles = 250"
   ]
  },
  {
   "cell_type": "code",
   "execution_count": 7,
   "metadata": {},
   "outputs": [],
   "source": [
    "smc_hmm_params = utils.vardict({\n",
    "    'mu': {\n",
    "        'loc': torch.arange(5, dtype=torch.float) * 2,\n",
    "        'scale': torch.ones(5),\n",
    "    },\n",
    "    'sigma': {\n",
    "        'loc': torch.ones(5),\n",
    "        'scale': torch.ones(5),\n",
    "    }\n",
    "})\n",
    "for k in range(6):\n",
    "    key = 'Pi_%d' % k if k else 'Pi'\n",
    "    smc_hmm_params[key] = {'concentration': torch.ones(5)}"
   ]
  },
  {
   "cell_type": "code",
   "execution_count": 8,
   "metadata": {},
   "outputs": [],
   "source": [
    "init_gmm = gmm.InitGmm(params=smc_hmm_params, trainable=True, batch_shape=(num_particles,))\n",
    "init_hmm = hmm.InitHmm(params=smc_hmm_params, trainable=True, batch_shape=(num_particles,))\n",
    "init_hmm = combinators.Composition(init_hmm, init_gmm)"
   ]
  },
  {
   "cell_type": "code",
   "execution_count": 9,
   "metadata": {},
   "outputs": [],
   "source": [
    "hmm_step = hmm.HmmStep(batch_shape=(num_particles,))"
   ]
  },
  {
   "cell_type": "code",
   "execution_count": 10,
   "metadata": {},
   "outputs": [],
   "source": [
    "rmsmc_hmm = mcmc.reduce_resample_move_smc(hmm_step, lambda: range(50), initializer=init_hmm, moves=50)"
   ]
  },
  {
   "cell_type": "code",
   "execution_count": 11,
   "metadata": {},
   "outputs": [],
   "source": [
    "samples, inference, _ = rmsmc_hmm(data=data)"
   ]
  },
  {
   "cell_type": "code",
   "execution_count": 12,
   "metadata": {},
   "outputs": [],
   "source": [
    "latent_states = {k: v.value for k, v in generative.variables() if 'Z_' in k}"
   ]
  },
  {
   "cell_type": "code",
   "execution_count": 13,
   "metadata": {},
   "outputs": [],
   "source": [
    "inferred_latent_states = {k: v.value for k, v in inference.variables() if 'Z_' in k}"
   ]
  },
  {
   "cell_type": "code",
   "execution_count": 14,
   "metadata": {},
   "outputs": [
    {
     "name": "stdout",
     "output_type": "stream",
     "text": [
      "RM-SMC percent accuracy at time 1: 51.599998\n",
      "RM-SMC percent accuracy at time 2: 51.599998\n",
      "RM-SMC percent accuracy at time 3: 37.200001\n",
      "RM-SMC percent accuracy at time 4: 66.000000\n",
      "RM-SMC percent accuracy at time 5: 18.000000\n",
      "RM-SMC percent accuracy at time 6: 72.799995\n",
      "RM-SMC percent accuracy at time 7: 60.000004\n",
      "RM-SMC percent accuracy at time 8: 72.000000\n",
      "RM-SMC percent accuracy at time 9: 14.000000\n",
      "RM-SMC percent accuracy at time 10: 43.599998\n",
      "RM-SMC percent accuracy at time 11: 28.400002\n",
      "RM-SMC percent accuracy at time 12: 27.599998\n",
      "RM-SMC percent accuracy at time 13: 62.000000\n",
      "RM-SMC percent accuracy at time 14: 60.799999\n",
      "RM-SMC percent accuracy at time 15: 17.600000\n",
      "RM-SMC percent accuracy at time 16: 77.200005\n",
      "RM-SMC percent accuracy at time 17: 57.599998\n",
      "RM-SMC percent accuracy at time 18: 44.000000\n",
      "RM-SMC percent accuracy at time 19: 63.200005\n",
      "RM-SMC percent accuracy at time 20: 45.200001\n",
      "RM-SMC percent accuracy at time 21: 36.799999\n",
      "RM-SMC percent accuracy at time 22: 36.399998\n",
      "RM-SMC percent accuracy at time 23: 44.400002\n",
      "RM-SMC percent accuracy at time 24: 33.199997\n",
      "RM-SMC percent accuracy at time 25: 44.000000\n",
      "RM-SMC percent accuracy at time 26: 39.599998\n",
      "RM-SMC percent accuracy at time 27: 35.600002\n",
      "RM-SMC percent accuracy at time 28: 18.799999\n",
      "RM-SMC percent accuracy at time 29: 41.200001\n",
      "RM-SMC percent accuracy at time 30: 46.399998\n",
      "RM-SMC percent accuracy at time 31: 66.799995\n",
      "RM-SMC percent accuracy at time 32: 37.599998\n",
      "RM-SMC percent accuracy at time 33: 55.199997\n",
      "RM-SMC percent accuracy at time 34: 66.799995\n",
      "RM-SMC percent accuracy at time 35: 28.400002\n",
      "RM-SMC percent accuracy at time 36: 38.400002\n",
      "RM-SMC percent accuracy at time 37: 40.400002\n",
      "RM-SMC percent accuracy at time 38: 90.400002\n",
      "RM-SMC percent accuracy at time 39: 36.000000\n",
      "RM-SMC percent accuracy at time 40: 69.599998\n",
      "RM-SMC percent accuracy at time 41: 49.200001\n",
      "RM-SMC percent accuracy at time 42: 90.800003\n",
      "RM-SMC percent accuracy at time 43: 49.599998\n",
      "RM-SMC percent accuracy at time 44: 91.199997\n",
      "RM-SMC percent accuracy at time 45: 92.000000\n",
      "RM-SMC percent accuracy at time 46: 42.799999\n",
      "RM-SMC percent accuracy at time 47: 53.200001\n",
      "RM-SMC percent accuracy at time 48: 37.599998\n",
      "RM-SMC percent accuracy at time 49: 30.400000\n",
      "RM-SMC percent accuracy at time 50: 33.199997\n"
     ]
    }
   ],
   "source": [
    "for t in range(50):\n",
    "    t += 1\n",
    "    key = 'Z_%d' % t\n",
    "    accuracy = (inferred_latent_states[key] == latent_states[key]).to(dtype=torch.float).mean()\n",
    "    print('RM-SMC percent accuracy at time %d: %f' % (t, accuracy * 100))"
   ]
  },
  {
   "cell_type": "code",
   "execution_count": null,
   "metadata": {},
   "outputs": [],
   "source": []
  },
  {
   "cell_type": "code",
   "execution_count": null,
   "metadata": {},
   "outputs": [],
   "source": []
  }
 ],
 "metadata": {
  "kernelspec": {
   "display_name": "Python [conda env:funcytorch]",
   "language": "python",
   "name": "conda-env-funcytorch-py"
  },
  "language_info": {
   "codemirror_mode": {
    "name": "ipython",
    "version": 3
   },
   "file_extension": ".py",
   "mimetype": "text/x-python",
   "name": "python",
   "nbconvert_exporter": "python",
   "pygments_lexer": "ipython3",
   "version": "3.6.5"
  }
 },
 "nbformat": 4,
 "nbformat_minor": 2
}
