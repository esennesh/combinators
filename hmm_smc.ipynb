{
 "cells": [
  {
   "cell_type": "code",
   "execution_count": 1,
   "metadata": {},
   "outputs": [],
   "source": [
    "import logging\n",
    "\n",
    "import probtorch\n",
    "import torch\n",
    "\n",
    "import combinators\n",
    "import foldable\n",
    "import hmm\n",
    "import importance\n",
    "import mcmc\n",
    "import trace_tries\n",
    "import utils\n",
    "\n",
    "logging.basicConfig(format='%(asctime)s %(message)s', datefmt='%m/%d/%Y %H:%M:%S',\n",
    "                    level=logging.INFO)"
   ]
  },
  {
   "cell_type": "code",
   "execution_count": 2,
   "metadata": {},
   "outputs": [],
   "source": [
    "hmm_params = utils.vardict({\n",
    "    'mu': {\n",
    "        'loc': torch.arange(5, dtype=torch.float) * 2,\n",
    "        'scale': torch.ones(5) * 0.25,\n",
    "    },\n",
    "    'sigma': {\n",
    "        'loc': torch.ones(5),\n",
    "        'scale': torch.ones(5) * 0.25,\n",
    "    }\n",
    "})\n",
    "for k in range(6):\n",
    "    hmm_params['Pi_%d' % k] = {'concentration': torch.ones(5)}"
   ]
  },
  {
   "cell_type": "code",
   "execution_count": 3,
   "metadata": {},
   "outputs": [],
   "source": [
    "init_hmm = combinators.HyperPopulation(hmm.init_hmm, (1,), hyper=hmm_params)\n",
    "hmm_step = foldable.Foldable(combinators.PrimitiveCall(hmm.hmm_step), initializer=init_hmm)\n",
    "hmm_run = foldable.Reduce(hmm_step, generator=lambda: range(50))"
   ]
  },
  {
   "cell_type": "code",
   "execution_count": 4,
   "metadata": {},
   "outputs": [],
   "source": [
    "(z_last, mu, sigma, pi, pi0), generative = hmm_run()"
   ]
  },
  {
   "cell_type": "code",
   "execution_count": 5,
   "metadata": {},
   "outputs": [],
   "source": [
    "data = {k.rpartition('/')[-1]: rv.value for (k, rv) in generative.filter(lambda k, rv: 'X_' in k)}"
   ]
  },
  {
   "cell_type": "code",
   "execution_count": 6,
   "metadata": {},
   "outputs": [],
   "source": [
    "num_particles = 250"
   ]
  },
  {
   "cell_type": "code",
   "execution_count": 7,
   "metadata": {},
   "outputs": [],
   "source": [
    "smc_hmm_params = utils.vardict({\n",
    "    'mu': {\n",
    "        'loc': torch.arange(5, dtype=torch.float) * 2,\n",
    "        'scale': torch.ones(5),\n",
    "    },\n",
    "    'sigma': {\n",
    "        'loc': torch.ones(5),\n",
    "        'scale': torch.ones(5),\n",
    "    }\n",
    "})\n",
    "for k in range(6):\n",
    "    smc_hmm_params['Pi_%d' % k] = {'concentration': torch.ones(5)}"
   ]
  },
  {
   "cell_type": "code",
   "execution_count": 8,
   "metadata": {},
   "outputs": [],
   "source": [
    "init_hmm = combinators.HyperPopulation(hmm.init_hmm, (num_particles,), trainable=smc_hmm_params)"
   ]
  },
  {
   "cell_type": "code",
   "execution_count": 9,
   "metadata": {},
   "outputs": [],
   "source": [
    "smc_hmm = importance.reduce_smc(combinators.PrimitiveCall(hmm.hmm_step), (num_particles,), lambda: range(50), initializer=init_hmm)"
   ]
  },
  {
   "cell_type": "code",
   "execution_count": 10,
   "metadata": {},
   "outputs": [],
   "source": [
    "particle_mh = mcmc.LightweightMH(smc_hmm)"
   ]
  },
  {
   "cell_type": "code",
   "execution_count": 11,
   "metadata": {},
   "outputs": [],
   "source": [
    "samples, inference = particle_mh(data=data, trace=trace_tries.HierarchicalTrace())"
   ]
  },
  {
   "cell_type": "code",
   "execution_count": 12,
   "metadata": {},
   "outputs": [
    {
     "name": "stdout",
     "output_type": "stream",
     "text": [
      "SMC accuracy at time 1: 0.612000\n",
      "SMC accuracy at time 2: 0.096000\n",
      "SMC accuracy at time 3: 0.396000\n",
      "SMC accuracy at time 4: 0.964000\n",
      "SMC accuracy at time 5: 0.708000\n",
      "SMC accuracy at time 6: 0.784000\n",
      "SMC accuracy at time 7: 0.568000\n",
      "SMC accuracy at time 8: 0.064000\n",
      "SMC accuracy at time 9: 0.008000\n",
      "SMC accuracy at time 10: 0.076000\n",
      "SMC accuracy at time 11: 0.720000\n",
      "SMC accuracy at time 12: 0.996000\n",
      "SMC accuracy at time 13: 0.716000\n",
      "SMC accuracy at time 14: 0.812000\n",
      "SMC accuracy at time 15: 0.648000\n",
      "SMC accuracy at time 16: 0.928000\n",
      "SMC accuracy at time 17: 0.244000\n",
      "SMC accuracy at time 18: 0.708000\n",
      "SMC accuracy at time 19: 0.156000\n",
      "SMC accuracy at time 20: 0.064000\n",
      "SMC accuracy at time 21: 0.668000\n",
      "SMC accuracy at time 22: 0.684000\n",
      "SMC accuracy at time 23: 0.096000\n",
      "SMC accuracy at time 24: 0.792000\n",
      "SMC accuracy at time 25: 0.932000\n",
      "SMC accuracy at time 26: 0.928000\n",
      "SMC accuracy at time 27: 0.472000\n",
      "SMC accuracy at time 28: 0.832000\n",
      "SMC accuracy at time 29: 0.860000\n",
      "SMC accuracy at time 30: 0.024000\n",
      "SMC accuracy at time 31: 0.944000\n",
      "SMC accuracy at time 32: 0.828000\n",
      "SMC accuracy at time 33: 0.980000\n",
      "SMC accuracy at time 34: 0.788000\n",
      "SMC accuracy at time 35: 0.992000\n",
      "SMC accuracy at time 36: 0.652000\n",
      "SMC accuracy at time 37: 0.236000\n",
      "SMC accuracy at time 38: 0.984000\n",
      "SMC accuracy at time 39: 0.476000\n",
      "SMC accuracy at time 40: 0.008000\n",
      "SMC accuracy at time 41: 0.468000\n",
      "SMC accuracy at time 42: 0.476000\n",
      "SMC accuracy at time 43: 1.000000\n",
      "SMC accuracy at time 44: 0.848000\n",
      "SMC accuracy at time 45: 0.868000\n",
      "SMC accuracy at time 46: 0.368000\n",
      "SMC accuracy at time 47: 0.384000\n",
      "SMC accuracy at time 48: 0.636000\n",
      "SMC accuracy at time 49: 0.484000\n",
      "SMC accuracy at time 50: 0.808000\n"
     ]
    }
   ],
   "source": [
    "for t in range(50):\n",
    "    t += 1\n",
    "    key = list(filter(lambda key: ('Z_%d' % t) in key, generative.keys()))[0]\n",
    "    accuracy = (inference[key].value == generative[key].value).to(dtype=torch.float).mean()\n",
    "    print('SMC accuracy at time %d: %f' % (t, accuracy))"
   ]
  },
  {
   "cell_type": "code",
   "execution_count": null,
   "metadata": {},
   "outputs": [],
   "source": []
  },
  {
   "cell_type": "code",
   "execution_count": null,
   "metadata": {},
   "outputs": [],
   "source": []
  }
 ],
 "metadata": {
  "kernelspec": {
   "display_name": "Python [conda env:funcytorch]",
   "language": "python",
   "name": "conda-env-funcytorch-py"
  },
  "language_info": {
   "codemirror_mode": {
    "name": "ipython",
    "version": 3
   },
   "file_extension": ".py",
   "mimetype": "text/x-python",
   "name": "python",
   "nbconvert_exporter": "python",
   "pygments_lexer": "ipython3",
   "version": "3.6.5"
  }
 },
 "nbformat": 4,
 "nbformat_minor": 2
}
