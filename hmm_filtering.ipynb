{
 "cells": [
  {
   "cell_type": "code",
   "execution_count": 1,
   "metadata": {},
   "outputs": [],
   "source": [
    "import logging\n",
    "\n",
    "import probtorch\n",
    "import torch\n",
    "\n",
    "import combinators\n",
    "import filtering\n",
    "import hmm\n",
    "import smc\n",
    "import utils\n",
    "\n",
    "logging.basicConfig(format='%(asctime)s %(message)s', datefmt='%m/%d/%Y %H:%M:%S',\n",
    "                    level=logging.INFO)"
   ]
  },
  {
   "cell_type": "code",
   "execution_count": 2,
   "metadata": {},
   "outputs": [],
   "source": [
    "generative = smc.ParticleTrace(1)"
   ]
  },
  {
   "cell_type": "code",
   "execution_count": 3,
   "metadata": {},
   "outputs": [],
   "source": [
    "hmm_params = utils.vardict({\n",
    "    'mu': {\n",
    "        'loc': torch.arange(5, dtype=torch.float) * 2,\n",
    "        'scale': torch.ones(5) * 0.25,\n",
    "    },\n",
    "    'sigma': {\n",
    "        'loc': torch.ones(5),\n",
    "        'scale': torch.ones(5) * 0.25,\n",
    "    }\n",
    "})\n",
    "for k in range(6):\n",
    "    hmm_params['Pi_%d' % k] = {'concentration': torch.ones(5)}"
   ]
  },
  {
   "cell_type": "code",
   "execution_count": 4,
   "metadata": {},
   "outputs": [],
   "source": [
    "init_hmm = combinators.Model(f=hmm.init_hmm, theta=hmm_params)\n",
    "init_hmm.condition(generative)"
   ]
  },
  {
   "cell_type": "code",
   "execution_count": 5,
   "metadata": {},
   "outputs": [],
   "source": [
    "z0, mu, sigma, pi, pi0 = init_hmm(T=50)"
   ]
  },
  {
   "cell_type": "code",
   "execution_count": 6,
   "metadata": {},
   "outputs": [],
   "source": [
    "hmm_step = hmm.forward_backward_filter_hmm(mu, sigma, pi, pi0)\n",
    "hmm_run = combinators.Model.partial(combinators.sequence, hmm_step)"
   ]
  },
  {
   "cell_type": "code",
   "execution_count": 7,
   "metadata": {},
   "outputs": [],
   "source": [
    "hmm_run.condition(generative)"
   ]
  },
  {
   "cell_type": "code",
   "execution_count": 8,
   "metadata": {},
   "outputs": [],
   "source": [
    "z_last, mu, sigma, pi = hmm_run(50, z0, mu, sigma, pi)"
   ]
  },
  {
   "cell_type": "code",
   "execution_count": 9,
   "metadata": {},
   "outputs": [],
   "source": [
    "hmm_step.backward_pass(T=50)"
   ]
  },
  {
   "cell_type": "code",
   "execution_count": null,
   "metadata": {},
   "outputs": [],
   "source": []
  }
 ],
 "metadata": {
  "kernelspec": {
   "display_name": "Python [conda env:funcytorch]",
   "language": "python",
   "name": "conda-env-funcytorch-py"
  },
  "language_info": {
   "codemirror_mode": {
    "name": "ipython",
    "version": 3
   },
   "file_extension": ".py",
   "mimetype": "text/x-python",
   "name": "python",
   "nbconvert_exporter": "python",
   "pygments_lexer": "ipython3",
   "version": "3.6.5"
  }
 },
 "nbformat": 4,
 "nbformat_minor": 2
}
