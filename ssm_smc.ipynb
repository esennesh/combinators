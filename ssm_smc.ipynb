{
 "cells": [
  {
   "cell_type": "code",
   "execution_count": 1,
   "metadata": {},
   "outputs": [],
   "source": [
    "import logging\n",
    "\n",
    "import probtorch\n",
    "import torch\n",
    "\n",
    "import combinators\n",
    "import importance\n",
    "import smc\n",
    "import ssm\n",
    "import utils"
   ]
  },
  {
   "cell_type": "code",
   "execution_count": 2,
   "metadata": {},
   "outputs": [],
   "source": [
    "logging.basicConfig(format='%(asctime)s %(message)s', datefmt='%m/%d/%Y %H:%M:%S',\n",
    "                    level=logging.INFO)"
   ]
  },
  {
   "cell_type": "code",
   "execution_count": 3,
   "metadata": {},
   "outputs": [],
   "source": [
    "generative = combinators.ParticleTrace(1)"
   ]
  },
  {
   "cell_type": "code",
   "execution_count": 4,
   "metadata": {},
   "outputs": [],
   "source": [
    "mu = torch.zeros(1, 1)\n",
    "sigma = torch.ones(1, 1) / 2\n",
    "delta = torch.ones(1, 1)\n",
    "zs = torch.ones(1, 50+1) * -1\n",
    "zs[:, 0] = 0"
   ]
  },
  {
   "cell_type": "code",
   "execution_count": 5,
   "metadata": {},
   "outputs": [],
   "source": [
    "ssm_step = combinators.Model(ssm.ssm_step)"
   ]
  },
  {
   "cell_type": "code",
   "execution_count": 6,
   "metadata": {},
   "outputs": [],
   "source": [
    "for t in range(zs.shape[1] - 1):\n",
    "    zs[:, t+1], mu, sigma, delta = ssm_step((zs[:, t], mu, sigma, delta), t, trace=generative)"
   ]
  },
  {
   "cell_type": "code",
   "execution_count": 7,
   "metadata": {},
   "outputs": [
    {
     "data": {
      "text/plain": [
       "Trace{'Z_1': Normal([torch.FloatTensor of size 1x1]), 'X_1': Normal([torch.FloatTensor of size 1x1]), 'Z_2': Normal([torch.FloatTensor of size 1x1]), 'X_2': Normal([torch.FloatTensor of size 1x1]), 'Z_3': Normal([torch.FloatTensor of size 1x1]), 'X_3': Normal([torch.FloatTensor of size 1x1]), 'Z_4': Normal([torch.FloatTensor of size 1x1]), 'X_4': Normal([torch.FloatTensor of size 1x1]), 'Z_5': Normal([torch.FloatTensor of size 1x1]), 'X_5': Normal([torch.FloatTensor of size 1x1]), 'Z_6': Normal([torch.FloatTensor of size 1x1]), 'X_6': Normal([torch.FloatTensor of size 1x1]), 'Z_7': Normal([torch.FloatTensor of size 1x1]), 'X_7': Normal([torch.FloatTensor of size 1x1]), 'Z_8': Normal([torch.FloatTensor of size 1x1]), 'X_8': Normal([torch.FloatTensor of size 1x1]), 'Z_9': Normal([torch.FloatTensor of size 1x1]), 'X_9': Normal([torch.FloatTensor of size 1x1]), 'Z_10': Normal([torch.FloatTensor of size 1x1]), 'X_10': Normal([torch.FloatTensor of size 1x1]), 'Z_11': Normal([torch.FloatTensor of size 1x1]), 'X_11': Normal([torch.FloatTensor of size 1x1]), 'Z_12': Normal([torch.FloatTensor of size 1x1]), 'X_12': Normal([torch.FloatTensor of size 1x1]), 'Z_13': Normal([torch.FloatTensor of size 1x1]), 'X_13': Normal([torch.FloatTensor of size 1x1]), 'Z_14': Normal([torch.FloatTensor of size 1x1]), 'X_14': Normal([torch.FloatTensor of size 1x1]), 'Z_15': Normal([torch.FloatTensor of size 1x1]), 'X_15': Normal([torch.FloatTensor of size 1x1]), 'Z_16': Normal([torch.FloatTensor of size 1x1]), 'X_16': Normal([torch.FloatTensor of size 1x1]), 'Z_17': Normal([torch.FloatTensor of size 1x1]), 'X_17': Normal([torch.FloatTensor of size 1x1]), 'Z_18': Normal([torch.FloatTensor of size 1x1]), 'X_18': Normal([torch.FloatTensor of size 1x1]), 'Z_19': Normal([torch.FloatTensor of size 1x1]), 'X_19': Normal([torch.FloatTensor of size 1x1]), 'Z_20': Normal([torch.FloatTensor of size 1x1]), 'X_20': Normal([torch.FloatTensor of size 1x1]), 'Z_21': Normal([torch.FloatTensor of size 1x1]), 'X_21': Normal([torch.FloatTensor of size 1x1]), 'Z_22': Normal([torch.FloatTensor of size 1x1]), 'X_22': Normal([torch.FloatTensor of size 1x1]), 'Z_23': Normal([torch.FloatTensor of size 1x1]), 'X_23': Normal([torch.FloatTensor of size 1x1]), 'Z_24': Normal([torch.FloatTensor of size 1x1]), 'X_24': Normal([torch.FloatTensor of size 1x1]), 'Z_25': Normal([torch.FloatTensor of size 1x1]), 'X_25': Normal([torch.FloatTensor of size 1x1]), 'Z_26': Normal([torch.FloatTensor of size 1x1]), 'X_26': Normal([torch.FloatTensor of size 1x1]), 'Z_27': Normal([torch.FloatTensor of size 1x1]), 'X_27': Normal([torch.FloatTensor of size 1x1]), 'Z_28': Normal([torch.FloatTensor of size 1x1]), 'X_28': Normal([torch.FloatTensor of size 1x1]), 'Z_29': Normal([torch.FloatTensor of size 1x1]), 'X_29': Normal([torch.FloatTensor of size 1x1]), 'Z_30': Normal([torch.FloatTensor of size 1x1]), 'X_30': Normal([torch.FloatTensor of size 1x1]), 'Z_31': Normal([torch.FloatTensor of size 1x1]), 'X_31': Normal([torch.FloatTensor of size 1x1]), 'Z_32': Normal([torch.FloatTensor of size 1x1]), 'X_32': Normal([torch.FloatTensor of size 1x1]), 'Z_33': Normal([torch.FloatTensor of size 1x1]), 'X_33': Normal([torch.FloatTensor of size 1x1]), 'Z_34': Normal([torch.FloatTensor of size 1x1]), 'X_34': Normal([torch.FloatTensor of size 1x1]), 'Z_35': Normal([torch.FloatTensor of size 1x1]), 'X_35': Normal([torch.FloatTensor of size 1x1]), 'Z_36': Normal([torch.FloatTensor of size 1x1]), 'X_36': Normal([torch.FloatTensor of size 1x1]), 'Z_37': Normal([torch.FloatTensor of size 1x1]), 'X_37': Normal([torch.FloatTensor of size 1x1]), 'Z_38': Normal([torch.FloatTensor of size 1x1]), 'X_38': Normal([torch.FloatTensor of size 1x1]), 'Z_39': Normal([torch.FloatTensor of size 1x1]), 'X_39': Normal([torch.FloatTensor of size 1x1]), 'Z_40': Normal([torch.FloatTensor of size 1x1]), 'X_40': Normal([torch.FloatTensor of size 1x1]), 'Z_41': Normal([torch.FloatTensor of size 1x1]), 'X_41': Normal([torch.FloatTensor of size 1x1]), 'Z_42': Normal([torch.FloatTensor of size 1x1]), 'X_42': Normal([torch.FloatTensor of size 1x1]), 'Z_43': Normal([torch.FloatTensor of size 1x1]), 'X_43': Normal([torch.FloatTensor of size 1x1]), 'Z_44': Normal([torch.FloatTensor of size 1x1]), 'X_44': Normal([torch.FloatTensor of size 1x1]), 'Z_45': Normal([torch.FloatTensor of size 1x1]), 'X_45': Normal([torch.FloatTensor of size 1x1]), 'Z_46': Normal([torch.FloatTensor of size 1x1]), 'X_46': Normal([torch.FloatTensor of size 1x1]), 'Z_47': Normal([torch.FloatTensor of size 1x1]), 'X_47': Normal([torch.FloatTensor of size 1x1]), 'Z_48': Normal([torch.FloatTensor of size 1x1]), 'X_48': Normal([torch.FloatTensor of size 1x1]), 'Z_49': Normal([torch.FloatTensor of size 1x1]), 'X_49': Normal([torch.FloatTensor of size 1x1]), 'Z_50': Normal([torch.FloatTensor of size 1x1]), 'X_50': Normal([torch.FloatTensor of size 1x1])}"
      ]
     },
     "execution_count": 7,
     "metadata": {},
     "output_type": "execute_result"
    }
   ],
   "source": [
    "generative"
   ]
  },
  {
   "cell_type": "code",
   "execution_count": 8,
   "metadata": {},
   "outputs": [],
   "source": [
    "num_particles = 100"
   ]
  },
  {
   "cell_type": "code",
   "execution_count": 9,
   "metadata": {},
   "outputs": [],
   "source": [
    "smc_runner = smc.smc(ssm.ssm_step, 50)"
   ]
  },
  {
   "cell_type": "code",
   "execution_count": 10,
   "metadata": {},
   "outputs": [],
   "source": [
    "ssm_params = {\n",
    "    'mu': {\n",
    "        'loc': torch.tensor(0.),\n",
    "        'scale': torch.tensor(0.25),\n",
    "    },\n",
    "    'sigma': {\n",
    "        'loc': torch.tensor(0.),\n",
    "        'scale': torch.tensor(0.25),\n",
    "    },\n",
    "    'delta': {\n",
    "        'loc': torch.tensor(0.),\n",
    "        'scale': torch.tensor(0.25),\n",
    "    }\n",
    "}"
   ]
  },
  {
   "cell_type": "code",
   "execution_count": 11,
   "metadata": {},
   "outputs": [],
   "source": [
    "init_ssm = combinators.Model(ssm.init_ssm, trainable=ssm_params)"
   ]
  },
  {
   "cell_type": "code",
   "execution_count": null,
   "metadata": {},
   "outputs": [
    {
     "name": "stderr",
     "output_type": "stream",
     "text": [
      "07/30/2018 18:40:23 Variational SMC ELBO=-2.30102441e+04 at epoch 1\n",
      "07/30/2018 18:40:23 Variational SMC ELBO=-1.57867451e+04 at epoch 2\n",
      "07/30/2018 18:40:24 Variational SMC ELBO=-1.92311465e+04 at epoch 3\n",
      "07/30/2018 18:40:24 Variational SMC ELBO=-1.64848809e+04 at epoch 4\n",
      "07/30/2018 18:40:25 Variational SMC ELBO=-1.52201025e+04 at epoch 5\n",
      "07/30/2018 18:40:25 Variational SMC ELBO=-1.54481221e+04 at epoch 6\n",
      "07/30/2018 18:40:26 Variational SMC ELBO=-1.31173076e+04 at epoch 7\n",
      "07/30/2018 18:40:26 Variational SMC ELBO=-2.30344199e+04 at epoch 8\n",
      "07/30/2018 18:40:27 Variational SMC ELBO=-1.51401982e+04 at epoch 9\n",
      "07/30/2018 18:40:27 Variational SMC ELBO=-2.20861562e+04 at epoch 10\n",
      "07/30/2018 18:40:28 Variational SMC ELBO=-1.99741074e+04 at epoch 11\n",
      "07/30/2018 18:40:28 Variational SMC ELBO=-2.25494102e+04 at epoch 12\n",
      "07/30/2018 18:40:29 Variational SMC ELBO=-1.85026855e+04 at epoch 13\n",
      "07/30/2018 18:40:29 Variational SMC ELBO=-2.10304473e+04 at epoch 14\n",
      "07/30/2018 18:40:30 Variational SMC ELBO=-1.58842920e+04 at epoch 15\n",
      "07/30/2018 18:40:30 Variational SMC ELBO=-2.17595820e+04 at epoch 16\n",
      "07/30/2018 18:40:31 Variational SMC ELBO=-2.01406855e+04 at epoch 17\n",
      "07/30/2018 18:40:31 Variational SMC ELBO=-1.62652178e+04 at epoch 18\n",
      "07/30/2018 18:40:32 Variational SMC ELBO=-2.27242695e+04 at epoch 19\n",
      "07/30/2018 18:40:32 Variational SMC ELBO=-2.18786250e+04 at epoch 20\n",
      "07/30/2018 18:40:33 Variational SMC ELBO=-2.16985391e+04 at epoch 21\n",
      "07/30/2018 18:40:33 Variational SMC ELBO=-1.92852227e+04 at epoch 22\n",
      "07/30/2018 18:40:34 Variational SMC ELBO=-1.80243125e+04 at epoch 23\n",
      "07/30/2018 18:40:34 Variational SMC ELBO=-1.68410508e+04 at epoch 24\n",
      "07/30/2018 18:40:35 Variational SMC ELBO=-1.82255488e+04 at epoch 25\n",
      "07/30/2018 18:40:35 Variational SMC ELBO=-1.87758008e+04 at epoch 26\n",
      "07/30/2018 18:40:36 Variational SMC ELBO=-2.03147910e+04 at epoch 27\n",
      "07/30/2018 18:40:36 Variational SMC ELBO=-1.85997129e+04 at epoch 28\n",
      "07/30/2018 18:40:37 Variational SMC ELBO=-2.43556309e+04 at epoch 29\n",
      "07/30/2018 18:40:37 Variational SMC ELBO=-1.75170410e+04 at epoch 30\n",
      "07/30/2018 18:40:37 Variational SMC ELBO=-2.20874102e+04 at epoch 31\n",
      "07/30/2018 18:40:38 Variational SMC ELBO=-2.15707305e+04 at epoch 32\n",
      "07/30/2018 18:40:38 Variational SMC ELBO=-1.57392500e+04 at epoch 33\n",
      "07/30/2018 18:40:39 Variational SMC ELBO=-1.43037500e+04 at epoch 34\n",
      "07/30/2018 18:40:39 Variational SMC ELBO=-2.38990645e+04 at epoch 35\n",
      "07/30/2018 18:40:40 Variational SMC ELBO=-1.56361104e+04 at epoch 36\n",
      "07/30/2018 18:40:40 Variational SMC ELBO=-2.24155977e+04 at epoch 37\n",
      "07/30/2018 18:40:41 Variational SMC ELBO=-3.02919141e+04 at epoch 38\n",
      "07/30/2018 18:40:41 Variational SMC ELBO=-2.16306660e+04 at epoch 39\n",
      "07/30/2018 18:40:42 Variational SMC ELBO=-1.95096289e+04 at epoch 40\n",
      "07/30/2018 18:40:42 Variational SMC ELBO=-1.63895586e+04 at epoch 41\n",
      "07/30/2018 18:40:43 Variational SMC ELBO=-1.70327871e+04 at epoch 42\n",
      "07/30/2018 18:40:43 Variational SMC ELBO=-1.77880117e+04 at epoch 43\n",
      "07/30/2018 18:40:44 Variational SMC ELBO=-1.95240176e+04 at epoch 44\n",
      "07/30/2018 18:40:44 Variational SMC ELBO=-2.35564785e+04 at epoch 45\n",
      "07/30/2018 18:40:45 Variational SMC ELBO=-1.49236406e+04 at epoch 46\n",
      "07/30/2018 18:40:45 Variational SMC ELBO=-2.13389258e+04 at epoch 47\n",
      "07/30/2018 18:40:46 Variational SMC ELBO=-1.79890059e+04 at epoch 48\n",
      "07/30/2018 18:40:46 Variational SMC ELBO=-1.73655156e+04 at epoch 49\n",
      "07/30/2018 18:40:47 Variational SMC ELBO=-2.12207773e+04 at epoch 50\n",
      "07/30/2018 18:40:47 Variational SMC ELBO=-1.89503770e+04 at epoch 51\n",
      "07/30/2018 18:40:48 Variational SMC ELBO=-2.35818340e+04 at epoch 52\n",
      "07/30/2018 18:40:48 Variational SMC ELBO=-2.13270781e+04 at epoch 53\n",
      "07/30/2018 18:40:49 Variational SMC ELBO=-1.76082227e+04 at epoch 54\n",
      "07/30/2018 18:40:49 Variational SMC ELBO=-1.67508555e+04 at epoch 55\n",
      "07/30/2018 18:40:49 Variational SMC ELBO=-1.77882676e+04 at epoch 56\n",
      "07/30/2018 18:40:50 Variational SMC ELBO=-2.33775586e+04 at epoch 57\n",
      "07/30/2018 18:40:50 Variational SMC ELBO=-1.58328027e+04 at epoch 58\n",
      "07/30/2018 18:40:51 Variational SMC ELBO=-1.88256582e+04 at epoch 59\n",
      "07/30/2018 18:40:51 Variational SMC ELBO=-1.75487520e+04 at epoch 60\n",
      "07/30/2018 18:40:52 Variational SMC ELBO=-2.18455547e+04 at epoch 61\n",
      "07/30/2018 18:40:52 Variational SMC ELBO=-2.40084297e+04 at epoch 62\n",
      "07/30/2018 18:40:53 Variational SMC ELBO=-1.90669082e+04 at epoch 63\n",
      "07/30/2018 18:40:53 Variational SMC ELBO=-2.31630977e+04 at epoch 64\n",
      "07/30/2018 18:40:54 Variational SMC ELBO=-1.61138926e+04 at epoch 65\n",
      "07/30/2018 18:40:54 Variational SMC ELBO=-1.83504531e+04 at epoch 66\n",
      "07/30/2018 18:40:55 Variational SMC ELBO=-2.16146445e+04 at epoch 67\n",
      "07/30/2018 18:40:55 Variational SMC ELBO=-1.82550000e+04 at epoch 68\n",
      "07/30/2018 18:40:56 Variational SMC ELBO=-2.03623516e+04 at epoch 69\n",
      "07/30/2018 18:40:56 Variational SMC ELBO=-1.84416914e+04 at epoch 70\n",
      "07/30/2018 18:40:57 Variational SMC ELBO=-2.00686055e+04 at epoch 71\n",
      "07/30/2018 18:40:57 Variational SMC ELBO=-2.23187930e+04 at epoch 72\n",
      "07/30/2018 18:40:58 Variational SMC ELBO=-1.74415781e+04 at epoch 73\n",
      "07/30/2018 18:40:58 Variational SMC ELBO=-1.78568320e+04 at epoch 74\n",
      "07/30/2018 18:40:59 Variational SMC ELBO=-1.79929238e+04 at epoch 75\n",
      "07/30/2018 18:40:59 Variational SMC ELBO=-1.96208984e+04 at epoch 76\n",
      "07/30/2018 18:41:00 Variational SMC ELBO=-2.06613164e+04 at epoch 77\n",
      "07/30/2018 18:41:00 Variational SMC ELBO=-2.17232461e+04 at epoch 78\n",
      "07/30/2018 18:41:01 Variational SMC ELBO=-1.93524082e+04 at epoch 79\n",
      "07/30/2018 18:41:01 Variational SMC ELBO=-1.93031348e+04 at epoch 80\n",
      "07/30/2018 18:41:02 Variational SMC ELBO=-1.81486426e+04 at epoch 81\n",
      "07/30/2018 18:41:02 Variational SMC ELBO=-1.70374395e+04 at epoch 82\n",
      "07/30/2018 18:41:02 Variational SMC ELBO=-1.72247168e+04 at epoch 83\n",
      "07/30/2018 18:41:03 Variational SMC ELBO=-1.54056416e+04 at epoch 84\n",
      "07/30/2018 18:41:03 Variational SMC ELBO=-2.50896133e+04 at epoch 85\n",
      "07/30/2018 18:41:04 Variational SMC ELBO=-1.50631162e+04 at epoch 86\n",
      "07/30/2018 18:41:04 Variational SMC ELBO=-1.87300801e+04 at epoch 87\n",
      "07/30/2018 18:41:05 Variational SMC ELBO=-1.69573184e+04 at epoch 88\n",
      "07/30/2018 18:41:05 Variational SMC ELBO=-2.31871152e+04 at epoch 89\n",
      "07/30/2018 18:41:06 Variational SMC ELBO=-1.80150371e+04 at epoch 90\n",
      "07/30/2018 18:41:06 Variational SMC ELBO=-2.09669492e+04 at epoch 91\n",
      "07/30/2018 18:41:07 Variational SMC ELBO=-2.13505254e+04 at epoch 92\n",
      "07/30/2018 18:41:07 Variational SMC ELBO=-1.93862148e+04 at epoch 93\n",
      "07/30/2018 18:41:08 Variational SMC ELBO=-1.63658145e+04 at epoch 94\n",
      "07/30/2018 18:41:08 Variational SMC ELBO=-1.90448965e+04 at epoch 95\n",
      "07/30/2018 18:41:09 Variational SMC ELBO=-2.05827891e+04 at epoch 96\n",
      "07/30/2018 18:41:09 Variational SMC ELBO=-1.88612266e+04 at epoch 97\n",
      "07/30/2018 18:41:10 Variational SMC ELBO=-1.82465449e+04 at epoch 98\n",
      "07/30/2018 18:41:10 Variational SMC ELBO=-1.82046445e+04 at epoch 99\n",
      "07/30/2018 18:41:11 Variational SMC ELBO=-1.81693809e+04 at epoch 100\n",
      "07/30/2018 18:41:11 Variational SMC ELBO=-2.20316309e+04 at epoch 101\n",
      "07/30/2018 18:41:12 Variational SMC ELBO=-1.80843652e+04 at epoch 102\n",
      "07/30/2018 18:41:12 Variational SMC ELBO=-2.22180938e+04 at epoch 103\n",
      "07/30/2018 18:41:13 Variational SMC ELBO=-1.56941074e+04 at epoch 104\n",
      "07/30/2018 18:41:13 Variational SMC ELBO=-1.96748555e+04 at epoch 105\n",
      "07/30/2018 18:41:13 Variational SMC ELBO=-1.84680234e+04 at epoch 106\n",
      "07/30/2018 18:41:14 Variational SMC ELBO=-2.04494180e+04 at epoch 107\n",
      "07/30/2018 18:41:14 Variational SMC ELBO=-2.37244160e+04 at epoch 108\n",
      "07/30/2018 18:41:15 Variational SMC ELBO=-2.25441699e+04 at epoch 109\n",
      "07/30/2018 18:41:15 Variational SMC ELBO=-2.05210098e+04 at epoch 110\n",
      "07/30/2018 18:41:16 Variational SMC ELBO=-1.84530625e+04 at epoch 111\n",
      "07/30/2018 18:41:16 Variational SMC ELBO=-1.52231299e+04 at epoch 112\n",
      "07/30/2018 18:41:17 Variational SMC ELBO=-1.57963115e+04 at epoch 113\n",
      "07/30/2018 18:41:17 Variational SMC ELBO=-1.90219160e+04 at epoch 114\n",
      "07/30/2018 18:41:18 Variational SMC ELBO=-1.66938496e+04 at epoch 115\n",
      "07/30/2018 18:41:18 Variational SMC ELBO=-1.65038613e+04 at epoch 116\n",
      "07/30/2018 18:41:19 Variational SMC ELBO=-1.35699150e+04 at epoch 117\n",
      "07/30/2018 18:41:19 Variational SMC ELBO=-1.92231484e+04 at epoch 118\n",
      "07/30/2018 18:41:20 Variational SMC ELBO=-1.76996875e+04 at epoch 119\n",
      "07/30/2018 18:41:20 Variational SMC ELBO=-2.16791816e+04 at epoch 120\n",
      "07/30/2018 18:41:21 Variational SMC ELBO=-2.19358535e+04 at epoch 121\n",
      "07/30/2018 18:41:21 Variational SMC ELBO=-2.35268457e+04 at epoch 122\n",
      "07/30/2018 18:41:22 Variational SMC ELBO=-2.02239473e+04 at epoch 123\n",
      "07/30/2018 18:41:22 Variational SMC ELBO=-1.58943154e+04 at epoch 124\n",
      "07/30/2018 18:41:23 Variational SMC ELBO=-2.18624336e+04 at epoch 125\n",
      "07/30/2018 18:41:23 Variational SMC ELBO=-2.13364316e+04 at epoch 126\n",
      "07/30/2018 18:41:23 Variational SMC ELBO=-2.16990879e+04 at epoch 127\n",
      "07/30/2018 18:41:24 Variational SMC ELBO=-1.80895918e+04 at epoch 128\n",
      "07/30/2018 18:41:24 Variational SMC ELBO=-1.46261602e+04 at epoch 129\n",
      "07/30/2018 18:41:25 Variational SMC ELBO=-1.94872617e+04 at epoch 130\n",
      "07/30/2018 18:41:25 Variational SMC ELBO=-2.44802949e+04 at epoch 131\n",
      "07/30/2018 18:41:26 Variational SMC ELBO=-2.11566641e+04 at epoch 132\n",
      "07/30/2018 18:41:26 Variational SMC ELBO=-1.65877266e+04 at epoch 133\n",
      "07/30/2018 18:41:27 Variational SMC ELBO=-2.18888477e+04 at epoch 134\n",
      "07/30/2018 18:41:27 Variational SMC ELBO=-2.31286445e+04 at epoch 135\n",
      "07/30/2018 18:41:28 Variational SMC ELBO=-1.75298398e+04 at epoch 136\n",
      "07/30/2018 18:41:28 Variational SMC ELBO=-1.84172422e+04 at epoch 137\n",
      "07/30/2018 18:41:29 Variational SMC ELBO=-2.09733438e+04 at epoch 138\n",
      "07/30/2018 18:41:29 Variational SMC ELBO=-1.59002529e+04 at epoch 139\n",
      "07/30/2018 18:41:30 Variational SMC ELBO=-1.83361777e+04 at epoch 140\n",
      "07/30/2018 18:41:30 Variational SMC ELBO=-2.06726250e+04 at epoch 141\n",
      "07/30/2018 18:41:31 Variational SMC ELBO=-2.00389492e+04 at epoch 142\n",
      "07/30/2018 18:41:31 Variational SMC ELBO=-1.87157910e+04 at epoch 143\n",
      "07/30/2018 18:41:32 Variational SMC ELBO=-1.84892266e+04 at epoch 144\n",
      "07/30/2018 18:41:32 Variational SMC ELBO=-1.94667949e+04 at epoch 145\n",
      "07/30/2018 18:41:33 Variational SMC ELBO=-2.09724980e+04 at epoch 146\n",
      "07/30/2018 18:41:33 Variational SMC ELBO=-2.10047949e+04 at epoch 147\n",
      "07/30/2018 18:41:34 Variational SMC ELBO=-2.03113906e+04 at epoch 148\n",
      "07/30/2018 18:41:34 Variational SMC ELBO=-1.76092266e+04 at epoch 149\n",
      "07/30/2018 18:41:35 Variational SMC ELBO=-1.87405547e+04 at epoch 150\n",
      "07/30/2018 18:41:35 Variational SMC ELBO=-2.31286914e+04 at epoch 151\n",
      "07/30/2018 18:41:35 Variational SMC ELBO=-1.69232637e+04 at epoch 152\n",
      "07/30/2018 18:41:36 Variational SMC ELBO=-1.96056055e+04 at epoch 153\n",
      "07/30/2018 18:41:36 Variational SMC ELBO=-1.88400332e+04 at epoch 154\n",
      "07/30/2018 18:41:37 Variational SMC ELBO=-1.94363281e+04 at epoch 155\n",
      "07/30/2018 18:41:37 Variational SMC ELBO=-1.63023213e+04 at epoch 156\n",
      "07/30/2018 18:41:38 Variational SMC ELBO=-1.92798027e+04 at epoch 157\n",
      "07/30/2018 18:41:38 Variational SMC ELBO=-1.67314180e+04 at epoch 158\n",
      "07/30/2018 18:41:39 Variational SMC ELBO=-1.59144053e+04 at epoch 159\n",
      "07/30/2018 18:41:39 Variational SMC ELBO=-2.06207012e+04 at epoch 160\n",
      "07/30/2018 18:41:40 Variational SMC ELBO=-1.79098496e+04 at epoch 161\n",
      "07/30/2018 18:41:40 Variational SMC ELBO=-1.77431797e+04 at epoch 162\n",
      "07/30/2018 18:41:41 Variational SMC ELBO=-1.72874492e+04 at epoch 163\n",
      "07/30/2018 18:41:41 Variational SMC ELBO=-2.41551094e+04 at epoch 164\n",
      "07/30/2018 18:41:42 Variational SMC ELBO=-1.67617676e+04 at epoch 165\n",
      "07/30/2018 18:41:42 Variational SMC ELBO=-1.77908652e+04 at epoch 166\n",
      "07/30/2018 18:41:43 Variational SMC ELBO=-2.19260156e+04 at epoch 167\n",
      "07/30/2018 18:41:43 Variational SMC ELBO=-1.73353457e+04 at epoch 168\n",
      "07/30/2018 18:41:44 Variational SMC ELBO=-1.84580547e+04 at epoch 169\n",
      "07/30/2018 18:41:44 Variational SMC ELBO=-2.20185293e+04 at epoch 170\n",
      "07/30/2018 18:41:45 Variational SMC ELBO=-1.61589531e+04 at epoch 171\n",
      "07/30/2018 18:41:45 Variational SMC ELBO=-1.91346113e+04 at epoch 172\n",
      "07/30/2018 18:41:46 Variational SMC ELBO=-1.84293477e+04 at epoch 173\n",
      "07/30/2018 18:41:46 Variational SMC ELBO=-2.14637363e+04 at epoch 174\n",
      "07/30/2018 18:41:46 Variational SMC ELBO=-2.51194395e+04 at epoch 175\n",
      "07/30/2018 18:41:47 Variational SMC ELBO=-2.13299863e+04 at epoch 176\n",
      "07/30/2018 18:41:47 Variational SMC ELBO=-1.55929961e+04 at epoch 177\n",
      "07/30/2018 18:41:48 Variational SMC ELBO=-1.56732656e+04 at epoch 178\n",
      "07/30/2018 18:41:48 Variational SMC ELBO=-1.61163867e+04 at epoch 179\n",
      "07/30/2018 18:41:49 Variational SMC ELBO=-2.43257285e+04 at epoch 180\n",
      "07/30/2018 18:41:49 Variational SMC ELBO=-2.15061719e+04 at epoch 181\n",
      "07/30/2018 18:41:50 Variational SMC ELBO=-2.20928047e+04 at epoch 182\n",
      "07/30/2018 18:41:50 Variational SMC ELBO=-1.77828418e+04 at epoch 183\n",
      "07/30/2018 18:41:51 Variational SMC ELBO=-2.08978223e+04 at epoch 184\n",
      "07/30/2018 18:41:51 Variational SMC ELBO=-1.91579902e+04 at epoch 185\n",
      "07/30/2018 18:41:52 Variational SMC ELBO=-2.10182969e+04 at epoch 186\n",
      "07/30/2018 18:41:52 Variational SMC ELBO=-1.76131367e+04 at epoch 187\n",
      "07/30/2018 18:41:53 Variational SMC ELBO=-2.20075547e+04 at epoch 188\n",
      "07/30/2018 18:41:53 Variational SMC ELBO=-1.79997324e+04 at epoch 189\n",
      "07/30/2018 18:41:54 Variational SMC ELBO=-1.84976152e+04 at epoch 190\n",
      "07/30/2018 18:41:54 Variational SMC ELBO=-1.81719492e+04 at epoch 191\n",
      "07/30/2018 18:41:55 Variational SMC ELBO=-1.72048262e+04 at epoch 192\n",
      "07/30/2018 18:41:55 Variational SMC ELBO=-1.60999131e+04 at epoch 193\n",
      "07/30/2018 18:41:56 Variational SMC ELBO=-2.10703906e+04 at epoch 194\n",
      "07/30/2018 18:41:56 Variational SMC ELBO=-2.30459316e+04 at epoch 195\n",
      "07/30/2018 18:41:57 Variational SMC ELBO=-2.04112051e+04 at epoch 196\n",
      "07/30/2018 18:41:57 Variational SMC ELBO=-1.48461855e+04 at epoch 197\n",
      "07/30/2018 18:41:57 Variational SMC ELBO=-1.79239922e+04 at epoch 198\n",
      "07/30/2018 18:41:58 Variational SMC ELBO=-1.40247598e+04 at epoch 199\n",
      "07/30/2018 18:41:58 Variational SMC ELBO=-1.85880840e+04 at epoch 200\n",
      "07/30/2018 18:41:59 Variational SMC ELBO=-1.96806836e+04 at epoch 201\n",
      "07/30/2018 18:41:59 Variational SMC ELBO=-1.61374824e+04 at epoch 202\n",
      "07/30/2018 18:42:00 Variational SMC ELBO=-1.71125469e+04 at epoch 203\n",
      "07/30/2018 18:42:00 Variational SMC ELBO=-1.52355400e+04 at epoch 204\n",
      "07/30/2018 18:42:01 Variational SMC ELBO=-1.92215781e+04 at epoch 205\n",
      "07/30/2018 18:42:01 Variational SMC ELBO=-2.63157148e+04 at epoch 206\n",
      "07/30/2018 18:42:02 Variational SMC ELBO=-2.63554395e+04 at epoch 207\n",
      "07/30/2018 18:42:02 Variational SMC ELBO=-2.22903633e+04 at epoch 208\n",
      "07/30/2018 18:42:03 Variational SMC ELBO=-1.83345879e+04 at epoch 209\n",
      "07/30/2018 18:42:03 Variational SMC ELBO=-1.63647910e+04 at epoch 210\n",
      "07/30/2018 18:42:04 Variational SMC ELBO=-2.39369766e+04 at epoch 211\n",
      "07/30/2018 18:42:04 Variational SMC ELBO=-1.83541562e+04 at epoch 212\n",
      "07/30/2018 18:42:05 Variational SMC ELBO=-1.89875312e+04 at epoch 213\n",
      "07/30/2018 18:42:05 Variational SMC ELBO=-2.02325684e+04 at epoch 214\n",
      "07/30/2018 18:42:06 Variational SMC ELBO=-1.81645391e+04 at epoch 215\n",
      "07/30/2018 18:42:06 Variational SMC ELBO=-2.02931875e+04 at epoch 216\n",
      "07/30/2018 18:42:07 Variational SMC ELBO=-1.70944844e+04 at epoch 217\n",
      "07/30/2018 18:42:07 Variational SMC ELBO=-1.67824473e+04 at epoch 218\n",
      "07/30/2018 18:42:07 Variational SMC ELBO=-1.91111465e+04 at epoch 219\n",
      "07/30/2018 18:42:08 Variational SMC ELBO=-2.08591152e+04 at epoch 220\n",
      "07/30/2018 18:42:08 Variational SMC ELBO=-1.50302305e+04 at epoch 221\n",
      "07/30/2018 18:42:09 Variational SMC ELBO=-1.39784521e+04 at epoch 222\n",
      "07/30/2018 18:42:09 Variational SMC ELBO=-1.81608281e+04 at epoch 223\n",
      "07/30/2018 18:42:10 Variational SMC ELBO=-1.81851016e+04 at epoch 224\n",
      "07/30/2018 18:42:10 Variational SMC ELBO=-1.72185137e+04 at epoch 225\n",
      "07/30/2018 18:42:11 Variational SMC ELBO=-2.12111035e+04 at epoch 226\n",
      "07/30/2018 18:42:11 Variational SMC ELBO=-2.02816035e+04 at epoch 227\n",
      "07/30/2018 18:42:12 Variational SMC ELBO=-1.80309883e+04 at epoch 228\n",
      "07/30/2018 18:42:12 Variational SMC ELBO=-2.09068555e+04 at epoch 229\n",
      "07/30/2018 18:42:13 Variational SMC ELBO=-1.58435713e+04 at epoch 230\n",
      "07/30/2018 18:42:13 Variational SMC ELBO=-2.10932559e+04 at epoch 231\n",
      "07/30/2018 18:42:14 Variational SMC ELBO=-2.02581816e+04 at epoch 232\n",
      "07/30/2018 18:42:14 Variational SMC ELBO=-1.89238008e+04 at epoch 233\n",
      "07/30/2018 18:42:15 Variational SMC ELBO=-1.67222070e+04 at epoch 234\n",
      "07/30/2018 18:42:15 Variational SMC ELBO=-2.33282344e+04 at epoch 235\n",
      "07/30/2018 18:42:16 Variational SMC ELBO=-2.01398105e+04 at epoch 236\n",
      "07/30/2018 18:42:16 Variational SMC ELBO=-1.72040039e+04 at epoch 237\n",
      "07/30/2018 18:42:16 Variational SMC ELBO=-1.99276816e+04 at epoch 238\n",
      "07/30/2018 18:42:17 Variational SMC ELBO=-1.67065469e+04 at epoch 239\n",
      "07/30/2018 18:42:17 Variational SMC ELBO=-1.55217002e+04 at epoch 240\n",
      "07/30/2018 18:42:18 Variational SMC ELBO=-1.57422051e+04 at epoch 241\n",
      "07/30/2018 18:42:18 Variational SMC ELBO=-1.79598164e+04 at epoch 242\n",
      "07/30/2018 18:42:19 Variational SMC ELBO=-1.94411973e+04 at epoch 243\n",
      "07/30/2018 18:42:19 Variational SMC ELBO=-2.08408223e+04 at epoch 244\n",
      "07/30/2018 18:42:20 Variational SMC ELBO=-1.74463672e+04 at epoch 245\n",
      "07/30/2018 18:42:20 Variational SMC ELBO=-2.20774980e+04 at epoch 246\n",
      "07/30/2018 18:42:21 Variational SMC ELBO=-1.91527090e+04 at epoch 247\n",
      "07/30/2018 18:42:21 Variational SMC ELBO=-1.71927910e+04 at epoch 248\n",
      "07/30/2018 18:42:22 Variational SMC ELBO=-1.70415195e+04 at epoch 249\n",
      "07/30/2018 18:42:22 Variational SMC ELBO=-1.43155771e+04 at epoch 250\n",
      "07/30/2018 18:42:23 Variational SMC ELBO=-2.06161035e+04 at epoch 251\n",
      "07/30/2018 18:42:23 Variational SMC ELBO=-1.70570234e+04 at epoch 252\n",
      "07/30/2018 18:42:24 Variational SMC ELBO=-1.84559316e+04 at epoch 253\n",
      "07/30/2018 18:42:24 Variational SMC ELBO=-1.42917422e+04 at epoch 254\n",
      "07/30/2018 18:42:25 Variational SMC ELBO=-1.93407109e+04 at epoch 255\n"
     ]
    }
   ],
   "source": [
    "inference, init_ssm_params = smc.variational_smc(num_particles, init_ssm, smc_runner, 500, generative,\n",
    "                                                 use_cuda=True, lr=1e-2)"
   ]
  },
  {
   "cell_type": "code",
   "execution_count": null,
   "metadata": {},
   "outputs": [],
   "source": [
    "for t in range(1, zs.shape[1]):\n",
    "    key = 'Z_%d' % t\n",
    "    accuracy = ((inference[key].value - utils.optional_to(generative[key], inference[key].value))**2).mean()\n",
    "    print('SMC MSE at time %d: %f' % (t, accuracy))"
   ]
  },
  {
   "cell_type": "code",
   "execution_count": null,
   "metadata": {},
   "outputs": [],
   "source": [
    "particle_mh = smc.ParticleMH(combinators.Model(ssm.init_ssm, hyper=ssm_params), smc_runner, num_particles)"
   ]
  },
  {
   "cell_type": "code",
   "execution_count": null,
   "metadata": {},
   "outputs": [],
   "source": [
    "samples, elbos = particle_mh(trace=importance.ResamplerTrace(num_particles), guide=generative)\n",
    "inference = particle_mh.trace"
   ]
  },
  {
   "cell_type": "code",
   "execution_count": null,
   "metadata": {},
   "outputs": [],
   "source": [
    "inference"
   ]
  },
  {
   "cell_type": "code",
   "execution_count": null,
   "metadata": {},
   "outputs": [],
   "source": [
    "generative"
   ]
  },
  {
   "cell_type": "code",
   "execution_count": null,
   "metadata": {},
   "outputs": [],
   "source": [
    "for t in range(1, zs.shape[1]):\n",
    "    key = 'Z_%d' % t\n",
    "    accuracy = ((inference[key].value - utils.optional_to(generative[key], inference[key].value))**2).mean()\n",
    "    print('SMC MSE at time %d: %f' % (t, accuracy))"
   ]
  },
  {
   "cell_type": "code",
   "execution_count": null,
   "metadata": {},
   "outputs": [],
   "source": [
    "elbos"
   ]
  },
  {
   "cell_type": "code",
   "execution_count": null,
   "metadata": {},
   "outputs": [],
   "source": []
  }
 ],
 "metadata": {
  "kernelspec": {
   "display_name": "Python [conda env:funcytorch]",
   "language": "python",
   "name": "conda-env-funcytorch-py"
  },
  "language_info": {
   "codemirror_mode": {
    "name": "ipython",
    "version": 3
   },
   "file_extension": ".py",
   "mimetype": "text/x-python",
   "name": "python",
   "nbconvert_exporter": "python",
   "pygments_lexer": "ipython3",
   "version": "3.6.5"
  }
 },
 "nbformat": 4,
 "nbformat_minor": 2
}
