{
 "cells": [
  {
   "cell_type": "code",
   "execution_count": 1,
   "metadata": {},
   "outputs": [],
   "source": [
    "import logging\n",
    "\n",
    "import probtorch\n",
    "import torch\n",
    "\n",
    "import combinators\n",
    "import importance\n",
    "import mcmc\n",
    "import smc\n",
    "import ssm\n",
    "import utils"
   ]
  },
  {
   "cell_type": "code",
   "execution_count": 2,
   "metadata": {},
   "outputs": [],
   "source": [
    "logging.basicConfig(format='%(asctime)s %(message)s', datefmt='%m/%d/%Y %H:%M:%S',\n",
    "                    level=logging.INFO)"
   ]
  },
  {
   "cell_type": "code",
   "execution_count": 3,
   "metadata": {},
   "outputs": [],
   "source": [
    "generative = combinators.ParticleTrace(1)"
   ]
  },
  {
   "cell_type": "code",
   "execution_count": 4,
   "metadata": {},
   "outputs": [],
   "source": [
    "mu = torch.zeros(1)\n",
    "sigma = torch.ones(1) / 2\n",
    "delta = torch.ones(1)\n",
    "zs = torch.ones(50+1) * -1\n",
    "zs[0] = 0"
   ]
  },
  {
   "cell_type": "code",
   "execution_count": 5,
   "metadata": {},
   "outputs": [],
   "source": [
    "ssm_step = combinators.Model(ssm.ssm_step)"
   ]
  },
  {
   "cell_type": "code",
   "execution_count": 6,
   "metadata": {},
   "outputs": [],
   "source": [
    "for t in range(zs.shape[0] - 1):\n",
    "    zs[t+1], mu, sigma, delta = ssm_step((zs[t], mu, sigma, delta), t, trace=generative)"
   ]
  },
  {
   "cell_type": "code",
   "execution_count": 7,
   "metadata": {},
   "outputs": [],
   "source": [
    "data = generative.unwrap(lambda k, rv: 'X_' in k)"
   ]
  },
  {
   "cell_type": "code",
   "execution_count": 8,
   "metadata": {},
   "outputs": [],
   "source": [
    "num_particles = 100"
   ]
  },
  {
   "cell_type": "code",
   "execution_count": 9,
   "metadata": {},
   "outputs": [],
   "source": [
    "ssm_params = {\n",
    "    'mu': {\n",
    "        'loc': torch.tensor(0.),\n",
    "        'scale': torch.tensor(0.25),\n",
    "    },\n",
    "    'sigma': {\n",
    "        'loc': torch.tensor(1.),\n",
    "        'scale': torch.tensor(0.25),\n",
    "    },\n",
    "    'delta': {\n",
    "        'loc': torch.tensor(0.),\n",
    "        'scale': torch.tensor(0.25),\n",
    "    }\n",
    "}"
   ]
  },
  {
   "cell_type": "code",
   "execution_count": 10,
   "metadata": {},
   "outputs": [],
   "source": [
    "init_ssm_generative = combinators.Model(ssm.init_ssm, hyper=ssm_params)\n",
    "smc_ssm = smc.SequentialMonteCarlo(combinators.Model(ssm.ssm_step), 50, initializer=init_ssm_generative)"
   ]
  },
  {
   "cell_type": "code",
   "execution_count": 11,
   "metadata": {},
   "outputs": [],
   "source": [
    "init_ssm_proposal = combinators.Model(ssm.init_ssm, trainable=ssm_params)\n",
    "ssm_step_proposal = combinators.Model(ssm.ssm_step)\n",
    "ssm_proposal = combinators.Model.compose(combinators.Model.sequence(ssm_step_proposal, 50),\n",
    "                                         init_ssm_proposal, intermediate_name='initializer')"
   ]
  },
  {
   "cell_type": "code",
   "execution_count": 12,
   "metadata": {},
   "outputs": [],
   "source": [
    "ssm_importance = importance.ImportanceSampler(model=smc_ssm, proposal=ssm_proposal)"
   ]
  },
  {
   "cell_type": "code",
   "execution_count": null,
   "metadata": {},
   "outputs": [
    {
     "name": "stdout",
     "output_type": "stream",
     "text": [
      "> /home/eli/AnacondaProjects/combinators/smc.py(73)variational_smc()\n",
      "-> sampler.simulate(trace=ResamplerTrace(num_particles, data=data),\n",
      "OrderedDict([('X_1', tensor(3.3037)), ('X_2', tensor(1.0082)), ('X_3', tensor(1.2351)), ('X_4', tensor(2.9516)), ('X_5', tensor(2.7404)), ('X_6', tensor(5.9015)), ('X_7', tensor(5.8797)), ('X_8', tensor(5.9043)), ('X_9', tensor(6.5513)), ('X_10', tensor(10.1426)), ('X_11', tensor(9.4824)), ('X_12', tensor(8.0535)), ('X_13', tensor(7.1640)), ('X_14', tensor(9.1269)), ('X_15', tensor(10.1310)), ('X_16', tensor(7.9248)), ('X_17', tensor(10.8658)), ('X_18', tensor(13.4717)), ('X_19', tensor(11.5273)), ('X_20', tensor(12.4471)), ('X_21', tensor(13.6567)), ('X_22', tensor(13.9297)), ('X_23', tensor(15.6730)), ('X_24', tensor(12.0968)), ('X_25', tensor(13.8379)), ('X_26', tensor(14.0255)), ('X_27', tensor(17.8572)), ('X_28', tensor(20.2927)), ('X_29', tensor(21.4752)), ('X_30', tensor(24.0168)), ('X_31', tensor(24.1006)), ('X_32', tensor(24.0562)), ('X_33', tensor(24.9401)), ('X_34', tensor(27.5621)), ('X_35', tensor(32.1013)), ('X_36', tensor(31.1040)), ('X_37', tensor(32.0935)), ('X_38', tensor(29.8343)), ('X_39', tensor(31.5462)), ('X_40', tensor(31.8016)), ('X_41', tensor(35.1686)), ('X_42', tensor(36.1668)), ('X_43', tensor(35.4475)), ('X_44', tensor(36.1121)), ('X_45', tensor(37.2191)), ('X_46', tensor(38.5104)), ('X_47', tensor(41.1006)), ('X_48', tensor(41.8287)), ('X_49', tensor(42.2610)), ('X_50', tensor(43.3863))])\n",
      "--Call--\n",
      "> /home/eli/AnacondaProjects/combinators/importance.py(81)__init__()\n",
      "-> def __init__(self, num_particles=1, guide=None, data=None,\n",
      "> /home/eli/AnacondaProjects/combinators/importance.py(83)__init__()\n",
      "-> if ancestor is not None:\n",
      "> /home/eli/AnacondaProjects/combinators/importance.py(87)__init__()\n",
      "-> super(ResamplerTrace, self).__init__(num_particles, guide=guide,\n",
      "> /home/eli/AnacondaProjects/combinators/importance.py(88)__init__()\n",
      "-> data=data)\n",
      "> /home/eli/AnacondaProjects/combinators/importance.py(89)__init__()\n",
      "-> self._ancestor = ancestor\n",
      "> /home/eli/AnacondaProjects/combinators/importance.py(90)__init__()\n",
      "-> if isinstance(ancestor_indices, torch.Tensor):\n",
      "> /home/eli/AnacondaProjects/combinators/importance.py(93)__init__()\n",
      "-> self._ancestor_indices = torch.arange(self._num_particles,\n",
      "> /home/eli/AnacondaProjects/combinators/importance.py(94)__init__()\n",
      "-> dtype=torch.long)\n",
      "> /home/eli/AnacondaProjects/combinators/importance.py(95)__init__()\n",
      "-> self._fresh_variables = set()\n",
      "> /home/eli/AnacondaProjects/combinators/importance.py(96)__init__()\n",
      "-> if ancestor:\n",
      "--Return--\n",
      "> /home/eli/AnacondaProjects/combinators/importance.py(96)__init__()->None\n",
      "-> if ancestor:\n",
      "> /home/eli/AnacondaProjects/combinators/smc.py(74)variational_smc()\n",
      "-> proposal_guides=not inclusive_kl,\n",
      "True\n",
      "> /home/eli/AnacondaProjects/combinators/smc.py(75)variational_smc()\n",
      "-> reparameterized=False)\n",
      "--Call--\n",
      "> /home/eli/AnacondaProjects/combinators/combinators.py(311)simulate()\n",
      "-> def simulate(self, *args, **kwargs):\n",
      "> /home/eli/AnacondaProjects/combinators/combinators.py(312)simulate()\n",
      "-> if 'trace' not in kwargs:\n",
      "> /home/eli/AnacondaProjects/combinators/combinators.py(314)simulate()\n",
      "-> reparameterized = kwargs.pop('reparameterized', True)\n",
      "> /home/eli/AnacondaProjects/combinators/combinators.py(316)simulate()\n",
      "-> result = self.forward(*args, **kwargs)\n",
      "False\n",
      "{'trace': Trace{}, 'proposal_guides': True}\n",
      "--Call--\n",
      "> /home/eli/AnacondaProjects/combinators/importance.py(20)forward()\n",
      "-> def forward(self, *args, **kwargs):\n",
      "> /home/eli/AnacondaProjects/combinators/importance.py(21)forward()\n",
      "-> kwargs['separate_traces'] = True\n",
      "> /home/eli/AnacondaProjects/combinators/importance.py(22)forward()\n",
      "-> if self.parent:\n",
      "> /home/eli/AnacondaProjects/combinators/importance.py(25)forward()\n",
      "-> if kwargs.pop('proposal_guides', True):\n",
      "> /home/eli/AnacondaProjects/combinators/importance.py(26)forward()\n",
      "-> if self.proposal:\n",
      "True\n",
      "> /home/eli/AnacondaProjects/combinators/importance.py(27)forward()\n",
      "-> self._proposal(*args, **kwargs)\n",
      "Model(\n",
      "  (init_ssm): Model()\n",
      "  (wrapper): Model(\n",
      "    (ssm_step): Model()\n",
      "  )\n",
      ")\n",
      "<generator object Module.named_parameters at 0x7f3d4f28db48>\n",
      "{'delta__loc': Parameter containing:\n",
      "tensor(0., device='cuda:0', requires_grad=True), 'delta__scale': Parameter containing:\n",
      "tensor(0.2500, device='cuda:0', requires_grad=True), 'mu__loc': Parameter containing:\n",
      "tensor(0., device='cuda:0', requires_grad=True), 'mu__scale': Parameter containing:\n",
      "tensor(0.2500, device='cuda:0', requires_grad=True), 'sigma__loc': Parameter containing:\n",
      "tensor(1., device='cuda:0', requires_grad=True), 'sigma__scale': Parameter containing:\n",
      "tensor(0.2500, device='cuda:0', requires_grad=True)}\n",
      "{}\n",
      "> /home/eli/AnacondaProjects/combinators/importance.py(29)forward()\n",
      "-> inference = self._proposal.trace\n",
      "Trace{'Z_1': Normal([torch.cuda.FloatTensor of size 100]), 'X_1': Normal([torch.cuda.FloatTensor of size 100]), 'Z_2': Normal([torch.cuda.FloatTensor of size 100]), 'X_2': Normal([torch.cuda.FloatTensor of size 100]), 'Z_3': Normal([torch.cuda.FloatTensor of size 100]), 'X_3': Normal([torch.cuda.FloatTensor of size 100]), 'Z_4': Normal([torch.cuda.FloatTensor of size 100]), 'X_4': Normal([torch.cuda.FloatTensor of size 100]), 'Z_5': Normal([torch.cuda.FloatTensor of size 100]), 'X_5': Normal([torch.cuda.FloatTensor of size 100]), 'Z_6': Normal([torch.cuda.FloatTensor of size 100]), 'X_6': Normal([torch.cuda.FloatTensor of size 100]), 'Z_7': Normal([torch.cuda.FloatTensor of size 100]), 'X_7': Normal([torch.cuda.FloatTensor of size 100]), 'Z_8': Normal([torch.cuda.FloatTensor of size 100]), 'X_8': Normal([torch.cuda.FloatTensor of size 100]), 'Z_9': Normal([torch.cuda.FloatTensor of size 100]), 'X_9': Normal([torch.cuda.FloatTensor of size 100]), 'Z_10': Normal([torch.cuda.FloatTensor of size 100]), 'X_10': Normal([torch.cuda.FloatTensor of size 100]), 'Z_11': Normal([torch.cuda.FloatTensor of size 100]), 'X_11': Normal([torch.cuda.FloatTensor of size 100]), 'Z_12': Normal([torch.cuda.FloatTensor of size 100]), 'X_12': Normal([torch.cuda.FloatTensor of size 100]), 'Z_13': Normal([torch.cuda.FloatTensor of size 100]), 'X_13': Normal([torch.cuda.FloatTensor of size 100]), 'Z_14': Normal([torch.cuda.FloatTensor of size 100]), 'X_14': Normal([torch.cuda.FloatTensor of size 100]), 'Z_15': Normal([torch.cuda.FloatTensor of size 100]), 'X_15': Normal([torch.cuda.FloatTensor of size 100]), 'Z_16': Normal([torch.cuda.FloatTensor of size 100]), 'X_16': Normal([torch.cuda.FloatTensor of size 100]), 'Z_17': Normal([torch.cuda.FloatTensor of size 100]), 'X_17': Normal([torch.cuda.FloatTensor of size 100]), 'Z_18': Normal([torch.cuda.FloatTensor of size 100]), 'X_18': Normal([torch.cuda.FloatTensor of size 100]), 'Z_19': Normal([torch.cuda.FloatTensor of size 100]), 'X_19': Normal([torch.cuda.FloatTensor of size 100]), 'Z_20': Normal([torch.cuda.FloatTensor of size 100]), 'X_20': Normal([torch.cuda.FloatTensor of size 100]), 'Z_21': Normal([torch.cuda.FloatTensor of size 100]), 'X_21': Normal([torch.cuda.FloatTensor of size 100]), 'Z_22': Normal([torch.cuda.FloatTensor of size 100]), 'X_22': Normal([torch.cuda.FloatTensor of size 100]), 'Z_23': Normal([torch.cuda.FloatTensor of size 100]), 'X_23': Normal([torch.cuda.FloatTensor of size 100]), 'Z_24': Normal([torch.cuda.FloatTensor of size 100]), 'X_24': Normal([torch.cuda.FloatTensor of size 100]), 'Z_25': Normal([torch.cuda.FloatTensor of size 100]), 'X_25': Normal([torch.cuda.FloatTensor of size 100]), 'Z_26': Normal([torch.cuda.FloatTensor of size 100]), 'X_26': Normal([torch.cuda.FloatTensor of size 100]), 'Z_27': Normal([torch.cuda.FloatTensor of size 100]), 'X_27': Normal([torch.cuda.FloatTensor of size 100]), 'Z_28': Normal([torch.cuda.FloatTensor of size 100]), 'X_28': Normal([torch.cuda.FloatTensor of size 100]), 'Z_29': Normal([torch.cuda.FloatTensor of size 100]), 'X_29': Normal([torch.cuda.FloatTensor of size 100]), 'Z_30': Normal([torch.cuda.FloatTensor of size 100]), 'X_30': Normal([torch.cuda.FloatTensor of size 100]), 'Z_31': Normal([torch.cuda.FloatTensor of size 100]), 'X_31': Normal([torch.cuda.FloatTensor of size 100]), 'Z_32': Normal([torch.cuda.FloatTensor of size 100]), 'X_32': Normal([torch.cuda.FloatTensor of size 100]), 'Z_33': Normal([torch.cuda.FloatTensor of size 100]), 'X_33': Normal([torch.cuda.FloatTensor of size 100]), 'Z_34': Normal([torch.cuda.FloatTensor of size 100]), 'X_34': Normal([torch.cuda.FloatTensor of size 100]), 'Z_35': Normal([torch.cuda.FloatTensor of size 100]), 'X_35': Normal([torch.cuda.FloatTensor of size 100]), 'Z_36': Normal([torch.cuda.FloatTensor of size 100]), 'X_36': Normal([torch.cuda.FloatTensor of size 100]), 'Z_37': Normal([torch.cuda.FloatTensor of size 100]), 'X_37': Normal([torch.cuda.FloatTensor of size 100]), 'Z_38': Normal([torch.cuda.FloatTensor of size 100]), 'X_38': Normal([torch.cuda.FloatTensor of size 100]), 'Z_39': Normal([torch.cuda.FloatTensor of size 100]), 'X_39': Normal([torch.cuda.FloatTensor of size 100]), 'Z_40': Normal([torch.cuda.FloatTensor of size 100]), 'X_40': Normal([torch.cuda.FloatTensor of size 100]), 'Z_41': Normal([torch.cuda.FloatTensor of size 100]), 'X_41': Normal([torch.cuda.FloatTensor of size 100]), 'Z_42': Normal([torch.cuda.FloatTensor of size 100]), 'X_42': Normal([torch.cuda.FloatTensor of size 100]), 'Z_43': Normal([torch.cuda.FloatTensor of size 100]), 'X_43': Normal([torch.cuda.FloatTensor of size 100]), 'Z_44': Normal([torch.cuda.FloatTensor of size 100]), 'X_44': Normal([torch.cuda.FloatTensor of size 100]), 'Z_45': Normal([torch.cuda.FloatTensor of size 100]), 'X_45': Normal([torch.cuda.FloatTensor of size 100]), 'Z_46': Normal([torch.cuda.FloatTensor of size 100]), 'X_46': Normal([torch.cuda.FloatTensor of size 100]), 'Z_47': Normal([torch.cuda.FloatTensor of size 100]), 'X_47': Normal([torch.cuda.FloatTensor of size 100]), 'Z_48': Normal([torch.cuda.FloatTensor of size 100]), 'X_48': Normal([torch.cuda.FloatTensor of size 100]), 'Z_49': Normal([torch.cuda.FloatTensor of size 100]), 'X_49': Normal([torch.cuda.FloatTensor of size 100]), 'Z_50': Normal([torch.cuda.FloatTensor of size 100]), 'X_50': Normal([torch.cuda.FloatTensor of size 100])}\n"
     ]
    }
   ],
   "source": [
    "inference, init_ssm_params = smc.variational_smc(num_particles, ssm_importance, 500, data,\n",
    "                                                 use_cuda=True, lr=1e-1)"
   ]
  },
  {
   "cell_type": "code",
   "execution_count": null,
   "metadata": {},
   "outputs": [],
   "source": [
    "for t in range(1, zs.shape[0]):\n",
    "    key = 'Z_%d' % t\n",
    "    accuracy = ((inference[key].value - utils.optional_to(generative[key], inference[key].value))**2).mean()\n",
    "    print('SMC MSE at time %d: %f' % (t, accuracy))"
   ]
  },
  {
   "cell_type": "code",
   "execution_count": null,
   "metadata": {},
   "outputs": [],
   "source": [
    "particle_mh = mcmc.IndependentMH(smc_ssm, ssm_proposal, 1000)"
   ]
  },
  {
   "cell_type": "code",
   "execution_count": null,
   "metadata": {},
   "outputs": [],
   "source": [
    "samples, elbos = particle_mh(trace=importance.ResamplerTrace(num_particles, data=data))\n",
    "inference = particle_mh.trace"
   ]
  },
  {
   "cell_type": "code",
   "execution_count": null,
   "metadata": {},
   "outputs": [],
   "source": [
    "inference"
   ]
  },
  {
   "cell_type": "code",
   "execution_count": null,
   "metadata": {},
   "outputs": [],
   "source": [
    "generative"
   ]
  },
  {
   "cell_type": "code",
   "execution_count": null,
   "metadata": {},
   "outputs": [],
   "source": [
    "for t in range(1, zs.shape[0]):\n",
    "    key = 'Z_%d' % t\n",
    "    accuracy = ((inference[key].value - utils.optional_to(generative[key], inference[key].value))**2).mean()\n",
    "    print('SMC MSE at time %d: %f' % (t, accuracy))"
   ]
  },
  {
   "cell_type": "code",
   "execution_count": null,
   "metadata": {},
   "outputs": [],
   "source": [
    "elbos"
   ]
  },
  {
   "cell_type": "code",
   "execution_count": null,
   "metadata": {},
   "outputs": [],
   "source": []
  },
  {
   "cell_type": "code",
   "execution_count": null,
   "metadata": {},
   "outputs": [],
   "source": []
  }
 ],
 "metadata": {
  "kernelspec": {
   "display_name": "Python [conda env:funcytorch]",
   "language": "python",
   "name": "conda-env-funcytorch-py"
  },
  "language_info": {
   "codemirror_mode": {
    "name": "ipython",
    "version": 3
   },
   "file_extension": ".py",
   "mimetype": "text/x-python",
   "name": "python",
   "nbconvert_exporter": "python",
   "pygments_lexer": "ipython3",
   "version": "3.6.5"
  }
 },
 "nbformat": 4,
 "nbformat_minor": 2
}
