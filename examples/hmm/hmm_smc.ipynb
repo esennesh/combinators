{
 "cells": [
  {
   "cell_type": "code",
   "execution_count": 1,
   "metadata": {},
   "outputs": [],
   "source": [
    "from discopy import PRO, Ty\n",
    "from functools import reduce\n",
    "import logging\n",
    "import matplotlib.pyplot as plt\n",
    "import numpy as np\n",
    "import torch"
   ]
  },
  {
   "cell_type": "code",
   "execution_count": 2,
   "metadata": {},
   "outputs": [
    {
     "name": "stdout",
     "output_type": "stream",
     "text": [
      "/home/eli/AnacondaProjects/combinators\n"
     ]
    }
   ],
   "source": [
    "%cd ../.."
   ]
  },
  {
   "cell_type": "code",
   "execution_count": 3,
   "metadata": {},
   "outputs": [],
   "source": [
    "from combinators import lens, sampler, utils\n",
    "from combinators.inference import conditioning, resample\n",
    "from combinators.model import collections\n",
    "import examples.hmm.hmm as hmm"
   ]
  },
  {
   "cell_type": "code",
   "execution_count": 4,
   "metadata": {},
   "outputs": [],
   "source": [
    "state_params = {\n",
    "    'mu': (torch.arange(5, dtype=torch.float) * 2).expand(2, 5).t(),\n",
    "    'concentration': torch.ones(5, 2) * 2,\n",
    "    'rate': torch.ones(5, 2) * 2,\n",
    "}"
   ]
  },
  {
   "cell_type": "code",
   "execution_count": 5,
   "metadata": {},
   "outputs": [],
   "source": [
    "prior = sampler.importance_box('hmm_parameters', hmm.Parameters(5, 2, state_params), None, (1,), lens.LensPRO(0), PRO(4) & Ty())\n",
    "hmm_step = sampler.importance_box('hmm_step', hmm.TransitionAndEmission(), None, (1,), PRO(4) & Ty(), PRO(4) & Ty())"
   ]
  },
  {
   "cell_type": "code",
   "execution_count": 6,
   "metadata": {},
   "outputs": [],
   "source": [
    "chain = collections.sequential(hmm_step, 50)"
   ]
  },
  {
   "cell_type": "code",
   "execution_count": 7,
   "metadata": {},
   "outputs": [],
   "source": [
    "hmm_model = prior >> chain\n",
    "hmm_sampler = hmm_model.compile()"
   ]
  },
  {
   "cell_type": "code",
   "execution_count": 8,
   "metadata": {},
   "outputs": [],
   "source": [
    "_, trace = hmm_model.trace(hmm_sampler)"
   ]
  },
  {
   "cell_type": "code",
   "execution_count": 9,
   "metadata": {},
   "outputs": [],
   "source": [
    "_, p = trace.fold()"
   ]
  },
  {
   "cell_type": "code",
   "execution_count": 10,
   "metadata": {},
   "outputs": [],
   "source": [
    "zs = [p[k].value for k in p if 'z' in k]"
   ]
  },
  {
   "cell_type": "code",
   "execution_count": 11,
   "metadata": {},
   "outputs": [
    {
     "data": {
      "text/plain": [
       "[tensor([3]),\n",
       " tensor([3]),\n",
       " tensor([1]),\n",
       " tensor([2]),\n",
       " tensor([0]),\n",
       " tensor([2]),\n",
       " tensor([0]),\n",
       " tensor([2]),\n",
       " tensor([0]),\n",
       " tensor([2]),\n",
       " tensor([0]),\n",
       " tensor([2]),\n",
       " tensor([3]),\n",
       " tensor([2]),\n",
       " tensor([1]),\n",
       " tensor([3]),\n",
       " tensor([3]),\n",
       " tensor([1]),\n",
       " tensor([2]),\n",
       " tensor([1]),\n",
       " tensor([3]),\n",
       " tensor([0]),\n",
       " tensor([2]),\n",
       " tensor([2]),\n",
       " tensor([1]),\n",
       " tensor([3]),\n",
       " tensor([2]),\n",
       " tensor([1]),\n",
       " tensor([4]),\n",
       " tensor([4]),\n",
       " tensor([0]),\n",
       " tensor([3]),\n",
       " tensor([0]),\n",
       " tensor([1]),\n",
       " tensor([1]),\n",
       " tensor([3]),\n",
       " tensor([2]),\n",
       " tensor([4]),\n",
       " tensor([0]),\n",
       " tensor([2]),\n",
       " tensor([1]),\n",
       " tensor([3]),\n",
       " tensor([3]),\n",
       " tensor([2]),\n",
       " tensor([1]),\n",
       " tensor([4]),\n",
       " tensor([2]),\n",
       " tensor([1]),\n",
       " tensor([2]),\n",
       " tensor([3]),\n",
       " tensor([1])]"
      ]
     },
     "execution_count": 11,
     "metadata": {},
     "output_type": "execute_result"
    }
   ],
   "source": [
    "zs"
   ]
  },
  {
   "cell_type": "code",
   "execution_count": 12,
   "metadata": {},
   "outputs": [],
   "source": [
    "xs = [p[k].value for k in p if 'x' in k]"
   ]
  },
  {
   "cell_type": "code",
   "execution_count": 13,
   "metadata": {},
   "outputs": [
    {
     "data": {
      "text/plain": [
       "[tensor([[4.7026, 5.3827]]),\n",
       " tensor([[6.3133, 4.3302]]),\n",
       " tensor([[3.5163, 1.0125]]),\n",
       " tensor([[5.3809, 6.1912]]),\n",
       " tensor([[-0.3168,  1.9988]]),\n",
       " tensor([[4.8447, 2.3403]]),\n",
       " tensor([[-1.0862,  1.4617]]),\n",
       " tensor([[6.2852, 2.1984]]),\n",
       " tensor([[-1.8893, -0.5716]]),\n",
       " tensor([[3.8280, 3.7149]]),\n",
       " tensor([[-0.2647, -1.6588]]),\n",
       " tensor([[5.4067, 5.2456]]),\n",
       " tensor([[5.6621, 6.6706]]),\n",
       " tensor([[6.2415, 0.9347]]),\n",
       " tensor([[1.2064, 2.6123]]),\n",
       " tensor([[5.6483, 6.9035]]),\n",
       " tensor([[4.8398, 6.3641]]),\n",
       " tensor([[1.7894, 2.6727]]),\n",
       " tensor([[5.4235, 4.5007]]),\n",
       " tensor([[1.2857, 1.5523]]),\n",
       " tensor([[5.5103, 5.4754]]),\n",
       " tensor([[-1.1651, -0.3810]]),\n",
       " tensor([[6.2783, 1.1581]]),\n",
       " tensor([[6.5669, 4.5248]]),\n",
       " tensor([[2.8847, 1.2194]]),\n",
       " tensor([[4.7251, 4.6440]]),\n",
       " tensor([[6.7429, 1.4427]]),\n",
       " tensor([[2.2225, 0.8942]]),\n",
       " tensor([[8.3902, 8.5772]]),\n",
       " tensor([[8.3048, 8.9782]]),\n",
       " tensor([[-1.2131, -0.6445]]),\n",
       " tensor([[5.2527, 6.4494]]),\n",
       " tensor([[-0.9364,  0.8777]]),\n",
       " tensor([[1.9180, 1.8063]]),\n",
       " tensor([[2.4067, 2.6861]]),\n",
       " tensor([[5.0440, 5.6144]]),\n",
       " tensor([[5.3129, 7.5441]]),\n",
       " tensor([[9.3064, 8.8316]]),\n",
       " tensor([[-3.2506,  0.2260]]),\n",
       " tensor([[4.8620, 3.7870]]),\n",
       " tensor([[2.6027, 0.1717]]),\n",
       " tensor([[3.6011, 5.4075]]),\n",
       " tensor([[5.3380, 6.7488]]),\n",
       " tensor([[5.1022, 3.2074]]),\n",
       " tensor([[1.6592, 1.5961]]),\n",
       " tensor([[6.6545, 6.9056]]),\n",
       " tensor([[6.0800, 1.8065]]),\n",
       " tensor([[2.6242, 0.4521]]),\n",
       " tensor([[6.8127, 6.1327]]),\n",
       " tensor([[3.9778, 4.2124]])]"
      ]
     },
     "execution_count": 13,
     "metadata": {},
     "output_type": "execute_result"
    }
   ],
   "source": [
    "xs"
   ]
  },
  {
   "cell_type": "code",
   "execution_count": 14,
   "metadata": {},
   "outputs": [],
   "source": [
    "num_particles = 250"
   ]
  },
  {
   "cell_type": "code",
   "execution_count": 15,
   "metadata": {},
   "outputs": [],
   "source": [
    "inference_params = {\n",
    "    'mu': (torch.arange(5, dtype=torch.float) * 2).expand(2, 5).t(),\n",
    "    'concentration': torch.ones(5, 2),\n",
    "    'rate': torch.ones(5, 2),\n",
    "}"
   ]
  },
  {
   "cell_type": "code",
   "execution_count": 16,
   "metadata": {},
   "outputs": [],
   "source": [
    "params = sampler.importance_box('hmm_parameters', hmm.Parameters(5, 2, inference_params), None, (num_particles,), lens.LensPRO(0), PRO(4) & Ty())\n",
    "hmm_step = sampler.importance_box('hmm_step', hmm.TransitionAndEmission(), None, (num_particles,), PRO(4) & Ty(), PRO(4) & Ty())"
   ]
  },
  {
   "cell_type": "code",
   "execution_count": 17,
   "metadata": {},
   "outputs": [],
   "source": [
    "chain = collections.sequential(hmm_step, 50)"
   ]
  },
  {
   "cell_type": "code",
   "execution_count": 18,
   "metadata": {},
   "outputs": [],
   "source": [
    "conditioned_chain = conditioning.SequentialConditioner(hmm_step=xs)(chain)"
   ]
  },
  {
   "cell_type": "code",
   "execution_count": 19,
   "metadata": {},
   "outputs": [],
   "source": [
    "hmm_inference = resample.resampler(params >> conditioned_chain)\n",
    "hmm_resampler = hmm_inference.compile()"
   ]
  },
  {
   "cell_type": "code",
   "execution_count": 20,
   "metadata": {},
   "outputs": [],
   "source": [
    "result, trace = hmm_inference.trace(hmm_resampler)"
   ]
  },
  {
   "cell_type": "code",
   "execution_count": 21,
   "metadata": {},
   "outputs": [],
   "source": [
    "log_weight, p = trace.fold()"
   ]
  },
  {
   "cell_type": "code",
   "execution_count": 22,
   "metadata": {},
   "outputs": [
    {
     "data": {
      "text/plain": [
       "tensor([-257.0720, -257.0720, -257.0720, -257.0720, -257.0720, -257.0720,\n",
       "        -257.0720, -257.0720, -257.0720, -257.0720, -257.0720, -257.0720,\n",
       "        -257.0720, -257.0720, -257.0720, -257.0720, -257.0720, -257.0720,\n",
       "        -257.0720, -257.0720, -257.0720, -257.0720, -257.0720, -257.0720,\n",
       "        -257.0720, -257.0720, -257.0720, -257.0720, -257.0720, -257.0720,\n",
       "        -257.0720, -257.0720, -257.0720, -257.0720, -257.0720, -257.0720,\n",
       "        -257.0720, -257.0720, -257.0720, -257.0720, -257.0720, -257.0720,\n",
       "        -257.0720, -257.0720, -257.0720, -257.0720, -257.0720, -257.0720,\n",
       "        -257.0720, -257.0720, -257.0720, -257.0720, -257.0720, -257.0720,\n",
       "        -257.0720, -257.0720, -257.0720, -257.0720, -257.0720, -257.0720,\n",
       "        -257.0720, -257.0720, -257.0720, -257.0720, -257.0720, -257.0720,\n",
       "        -257.0720, -257.0720, -257.0720, -257.0720, -257.0720, -257.0720,\n",
       "        -257.0720, -257.0720, -257.0720, -257.0720, -257.0720, -257.0720,\n",
       "        -257.0720, -257.0720, -257.0720, -257.0720, -257.0720, -257.0720,\n",
       "        -257.0720, -257.0720, -257.0720, -257.0720, -257.0720, -257.0720,\n",
       "        -257.0720, -257.0720, -257.0720, -257.0720, -257.0720, -257.0720,\n",
       "        -257.0720, -257.0720, -257.0720, -257.0720, -257.0720, -257.0720,\n",
       "        -257.0720, -257.0720, -257.0720, -257.0720, -257.0720, -257.0720,\n",
       "        -257.0720, -257.0720, -257.0720, -257.0720, -257.0720, -257.0720,\n",
       "        -257.0720, -257.0720, -257.0720, -257.0720, -257.0720, -257.0720,\n",
       "        -257.0720, -257.0720, -257.0720, -257.0720, -257.0720, -257.0720,\n",
       "        -257.0720, -257.0720, -257.0720, -257.0720, -257.0720, -257.0720,\n",
       "        -257.0720, -257.0720, -257.0720, -257.0720, -257.0720, -257.0720,\n",
       "        -257.0720, -257.0720, -257.0720, -257.0720, -257.0720, -257.0720,\n",
       "        -257.0720, -257.0720, -257.0720, -257.0720, -257.0720, -257.0720,\n",
       "        -257.0720, -257.0720, -257.0720, -257.0720, -257.0720, -257.0720,\n",
       "        -257.0720, -257.0720, -257.0720, -257.0720, -257.0720, -257.0720,\n",
       "        -257.0720, -257.0720, -257.0720, -257.0720, -257.0720, -257.0720,\n",
       "        -257.0720, -257.0720, -257.0720, -257.0720, -257.0720, -257.0720,\n",
       "        -257.0720, -257.0720, -257.0720, -257.0720, -257.0720, -257.0720,\n",
       "        -257.0720, -257.0720, -257.0720, -257.0720, -257.0720, -257.0720,\n",
       "        -257.0720, -257.0720, -257.0720, -257.0720, -257.0720, -257.0720,\n",
       "        -257.0720, -257.0720, -257.0720, -257.0720, -257.0720, -257.0720,\n",
       "        -257.0720, -257.0720, -257.0720, -257.0720, -257.0720, -257.0720,\n",
       "        -257.0720, -257.0720, -257.0720, -257.0720, -257.0720, -257.0720,\n",
       "        -257.0720, -257.0720, -257.0720, -257.0720, -257.0720, -257.0720,\n",
       "        -257.0720, -257.0720, -257.0720, -257.0720, -257.0720, -257.0720,\n",
       "        -257.0720, -257.0720, -257.0720, -257.0720, -257.0720, -257.0720,\n",
       "        -257.0720, -257.0720, -257.0720, -257.0720, -257.0720, -257.0720,\n",
       "        -257.0720, -257.0720, -257.0720, -257.0720, -257.0720, -257.0720,\n",
       "        -257.0720, -257.0720, -257.0720, -257.0720, -257.0720, -257.0720,\n",
       "        -257.0720, -257.0720, -257.0720, -257.0720])"
      ]
     },
     "execution_count": 22,
     "metadata": {},
     "output_type": "execute_result"
    }
   ],
   "source": [
    "log_weight"
   ]
  },
  {
   "cell_type": "code",
   "execution_count": 23,
   "metadata": {},
   "outputs": [],
   "source": [
    "inferred_zs = [p[k].value for k in p if 'z' in k]"
   ]
  },
  {
   "cell_type": "code",
   "execution_count": 24,
   "metadata": {},
   "outputs": [],
   "source": [
    "accuracy = [(pr == tr).to(dtype=torch.float) for pr, tr in zip(inferred_zs, zs)]"
   ]
  },
  {
   "cell_type": "code",
   "execution_count": 25,
   "metadata": {},
   "outputs": [
    {
     "name": "stdout",
     "output_type": "stream",
     "text": [
      "SMC percent accuracy at time 0: 24.799999\n",
      "SMC percent accuracy at time 1: 20.400000\n",
      "SMC percent accuracy at time 2: 19.600000\n",
      "SMC percent accuracy at time 3: 18.799999\n",
      "SMC percent accuracy at time 4: 2.800000\n",
      "SMC percent accuracy at time 5: 5.600000\n",
      "SMC percent accuracy at time 6: 12.000000\n",
      "SMC percent accuracy at time 7: 11.200001\n",
      "SMC percent accuracy at time 8: 17.200001\n",
      "SMC percent accuracy at time 9: 7.200000\n",
      "SMC percent accuracy at time 10: 39.200001\n",
      "SMC percent accuracy at time 11: 12.000000\n",
      "SMC percent accuracy at time 12: 12.000000\n",
      "SMC percent accuracy at time 13: 52.000000\n",
      "SMC percent accuracy at time 14: 14.800000\n",
      "SMC percent accuracy at time 15: 14.000000\n",
      "SMC percent accuracy at time 16: 17.600000\n",
      "SMC percent accuracy at time 17: 2.400000\n",
      "SMC percent accuracy at time 18: 5.200000\n",
      "SMC percent accuracy at time 19: 0.400000\n",
      "SMC percent accuracy at time 20: 19.600000\n",
      "SMC percent accuracy at time 21: 0.000000\n",
      "SMC percent accuracy at time 22: 12.000000\n",
      "SMC percent accuracy at time 23: 8.000000\n",
      "SMC percent accuracy at time 24: 0.800000\n",
      "SMC percent accuracy at time 25: 37.599998\n",
      "SMC percent accuracy at time 26: 62.400002\n",
      "SMC percent accuracy at time 27: 23.199999\n",
      "SMC percent accuracy at time 28: 24.000000\n",
      "SMC percent accuracy at time 29: 5.600000\n",
      "SMC percent accuracy at time 30: 22.400002\n",
      "SMC percent accuracy at time 31: 15.200000\n",
      "SMC percent accuracy at time 32: 3.200000\n",
      "SMC percent accuracy at time 33: 27.200001\n",
      "SMC percent accuracy at time 34: 21.199999\n",
      "SMC percent accuracy at time 35: 32.000000\n",
      "SMC percent accuracy at time 36: 59.600002\n",
      "SMC percent accuracy at time 37: 4.000000\n",
      "SMC percent accuracy at time 38: 44.000000\n",
      "SMC percent accuracy at time 39: 16.000000\n",
      "SMC percent accuracy at time 40: 12.000000\n",
      "SMC percent accuracy at time 41: 14.000000\n",
      "SMC percent accuracy at time 42: 15.600000\n",
      "SMC percent accuracy at time 43: 56.400002\n",
      "SMC percent accuracy at time 44: 4.000000\n",
      "SMC percent accuracy at time 45: 21.600000\n",
      "SMC percent accuracy at time 46: 47.600002\n",
      "SMC percent accuracy at time 47: 25.600000\n",
      "SMC percent accuracy at time 48: 3.200000\n",
      "SMC percent accuracy at time 49: 14.400000\n"
     ]
    }
   ],
   "source": [
    "for t in range(50):\n",
    "    print('SMC percent accuracy at time %d: %f' % (t, accuracy[t].mean(dim=0) * 100))"
   ]
  },
  {
   "cell_type": "code",
   "execution_count": null,
   "metadata": {},
   "outputs": [],
   "source": []
  }
 ],
 "metadata": {
  "kernelspec": {
   "display_name": "Python [conda env:funcytorch] *",
   "language": "python",
   "name": "conda-env-funcytorch-py"
  },
  "language_info": {
   "codemirror_mode": {
    "name": "ipython",
    "version": 3
   },
   "file_extension": ".py",
   "mimetype": "text/x-python",
   "name": "python",
   "nbconvert_exporter": "python",
   "pygments_lexer": "ipython3",
   "version": "3.8.8"
  }
 },
 "nbformat": 4,
 "nbformat_minor": 4
}
