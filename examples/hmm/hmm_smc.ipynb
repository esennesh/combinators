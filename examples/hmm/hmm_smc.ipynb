{
 "cells": [
  {
   "cell_type": "code",
   "execution_count": 1,
   "metadata": {},
   "outputs": [],
   "source": [
    "from discopy import PRO, Ty\n",
    "from functools import reduce\n",
    "import logging\n",
    "import matplotlib.pyplot as plt\n",
    "import numpy as np\n",
    "import torch"
   ]
  },
  {
   "cell_type": "code",
   "execution_count": 2,
   "metadata": {},
   "outputs": [
    {
     "name": "stdout",
     "output_type": "stream",
     "text": [
      "/home/eli/AnacondaProjects/combinators\n"
     ]
    }
   ],
   "source": [
    "%cd ../.."
   ]
  },
  {
   "cell_type": "code",
   "execution_count": 3,
   "metadata": {},
   "outputs": [],
   "source": [
    "from combinators import lens, sampler, utils\n",
    "from combinators.inference import conditioning, resample\n",
    "from combinators.model import collections\n",
    "import examples.hmm.hmm as hmm"
   ]
  },
  {
   "cell_type": "code",
   "execution_count": 4,
   "metadata": {},
   "outputs": [],
   "source": [
    "state_params = {\n",
    "    'mu': (torch.arange(5, dtype=torch.float) * 2).expand(2, 5).t(),\n",
    "    'concentration': torch.ones(5, 2) * 2,\n",
    "    'rate': torch.ones(5, 2) * 2,\n",
    "}"
   ]
  },
  {
   "cell_type": "code",
   "execution_count": 5,
   "metadata": {},
   "outputs": [],
   "source": [
    "prior = sampler.importance_box('hmm_parameters', hmm.Parameters(5, 2, state_params), None, (1,), lens.LensPRO(0), PRO(4) & Ty())\n",
    "hmm_step = sampler.importance_box('hmm_step', hmm.TransitionAndEmission(), None, (1,), PRO(4) & Ty(), PRO(4) & Ty())"
   ]
  },
  {
   "cell_type": "code",
   "execution_count": 6,
   "metadata": {},
   "outputs": [],
   "source": [
    "chain = collections.sequential(hmm_step, 50)"
   ]
  },
  {
   "cell_type": "code",
   "execution_count": 7,
   "metadata": {},
   "outputs": [],
   "source": [
    "hmm_model = prior >> chain\n",
    "hmm_sampler = hmm_model.compile()"
   ]
  },
  {
   "cell_type": "code",
   "execution_count": 8,
   "metadata": {},
   "outputs": [],
   "source": [
    "_, trace = hmm_model.trace(hmm_sampler)"
   ]
  },
  {
   "cell_type": "code",
   "execution_count": 9,
   "metadata": {},
   "outputs": [],
   "source": [
    "_, p = trace.fold()"
   ]
  },
  {
   "cell_type": "code",
   "execution_count": 10,
   "metadata": {},
   "outputs": [],
   "source": [
    "zs = [p[k].value for k in p if 'z' in k]"
   ]
  },
  {
   "cell_type": "code",
   "execution_count": 11,
   "metadata": {},
   "outputs": [
    {
     "data": {
      "text/plain": [
       "[tensor([1]),\n",
       " tensor([2]),\n",
       " tensor([2]),\n",
       " tensor([1]),\n",
       " tensor([2]),\n",
       " tensor([2]),\n",
       " tensor([3]),\n",
       " tensor([4]),\n",
       " tensor([4]),\n",
       " tensor([2]),\n",
       " tensor([4]),\n",
       " tensor([2]),\n",
       " tensor([0]),\n",
       " tensor([2]),\n",
       " tensor([4]),\n",
       " tensor([2]),\n",
       " tensor([3]),\n",
       " tensor([4]),\n",
       " tensor([3]),\n",
       " tensor([4]),\n",
       " tensor([3]),\n",
       " tensor([1]),\n",
       " tensor([1]),\n",
       " tensor([2]),\n",
       " tensor([3]),\n",
       " tensor([1]),\n",
       " tensor([1]),\n",
       " tensor([2]),\n",
       " tensor([2]),\n",
       " tensor([4]),\n",
       " tensor([4]),\n",
       " tensor([2]),\n",
       " tensor([4]),\n",
       " tensor([2]),\n",
       " tensor([3]),\n",
       " tensor([1]),\n",
       " tensor([2]),\n",
       " tensor([0]),\n",
       " tensor([4]),\n",
       " tensor([3]),\n",
       " tensor([4]),\n",
       " tensor([2]),\n",
       " tensor([3]),\n",
       " tensor([0]),\n",
       " tensor([2]),\n",
       " tensor([2]),\n",
       " tensor([3]),\n",
       " tensor([0]),\n",
       " tensor([2]),\n",
       " tensor([3]),\n",
       " tensor([4])]"
      ]
     },
     "execution_count": 11,
     "metadata": {},
     "output_type": "execute_result"
    }
   ],
   "source": [
    "zs"
   ]
  },
  {
   "cell_type": "code",
   "execution_count": 12,
   "metadata": {},
   "outputs": [],
   "source": [
    "xs = [p[k].value for k in p if 'x' in k]"
   ]
  },
  {
   "cell_type": "code",
   "execution_count": 13,
   "metadata": {},
   "outputs": [
    {
     "data": {
      "text/plain": [
       "[tensor([[1.4746, 3.3599]]),\n",
       " tensor([[3.9921, 4.0480]]),\n",
       " tensor([[4.9024, 3.5653]]),\n",
       " tensor([[ 4.6347, -2.8364]]),\n",
       " tensor([[4.4370, 3.4809]]),\n",
       " tensor([[4.3954, 5.1040]]),\n",
       " tensor([[ 5.7672, 10.4145]]),\n",
       " tensor([[9.0420, 5.3427]]),\n",
       " tensor([[8.6188, 3.6343]]),\n",
       " tensor([[4.8799, 5.2575]]),\n",
       " tensor([[8.5914, 5.2310]]),\n",
       " tensor([[5.1362, 3.1733]]),\n",
       " tensor([[-4.0906,  3.3254]]),\n",
       " tensor([[5.0562, 5.8982]]),\n",
       " tensor([[8.5278, 2.1567]]),\n",
       " tensor([[5.0269, 5.1158]]),\n",
       " tensor([[ 6.2899, 12.1606]]),\n",
       " tensor([[8.8641, 5.2949]]),\n",
       " tensor([[5.8415, 8.2887]]),\n",
       " tensor([[8.9697, 4.4221]]),\n",
       " tensor([[ 6.1824, 10.7855]]),\n",
       " tensor([[ 4.1662, -4.9828]]),\n",
       " tensor([[ 1.0008, -3.0696]]),\n",
       " tensor([[6.1971, 1.5096]]),\n",
       " tensor([[6.7948, 5.6344]]),\n",
       " tensor([[2.0574, 0.6066]]),\n",
       " tensor([[1.7141, 2.6838]]),\n",
       " tensor([[4.1885, 5.2205]]),\n",
       " tensor([[5.1534, 3.6736]]),\n",
       " tensor([[9.5779, 4.9779]]),\n",
       " tensor([[9.4242, 5.7606]]),\n",
       " tensor([[4.4452, 6.4319]]),\n",
       " tensor([[8.1938, 6.9407]]),\n",
       " tensor([[4.5168, 3.9082]]),\n",
       " tensor([[6.7946, 8.9488]]),\n",
       " tensor([[3.7309, 2.7740]]),\n",
       " tensor([[5.6628, 6.2117]]),\n",
       " tensor([[-1.4898,  0.5346]]),\n",
       " tensor([[8.3027, 6.7242]]),\n",
       " tensor([[6.2270, 8.2540]]),\n",
       " tensor([[8.1104, 7.5762]]),\n",
       " tensor([[5.7476, 4.0743]]),\n",
       " tensor([[ 6.9874, 11.1681]]),\n",
       " tensor([[-4.8398,  0.8933]]),\n",
       " tensor([[4.2809, 4.7213]]),\n",
       " tensor([[4.8126, 3.3787]]),\n",
       " tensor([[7.0219, 6.4160]]),\n",
       " tensor([[-1.0404, -0.1891]]),\n",
       " tensor([[3.9712, 4.2018]]),\n",
       " tensor([[6.0584, 8.0734]])]"
      ]
     },
     "execution_count": 13,
     "metadata": {},
     "output_type": "execute_result"
    }
   ],
   "source": [
    "xs"
   ]
  },
  {
   "cell_type": "code",
   "execution_count": 14,
   "metadata": {},
   "outputs": [],
   "source": [
    "num_particles = 250"
   ]
  },
  {
   "cell_type": "code",
   "execution_count": 15,
   "metadata": {},
   "outputs": [],
   "source": [
    "inference_params = {\n",
    "    'mu': (torch.arange(5, dtype=torch.float) * 2).expand(2, 5).t(),\n",
    "    'concentration': torch.ones(5, 2),\n",
    "    'rate': torch.ones(5, 2),\n",
    "}"
   ]
  },
  {
   "cell_type": "code",
   "execution_count": 16,
   "metadata": {},
   "outputs": [],
   "source": [
    "params = sampler.importance_box('hmm_parameters', hmm.Parameters(5, 2, inference_params), None, (num_particles,), lens.LensPRO(0), PRO(4) & Ty())\n",
    "hmm_step = sampler.importance_box('hmm_step', hmm.TransitionAndEmission(), None, (num_particles,), PRO(4) & Ty(), PRO(4) & Ty())"
   ]
  },
  {
   "cell_type": "code",
   "execution_count": 17,
   "metadata": {},
   "outputs": [],
   "source": [
    "chain = collections.sequential(hmm_step, 50)"
   ]
  },
  {
   "cell_type": "code",
   "execution_count": 18,
   "metadata": {},
   "outputs": [],
   "source": [
    "conditioned_chain = conditioning.SequentialConditioner(hmm_step=xs)(chain)"
   ]
  },
  {
   "cell_type": "code",
   "execution_count": 19,
   "metadata": {},
   "outputs": [],
   "source": [
    "hmm_inference = params >> conditioned_chain\n",
    "hmm_resampler = resample.resampler(hmm_inference.compile())\n",
    "# hmm_resampler = hmm_inference.compile()"
   ]
  },
  {
   "cell_type": "code",
   "execution_count": 20,
   "metadata": {},
   "outputs": [],
   "source": [
    "result, trace = hmm_inference.trace(hmm_resampler)"
   ]
  },
  {
   "cell_type": "code",
   "execution_count": 21,
   "metadata": {},
   "outputs": [],
   "source": [
    "log_weight, p = trace.fold()"
   ]
  },
  {
   "cell_type": "code",
   "execution_count": 22,
   "metadata": {},
   "outputs": [
    {
     "data": {
      "text/plain": [
       "tensor([-821.2757, -821.2757, -821.2757, -821.2757, -821.2757, -821.2757,\n",
       "        -821.2757, -821.2757, -821.2757, -821.2757, -821.2757, -821.2757,\n",
       "        -821.2757, -821.2757, -821.2757, -821.2757, -821.2757, -821.2757,\n",
       "        -821.2757, -821.2757, -821.2757, -821.2757, -821.2757, -821.2757,\n",
       "        -821.2757, -821.2757, -821.2757, -821.2757, -821.2757, -821.2757,\n",
       "        -821.2757, -821.2757, -821.2757, -821.2757, -821.2757, -821.2757,\n",
       "        -821.2757, -821.2757, -821.2757, -821.2757, -821.2757, -821.2757,\n",
       "        -821.2757, -821.2757, -821.2757, -821.2757, -821.2757, -821.2757,\n",
       "        -821.2757, -821.2757, -821.2757, -821.2757, -821.2757, -821.2757,\n",
       "        -821.2757, -821.2757, -821.2757, -821.2757, -821.2757, -821.2757,\n",
       "        -821.2757, -821.2757, -821.2757, -821.2757, -821.2757, -821.2757,\n",
       "        -821.2757, -821.2757, -821.2757, -821.2757, -821.2757, -821.2757,\n",
       "        -821.2757, -821.2757, -821.2757, -821.2757, -821.2757, -821.2757,\n",
       "        -821.2757, -821.2757, -821.2757, -821.2757, -821.2757, -821.2757,\n",
       "        -821.2757, -821.2757, -821.2757, -821.2757, -821.2757, -821.2757,\n",
       "        -821.2757, -821.2757, -821.2757, -821.2757, -821.2757, -821.2757,\n",
       "        -821.2757, -821.2757, -821.2757, -821.2757, -821.2757, -821.2757,\n",
       "        -821.2757, -821.2757, -821.2757, -821.2757, -821.2757, -821.2757,\n",
       "        -821.2757, -821.2757, -821.2757, -821.2757, -821.2757, -821.2757,\n",
       "        -821.2757, -821.2757, -821.2757, -821.2757, -821.2757, -821.2757,\n",
       "        -821.2757, -821.2757, -821.2757, -821.2757, -821.2757, -821.2757,\n",
       "        -821.2757, -821.2757, -821.2757, -821.2757, -821.2757, -821.2757,\n",
       "        -821.2757, -821.2757, -821.2757, -821.2757, -821.2757, -821.2757,\n",
       "        -821.2757, -821.2757, -821.2757, -821.2757, -821.2757, -821.2757,\n",
       "        -821.2757, -821.2757, -821.2757, -821.2757, -821.2757, -821.2757,\n",
       "        -821.2757, -821.2757, -821.2757, -821.2757, -821.2757, -821.2757,\n",
       "        -821.2757, -821.2757, -821.2757, -821.2757, -821.2757, -821.2757,\n",
       "        -821.2757, -821.2757, -821.2757, -821.2757, -821.2757, -821.2757,\n",
       "        -821.2757, -821.2757, -821.2757, -821.2757, -821.2757, -821.2757,\n",
       "        -821.2757, -821.2757, -821.2757, -821.2757, -821.2757, -821.2757,\n",
       "        -821.2757, -821.2757, -821.2757, -821.2757, -821.2757, -821.2757,\n",
       "        -821.2757, -821.2757, -821.2757, -821.2757, -821.2757, -821.2757,\n",
       "        -821.2757, -821.2757, -821.2757, -821.2757, -821.2757, -821.2757,\n",
       "        -821.2757, -821.2757, -821.2757, -821.2757, -821.2757, -821.2757,\n",
       "        -821.2757, -821.2757, -821.2757, -821.2757, -821.2757, -821.2757,\n",
       "        -821.2757, -821.2757, -821.2757, -821.2757, -821.2757, -821.2757,\n",
       "        -821.2757, -821.2757, -821.2757, -821.2757, -821.2757, -821.2757,\n",
       "        -821.2757, -821.2757, -821.2757, -821.2757, -821.2757, -821.2757,\n",
       "        -821.2757, -821.2757, -821.2757, -821.2757, -821.2757, -821.2757,\n",
       "        -821.2757, -821.2757, -821.2757, -821.2757, -821.2757, -821.2757,\n",
       "        -821.2757, -821.2757, -821.2757, -821.2757, -821.2757, -821.2757,\n",
       "        -821.2757, -821.2757, -821.2757, -821.2757])"
      ]
     },
     "execution_count": 22,
     "metadata": {},
     "output_type": "execute_result"
    }
   ],
   "source": [
    "log_weight"
   ]
  },
  {
   "cell_type": "code",
   "execution_count": 23,
   "metadata": {},
   "outputs": [],
   "source": [
    "inferred_zs = [p[k].value for k in p if 'z' in k]"
   ]
  },
  {
   "cell_type": "code",
   "execution_count": 24,
   "metadata": {},
   "outputs": [],
   "source": [
    "accuracy = [(pr == tr).to(dtype=torch.float) for pr, tr in zip(inferred_zs, zs)]"
   ]
  },
  {
   "cell_type": "code",
   "execution_count": 25,
   "metadata": {},
   "outputs": [
    {
     "name": "stdout",
     "output_type": "stream",
     "text": [
      "SMC percent accuracy at time 0: 15.600000\n",
      "SMC percent accuracy at time 1: 17.600000\n",
      "SMC percent accuracy at time 2: 20.000000\n",
      "SMC percent accuracy at time 3: 14.800000\n",
      "SMC percent accuracy at time 4: 25.200001\n",
      "SMC percent accuracy at time 5: 51.599998\n",
      "SMC percent accuracy at time 6: 9.600000\n",
      "SMC percent accuracy at time 7: 13.600000\n",
      "SMC percent accuracy at time 8: 32.000000\n",
      "SMC percent accuracy at time 9: 8.800000\n",
      "SMC percent accuracy at time 10: 21.600000\n",
      "SMC percent accuracy at time 11: 8.800000\n",
      "SMC percent accuracy at time 12: 5.200000\n",
      "SMC percent accuracy at time 13: 20.800001\n",
      "SMC percent accuracy at time 14: 22.799999\n",
      "SMC percent accuracy at time 15: 18.000000\n",
      "SMC percent accuracy at time 16: 29.600000\n",
      "SMC percent accuracy at time 17: 21.600000\n",
      "SMC percent accuracy at time 18: 34.799999\n",
      "SMC percent accuracy at time 19: 22.400002\n",
      "SMC percent accuracy at time 20: 36.000000\n",
      "SMC percent accuracy at time 21: 0.000000\n",
      "SMC percent accuracy at time 22: 1.200000\n",
      "SMC percent accuracy at time 23: 21.199999\n",
      "SMC percent accuracy at time 24: 16.000000\n",
      "SMC percent accuracy at time 25: 7.200000\n",
      "SMC percent accuracy at time 26: 31.600002\n",
      "SMC percent accuracy at time 27: 22.400002\n",
      "SMC percent accuracy at time 28: 54.400002\n",
      "SMC percent accuracy at time 29: 15.600000\n",
      "SMC percent accuracy at time 30: 26.800001\n",
      "SMC percent accuracy at time 31: 10.800000\n",
      "SMC percent accuracy at time 32: 23.199999\n",
      "SMC percent accuracy at time 33: 13.200000\n",
      "SMC percent accuracy at time 34: 16.799999\n",
      "SMC percent accuracy at time 35: 0.800000\n",
      "SMC percent accuracy at time 36: 49.599998\n",
      "SMC percent accuracy at time 37: 9.600000\n",
      "SMC percent accuracy at time 38: 21.600000\n",
      "SMC percent accuracy at time 39: 39.200001\n",
      "SMC percent accuracy at time 40: 20.800001\n",
      "SMC percent accuracy at time 41: 20.000000\n",
      "SMC percent accuracy at time 42: 36.799999\n",
      "SMC percent accuracy at time 43: 10.000000\n",
      "SMC percent accuracy at time 44: 4.800000\n",
      "SMC percent accuracy at time 45: 47.200001\n",
      "SMC percent accuracy at time 46: 10.400001\n",
      "SMC percent accuracy at time 47: 8.000000\n",
      "SMC percent accuracy at time 48: 5.200000\n",
      "SMC percent accuracy at time 49: 47.200001\n"
     ]
    }
   ],
   "source": [
    "for t in range(50):\n",
    "    print('SMC percent accuracy at time %d: %f' % (t, accuracy[t].mean(dim=0) * 100))"
   ]
  },
  {
   "cell_type": "code",
   "execution_count": null,
   "metadata": {},
   "outputs": [],
   "source": []
  }
 ],
 "metadata": {
  "kernelspec": {
   "display_name": "Python [conda env:funcytorch] *",
   "language": "python",
   "name": "conda-env-funcytorch-py"
  },
  "language_info": {
   "codemirror_mode": {
    "name": "ipython",
    "version": 3
   },
   "file_extension": ".py",
   "mimetype": "text/x-python",
   "name": "python",
   "nbconvert_exporter": "python",
   "pygments_lexer": "ipython3",
   "version": "3.8.8"
  }
 },
 "nbformat": 4,
 "nbformat_minor": 4
}
