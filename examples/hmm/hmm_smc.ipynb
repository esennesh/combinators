{
 "cells": [
  {
   "cell_type": "code",
   "execution_count": 1,
   "metadata": {},
   "outputs": [
    {
     "name": "stdout",
     "output_type": "stream",
     "text": [
      "/home/eli/AnacondaProjects/combinators\n"
     ]
    }
   ],
   "source": [
    "%cd ../.."
   ]
  },
  {
   "cell_type": "code",
   "execution_count": 2,
   "metadata": {},
   "outputs": [],
   "source": [
    "import logging\n",
    "\n",
    "import probtorch\n",
    "import torch\n",
    "\n",
    "import combinators\n",
    "import combinators.model as model\n",
    "import combinators.model.foldable as foldable\n",
    "from combinators.inference import importance, mcmc\n",
    "import combinators.utils as utils\n",
    "\n",
    "import examples.gmm.gmm as gmm\n",
    "import examples.hmm.hmm as hmm\n",
    "\n",
    "logging.basicConfig(format='%(asctime)s %(message)s', datefmt='%m/%d/%Y %H:%M:%S',\n",
    "                    level=logging.INFO)"
   ]
  },
  {
   "cell_type": "code",
   "execution_count": 3,
   "metadata": {},
   "outputs": [],
   "source": [
    "hmm_params = utils.vardict({\n",
    "    'mu': {\n",
    "        'loc': torch.arange(5, dtype=torch.float) * 2,\n",
    "        'scale': torch.ones(5) * 0.25,\n",
    "    },\n",
    "    'sigma': {\n",
    "        'loc': torch.ones(5),\n",
    "        'scale': torch.ones(5) * 0.25,\n",
    "    }\n",
    "})\n",
    "for k in range(6):\n",
    "    key = 'Pi_%d' % k if k else 'Pi'\n",
    "    hmm_params[key] = {'concentration': torch.ones(5)}"
   ]
  },
  {
   "cell_type": "code",
   "execution_count": 4,
   "metadata": {},
   "outputs": [],
   "source": [
    "init_gmm = gmm.InitGmm(params=hmm_params, trainable=False, batch_shape=(1,))\n",
    "init_hmm = hmm.InitHmm(params=hmm_params, trainable=False, batch_shape=(1,))\n",
    "init_hmm = model.Composition(init_hmm, init_gmm)\n",
    "hmm_foldable = foldable.Foldable(hmm.HmmStep(), initializer=init_hmm)\n",
    "hmm_run = foldable.Reduce(hmm_foldable, generator=lambda: range(50))"
   ]
  },
  {
   "cell_type": "code",
   "execution_count": 5,
   "metadata": {},
   "outputs": [],
   "source": [
    "(z_last, mu, sigma, pi), generative, _ = hmm_run()"
   ]
  },
  {
   "cell_type": "code",
   "execution_count": 6,
   "metadata": {},
   "outputs": [],
   "source": [
    "data = {k: v.value for k, v in generative.variables() if 'X_' in k}"
   ]
  },
  {
   "cell_type": "code",
   "execution_count": 7,
   "metadata": {},
   "outputs": [],
   "source": [
    "num_particles = 250"
   ]
  },
  {
   "cell_type": "code",
   "execution_count": 8,
   "metadata": {},
   "outputs": [],
   "source": [
    "smc_hmm_params = utils.vardict({\n",
    "    'mu': {\n",
    "        'loc': torch.arange(5, dtype=torch.float) * 2,\n",
    "        'scale': torch.ones(5),\n",
    "    },\n",
    "    'sigma': {\n",
    "        'loc': torch.ones(5),\n",
    "        'scale': torch.ones(5),\n",
    "    }\n",
    "})\n",
    "for k in range(6):\n",
    "    key = 'Pi_%d' % k if k else 'Pi'\n",
    "    smc_hmm_params[key] = {'concentration': torch.ones(5)}"
   ]
  },
  {
   "cell_type": "code",
   "execution_count": 9,
   "metadata": {},
   "outputs": [],
   "source": [
    "init_gmm = gmm.InitGmm(params=smc_hmm_params, trainable=True, batch_shape=(num_particles,))\n",
    "init_hmm = hmm.InitHmm(params=smc_hmm_params, trainable=True, batch_shape=(num_particles,))\n",
    "init_hmm = model.Composition(init_hmm, init_gmm)"
   ]
  },
  {
   "cell_type": "code",
   "execution_count": 10,
   "metadata": {},
   "outputs": [],
   "source": [
    "hmm_step = hmm.HmmStep(batch_shape=(num_particles,))"
   ]
  },
  {
   "cell_type": "code",
   "execution_count": 11,
   "metadata": {},
   "outputs": [],
   "source": [
    "rmsmc_hmm = mcmc.reduce_resample_move_smc(hmm_step, lambda: range(50), initializer=init_hmm, moves=50)"
   ]
  },
  {
   "cell_type": "code",
   "execution_count": 12,
   "metadata": {},
   "outputs": [],
   "source": [
    "samples, inference, _ = rmsmc_hmm(data=data)"
   ]
  },
  {
   "cell_type": "code",
   "execution_count": 13,
   "metadata": {},
   "outputs": [],
   "source": [
    "latent_states = {k: v.value for k, v in generative.variables() if 'Z_' in k}"
   ]
  },
  {
   "cell_type": "code",
   "execution_count": 14,
   "metadata": {},
   "outputs": [],
   "source": [
    "inferred_latent_states = {k: v.value for k, v in inference.variables() if 'Z_' in k}"
   ]
  },
  {
   "cell_type": "code",
   "execution_count": 15,
   "metadata": {},
   "outputs": [
    {
     "name": "stdout",
     "output_type": "stream",
     "text": [
      "RM-SMC percent accuracy at time 1: 21.600000\n",
      "RM-SMC percent accuracy at time 2: 3.200000\n",
      "RM-SMC percent accuracy at time 3: 58.399998\n",
      "RM-SMC percent accuracy at time 4: 33.599998\n",
      "RM-SMC percent accuracy at time 5: 34.799999\n",
      "RM-SMC percent accuracy at time 6: 50.000000\n",
      "RM-SMC percent accuracy at time 7: 62.400002\n",
      "RM-SMC percent accuracy at time 8: 34.000000\n",
      "RM-SMC percent accuracy at time 9: 3.200000\n",
      "RM-SMC percent accuracy at time 10: 28.400002\n",
      "RM-SMC percent accuracy at time 11: 53.600002\n",
      "RM-SMC percent accuracy at time 12: 39.200001\n",
      "RM-SMC percent accuracy at time 13: 8.400000\n",
      "RM-SMC percent accuracy at time 14: 48.000000\n",
      "RM-SMC percent accuracy at time 15: 0.000000\n",
      "RM-SMC percent accuracy at time 16: 86.000000\n",
      "RM-SMC percent accuracy at time 17: 10.400001\n",
      "RM-SMC percent accuracy at time 18: 63.200005\n",
      "RM-SMC percent accuracy at time 19: 84.400002\n",
      "RM-SMC percent accuracy at time 20: 98.000000\n",
      "RM-SMC percent accuracy at time 21: 64.400002\n",
      "RM-SMC percent accuracy at time 22: 53.600002\n",
      "RM-SMC percent accuracy at time 23: 84.000000\n",
      "RM-SMC percent accuracy at time 24: 44.000000\n",
      "RM-SMC percent accuracy at time 25: 0.000000\n",
      "RM-SMC percent accuracy at time 26: 10.400001\n",
      "RM-SMC percent accuracy at time 27: 50.000000\n",
      "RM-SMC percent accuracy at time 28: 20.800001\n",
      "RM-SMC percent accuracy at time 29: 100.000000\n",
      "RM-SMC percent accuracy at time 30: 1.200000\n",
      "RM-SMC percent accuracy at time 31: 0.000000\n",
      "RM-SMC percent accuracy at time 32: 100.000000\n",
      "RM-SMC percent accuracy at time 33: 60.000004\n",
      "RM-SMC percent accuracy at time 34: 99.199997\n",
      "RM-SMC percent accuracy at time 35: 48.000000\n",
      "RM-SMC percent accuracy at time 36: 65.200005\n",
      "RM-SMC percent accuracy at time 37: 3.200000\n",
      "RM-SMC percent accuracy at time 38: 99.199997\n",
      "RM-SMC percent accuracy at time 39: 89.600006\n",
      "RM-SMC percent accuracy at time 40: 0.000000\n",
      "RM-SMC percent accuracy at time 41: 99.599998\n",
      "RM-SMC percent accuracy at time 42: 100.000000\n",
      "RM-SMC percent accuracy at time 43: 74.000000\n",
      "RM-SMC percent accuracy at time 44: 78.400002\n",
      "RM-SMC percent accuracy at time 45: 36.799999\n",
      "RM-SMC percent accuracy at time 46: 60.799999\n",
      "RM-SMC percent accuracy at time 47: 100.000000\n",
      "RM-SMC percent accuracy at time 48: 88.400002\n",
      "RM-SMC percent accuracy at time 49: 81.199997\n",
      "RM-SMC percent accuracy at time 50: 6.800000\n"
     ]
    }
   ],
   "source": [
    "for t in range(50):\n",
    "    t += 1\n",
    "    key = 'Z_%d' % t\n",
    "    accuracy = (inferred_latent_states[key] == latent_states[key]).to(dtype=torch.float).mean()\n",
    "    print('RM-SMC percent accuracy at time %d: %f' % (t, accuracy * 100))"
   ]
  },
  {
   "cell_type": "code",
   "execution_count": null,
   "metadata": {},
   "outputs": [],
   "source": []
  },
  {
   "cell_type": "code",
   "execution_count": null,
   "metadata": {},
   "outputs": [],
   "source": []
  }
 ],
 "metadata": {
  "kernelspec": {
   "display_name": "Python [conda env:funcytorch]",
   "language": "python",
   "name": "conda-env-funcytorch-py"
  },
  "language_info": {
   "codemirror_mode": {
    "name": "ipython",
    "version": 3
   },
   "file_extension": ".py",
   "mimetype": "text/x-python",
   "name": "python",
   "nbconvert_exporter": "python",
   "pygments_lexer": "ipython3",
   "version": "3.6.6"
  }
 },
 "nbformat": 4,
 "nbformat_minor": 2
}
