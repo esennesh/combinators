{
 "cells": [
  {
   "cell_type": "code",
   "execution_count": 1,
   "metadata": {},
   "outputs": [],
   "source": [
    "from discopy import PRO, Ty\n",
    "from functools import reduce\n",
    "import logging\n",
    "import matplotlib.pyplot as plt\n",
    "import numpy as np\n",
    "import torch"
   ]
  },
  {
   "cell_type": "code",
   "execution_count": 2,
   "metadata": {},
   "outputs": [
    {
     "name": "stdout",
     "output_type": "stream",
     "text": [
      "/home/eli/AnacondaProjects/combinators\n"
     ]
    }
   ],
   "source": [
    "%cd ../.."
   ]
  },
  {
   "cell_type": "code",
   "execution_count": 3,
   "metadata": {},
   "outputs": [],
   "source": [
    "from combinators import lens, sampler, utils\n",
    "from combinators.inference import conditioning, resample\n",
    "from combinators.model import collections\n",
    "import examples.hmm.hmm as hmm"
   ]
  },
  {
   "cell_type": "code",
   "execution_count": 4,
   "metadata": {},
   "outputs": [],
   "source": [
    "state_params = {\n",
    "    'mu': (torch.arange(5, dtype=torch.float) * 2).expand(2, 5).t(),\n",
    "    'concentration': torch.ones(5, 2) * 2,\n",
    "    'rate': torch.ones(5, 2) * 2,\n",
    "}"
   ]
  },
  {
   "cell_type": "code",
   "execution_count": 5,
   "metadata": {},
   "outputs": [],
   "source": [
    "prior = sampler.importance_box('hmm_parameters', hmm.Parameters(5, 2, state_params), None, (1,), lens.LensPRO(0), PRO(4) & Ty())\n",
    "hmm_step = sampler.importance_box('hmm_step', hmm.TransitionAndEmission(), None, (1,), PRO(4) & Ty(), PRO(4) & Ty())"
   ]
  },
  {
   "cell_type": "code",
   "execution_count": 6,
   "metadata": {},
   "outputs": [],
   "source": [
    "chain = collections.sequential(hmm_step, 50)"
   ]
  },
  {
   "cell_type": "code",
   "execution_count": 7,
   "metadata": {},
   "outputs": [],
   "source": [
    "hmm_model = prior >> chain\n",
    "hmm_sampler = hmm_model.compile()"
   ]
  },
  {
   "cell_type": "code",
   "execution_count": 8,
   "metadata": {},
   "outputs": [],
   "source": [
    "_, trace = hmm_model.trace(hmm_sampler)"
   ]
  },
  {
   "cell_type": "code",
   "execution_count": 9,
   "metadata": {},
   "outputs": [],
   "source": [
    "_, p = trace.fold()"
   ]
  },
  {
   "cell_type": "code",
   "execution_count": 10,
   "metadata": {},
   "outputs": [],
   "source": [
    "zs = [p[k].value for k in p if 'z' in k]"
   ]
  },
  {
   "cell_type": "code",
   "execution_count": 11,
   "metadata": {},
   "outputs": [
    {
     "data": {
      "text/plain": [
       "[tensor([3]),\n",
       " tensor([0]),\n",
       " tensor([4]),\n",
       " tensor([2]),\n",
       " tensor([1]),\n",
       " tensor([4]),\n",
       " tensor([3]),\n",
       " tensor([4]),\n",
       " tensor([2]),\n",
       " tensor([2]),\n",
       " tensor([4]),\n",
       " tensor([2]),\n",
       " tensor([3]),\n",
       " tensor([0]),\n",
       " tensor([1]),\n",
       " tensor([1]),\n",
       " tensor([1]),\n",
       " tensor([2]),\n",
       " tensor([1]),\n",
       " tensor([2]),\n",
       " tensor([1]),\n",
       " tensor([1]),\n",
       " tensor([4]),\n",
       " tensor([3]),\n",
       " tensor([3]),\n",
       " tensor([3]),\n",
       " tensor([4]),\n",
       " tensor([3]),\n",
       " tensor([3]),\n",
       " tensor([0]),\n",
       " tensor([0]),\n",
       " tensor([1]),\n",
       " tensor([2]),\n",
       " tensor([1]),\n",
       " tensor([1]),\n",
       " tensor([1]),\n",
       " tensor([4]),\n",
       " tensor([3]),\n",
       " tensor([2]),\n",
       " tensor([0]),\n",
       " tensor([0]),\n",
       " tensor([0]),\n",
       " tensor([1]),\n",
       " tensor([1]),\n",
       " tensor([1]),\n",
       " tensor([4]),\n",
       " tensor([3]),\n",
       " tensor([4]),\n",
       " tensor([3]),\n",
       " tensor([2]),\n",
       " tensor([3])]"
      ]
     },
     "execution_count": 11,
     "metadata": {},
     "output_type": "execute_result"
    }
   ],
   "source": [
    "zs"
   ]
  },
  {
   "cell_type": "code",
   "execution_count": 12,
   "metadata": {},
   "outputs": [],
   "source": [
    "xs = [p[k].value for k in p if 'x' in k]"
   ]
  },
  {
   "cell_type": "code",
   "execution_count": 13,
   "metadata": {},
   "outputs": [
    {
     "data": {
      "text/plain": [
       "[tensor([[6.1955, 5.8491]]),\n",
       " tensor([[-0.0691, -1.6537]]),\n",
       " tensor([[ 9.1041, 12.9941]]),\n",
       " tensor([[1.8954, 4.5132]]),\n",
       " tensor([[4.0078, 2.3241]]),\n",
       " tensor([[ 9.4159, 16.2984]]),\n",
       " tensor([[4.3161, 4.5761]]),\n",
       " tensor([[10.2149, 19.3497]]),\n",
       " tensor([[5.6183, 5.4863]]),\n",
       " tensor([[5.1698, 3.7430]]),\n",
       " tensor([[10.9026, 13.1368]]),\n",
       " tensor([[5.1688, 5.1994]]),\n",
       " tensor([[6.8682, 4.9132]]),\n",
       " tensor([[-0.4011, -0.0201]]),\n",
       " tensor([[3.7056, 1.7032]]),\n",
       " tensor([[2.7756, 0.9904]]),\n",
       " tensor([[2.7033, 3.8080]]),\n",
       " tensor([[7.9982, 6.3588]]),\n",
       " tensor([[3.0295, 1.9842]]),\n",
       " tensor([[4.7519, 4.3505]]),\n",
       " tensor([[2.0645, 0.4220]]),\n",
       " tensor([[3.0319, 4.1446]]),\n",
       " tensor([[ 9.2503, 23.3514]]),\n",
       " tensor([[2.5907, 6.4205]]),\n",
       " tensor([[3.6691, 4.9724]]),\n",
       " tensor([[5.7848, 4.9801]]),\n",
       " tensor([[ 8.6790, 14.0938]]),\n",
       " tensor([[4.9799, 6.2408]]),\n",
       " tensor([[2.6180, 6.0833]]),\n",
       " tensor([[-0.0958, -0.3813]]),\n",
       " tensor([[ 0.9988, -0.2101]]),\n",
       " tensor([[2.9947, 1.5811]]),\n",
       " tensor([[7.4542, 5.5030]]),\n",
       " tensor([[2.6193, 1.5282]]),\n",
       " tensor([[2.5838, 1.5995]]),\n",
       " tensor([[2.1495, 2.5688]]),\n",
       " tensor([[11.2124, 17.5731]]),\n",
       " tensor([[5.9207, 4.8794]]),\n",
       " tensor([[3.9841, 4.2260]]),\n",
       " tensor([[-1.3528, -0.0055]]),\n",
       " tensor([[-0.6269, -0.0072]]),\n",
       " tensor([[-0.9469,  0.1551]]),\n",
       " tensor([[3.4149, 2.4493]]),\n",
       " tensor([[2.1828, 2.9708]]),\n",
       " tensor([[2.6287, 1.9112]]),\n",
       " tensor([[ 7.8479, 15.4400]]),\n",
       " tensor([[5.0061, 5.5060]]),\n",
       " tensor([[ 8.4338, 17.1310]]),\n",
       " tensor([[2.1160, 5.2017]]),\n",
       " tensor([[7.3411, 5.2286]])]"
      ]
     },
     "execution_count": 13,
     "metadata": {},
     "output_type": "execute_result"
    }
   ],
   "source": [
    "xs"
   ]
  },
  {
   "cell_type": "code",
   "execution_count": 14,
   "metadata": {},
   "outputs": [],
   "source": [
    "num_particles = 250"
   ]
  },
  {
   "cell_type": "code",
   "execution_count": 15,
   "metadata": {},
   "outputs": [],
   "source": [
    "inference_params = {\n",
    "    'mu': (torch.arange(5, dtype=torch.float) * 2).expand(2, 5).t(),\n",
    "    'concentration': torch.ones(5, 2),\n",
    "    'rate': torch.ones(5, 2),\n",
    "}"
   ]
  },
  {
   "cell_type": "code",
   "execution_count": 16,
   "metadata": {},
   "outputs": [],
   "source": [
    "params = sampler.importance_box('hmm_parameters', hmm.Parameters(5, 2, inference_params), None, (num_particles,), lens.LensPRO(0), PRO(4) & Ty())\n",
    "hmm_step = sampler.importance_box('hmm_step', hmm.TransitionAndEmission(), None, (num_particles,), PRO(4) & Ty(), PRO(4) & Ty())"
   ]
  },
  {
   "cell_type": "code",
   "execution_count": 17,
   "metadata": {},
   "outputs": [],
   "source": [
    "chain = collections.sequential(hmm_step, 50)"
   ]
  },
  {
   "cell_type": "code",
   "execution_count": 18,
   "metadata": {},
   "outputs": [],
   "source": [
    "conditioned_chain = conditioning.SequentialConditioner(hmm_step=xs)(chain)"
   ]
  },
  {
   "cell_type": "code",
   "execution_count": 19,
   "metadata": {},
   "outputs": [],
   "source": [
    "hmm_inference = params >> conditioned_chain\n",
    "hmm_resampler = resample.resampler(hmm_inference.compile())\n",
    "# hmm_resampler = hmm_inference.compile()"
   ]
  },
  {
   "cell_type": "code",
   "execution_count": 20,
   "metadata": {},
   "outputs": [],
   "source": [
    "result, trace = hmm_inference.trace(hmm_resampler)"
   ]
  },
  {
   "cell_type": "code",
   "execution_count": 21,
   "metadata": {},
   "outputs": [],
   "source": [
    "log_weight, p = trace.fold()"
   ]
  },
  {
   "cell_type": "code",
   "execution_count": 22,
   "metadata": {},
   "outputs": [
    {
     "data": {
      "text/plain": [
       "tensor([-1303.3961, -1303.3961, -1303.3961, -1303.3961, -1303.3961, -1303.3961,\n",
       "        -1303.3961, -1303.3961, -1303.3961, -1303.3961, -1303.3961, -1303.3961,\n",
       "        -1303.3961, -1303.3961, -1303.3961, -1303.3961, -1303.3961, -1303.3961,\n",
       "        -1303.3961, -1303.3961, -1303.3961, -1303.3961, -1303.3961, -1303.3961,\n",
       "        -1303.3961, -1303.3961, -1303.3961, -1303.3961, -1303.3961, -1303.3961,\n",
       "        -1303.3961, -1303.3961, -1303.3961, -1303.3961, -1303.3961, -1303.3961,\n",
       "        -1303.3961, -1303.3961, -1303.3961, -1303.3961, -1303.3961, -1303.3961,\n",
       "        -1303.3961, -1303.3961, -1303.3961, -1303.3961, -1303.3961, -1303.3961,\n",
       "        -1303.3961, -1303.3961, -1303.3961, -1303.3961, -1303.3961, -1303.3961,\n",
       "        -1303.3961, -1303.3961, -1303.3961, -1303.3961, -1303.3961, -1303.3961,\n",
       "        -1303.3961, -1303.3961, -1303.3961, -1303.3961, -1303.3961, -1303.3961,\n",
       "        -1303.3961, -1303.3961, -1303.3961, -1303.3961, -1303.3961, -1303.3961,\n",
       "        -1303.3961, -1303.3961, -1303.3961, -1303.3961, -1303.3961, -1303.3961,\n",
       "        -1303.3961, -1303.3961, -1303.3961, -1303.3961, -1303.3961, -1303.3961,\n",
       "        -1303.3961, -1303.3961, -1303.3961, -1303.3961, -1303.3961, -1303.3961,\n",
       "        -1303.3961, -1303.3961, -1303.3961, -1303.3961, -1303.3961, -1303.3961,\n",
       "        -1303.3961, -1303.3961, -1303.3961, -1303.3961, -1303.3961, -1303.3961,\n",
       "        -1303.3961, -1303.3961, -1303.3961, -1303.3961, -1303.3961, -1303.3961,\n",
       "        -1303.3961, -1303.3961, -1303.3961, -1303.3961, -1303.3961, -1303.3961,\n",
       "        -1303.3961, -1303.3961, -1303.3961, -1303.3961, -1303.3961, -1303.3961,\n",
       "        -1303.3961, -1303.3961, -1303.3961, -1303.3961, -1303.3961, -1303.3961,\n",
       "        -1303.3961, -1303.3961, -1303.3961, -1303.3961, -1303.3961, -1303.3961,\n",
       "        -1303.3961, -1303.3961, -1303.3961, -1303.3961, -1303.3961, -1303.3961,\n",
       "        -1303.3961, -1303.3961, -1303.3961, -1303.3961, -1303.3961, -1303.3961,\n",
       "        -1303.3961, -1303.3961, -1303.3961, -1303.3961, -1303.3961, -1303.3961,\n",
       "        -1303.3961, -1303.3961, -1303.3961, -1303.3961, -1303.3961, -1303.3961,\n",
       "        -1303.3961, -1303.3961, -1303.3961, -1303.3961, -1303.3961, -1303.3961,\n",
       "        -1303.3961, -1303.3961, -1303.3961, -1303.3961, -1303.3961, -1303.3961,\n",
       "        -1303.3961, -1303.3961, -1303.3961, -1303.3961, -1303.3961, -1303.3961,\n",
       "        -1303.3961, -1303.3961, -1303.3961, -1303.3961, -1303.3961, -1303.3961,\n",
       "        -1303.3961, -1303.3961, -1303.3961, -1303.3961, -1303.3961, -1303.3961,\n",
       "        -1303.3961, -1303.3961, -1303.3961, -1303.3961, -1303.3961, -1303.3961,\n",
       "        -1303.3961, -1303.3961, -1303.3961, -1303.3961, -1303.3961, -1303.3961,\n",
       "        -1303.3961, -1303.3961, -1303.3961, -1303.3961, -1303.3961, -1303.3961,\n",
       "        -1303.3961, -1303.3961, -1303.3961, -1303.3961, -1303.3961, -1303.3961,\n",
       "        -1303.3961, -1303.3961, -1303.3961, -1303.3961, -1303.3961, -1303.3961,\n",
       "        -1303.3961, -1303.3961, -1303.3961, -1303.3961, -1303.3961, -1303.3961,\n",
       "        -1303.3961, -1303.3961, -1303.3961, -1303.3961, -1303.3961, -1303.3961,\n",
       "        -1303.3961, -1303.3961, -1303.3961, -1303.3961, -1303.3961, -1303.3961,\n",
       "        -1303.3961, -1303.3961, -1303.3961, -1303.3961, -1303.3961, -1303.3961,\n",
       "        -1303.3961, -1303.3961, -1303.3961, -1303.3961, -1303.3961, -1303.3961,\n",
       "        -1303.3961, -1303.3961, -1303.3961, -1303.3961])"
      ]
     },
     "execution_count": 22,
     "metadata": {},
     "output_type": "execute_result"
    }
   ],
   "source": [
    "log_weight"
   ]
  },
  {
   "cell_type": "code",
   "execution_count": 23,
   "metadata": {},
   "outputs": [],
   "source": [
    "inferred_zs = [p[k].value for k in p if 'z' in k]"
   ]
  },
  {
   "cell_type": "code",
   "execution_count": 24,
   "metadata": {},
   "outputs": [],
   "source": [
    "accuracy = [(pr == tr).to(dtype=torch.float) for pr, tr in zip(inferred_zs, zs)]"
   ]
  },
  {
   "cell_type": "code",
   "execution_count": 25,
   "metadata": {},
   "outputs": [
    {
     "name": "stdout",
     "output_type": "stream",
     "text": [
      "SMC percent accuracy at time 0: 24.000000\n",
      "SMC percent accuracy at time 1: 28.799999\n",
      "SMC percent accuracy at time 2: 17.200001\n",
      "SMC percent accuracy at time 3: 20.800001\n",
      "SMC percent accuracy at time 4: 14.800000\n",
      "SMC percent accuracy at time 5: 17.200001\n",
      "SMC percent accuracy at time 6: 12.400000\n",
      "SMC percent accuracy at time 7: 29.600000\n",
      "SMC percent accuracy at time 8: 29.600000\n",
      "SMC percent accuracy at time 9: 23.199999\n",
      "SMC percent accuracy at time 10: 22.000000\n",
      "SMC percent accuracy at time 11: 17.200001\n",
      "SMC percent accuracy at time 12: 3.600000\n",
      "SMC percent accuracy at time 13: 16.799999\n",
      "SMC percent accuracy at time 14: 18.400000\n",
      "SMC percent accuracy at time 15: 18.799999\n",
      "SMC percent accuracy at time 16: 20.400000\n",
      "SMC percent accuracy at time 17: 31.600002\n",
      "SMC percent accuracy at time 18: 20.400000\n",
      "SMC percent accuracy at time 19: 24.799999\n",
      "SMC percent accuracy at time 20: 24.799999\n",
      "SMC percent accuracy at time 21: 6.400000\n",
      "SMC percent accuracy at time 22: 17.200001\n",
      "SMC percent accuracy at time 23: 5.600000\n",
      "SMC percent accuracy at time 24: 2.000000\n",
      "SMC percent accuracy at time 25: 4.800000\n",
      "SMC percent accuracy at time 26: 40.000000\n",
      "SMC percent accuracy at time 27: 15.600000\n",
      "SMC percent accuracy at time 28: 12.800000\n",
      "SMC percent accuracy at time 29: 17.600000\n",
      "SMC percent accuracy at time 30: 14.400000\n",
      "SMC percent accuracy at time 31: 12.400000\n",
      "SMC percent accuracy at time 32: 34.400002\n",
      "SMC percent accuracy at time 33: 19.600000\n",
      "SMC percent accuracy at time 34: 14.400000\n",
      "SMC percent accuracy at time 35: 12.400000\n",
      "SMC percent accuracy at time 36: 23.600000\n",
      "SMC percent accuracy at time 37: 0.000000\n",
      "SMC percent accuracy at time 38: 30.000002\n",
      "SMC percent accuracy at time 39: 22.799999\n",
      "SMC percent accuracy at time 40: 14.800000\n",
      "SMC percent accuracy at time 41: 30.799999\n",
      "SMC percent accuracy at time 42: 29.199999\n",
      "SMC percent accuracy at time 43: 7.200000\n",
      "SMC percent accuracy at time 44: 22.400002\n",
      "SMC percent accuracy at time 45: 20.800001\n",
      "SMC percent accuracy at time 46: 8.800000\n",
      "SMC percent accuracy at time 47: 35.600002\n",
      "SMC percent accuracy at time 48: 10.800000\n",
      "SMC percent accuracy at time 49: 36.399998\n"
     ]
    }
   ],
   "source": [
    "for t in range(50):\n",
    "    print('SMC percent accuracy at time %d: %f' % (t, accuracy[t].mean(dim=0) * 100))"
   ]
  },
  {
   "cell_type": "code",
   "execution_count": null,
   "metadata": {},
   "outputs": [],
   "source": []
  }
 ],
 "metadata": {
  "kernelspec": {
   "display_name": "Python [conda env:funcytorch] *",
   "language": "python",
   "name": "conda-env-funcytorch-py"
  },
  "language_info": {
   "codemirror_mode": {
    "name": "ipython",
    "version": 3
   },
   "file_extension": ".py",
   "mimetype": "text/x-python",
   "name": "python",
   "nbconvert_exporter": "python",
   "pygments_lexer": "ipython3",
   "version": "3.8.8"
  }
 },
 "nbformat": 4,
 "nbformat_minor": 4
}
