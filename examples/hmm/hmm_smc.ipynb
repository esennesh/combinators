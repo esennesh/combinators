{
 "cells": [
  {
   "cell_type": "code",
   "execution_count": 1,
   "metadata": {},
   "outputs": [],
   "source": [
    "from functools import reduce\n",
    "import logging\n",
    "import matplotlib.pyplot as plt\n",
    "import numpy as np\n",
    "import torch"
   ]
  },
  {
   "cell_type": "code",
   "execution_count": 2,
   "metadata": {},
   "outputs": [
    {
     "name": "stdout",
     "output_type": "stream",
     "text": [
      "/home/eli/AnacondaProjects/combinators\n"
     ]
    }
   ],
   "source": [
    "%cd ../.."
   ]
  },
  {
   "cell_type": "code",
   "execution_count": 3,
   "metadata": {},
   "outputs": [],
   "source": [
    "from combinators import lens, sampler, utils\n",
    "from combinators.inference import conditioning, resample\n",
    "from combinators.model import collections\n",
    "import examples.hmm.hmm as hmm"
   ]
  },
  {
   "cell_type": "code",
   "execution_count": 4,
   "metadata": {},
   "outputs": [],
   "source": [
    "state_params = {\n",
    "    'mu': (torch.arange(5, dtype=torch.float) * 2).expand(2, 5).t(),\n",
    "    'concentration': torch.ones(5, 2) * 2,\n",
    "    'rate': torch.ones(5, 2) * 2,\n",
    "}"
   ]
  },
  {
   "cell_type": "code",
   "execution_count": 5,
   "metadata": {},
   "outputs": [],
   "source": [
    "prior = sampler.importance_box('hmm_parameters', hmm.Parameters(5, 2, state_params), (1,), hmm.ParametersProposal(), lens.PRO(0), lens.PRO(4))\n",
    "hmm_step = sampler.importance_box('hmm_step', hmm.TransitionAndEmission(), (1,), hmm.TransitionProposal(), lens.PRO(4), lens.PRO(4))"
   ]
  },
  {
   "cell_type": "code",
   "execution_count": 6,
   "metadata": {},
   "outputs": [],
   "source": [
    "chain = collections.sequential(hmm_step, 50)"
   ]
  },
  {
   "cell_type": "code",
   "execution_count": 7,
   "metadata": {},
   "outputs": [],
   "source": [
    "hmm_model = prior >> chain\n",
    "hmm_sampler = sampler.compile(hmm_model)"
   ]
  },
  {
   "cell_type": "code",
   "execution_count": 8,
   "metadata": {},
   "outputs": [],
   "source": [
    "sampler.filter(hmm_sampler)\n",
    "p, log_weight = sampler.trace(hmm_sampler)"
   ]
  },
  {
   "cell_type": "code",
   "execution_count": 9,
   "metadata": {},
   "outputs": [],
   "source": [
    "zs = [p[k].value for k in p if 'z' in k]"
   ]
  },
  {
   "cell_type": "code",
   "execution_count": 10,
   "metadata": {},
   "outputs": [
    {
     "data": {
      "text/plain": [
       "[tensor([2]),\n",
       " tensor([1]),\n",
       " tensor([2]),\n",
       " tensor([1]),\n",
       " tensor([2]),\n",
       " tensor([4]),\n",
       " tensor([0]),\n",
       " tensor([4]),\n",
       " tensor([3]),\n",
       " tensor([3]),\n",
       " tensor([0]),\n",
       " tensor([1]),\n",
       " tensor([0]),\n",
       " tensor([1]),\n",
       " tensor([4]),\n",
       " tensor([3]),\n",
       " tensor([2]),\n",
       " tensor([4]),\n",
       " tensor([0]),\n",
       " tensor([3]),\n",
       " tensor([2]),\n",
       " tensor([1]),\n",
       " tensor([4]),\n",
       " tensor([0]),\n",
       " tensor([2]),\n",
       " tensor([1]),\n",
       " tensor([3]),\n",
       " tensor([0]),\n",
       " tensor([4]),\n",
       " tensor([3]),\n",
       " tensor([1]),\n",
       " tensor([4]),\n",
       " tensor([0]),\n",
       " tensor([1]),\n",
       " tensor([3]),\n",
       " tensor([3]),\n",
       " tensor([0]),\n",
       " tensor([2]),\n",
       " tensor([4]),\n",
       " tensor([2]),\n",
       " tensor([2]),\n",
       " tensor([2]),\n",
       " tensor([2]),\n",
       " tensor([4]),\n",
       " tensor([3]),\n",
       " tensor([3]),\n",
       " tensor([3]),\n",
       " tensor([3]),\n",
       " tensor([0]),\n",
       " tensor([1]),\n",
       " tensor([3])]"
      ]
     },
     "execution_count": 10,
     "metadata": {},
     "output_type": "execute_result"
    }
   ],
   "source": [
    "zs"
   ]
  },
  {
   "cell_type": "code",
   "execution_count": 11,
   "metadata": {},
   "outputs": [],
   "source": [
    "xs = [p[k].value for k in p if 'x' in k]"
   ]
  },
  {
   "cell_type": "code",
   "execution_count": 12,
   "metadata": {},
   "outputs": [
    {
     "data": {
      "text/plain": [
       "[tensor([[3.5967, 1.4736]]),\n",
       " tensor([[3.5154, 4.2596]]),\n",
       " tensor([[1.9807, 1.9720]]),\n",
       " tensor([[1.1656, 1.4333]]),\n",
       " tensor([[2.1127, 4.1003]]),\n",
       " tensor([[11.1091,  5.5806]]),\n",
       " tensor([[1.1744, 0.8495]]),\n",
       " tensor([[8.5569, 7.9489]]),\n",
       " tensor([[4.5335, 7.5802]]),\n",
       " tensor([[1.8427, 7.0639]]),\n",
       " tensor([[0.0169, 0.9083]]),\n",
       " tensor([[0.9960, 2.1963]]),\n",
       " tensor([[1.5277, 0.6737]]),\n",
       " tensor([[3.1667, 1.5478]]),\n",
       " tensor([[7.2655, 7.6514]]),\n",
       " tensor([[-2.1437,  9.0428]]),\n",
       " tensor([[1.9585, 4.2542]]),\n",
       " tensor([[9.6790, 7.8078]]),\n",
       " tensor([[0.5741, 0.3282]]),\n",
       " tensor([[3.8368, 4.0328]]),\n",
       " tensor([[2.2000, 0.4654]]),\n",
       " tensor([[1.7091, 2.8359]]),\n",
       " tensor([[9.9724, 5.7619]]),\n",
       " tensor([[0.5057, 0.1197]]),\n",
       " tensor([[1.4625, 0.5163]]),\n",
       " tensor([[1.5817, 1.9312]]),\n",
       " tensor([[2.7219, 4.9598]]),\n",
       " tensor([[-1.1733,  1.5189]]),\n",
       " tensor([[8.7343, 5.9980]]),\n",
       " tensor([[1.8930, 7.4649]]),\n",
       " tensor([[2.6239, 2.3302]]),\n",
       " tensor([[6.9376, 7.2948]]),\n",
       " tensor([[0.9021, 0.8497]]),\n",
       " tensor([[-0.0568,  2.6382]]),\n",
       " tensor([[4.8419, 3.7211]]),\n",
       " tensor([[1.8635, 2.1880]]),\n",
       " tensor([[ 0.5992, -0.1023]]),\n",
       " tensor([[1.2134, 1.4239]]),\n",
       " tensor([[9.6697, 7.5322]]),\n",
       " tensor([[1.8566, 2.3217]]),\n",
       " tensor([[3.0060, 4.2394]]),\n",
       " tensor([[2.4786, 2.1407]]),\n",
       " tensor([[2.6499, 0.6950]]),\n",
       " tensor([[10.7281,  6.1895]]),\n",
       " tensor([[-6.5589e-04,  2.9539e+00]]),\n",
       " tensor([[1.2867, 7.0286]]),\n",
       " tensor([[1.3428, 4.2150]]),\n",
       " tensor([[1.1885, 0.4798]]),\n",
       " tensor([[0.9687, 0.3309]]),\n",
       " tensor([[0.4621, 3.3670]])]"
      ]
     },
     "execution_count": 12,
     "metadata": {},
     "output_type": "execute_result"
    }
   ],
   "source": [
    "xs"
   ]
  },
  {
   "cell_type": "code",
   "execution_count": 13,
   "metadata": {},
   "outputs": [],
   "source": [
    "num_particles = 250"
   ]
  },
  {
   "cell_type": "code",
   "execution_count": 14,
   "metadata": {},
   "outputs": [],
   "source": [
    "inference_params = {\n",
    "    'mu': (torch.arange(5, dtype=torch.float) * 2).expand(2, 5).t(),\n",
    "    'concentration': torch.ones(5, 2),\n",
    "    'rate': torch.ones(5, 2),\n",
    "}"
   ]
  },
  {
   "cell_type": "code",
   "execution_count": 15,
   "metadata": {},
   "outputs": [],
   "source": [
    "params = sampler.importance_box('hmm_parameters', hmm.Parameters(5, 2, inference_params), (num_particles,), hmm.ParametersProposal(), lens.PRO(0), lens.PRO(4))\n",
    "hmm_step = sampler.importance_box('hmm_step', hmm.TransitionAndEmission(), (num_particles,), hmm.TransitionProposal(), lens.PRO(4), lens.PRO(4))"
   ]
  },
  {
   "cell_type": "code",
   "execution_count": 16,
   "metadata": {},
   "outputs": [],
   "source": [
    "chain = collections.sequential(hmm_step, 50)"
   ]
  },
  {
   "cell_type": "code",
   "execution_count": 17,
   "metadata": {},
   "outputs": [],
   "source": [
    "conditioned_chain = conditioning.SequentialConditioner(hmm_step=xs)(chain)"
   ]
  },
  {
   "cell_type": "code",
   "execution_count": 18,
   "metadata": {},
   "outputs": [],
   "source": [
    "hmm_inference = params >> conditioned_chain\n",
    "hmm_resampler = sampler.compile(hmm_inference)\n",
    "resample.hook_resampling(hmm_resampler, method='get', resampler_cls=resample.MultinomialResampler)"
   ]
  },
  {
   "cell_type": "code",
   "execution_count": 19,
   "metadata": {},
   "outputs": [],
   "source": [
    "sampler.filter(hmm_resampler)\n",
    "p, log_weight = sampler.trace(hmm_resampler)"
   ]
  },
  {
   "cell_type": "code",
   "execution_count": 20,
   "metadata": {},
   "outputs": [
    {
     "data": {
      "text/plain": [
       "tensor([-1177.9653, -1177.9653, -1177.9653, -1177.9653, -1177.9653, -1177.9653,\n",
       "        -1177.9653, -1177.9653, -1177.9653, -1177.9653, -1177.9653, -1177.9653,\n",
       "        -1177.9653, -1177.9653, -1177.9653, -1177.9653, -1177.9653, -1177.9653,\n",
       "        -1177.9653, -1177.9653, -1177.9653, -1177.9653, -1177.9653, -1177.9653,\n",
       "        -1177.9653, -1177.9653, -1177.9653, -1177.9653, -1177.9653, -1177.9653,\n",
       "        -1177.9653, -1177.9653, -1177.9653, -1177.9653, -1177.9653, -1177.9653,\n",
       "        -1177.9653, -1177.9653, -1177.9653, -1177.9653, -1177.9653, -1177.9653,\n",
       "        -1177.9653, -1177.9653, -1177.9653, -1177.9653, -1177.9653, -1177.9653,\n",
       "        -1177.9653, -1177.9653, -1177.9653, -1177.9653, -1177.9653, -1177.9653,\n",
       "        -1177.9653, -1177.9653, -1177.9653, -1177.9653, -1177.9653, -1177.9653,\n",
       "        -1177.9653, -1177.9653, -1177.9653, -1177.9653, -1177.9653, -1177.9653,\n",
       "        -1177.9653, -1177.9653, -1177.9653, -1177.9653, -1177.9653, -1177.9653,\n",
       "        -1177.9653, -1177.9653, -1177.9653, -1177.9653, -1177.9653, -1177.9653,\n",
       "        -1177.9653, -1177.9653, -1177.9653, -1177.9653, -1177.9653, -1177.9653,\n",
       "        -1177.9653, -1177.9653, -1177.9653, -1177.9653, -1177.9653, -1177.9653,\n",
       "        -1177.9653, -1177.9653, -1177.9653, -1177.9653, -1177.9653, -1177.9653,\n",
       "        -1177.9653, -1177.9653, -1177.9653, -1177.9653, -1177.9653, -1177.9653,\n",
       "        -1177.9653, -1177.9653, -1177.9653, -1177.9653, -1177.9653, -1177.9653,\n",
       "        -1177.9653, -1177.9653, -1177.9653, -1177.9653, -1177.9653, -1177.9653,\n",
       "        -1177.9653, -1177.9653, -1177.9653, -1177.9653, -1177.9653, -1177.9653,\n",
       "        -1177.9653, -1177.9653, -1177.9653, -1177.9653, -1177.9653, -1177.9653,\n",
       "        -1177.9653, -1177.9653, -1177.9653, -1177.9653, -1177.9653, -1177.9653,\n",
       "        -1177.9653, -1177.9653, -1177.9653, -1177.9653, -1177.9653, -1177.9653,\n",
       "        -1177.9653, -1177.9653, -1177.9653, -1177.9653, -1177.9653, -1177.9653,\n",
       "        -1177.9653, -1177.9653, -1177.9653, -1177.9653, -1177.9653, -1177.9653,\n",
       "        -1177.9653, -1177.9653, -1177.9653, -1177.9653, -1177.9653, -1177.9653,\n",
       "        -1177.9653, -1177.9653, -1177.9653, -1177.9653, -1177.9653, -1177.9653,\n",
       "        -1177.9653, -1177.9653, -1177.9653, -1177.9653, -1177.9653, -1177.9653,\n",
       "        -1177.9653, -1177.9653, -1177.9653, -1177.9653, -1177.9653, -1177.9653,\n",
       "        -1177.9653, -1177.9653, -1177.9653, -1177.9653, -1177.9653, -1177.9653,\n",
       "        -1177.9653, -1177.9653, -1177.9653, -1177.9653, -1177.9653, -1177.9653,\n",
       "        -1177.9653, -1177.9653, -1177.9653, -1177.9653, -1177.9653, -1177.9653,\n",
       "        -1177.9653, -1177.9653, -1177.9653, -1177.9653, -1177.9653, -1177.9653,\n",
       "        -1177.9653, -1177.9653, -1177.9653, -1177.9653, -1177.9653, -1177.9653,\n",
       "        -1177.9653, -1177.9653, -1177.9653, -1177.9653, -1177.9653, -1177.9653,\n",
       "        -1177.9653, -1177.9653, -1177.9653, -1177.9653, -1177.9653, -1177.9653,\n",
       "        -1177.9653, -1177.9653, -1177.9653, -1177.9653, -1177.9653, -1177.9653,\n",
       "        -1177.9653, -1177.9653, -1177.9653, -1177.9653, -1177.9653, -1177.9653,\n",
       "        -1177.9653, -1177.9653, -1177.9653, -1177.9653, -1177.9653, -1177.9653,\n",
       "        -1177.9653, -1177.9653, -1177.9653, -1177.9653, -1177.9653, -1177.9653,\n",
       "        -1177.9653, -1177.9653, -1177.9653, -1177.9653, -1177.9653, -1177.9653,\n",
       "        -1177.9653, -1177.9653, -1177.9653, -1177.9653])"
      ]
     },
     "execution_count": 20,
     "metadata": {},
     "output_type": "execute_result"
    }
   ],
   "source": [
    "log_weight"
   ]
  },
  {
   "cell_type": "code",
   "execution_count": 21,
   "metadata": {},
   "outputs": [],
   "source": [
    "inferred_zs = [p[k].value for k in p if 'z' in k]"
   ]
  },
  {
   "cell_type": "code",
   "execution_count": 22,
   "metadata": {},
   "outputs": [],
   "source": [
    "accuracy = [(pr == tr).to(dtype=torch.float) for pr, tr in zip(inferred_zs, zs)]"
   ]
  },
  {
   "cell_type": "code",
   "execution_count": 23,
   "metadata": {},
   "outputs": [
    {
     "name": "stdout",
     "output_type": "stream",
     "text": [
      "SMC percent accuracy at time 0: 0.000000\n",
      "SMC percent accuracy at time 1: 100.000000\n",
      "SMC percent accuracy at time 2: 0.000000\n",
      "SMC percent accuracy at time 3: 0.000000\n",
      "SMC percent accuracy at time 4: 0.000000\n",
      "SMC percent accuracy at time 5: 0.000000\n",
      "SMC percent accuracy at time 6: 100.000000\n",
      "SMC percent accuracy at time 7: 0.000000\n",
      "SMC percent accuracy at time 8: 100.000000\n",
      "SMC percent accuracy at time 9: 100.000000\n",
      "SMC percent accuracy at time 10: 100.000000\n",
      "SMC percent accuracy at time 11: 100.000000\n",
      "SMC percent accuracy at time 12: 100.000000\n",
      "SMC percent accuracy at time 13: 100.000000\n",
      "SMC percent accuracy at time 14: 0.000000\n",
      "SMC percent accuracy at time 15: 100.000000\n",
      "SMC percent accuracy at time 16: 100.000000\n",
      "SMC percent accuracy at time 17: 0.000000\n",
      "SMC percent accuracy at time 18: 100.000000\n",
      "SMC percent accuracy at time 19: 0.000000\n",
      "SMC percent accuracy at time 20: 0.000000\n",
      "SMC percent accuracy at time 21: 100.000000\n",
      "SMC percent accuracy at time 22: 0.000000\n",
      "SMC percent accuracy at time 23: 100.000000\n",
      "SMC percent accuracy at time 24: 0.000000\n",
      "SMC percent accuracy at time 25: 100.000000\n",
      "SMC percent accuracy at time 26: 0.000000\n",
      "SMC percent accuracy at time 27: 100.000000\n",
      "SMC percent accuracy at time 28: 0.000000\n",
      "SMC percent accuracy at time 29: 100.000000\n",
      "SMC percent accuracy at time 30: 100.000000\n",
      "SMC percent accuracy at time 31: 100.000000\n",
      "SMC percent accuracy at time 32: 100.000000\n",
      "SMC percent accuracy at time 33: 0.000000\n",
      "SMC percent accuracy at time 34: 0.000000\n",
      "SMC percent accuracy at time 35: 0.000000\n",
      "SMC percent accuracy at time 36: 100.000000\n",
      "SMC percent accuracy at time 37: 0.000000\n",
      "SMC percent accuracy at time 38: 0.000000\n",
      "SMC percent accuracy at time 39: 0.000000\n",
      "SMC percent accuracy at time 40: 100.000000\n",
      "SMC percent accuracy at time 41: 0.000000\n",
      "SMC percent accuracy at time 42: 0.000000\n",
      "SMC percent accuracy at time 43: 0.000000\n",
      "SMC percent accuracy at time 44: 0.000000\n",
      "SMC percent accuracy at time 45: 100.000000\n",
      "SMC percent accuracy at time 46: 5.600000\n",
      "SMC percent accuracy at time 47: 0.000000\n",
      "SMC percent accuracy at time 48: 82.400002\n",
      "SMC percent accuracy at time 49: 46.399998\n"
     ]
    }
   ],
   "source": [
    "for t in range(50):\n",
    "    print('SMC percent accuracy at time %d: %f' % (t, accuracy[t].mean(dim=0) * 100))"
   ]
  },
  {
   "cell_type": "code",
   "execution_count": null,
   "metadata": {},
   "outputs": [],
   "source": []
  }
 ],
 "metadata": {
  "kernelspec": {
   "display_name": "Python [conda env:funcytorch] *",
   "language": "python",
   "name": "conda-env-funcytorch-py"
  },
  "language_info": {
   "codemirror_mode": {
    "name": "ipython",
    "version": 3
   },
   "file_extension": ".py",
   "mimetype": "text/x-python",
   "name": "python",
   "nbconvert_exporter": "python",
   "pygments_lexer": "ipython3",
   "version": "3.8.12"
  }
 },
 "nbformat": 4,
 "nbformat_minor": 4
}
