{
 "cells": [
  {
   "cell_type": "code",
   "execution_count": 1,
   "metadata": {},
   "outputs": [
    {
     "name": "stdout",
     "output_type": "stream",
     "text": [
      "/home/work/AnacondaProjects/combinators\n"
     ]
    }
   ],
   "source": [
    "%cd ../.."
   ]
  },
  {
   "cell_type": "code",
   "execution_count": 2,
   "metadata": {},
   "outputs": [],
   "source": [
    "import logging\n",
    "\n",
    "import numpy as np\n",
    "import probtorch\n",
    "import torch\n",
    "\n",
    "from examples.dynamical_ball import dynamical_ball\n",
    "from examples.bouncing_ball import bouncing_ball_data\n",
    "\n",
    "from combinators.inference import conditioning, metrics, variational\n",
    "from combinators.lens import Cap, PRO, Ty\n",
    "from combinators.model import collections\n",
    "from combinators import sampler, signal, utils"
   ]
  },
  {
   "cell_type": "code",
   "execution_count": 3,
   "metadata": {},
   "outputs": [],
   "source": [
    "import matplotlib.gridspec as gridspec\n",
    "from matplotlib.collections import LineCollection\n",
    "\n",
    "import matplotlib.pyplot as plt"
   ]
  },
  {
   "cell_type": "code",
   "execution_count": 4,
   "metadata": {},
   "outputs": [],
   "source": [
    "logging.basicConfig(format='%(asctime)s %(message)s', datefmt='%m/%d/%Y %H:%M:%S',\n",
    "                    level=logging.INFO)"
   ]
  },
  {
   "cell_type": "code",
   "execution_count": 5,
   "metadata": {},
   "outputs": [
    {
     "data": {
      "text/plain": [
       "<torch._C.Generator at 0x7f2078086b70>"
      ]
     },
     "execution_count": 5,
     "metadata": {},
     "output_type": "execute_result"
    }
   ],
   "source": [
    "torch.manual_seed(0xdeadbeef)"
   ]
  },
  {
   "cell_type": "code",
   "execution_count": 6,
   "metadata": {},
   "outputs": [],
   "source": [
    "## dataset parameters\n",
    "T = 100 ## sequence length\n",
    "num_series = 1\n",
    "dt = 1 ## \\delta t\n",
    "Boundary = 6 ## unit box is amplified by this value, centered at origin\n",
    "signal_noise_ratio = 0.2 # the noise is multiplied by this param\n",
    "D = 2\n",
    "## Model parameters\n",
    "K =  4## number of hidden states"
   ]
  },
  {
   "cell_type": "code",
   "execution_count": 7,
   "metadata": {},
   "outputs": [],
   "source": [
    "num_particles = 1000\n",
    "particle_shape = (num_particles,)\n",
    "batch_shape = (1,)\n",
    "num_sweeps = 3"
   ]
  },
  {
   "cell_type": "code",
   "execution_count": 8,
   "metadata": {},
   "outputs": [],
   "source": [
    "data = torch.load('examples/dynamical_ball/dynamical_ball_data.pt')"
   ]
  },
  {
   "cell_type": "code",
   "execution_count": 9,
   "metadata": {},
   "outputs": [],
   "source": [
    "def trace_to_dict(p):\n",
    "    return {k: rv.value for k, rv in p.items()}"
   ]
  },
  {
   "cell_type": "code",
   "execution_count": 10,
   "metadata": {},
   "outputs": [],
   "source": [
    "def dict_to_tracelike(d):\n",
    "    return {k: v.expand(1, 1, *v.shape) for k, v in d.items()}"
   ]
  },
  {
   "cell_type": "code",
   "execution_count": 11,
   "metadata": {},
   "outputs": [],
   "source": [
    "def accumulate_trajectory(p):\n",
    "    initial_position = p['position_0']\n",
    "    velocities = torch.zeros(*initial_position.shape[:2], T + 1, 2)\n",
    "    for t in range(0, T):\n",
    "        velocities[:, :, t] = p['velocity_%d' % t]\n",
    "    trajectory = dynamical_ball.simulate_trajectory(initial_position, velocities[:, :, 0], T, velocities=velocities)\n",
    "    return trajectory[:, :, :, 0, :]"
   ]
  },
  {
   "cell_type": "code",
   "execution_count": 12,
   "metadata": {},
   "outputs": [],
   "source": [
    "p = dict_to_tracelike(data)\n",
    "trajectory = torch.stack([p['position_%d' % t] for t in range(T+1)], dim=2)"
   ]
  },
  {
   "cell_type": "code",
   "execution_count": 13,
   "metadata": {},
   "outputs": [],
   "source": [
    "def training_model():\n",
    "    init_dynamics = dynamical_ball.InitBallDynamics()\n",
    "    update = dynamical_ball.InitDynamicsProposal()\n",
    "    init_dynamics = sampler.importance_box('init_dynamics', init_dynamics, update,\n",
    "                                           batch_shape, particle_shape, PRO(0), PRO(2))\n",
    "    init_state = dynamical_ball.InitialBallState()\n",
    "    update = dynamical_ball.InitBallProposal()\n",
    "    init_state = sampler.importance_box('init_state', init_state, update,\n",
    "                                        batch_shape, particle_shape,\n",
    "                                        PRO(0), PRO(2))\n",
    "    \n",
    "    step = dynamical_ball.StepBallState()\n",
    "    update = dynamical_ball.StepBallProposal()\n",
    "    step = sampler.importance_box('step_state', step, update, batch_shape, particle_shape, PRO(4), PRO(2))\n",
    "    step = collections.parameterized_ssm(PRO(2), PRO(2), step)\n",
    "    \n",
    "    return (init_state @ init_dynamics) >> collections.sequential(step, T)"
   ]
  },
  {
   "cell_type": "code",
   "execution_count": 14,
   "metadata": {},
   "outputs": [],
   "source": [
    "diagram = training_model()\n",
    "data_dicts = [data['position_%d' % t].unsqueeze(dim=0).detach()\n",
    "              for t in range(T)]\n",
    "diagram = conditioning.SequentialConditioner(step_state=data_dicts)(diagram)"
   ]
  },
  {
   "cell_type": "code",
   "execution_count": 15,
   "metadata": {},
   "outputs": [],
   "source": [
    "graph = sampler.compile(diagram >> signal.Cap(diagram.cod))\n",
    "for box in graph:\n",
    "    if isinstance(box, sampler.ImportanceWiringBox):\n",
    "        target_state = torch.load('examples/dynamical_ball/' + box.name + '_target.pt')\n",
    "        box.target.load_state_dict(target_state)\n",
    "        proposal_state = torch.load('examples/dynamical_ball/' + box.name + '_proposal.pt')\n",
    "        box.proposal.load_state_dict(proposal_state)"
   ]
  },
  {
   "cell_type": "code",
   "execution_count": 16,
   "metadata": {},
   "outputs": [],
   "source": [
    "sampler.filter(graph)\n",
    "for _ in range(num_sweeps):\n",
    "    sampler.smooth(graph)"
   ]
  },
  {
   "cell_type": "code",
   "execution_count": 17,
   "metadata": {},
   "outputs": [],
   "source": [
    "p, log_weight = sampler.trace(graph)\n",
    "inferred_trajectory = torch.stack([p['position_%d' % t].dist.loc for t in range(T+1)], dim=2)"
   ]
  },
  {
   "cell_type": "code",
   "execution_count": 18,
   "metadata": {},
   "outputs": [],
   "source": [
    "def graph_trajectory(positions, T, name, show=True):\n",
    "    gs = gridspec.GridSpec(2, 2)\n",
    "    fig1 = plt.figure(figsize=(5, 5))\n",
    "    ax1 = fig1.gca()\n",
    "\n",
    "    ax1.scatter(positions[:, :, 0], positions[:, :, 1], c=np.arange(T+1))\n",
    "    ax1.set_xlim([-Boundary, Boundary])\n",
    "    ax1.set_ylim([-Boundary, Boundary])\n",
    "    #ax1.set_xticks([])\n",
    "    #ax1.set_yticks([])\n",
    "    ax1.set_ylabel('y(t)')\n",
    "    ax1.set_xlabel('x(t)')\n",
    "    plt.savefig(name)\n",
    "    if show:\n",
    "        plt.show()"
   ]
  },
  {
   "cell_type": "code",
   "execution_count": 19,
   "metadata": {},
   "outputs": [],
   "source": [
    "def graph_original_trajectory(trajectory, T, show=True):\n",
    "    positions = trajectory.squeeze(dim=0)[ :, :, :2]\n",
    "    graph_trajectory(positions, T, 'trajectory.pdf', show=show)"
   ]
  },
  {
   "cell_type": "code",
   "execution_count": 20,
   "metadata": {},
   "outputs": [],
   "source": [
    "def graph_inferred_trajectory(positions, T, show=True):\n",
    "    positions = positions.squeeze(dim=0)\n",
    "    graph_trajectory(positions, T, 'inferred_trajectory.pdf', show=show)"
   ]
  },
  {
   "cell_type": "code",
   "execution_count": 21,
   "metadata": {},
   "outputs": [],
   "source": [
    "def graph_displacement_trajectories(velocity_steps, displacements, T):\n",
    "    fig2, (ax2, ax3) = plt.subplots(2, 1, sharex=True, sharey=True, figsize=(5, 5))\n",
    "    \n",
    "    velocity_steps = velocity_steps.squeeze(-2)\n",
    "    displacements = displacements.squeeze(-2)\n",
    "\n",
    "    dx_lc = LineCollection(velocity_steps[:, :, :2].numpy())\n",
    "    dx_lc.set_array(np.arange(T - 1))\n",
    "    ax2.add_collection(dx_lc)\n",
    "    ax2.scatter(np.arange(T), displacements[:, 0], c=np.arange(T), s=10)\n",
    "    #ax2.set_xlabel('t')\n",
    "    ax2.set_ylabel('Δx')\n",
    "\n",
    "    dy_lc = LineCollection(velocity_steps[:, :, 0:3:2].numpy())\n",
    "    dy_lc.set_array(np.arange(T-1))\n",
    "    ax3.add_collection(dy_lc)\n",
    "    ax3.scatter(np.arange(T), displacements[:, 1], c=np.arange(T), s=10)\n",
    "    ax3.set_xlabel('Time')\n",
    "    ax3.set_ylabel('Δy')\n",
    "\n",
    "    plt.savefig('time_vs_displacement.pdf')"
   ]
  },
  {
   "cell_type": "code",
   "execution_count": 22,
   "metadata": {},
   "outputs": [],
   "source": [
    "def graph_velocity_frequencies(directions):\n",
    "    fig = plt.figure(figsize=(6, 6))\n",
    "    ax = fig.gca()\n",
    "\n",
    "    ax.scatter(init_v[:, 0], init_v[:, 1], label='z=1')\n",
    "    ax.scatter(init_v[:, 0], -init_v[:, 1], label='z=2')\n",
    "    ax.scatter(-init_v[:, 0], -init_v[:, 1], label='z=3')\n",
    "    ax.scatter(-init_v[:, 0], init_v[:, 1], label='z=4')\n",
    "    colors = ['b', 'orange', 'g', 'r', 'k']\n",
    "    for k in range(K):\n",
    "        ax.scatter(directions[:, k, 0], directions[:, k, 1], c=colors[k], marker='x')\n",
    "\n",
    "    ax.set_xlabel('X velocity')\n",
    "    ax.set_ylabel('Y velocity')\n",
    "    ax.set_xlim([-1.1, 1.1])\n",
    "    ax.set_ylim([-1.1, 1.1])\n",
    "    ax.legend(loc='upper center', bbox_to_anchor=(0.5, 1.15), ncol=4)\n",
    "    plt.savefig('velocity_frequencies.pdf')"
   ]
  },
  {
   "cell_type": "code",
   "execution_count": 23,
   "metadata": {},
   "outputs": [],
   "source": [
    "positions = inferred_trajectory.mean(dim=0, keepdim=True).cpu().detach()\n",
    "displacements = torch.stack([p['velocity_%d' % (t+1)].value.mean(dim=0) for t in range(T)], dim=0).cpu().detach()\n",
    "step_numbers = torch.stack((torch.arange(T), torch.arange(T) + 1), dim=-1)\n",
    "\n",
    "velocity_srcs = torch.cat((torch.arange(T-1).unsqueeze(1).unsqueeze(1).to(displacements), displacements[:-1]), dim=2)\n",
    "velocity_dests = torch.cat((torch.arange(T-1).unsqueeze(1).unsqueeze(1).to(displacements) + 1, displacements[:-1]), dim=2)\n",
    "velocity_steps = torch.stack((velocity_srcs, velocity_dests), dim=1)"
   ]
  },
  {
   "cell_type": "code",
   "execution_count": 24,
   "metadata": {},
   "outputs": [
    {
     "data": {
      "image/png": "[encoded data removed]",
      "text/plain": [
       "<Figure size 360x360 with 1 Axes>"
      ]
     },
     "metadata": {
      "needs_background": "light"
     },
     "output_type": "display_data"
    }
   ],
   "source": [
    "graph_original_trajectory(trajectory, T)"
   ]
  },
  {
   "cell_type": "code",
   "execution_count": 25,
   "metadata": {},
   "outputs": [
    {
     "data": {
      "image/png": "[encoded data removed]",
      "text/plain": [
       "<Figure size 360x360 with 1 Axes>"
      ]
     },
     "metadata": {
      "needs_background": "light"
     },
     "output_type": "display_data"
    }
   ],
   "source": [
    "graph_inferred_trajectory(positions, T)"
   ]
  },
  {
   "cell_type": "code",
   "execution_count": 26,
   "metadata": {},
   "outputs": [
    {
     "data": {
      "image/png": "[encoded data removed]",
      "text/plain": [
       "<Figure size 360x360 with 2 Axes>"
      ]
     },
     "metadata": {
      "needs_background": "light"
     },
     "output_type": "display_data"
    }
   ],
   "source": [
    "graph_displacement_trajectories(velocity_steps, displacements, T)"
   ]
  },
  {
   "cell_type": "code",
   "execution_count": 27,
   "metadata": {},
   "outputs": [],
   "source": [
    "plt.close()"
   ]
  },
  {
   "cell_type": "code",
   "execution_count": 28,
   "metadata": {},
   "outputs": [
    {
     "name": "stderr",
     "output_type": "stream",
     "text": [
      "02/24/2022 23:20:55 Effective sample size (ESS) of 4.1140e+00 based upon K=1000 samples\n"
     ]
    },
    {
     "data": {
      "text/plain": [
       "tensor(4.1140, grad_fn=<MeanBackward1>)"
      ]
     },
     "execution_count": 28,
     "metadata": {},
     "output_type": "execute_result"
    }
   ],
   "source": [
    "metrics.diagram_ess(graph)"
   ]
  },
  {
   "cell_type": "code",
   "execution_count": 29,
   "metadata": {},
   "outputs": [
    {
     "name": "stderr",
     "output_type": "stream",
     "text": [
      "02/24/2022 23:20:55 Estimated log evidence (log Z) -6.03761559e+01 based upon K=1000 samples\n"
     ]
    },
    {
     "data": {
      "text/plain": [
       "tensor(-60.3762, grad_fn=<MeanBackward1>)"
      ]
     },
     "execution_count": 29,
     "metadata": {},
     "output_type": "execute_result"
    }
   ],
   "source": [
    "metrics.diagram_log_Z_hat(graph)"
   ]
  },
  {
   "cell_type": "code",
   "execution_count": 30,
   "metadata": {},
   "outputs": [
    {
     "name": "stdout",
     "output_type": "stream",
     "text": [
      "Position at time 0 tensor([-3.5021, -2.6996])\n",
      "Inferred position at time 0 tensor([[[-2.6539, -3.2099]]])\n",
      "MSE at time 0 tensor(0.9797)\n",
      "Position at time 1 tensor([-4.0682, -1.9584])\n",
      "Inferred position at time 1 tensor([[[-3.5001, -2.6945]]])\n",
      "MSE at time 1 tensor(0.8646)\n",
      "Position at time 2 tensor([-4.7122, -1.3787])\n",
      "Inferred position at time 2 tensor([[[-4.1773, -2.0443]]])\n",
      "MSE at time 2 tensor(0.7292)\n",
      "Position at time 3 tensor([-5.4583, -0.6825])\n",
      "Inferred position at time 3 tensor([[[-4.7228, -1.3105]]])\n",
      "MSE at time 3 tensor(0.9353)\n",
      "Position at time 4 tensor([-5.9298,  0.1506])\n",
      "Inferred position at time 4 tensor([[[-5.3217, -0.6852]]])\n",
      "MSE at time 4 tensor(1.0685)\n",
      "Position at time 5 tensor([-5.4542,  0.8492])\n",
      "Inferred position at time 5 tensor([[[-5.7731,  0.0778]]])\n",
      "MSE at time 5 tensor(0.6969)\n",
      "Position at time 6 tensor([-4.6626,  1.6177])\n",
      "Inferred position at time 6 tensor([[[-5.6851,  0.8724]]])\n",
      "MSE at time 6 tensor(1.6009)\n",
      "Position at time 7 tensor([-4.3980,  2.0399])\n",
      "Inferred position at time 7 tensor([[[-4.9169,  1.5653]]])\n",
      "MSE at time 7 tensor(0.4945)\n",
      "Position at time 8 tensor([-3.8798,  3.0958])\n",
      "Inferred position at time 8 tensor([[[-4.2359,  2.2548]]])\n",
      "MSE at time 8 tensor(0.8341)\n",
      "Position at time 9 tensor([-3.1621,  4.1616])\n",
      "Inferred position at time 9 tensor([[[-3.8798,  2.9575]]])\n",
      "MSE at time 9 tensor(1.9649)\n",
      "Position at time 10 tensor([-2.5723,  5.0225])\n",
      "Inferred position at time 10 tensor([[[-3.2388,  4.0602]]])\n",
      "MSE at time 10 tensor(1.3701)\n",
      "Position at time 11 tensor([-1.8538,  5.5992])\n",
      "Inferred position at time 11 tensor([[[-2.5210,  4.9642]]])\n",
      "MSE at time 11 tensor(0.8485)\n",
      "Position at time 12 tensor([-1.4137,  5.7667])\n",
      "Inferred position at time 12 tensor([[[-1.9114,  5.5529]]])\n",
      "MSE at time 12 tensor(0.2933)\n",
      "Position at time 13 tensor([-0.7465,  5.3192])\n",
      "Inferred position at time 13 tensor([[[-1.3036,  5.7218]]])\n",
      "MSE at time 13 tensor(0.4724)\n",
      "Position at time 14 tensor([-0.0383,  4.5887])\n",
      "Inferred position at time 14 tensor([[[-0.7874,  5.4229]]])\n",
      "MSE at time 14 tensor(1.2569)\n",
      "Position at time 15 tensor([0.4934, 4.2490])\n",
      "Inferred position at time 15 tensor([[[-0.0973,  4.7427]]])\n",
      "MSE at time 15 tensor(0.5927)\n",
      "Position at time 16 tensor([1.3187, 3.2365])\n",
      "Inferred position at time 16 tensor([[[0.5845, 4.0596]]])\n",
      "MSE at time 16 tensor(1.2165)\n",
      "Position at time 17 tensor([1.8304, 2.5290])\n",
      "Inferred position at time 17 tensor([[[1.1910, 3.4641]]])\n",
      "MSE at time 17 tensor(1.2832)\n",
      "Position at time 18 tensor([2.3759, 1.8876])\n",
      "Inferred position at time 18 tensor([[[1.9386, 2.4963]]])\n",
      "MSE at time 18 tensor(0.5618)\n",
      "Position at time 19 tensor([3.0211, 1.2845])\n",
      "Inferred position at time 19 tensor([[[2.4250, 1.8631]]])\n",
      "MSE at time 19 tensor(0.6902)\n",
      "Position at time 20 tensor([3.6358, 0.8191])\n",
      "Inferred position at time 20 tensor([[[3.0350, 1.2649]]])\n",
      "MSE at time 20 tensor(0.5596)\n",
      "Position at time 21 tensor([4.6022, 0.2371])\n",
      "Inferred position at time 21 tensor([[[3.7131, 0.7341]]])\n",
      "MSE at time 21 tensor(1.0375)\n",
      "Position at time 22 tensor([ 5.1454, -0.5490])\n",
      "Inferred position at time 22 tensor([[[4.3891, 0.2148]]])\n",
      "MSE at time 22 tensor(1.1554)\n",
      "Position at time 23 tensor([ 5.6591, -1.2777])\n",
      "Inferred position at time 23 tensor([[[ 5.1565, -0.4875]]])\n",
      "MSE at time 23 tensor(0.8771)\n",
      "Position at time 24 tensor([ 5.3454, -2.3000])\n",
      "Inferred position at time 24 tensor([[[ 5.4656, -1.3140]]])\n",
      "MSE at time 24 tensor(0.9867)\n",
      "Position at time 25 tensor([ 4.5042, -2.6963])\n",
      "Inferred position at time 25 tensor([[[ 5.4336, -2.0945]]])\n",
      "MSE at time 25 tensor(1.2260)\n",
      "Position at time 26 tensor([ 3.7967, -3.3278])\n",
      "Inferred position at time 26 tensor([[[ 4.6770, -2.8692]]])\n",
      "MSE at time 26 tensor(0.9851)\n",
      "Position at time 27 tensor([ 3.0263, -4.1287])\n",
      "Inferred position at time 27 tensor([[[ 3.8150, -3.3125]]])\n",
      "MSE at time 27 tensor(1.2882)\n",
      "Position at time 28 tensor([ 2.4610, -4.7338])\n",
      "Inferred position at time 28 tensor([[[ 3.1182, -4.0147]]])\n",
      "MSE at time 28 tensor(0.9490)\n",
      "Position at time 29 tensor([ 1.8906, -5.4307])\n",
      "Inferred position at time 29 tensor([[[ 2.4265, -4.7483]]])\n",
      "MSE at time 29 tensor(0.7529)\n",
      "Position at time 30 tensor([ 1.2776, -5.7632])\n",
      "Inferred position at time 30 tensor([[[ 1.8740, -5.3074]]])\n",
      "MSE at time 30 tensor(0.5635)\n",
      "Position at time 31 tensor([ 0.3967, -5.1211])\n",
      "Inferred position at time 31 tensor([[[ 1.2618, -5.7063]]])\n",
      "MSE at time 31 tensor(1.0908)\n",
      "Position at time 32 tensor([-0.4070, -4.3668])\n",
      "Inferred position at time 32 tensor([[[ 0.5070, -5.3402]]])\n",
      "MSE at time 32 tensor(1.7828)\n",
      "Position at time 33 tensor([-0.9746, -3.5579])\n",
      "Inferred position at time 33 tensor([[[-0.3626, -4.3945]]])\n",
      "MSE at time 33 tensor(1.0745)\n",
      "Position at time 34 tensor([-1.6054, -2.7309])\n",
      "Inferred position at time 34 tensor([[[-1.0864, -3.6204]]])\n",
      "MSE at time 34 tensor(1.0606)\n",
      "Position at time 35 tensor([-2.5964, -2.1235])\n",
      "Inferred position at time 35 tensor([[[-1.6960, -2.7826]]])\n",
      "MSE at time 35 tensor(1.2452)\n",
      "Position at time 36 tensor([-3.5006, -1.6189])\n",
      "Inferred position at time 36 tensor([[[-2.4922, -2.0780]]])\n",
      "MSE at time 36 tensor(1.2276)\n",
      "Position at time 37 tensor([-4.3341, -1.1951])\n",
      "Inferred position at time 37 tensor([[[-3.4611, -1.5893]]])\n",
      "MSE at time 37 tensor(0.9176)\n",
      "Position at time 38 tensor([-4.9842, -0.5877])\n",
      "Inferred position at time 38 tensor([[[-4.2750, -1.0929]]])\n",
      "MSE at time 38 tensor(0.7583)\n",
      "Position at time 39 tensor([-5.6919,  0.2718])\n",
      "Inferred position at time 39 tensor([[[-4.9704, -0.5646]]])\n",
      "MSE at time 39 tensor(1.2201)\n",
      "Position at time 40 tensor([-5.7402,  0.8782])\n",
      "Inferred position at time 40 tensor([[[-5.4726,  0.1610]]])\n",
      "MSE at time 40 tensor(0.5860)\n",
      "Position at time 41 tensor([-5.0643,  1.7251])\n",
      "Inferred position at time 41 tensor([[[-5.7048,  0.9663]]])\n",
      "MSE at time 41 tensor(0.9860)\n",
      "Position at time 42 tensor([-3.9403,  2.1730])\n",
      "Inferred position at time 42 tensor([[[-5.2097,  1.5933]]])\n",
      "MSE at time 42 tensor(1.9476)\n",
      "Position at time 43 tensor([-3.3886,  2.8383])\n",
      "Inferred position at time 43 tensor([[[-4.2796,  2.3086]]])\n",
      "MSE at time 43 tensor(1.0744)\n",
      "Position at time 44 tensor([-3.1696,  3.5228])\n",
      "Inferred position at time 44 tensor([[[-3.3438,  2.8154]]])\n",
      "MSE at time 44 tensor(0.5308)\n",
      "Position at time 45 tensor([-2.3077,  4.1832])\n",
      "Inferred position at time 45 tensor([[[-2.9184,  3.5394]]])\n",
      "MSE at time 45 tensor(0.7874)\n",
      "Position at time 46 tensor([-1.5695,  5.0096])\n",
      "Inferred position at time 46 tensor([[[-2.4571,  4.2069]]])\n",
      "MSE at time 46 tensor(1.4320)\n",
      "Position at time 47 tensor([-0.7631,  5.7759])\n",
      "Inferred position at time 47 tensor([[[-1.5774,  4.8862]]])\n",
      "MSE at time 47 tensor(1.4546)\n",
      "Position at time 48 tensor([0.0295, 5.4675])\n",
      "Inferred position at time 48 tensor([[[-0.8132,  5.5313]]])\n",
      "MSE at time 48 tensor(0.7141)\n",
      "Position at time 49 tensor([0.6367, 4.7653])\n",
      "Inferred position at time 49 tensor([[[-0.0219,  5.6251]]])\n",
      "MSE at time 49 tensor(1.1729)\n",
      "Position at time 50 tensor([1.4026, 4.0911])\n",
      "Inferred position at time 50 tensor([[[0.7331, 4.9192]]])\n",
      "MSE at time 50 tensor(1.1340)\n",
      "Position at time 51 tensor([2.4811, 3.3922])\n",
      "Inferred position at time 51 tensor([[[1.4048, 4.1247]]])\n",
      "MSE at time 51 tensor(1.6950)\n",
      "Position at time 52 tensor([3.1630, 2.8753])\n",
      "Inferred position at time 52 tensor([[[2.2544, 3.4202]]])\n",
      "MSE at time 52 tensor(1.1224)\n",
      "Position at time 53 tensor([3.7732, 2.1042])\n",
      "Inferred position at time 53 tensor([[[3.2250, 2.7668]]])\n",
      "MSE at time 53 tensor(0.7396)\n",
      "Position at time 54 tensor([4.8500, 1.4361])\n",
      "Inferred position at time 54 tensor([[[3.8642, 2.1680]]])\n",
      "MSE at time 54 tensor(1.5073)\n",
      "Position at time 55 tensor([5.4284, 0.6201])\n",
      "Inferred position at time 55 tensor([[[4.5576, 1.3774]]])\n",
      "MSE at time 55 tensor(1.3318)\n",
      "Position at time 56 tensor([ 5.9513, -0.3695])\n",
      "Inferred position at time 56 tensor([[[5.4171, 0.6552]]])\n",
      "MSE at time 56 tensor(1.3355)\n",
      "Position at time 57 tensor([ 5.2404, -1.0817])\n",
      "Inferred position at time 57 tensor([[[ 5.7015, -0.2398]]])\n",
      "MSE at time 57 tensor(0.9213)\n",
      "Position at time 58 tensor([ 4.9568, -1.6644])\n",
      "Inferred position at time 58 tensor([[[ 5.5780, -1.0877]]])\n",
      "MSE at time 58 tensor(0.7183)\n",
      "Position at time 59 tensor([ 3.9014, -2.1039])\n",
      "Inferred position at time 59 tensor([[[ 4.7790, -1.6980]]])\n",
      "MSE at time 59 tensor(0.9349)\n",
      "Position at time 60 tensor([ 3.5150, -2.8237])\n",
      "Inferred position at time 60 tensor([[[ 4.2464, -2.2104]]])\n",
      "MSE at time 60 tensor(0.9112)\n",
      "Position at time 61 tensor([ 2.9535, -3.4477])\n",
      "Inferred position at time 61 tensor([[[ 3.3285, -2.7744]]])\n",
      "MSE at time 61 tensor(0.5940)\n",
      "Position at time 62 tensor([ 2.4057, -4.0507])\n",
      "Inferred position at time 62 tensor([[[ 2.9383, -3.4697]]])\n",
      "MSE at time 62 tensor(0.6213)\n",
      "Position at time 63 tensor([ 1.7967, -4.4496])\n",
      "Inferred position at time 63 tensor([[[ 2.3686, -4.0576]]])\n",
      "MSE at time 63 tensor(0.4807)\n",
      "Position at time 64 tensor([ 1.2796, -5.0758])\n",
      "Inferred position at time 64 tensor([[[ 1.8085, -4.5852]]])\n",
      "MSE at time 64 tensor(0.5204)\n",
      "Position at time 65 tensor([ 0.0962, -5.8892])\n",
      "Inferred position at time 65 tensor([[[ 1.1477, -5.0348]]])\n",
      "MSE at time 65 tensor(1.8356)\n",
      "Position at time 66 tensor([-0.3578, -5.8279])\n",
      "Inferred position at time 66 tensor([[[ 0.4211, -5.6630]]])\n",
      "MSE at time 66 tensor(0.6339)\n",
      "Position at time 67 tensor([-1.1045, -4.9345])\n",
      "Inferred position at time 67 tensor([[[-0.5661, -5.8393]]])\n",
      "MSE at time 67 tensor(1.1085)\n",
      "Position at time 68 tensor([-1.6710, -3.9924])\n",
      "Inferred position at time 68 tensor([[[-1.0485, -5.1620]]])\n",
      "MSE at time 68 tensor(1.7553)\n",
      "Position at time 69 tensor([-2.5581, -3.5318])\n",
      "Inferred position at time 69 tensor([[[-1.7744, -4.1419]]])\n",
      "MSE at time 69 tensor(0.9865)\n",
      "Position at time 70 tensor([-3.2904, -2.4257])\n",
      "Inferred position at time 70 tensor([[[-2.4319, -3.3445]]])\n",
      "MSE at time 70 tensor(1.5811)\n",
      "Position at time 71 tensor([-4.1399, -1.9134])\n",
      "Inferred position at time 71 tensor([[[-3.3176, -2.7121]]])\n",
      "MSE at time 71 tensor(1.3142)\n",
      "Position at time 72 tensor([-4.7553, -1.3194])\n",
      "Inferred position at time 72 tensor([[[-4.0682, -1.7762]]])\n",
      "MSE at time 72 tensor(0.6808)\n",
      "Position at time 73 tensor([-5.4178, -0.5194])\n",
      "Inferred position at time 73 tensor([[[-4.8012, -1.2880]]])\n",
      "MSE at time 73 tensor(0.9709)\n",
      "Position at time 74 tensor([-5.9989,  0.2907])\n",
      "Inferred position at time 74 tensor([[[-5.3347, -0.5822]]])\n",
      "MSE at time 74 tensor(1.2030)\n",
      "Position at time 75 tensor([-5.4810,  1.1806])\n",
      "Inferred position at time 75 tensor([[[-5.7706,  0.2697]]])\n",
      "MSE at time 75 tensor(0.9136)\n",
      "Position at time 76 tensor([-4.9113,  1.7238])\n",
      "Inferred position at time 76 tensor([[[-5.7564,  1.0778]]])\n",
      "MSE at time 76 tensor(1.1315)\n",
      "Position at time 77 tensor([-4.4094,  2.3758])\n",
      "Inferred position at time 77 tensor([[[-4.9736,  1.8303]]])\n",
      "MSE at time 77 tensor(0.6160)\n",
      "Position at time 78 tensor([-3.6399,  3.0434])\n",
      "Inferred position at time 78 tensor([[[-4.3341,  2.3648]]])\n",
      "MSE at time 78 tensor(0.9425)\n",
      "Position at time 79 tensor([-2.6399,  3.6045])\n",
      "Inferred position at time 79 tensor([[[-3.6653,  3.0319]]])\n",
      "MSE at time 79 tensor(1.3795)\n",
      "Position at time 80 tensor([-1.8012,  4.1532])\n",
      "Inferred position at time 80 tensor([[[-2.7831,  3.6426]]])\n",
      "MSE at time 80 tensor(1.2249)\n",
      "Position at time 81 tensor([-1.3173,  4.6275])\n",
      "Inferred position at time 81 tensor([[[-1.9002,  4.1601]]])\n",
      "MSE at time 81 tensor(0.5582)\n",
      "Position at time 82 tensor([-0.6735,  5.5762])\n",
      "Inferred position at time 82 tensor([[[-1.2107,  4.7030]]])\n",
      "MSE at time 82 tensor(1.0511)\n",
      "Position at time 83 tensor([0.1063, 5.7530])\n",
      "Inferred position at time 83 tensor([[[-0.6704,  5.2445]]])\n",
      "MSE at time 83 tensor(0.8619)\n",
      "Position at time 84 tensor([0.8935, 5.2604])\n",
      "Inferred position at time 84 tensor([[[0.0924, 5.7577]]])\n",
      "MSE at time 84 tensor(0.8890)\n",
      "Position at time 85 tensor([1.5628, 4.5885])\n",
      "Inferred position at time 85 tensor([[[0.8742, 5.3963]]])\n",
      "MSE at time 85 tensor(1.1268)\n",
      "Position at time 86 tensor([2.4027, 4.0933])\n",
      "Inferred position at time 86 tensor([[[1.6410, 4.6993]]])\n",
      "MSE at time 86 tensor(0.9474)\n",
      "Position at time 87 tensor([3.1091, 3.1780])\n",
      "Inferred position at time 87 tensor([[[2.3395, 3.9970]]])\n",
      "MSE at time 87 tensor(1.2630)\n",
      "Position at time 88 tensor([3.7457, 2.5935])\n",
      "Inferred position at time 88 tensor([[[3.1421, 3.3662]]])\n",
      "MSE at time 88 tensor(0.9614)\n",
      "Position at time 89 tensor([4.5250, 1.7996])\n",
      "Inferred position at time 89 tensor([[[3.8023, 2.4927]]])\n",
      "MSE at time 89 tensor(1.0027)\n",
      "Position at time 90 tensor([5.0270, 1.1017])\n",
      "Inferred position at time 90 tensor([[[4.4402, 1.8641]]])\n",
      "MSE at time 90 tensor(0.9256)\n",
      "Position at time 91 tensor([5.5159, 0.4508])\n",
      "Inferred position at time 91 tensor([[[5.0852, 1.0849]]])\n",
      "MSE at time 91 tensor(0.5876)\n",
      "Position at time 92 tensor([ 5.8644, -0.1997])\n",
      "Inferred position at time 92 tensor([[[5.4753, 0.4310]]])\n",
      "MSE at time 92 tensor(0.5492)\n",
      "Position at time 93 tensor([ 5.6185, -0.8601])\n",
      "Inferred position at time 93 tensor([[[ 5.7377, -0.2353]]])\n",
      "MSE at time 93 tensor(0.4046)\n",
      "Position at time 94 tensor([ 5.0044, -1.5495])\n",
      "Inferred position at time 94 tensor([[[ 5.6543, -0.8695]]])\n",
      "MSE at time 94 tensor(0.8847)\n",
      "Position at time 95 tensor([ 4.2713, -1.9463])\n",
      "Inferred position at time 95 tensor([[[ 5.0921, -1.4925]]])\n",
      "MSE at time 95 tensor(0.8797)\n",
      "Position at time 96 tensor([ 3.4339, -2.6543])\n",
      "Inferred position at time 96 tensor([[[ 4.3412, -2.0945]]])\n",
      "MSE at time 96 tensor(1.1365)\n",
      "Position at time 97 tensor([ 2.6927, -3.4093])\n",
      "Inferred position at time 97 tensor([[[ 3.5537, -2.5845]]])\n",
      "MSE at time 97 tensor(1.4217)\n",
      "Position at time 98 tensor([ 2.1377, -4.0261])\n",
      "Inferred position at time 98 tensor([[[ 2.7578, -3.3297]]])\n",
      "MSE at time 98 tensor(0.8695)\n",
      "Position at time 99 tensor([ 1.4344, -4.5591])\n",
      "Inferred position at time 99 tensor([[[ 2.0763, -4.0229]]])\n",
      "MSE at time 99 tensor(0.6995)\n",
      "Position at time 100 tensor([ 0.6268, -5.6834])\n",
      "Inferred position at time 100 tensor([[[ 1.4888, -4.5856]]])\n",
      "MSE at time 100 tensor(1.9480)\n"
     ]
    }
   ],
   "source": [
    "for t in range(T+1):\n",
    "    print('Position at time %d' % t, data['position_%d' % t])\n",
    "    print('Inferred position at time %d' % t, positions[:, :, t])\n",
    "    print('MSE at time %d' % t, ((data['position_%d' % t] - positions[:, :, t])**2).sum())"
   ]
  },
  {
   "cell_type": "code",
   "execution_count": null,
   "metadata": {},
   "outputs": [],
   "source": []
  }
 ],
 "metadata": {
  "kernelspec": {
   "display_name": "Python [conda env:funcytorch] *",
   "language": "python",
   "name": "conda-env-funcytorch-py"
  },
  "language_info": {
   "codemirror_mode": {
    "name": "ipython",
    "version": 3
   },
   "file_extension": ".py",
   "mimetype": "text/x-python",
   "name": "python",
   "nbconvert_exporter": "python",
   "pygments_lexer": "ipython3",
   "version": "3.8.8"
  }
 },
 "nbformat": 4,
 "nbformat_minor": 4
}
