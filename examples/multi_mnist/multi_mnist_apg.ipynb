{
 "cells": [
  {
   "cell_type": "code",
   "execution_count": 1,
   "id": "15a5f45e-068e-4821-8f4a-c9b6d223b1cc",
   "metadata": {},
   "outputs": [
    {
     "name": "stdout",
     "output_type": "stream",
     "text": [
      "/home/eli/AnacondaProjects/combinators\n"
     ]
    }
   ],
   "source": [
    "%cd ../.."
   ]
  },
  {
   "cell_type": "code",
   "execution_count": 2,
   "id": "3936e882-0501-4642-9f1b-1049fca8c2c1",
   "metadata": {},
   "outputs": [],
   "source": [
    "import logging\n",
    "import torch"
   ]
  },
  {
   "cell_type": "code",
   "execution_count": 3,
   "id": "92f14d7e-bc6d-411b-8dd6-b89253e7eeb7",
   "metadata": {},
   "outputs": [],
   "source": [
    "logging.basicConfig(format='%(asctime)s %(message)s', datefmt='%m/%d/%Y %H:%M:%S',\n",
    "                    level=logging.INFO)"
   ]
  },
  {
   "cell_type": "code",
   "execution_count": 4,
   "id": "21b685e2-bdfe-4748-89e6-a4ea1a31fa57",
   "metadata": {},
   "outputs": [],
   "source": [
    "from combinators import lens, sampler\n",
    "from combinators.model import collections\n",
    "from examples.moving_mnist import data\n",
    "from examples.multi_mnist import apg_inference, generative, proposals"
   ]
  },
  {
   "cell_type": "code",
   "execution_count": 5,
   "id": "d8a79425-1edc-45a0-9ba6-5a4a72d0396a",
   "metadata": {},
   "outputs": [],
   "source": [
    "T = 10\n",
    "NUM_DIGITS = 3\n",
    "NUM_EPOCHS = 500\n",
    "NUM_PARTICLES = 5"
   ]
  },
  {
   "cell_type": "code",
   "execution_count": 6,
   "id": "110c7d43-142a-48a3-8247-be7a7dc9a2fe",
   "metadata": {},
   "outputs": [],
   "source": [
    "NUM_HIDDEN_DIGIT = 400\n",
    "NUM_HIDDEN_LOCATION = 400"
   ]
  },
  {
   "cell_type": "code",
   "execution_count": 7,
   "id": "a8aff5cf-ee8d-4827-be5f-d71aa336baa9",
   "metadata": {},
   "outputs": [],
   "source": [
    "DIGIT_SIDE = 28\n",
    "FRAME_SIDE = 96\n",
    "\n",
    "WHAT_DIM = 10\n",
    "WHERE_DIM = 2"
   ]
  },
  {
   "cell_type": "code",
   "execution_count": 8,
   "id": "9dfc1034-09b6-4115-869e-cf1ba75f59d5",
   "metadata": {},
   "outputs": [],
   "source": [
    "data_args = {\n",
    "    'data': 'movingmnist',\n",
    "    'batch_size': NUM_PARTICLES,\n",
    "    'train': True,\n",
    "    'timesteps': T,\n",
    "    'num_digits': NUM_DIGITS,\n",
    "    'frame_size': FRAME_SIDE,\n",
    "    'dv': 0.1\n",
    "}"
   ]
  },
  {
   "cell_type": "code",
   "execution_count": null,
   "id": "8160c568-aa2f-4f89-9fe6-ae248641ed45",
   "metadata": {},
   "outputs": [
    {
     "data": {
      "application/vnd.jupyter.widget-view+json": {
       "model_id": "fd718c2098fa4feeacc16d0d88a51af0",
       "version_major": 2,
       "version_minor": 0
      },
      "text/plain": [
       "  0%|          | 0/3 [00:00<?, ?it/s]"
      ]
     },
     "metadata": {},
     "output_type": "display_data"
    },
    {
     "data": {
      "application/vnd.jupyter.widget-view+json": {
       "model_id": "22ec26562e824e8697663d1d021a6d7d",
       "version_major": 2,
       "version_minor": 0
      },
      "text/plain": [
       "  0%|          | 0/20000 [00:00<?, ?it/s]"
      ]
     },
     "metadata": {},
     "output_type": "display_data"
    },
    {
     "data": {
      "application/vnd.jupyter.widget-view+json": {
       "model_id": "d41b4b66639f4a3e85c245334837e7d1",
       "version_major": 2,
       "version_minor": 0
      },
      "text/plain": [
       "  0%|          | 0/20000 [00:00<?, ?it/s]"
      ]
     },
     "metadata": {},
     "output_type": "display_data"
    },
    {
     "data": {
      "application/vnd.jupyter.widget-view+json": {
       "model_id": "1572b936f2304d418455ad27254dfc4e",
       "version_major": 2,
       "version_minor": 0
      },
      "text/plain": [
       "  0%|          | 0/20000 [00:00<?, ?it/s]"
      ]
     },
     "metadata": {},
     "output_type": "display_data"
    }
   ],
   "source": [
    "data_loader, _, _, _ = data.setup_data_loader(**data_args)"
   ]
  },
  {
   "cell_type": "code",
   "execution_count": null,
   "id": "9ae8c085-7be2-444a-b043-b88933be4563",
   "metadata": {},
   "outputs": [],
   "source": [
    "object_codes = generative.InitialObjectCodes(WHAT_DIM)\n",
    "proposal = proposals.ObjectCodesProposal(_, NUM_HIDDEN_DIGIT, WHAT_DIM)\n",
    "object_codes = sampler.importance_box('init_what', object_codes, (NUM_PARTICLES,), proposal, lens.PRO(0), lens.PRO(1))"
   ]
  },
  {
   "cell_type": "code",
   "execution_count": null,
   "id": "191916ca-23ab-4061-a3a0-e2c8a76bebd2",
   "metadata": {},
   "outputs": [],
   "source": [
    "object_locs  = generative.InitialObjectLocations(WHERE_DIM)\n",
    "proposal = proposals.InitialLocationsProposal(_, FRAME_SIDE, NUM_HIDDEN_LOCATION, WHERE_DIM)\n",
    "object_locs = sampler.importance_box('init_where', object_locs, (NUM_PARTICLES,), proposal, lens.PRO(0), lens.PRO(1))"
   ]
  },
  {
   "cell_type": "code",
   "execution_count": null,
   "id": "6fef098e-c1b7-473a-a591-7d6ded8cb4a1",
   "metadata": {},
   "outputs": [],
   "source": [
    "step_locs = generative.StepObjects(NUM_HIDDEN_DIGIT, WHERE_DIM, WHAT_DIM, _)\n",
    "proposal = proposals.StepLocationsProposal(_, FRAME_SIDE, NUM_HIDDEN_LOCATION, WHERE_DIM)\n",
    "step_locs = sampler.importance_box('step_where', step_locs, (NUM_PARTICLES,), proposal, lens.PRO(2), lens.PRO(1)"
   ]
  },
  {
   "cell_type": "code",
   "execution_count": null,
   "id": "543c825f-ac0c-443c-a683-946d4111722a",
   "metadata": {},
   "outputs": [],
   "source": [
    "step_ssm = collections.parameterize_ssm(lens.PRO(1), lens.PRO(1), step_locs)"
   ]
  },
  {
   "cell_type": "code",
   "execution_count": null,
   "id": "eb66936f-3921-4927-85ed-ee86dca6f444",
   "metadata": {},
   "outputs": [],
   "source": [
    "apg_model = (object_codes @ object_locs) >> collections.sequential(step_ssm, T)"
   ]
  }
 ],
 "metadata": {
  "kernelspec": {
   "display_name": "Python [conda env:funcytorch] *",
   "language": "python",
   "name": "conda-env-funcytorch-py"
  },
  "language_info": {
   "codemirror_mode": {
    "name": "ipython",
    "version": 3
   },
   "file_extension": ".py",
   "mimetype": "text/x-python",
   "name": "python",
   "nbconvert_exporter": "python",
   "pygments_lexer": "ipython3",
   "version": "3.8.12"
  }
 },
 "nbformat": 4,
 "nbformat_minor": 5
}
