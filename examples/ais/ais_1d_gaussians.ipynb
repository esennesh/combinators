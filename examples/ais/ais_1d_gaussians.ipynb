{
 "cells": [
  {
   "cell_type": "code",
   "execution_count": 1,
   "metadata": {},
   "outputs": [
    {
     "name": "stdout",
     "output_type": "stream",
     "text": [
      "/home/work/AnacondaProjects/combinators\n"
     ]
    }
   ],
   "source": [
    "%cd ../.."
   ]
  },
  {
   "cell_type": "code",
   "execution_count": 2,
   "metadata": {},
   "outputs": [],
   "source": [
    "import logging\n",
    "\n",
    "import numpy as np\n",
    "import probtorch\n",
    "import torch\n",
    "\n",
    "from combinators.inference import importance, mcmc\n",
    "from combinators.kernel import kernel, mh\n",
    "from combinators import utils"
   ]
  },
  {
   "cell_type": "code",
   "execution_count": 3,
   "metadata": {},
   "outputs": [],
   "source": [
    "import examples.ais.ais_1d_gaussians as ais_example"
   ]
  },
  {
   "cell_type": "code",
   "execution_count": 4,
   "metadata": {},
   "outputs": [],
   "source": [
    "logging.basicConfig(format='%(asctime)s %(message)s', datefmt='%m/%d/%Y %H:%M:%S',\n",
    "                    level=logging.INFO)"
   ]
  },
  {
   "cell_type": "code",
   "execution_count": 5,
   "metadata": {},
   "outputs": [],
   "source": [
    "target = ais_example.AnnealingTarget(annealing_steps=20, batch_shape=(10,))"
   ]
  },
  {
   "cell_type": "code",
   "execution_count": 6,
   "metadata": {},
   "outputs": [],
   "source": [
    "ais = mcmc.Move(target, mh.MHMoveKernel(target, kernel.GaussianKernel('AnnealingTarget', 'X_0'), moves=75), moves=20, count_target=True)"
   ]
  },
  {
   "cell_type": "code",
   "execution_count": 7,
   "metadata": {},
   "outputs": [
    {
     "data": {
      "text/plain": [
       "(tensor([ 0.3957, -0.5093,  3.0729,  2.2066,  1.4939, -0.8936, -0.6159, -0.4690,\n",
       "          3.4847, -1.2857]),\n",
       " ComputationGraph{[('AnnealingTarget', Trace{'X_0': Normal([torch.FloatTensor of size 10]), 'X_q': Factor([torch.FloatTensor of size 10]), 'X_p': Factor([torch.FloatTensor of size 10])})]},\n",
       " tensor([-12714419.0000,  -8433573.0000,  -7043736.5000, -10961945.0000,\n",
       "         -14429468.0000,  -8721518.0000,  -9980296.0000, -10373476.0000,\n",
       "                 0.0000,  -5149172.0000]))"
      ]
     },
     "execution_count": 7,
     "metadata": {},
     "output_type": "execute_result"
    }
   ],
   "source": [
    "ais()"
   ]
  },
  {
   "cell_type": "code",
   "execution_count": null,
   "metadata": {},
   "outputs": [],
   "source": []
  }
 ],
 "metadata": {
  "kernelspec": {
   "display_name": "Python [conda env:funcytorch]",
   "language": "python",
   "name": "conda-env-funcytorch-py"
  },
  "language_info": {
   "codemirror_mode": {
    "name": "ipython",
    "version": 3
   },
   "file_extension": ".py",
   "mimetype": "text/x-python",
   "name": "python",
   "nbconvert_exporter": "python",
   "pygments_lexer": "ipython3",
   "version": "3.6.5"
  }
 },
 "nbformat": 4,
 "nbformat_minor": 2
}
