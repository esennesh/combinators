{
 "cells": [
  {
   "cell_type": "code",
   "execution_count": 1,
   "metadata": {},
   "outputs": [
    {
     "name": "stdout",
     "output_type": "stream",
     "text": [
      "/home/eli/AnacondaProjects/combinators\n"
     ]
    }
   ],
   "source": [
    "%cd ../.."
   ]
  },
  {
   "cell_type": "code",
   "execution_count": 2,
   "metadata": {},
   "outputs": [],
   "source": [
    "import logging\n",
    "\n",
    "import numpy as np\n",
    "import probtorch\n",
    "import torch\n",
    "\n",
    "from combinators.inference import importance, mcmc\n",
    "from combinators.kernel import kernel, mh\n",
    "from combinators import utils"
   ]
  },
  {
   "cell_type": "code",
   "execution_count": 3,
   "metadata": {},
   "outputs": [],
   "source": [
    "import examples.ais.ais_1d_gaussians as ais_example"
   ]
  },
  {
   "cell_type": "code",
   "execution_count": 4,
   "metadata": {},
   "outputs": [],
   "source": [
    "logging.basicConfig(format='%(asctime)s %(message)s', datefmt='%m/%d/%Y %H:%M:%S',\n",
    "                    level=logging.INFO)"
   ]
  },
  {
   "cell_type": "code",
   "execution_count": 5,
   "metadata": {},
   "outputs": [],
   "source": [
    "target = ais_example.AnnealingTarget(annealing_steps=5, batch_shape=(100,))"
   ]
  },
  {
   "cell_type": "code",
   "execution_count": 6,
   "metadata": {},
   "outputs": [],
   "source": [
    "ais = ais_example.annealed_importance(target, kernel.GaussianKernel('AnnealingTarget', 'X_0', scale=1.0), moves=5)"
   ]
  },
  {
   "cell_type": "code",
   "execution_count": 7,
   "metadata": {},
   "outputs": [
    {
     "name": "stdout",
     "output_type": "stream",
     "text": [
      "tensor(-2.9256)\n",
      "tensor(-5.5951)\n",
      "tensor(-5.1237)\n",
      "tensor(-4.7133)\n",
      "tensor(-4.3185)\n",
      "tensor(-3.9759)\n"
     ]
    }
   ],
   "source": [
    "annealed_points, trace, log_weight = ais()\n",
    "log_probs = utils.normalize_weights(log_weight)"
   ]
  },
  {
   "cell_type": "code",
   "execution_count": 8,
   "metadata": {},
   "outputs": [],
   "source": [
    "import matplotlib.pyplot as plt\n",
    "from torch.distributions import Normal"
   ]
  },
  {
   "cell_type": "code",
   "execution_count": 9,
   "metadata": {},
   "outputs": [],
   "source": [
    "sample = torch.linspace(-10, 10, 100)\n",
    "sample_probs = Normal(loc=torch.zeros(1), scale=torch.ones(1)).log_prob(sample).exp()"
   ]
  },
  {
   "cell_type": "code",
   "execution_count": 10,
   "metadata": {},
   "outputs": [
    {
     "data": {
      "text/plain": [
       "[<matplotlib.lines.Line2D at 0x7ffac02a4e48>]"
      ]
     },
     "execution_count": 10,
     "metadata": {},
     "output_type": "execute_result"
    },
    {
     "data": {
      "image/png": "[encoded data removed]",
      "text/plain": [
       "<Figure size 432x288 with 1 Axes>"
      ]
     },
     "metadata": {},
     "output_type": "display_data"
    }
   ],
   "source": [
    "plt.scatter(annealed_points.detach().numpy(), log_weight.exp())\n",
    "plt.plot(sample.detach().numpy(), sample_probs.detach().numpy())"
   ]
  },
  {
   "cell_type": "code",
   "execution_count": 11,
   "metadata": {},
   "outputs": [
    {
     "data": {
      "text/plain": [
       "tensor([ 1.2055, -1.8668,  1.8257,  0.5621, -0.8567,  0.1095, -0.4374,  0.5621,\n",
       "         0.4393,  1.9479,  0.2463,  0.7673,  0.2399, -0.3028,  1.1445,  1.2488,\n",
       "         0.1287, -1.4958,  0.4867, -1.0597, -0.0182, -1.8851, -0.9944, -1.0597,\n",
       "         1.3225,  0.4867,  1.0891,  0.2574, -1.6011, -0.8361,  0.7673, -1.0079,\n",
       "        -1.0084, -0.4676,  0.9122,  0.2574, -0.8567, -1.8668,  0.8557, -0.4858,\n",
       "         0.1287,  0.6131,  0.5704,  0.0737,  0.2276,  1.3952, -0.8361,  0.0737,\n",
       "         0.2574, -0.5812, -0.1642, -1.0597,  0.5779, -1.6057, -0.4374, -0.3391,\n",
       "        -1.0084,  0.1287, -1.0084,  1.1445,  1.0891,  0.2399,  1.2166, -0.9033,\n",
       "         0.2276, -0.8224,  0.1944,  0.2574,  0.2399, -0.5812, -2.0288, -0.4676,\n",
       "        -0.4374,  0.5697,  1.2488, -1.0079, -0.3391, -0.8111, -0.8867, -1.4536,\n",
       "        -0.3028,  1.3952,  1.8257, -0.1311, -1.4328, -0.0185,  1.2186,  0.2276,\n",
       "         0.2399, -1.2056,  0.2574, -1.0700,  1.3952, -0.3028,  0.6131, -0.0182,\n",
       "        -1.4536, -0.4676,  0.5704, -1.0597])"
      ]
     },
     "execution_count": 11,
     "metadata": {},
     "output_type": "execute_result"
    }
   ],
   "source": [
    "annealed_points"
   ]
  },
  {
   "cell_type": "code",
   "execution_count": 12,
   "metadata": {},
   "outputs": [
    {
     "data": {
      "text/plain": [
       "tensor([0.0065, 0.0024, 0.0029, 0.0120, 0.0095, 0.0137, 0.0128, 0.0119, 0.0125,\n",
       "        0.0021, 0.0134, 0.0108, 0.0134, 0.0133, 0.0070, 0.0064, 0.0137, 0.0045,\n",
       "        0.0131, 0.0078, 0.0143, 0.0022, 0.0085, 0.0087, 0.0056, 0.0123, 0.0077,\n",
       "        0.0137, 0.0038, 0.0098, 0.0102, 0.0082, 0.0082, 0.0124, 0.0095, 0.0138,\n",
       "        0.0096, 0.0023, 0.0099, 0.0124, 0.0137, 0.0114, 0.0121, 0.0138, 0.0138,\n",
       "        0.0056, 0.0097, 0.0137, 0.0176, 0.0116, 0.0148, 0.0078, 0.0118, 0.0037,\n",
       "        0.0127, 0.0132, 0.0083, 0.0143, 0.0086, 0.0071, 0.0078, 0.0134, 0.0065,\n",
       "        0.0091, 0.0141, 0.0100, 0.0136, 0.0135, 0.0136, 0.0127, 0.0017, 0.0124,\n",
       "        0.0125, 0.0117, 0.0064, 0.0083, 0.0131, 0.0106, 0.0094, 0.0049, 0.0136,\n",
       "        0.0051, 0.0025, 0.0140, 0.0048, 0.0138, 0.0064, 0.0137, 0.0142, 0.0066,\n",
       "        0.0142, 0.0077, 0.0051, 0.0132, 0.0115, 0.0138, 0.0047, 0.0126, 0.0118,\n",
       "        0.0077])"
      ]
     },
     "execution_count": 12,
     "metadata": {},
     "output_type": "execute_result"
    }
   ],
   "source": [
    "log_probs.exp()"
   ]
  },
  {
   "cell_type": "code",
   "execution_count": 13,
   "metadata": {},
   "outputs": [
    {
     "name": "stdout",
     "output_type": "stream",
     "text": [
      "tensor(-1.2620)\n"
     ]
    }
   ],
   "source": [
    "importance_points, _, resampled_weights = importance.importance(target)(t=4)\n",
    "resampled_probs = utils.normalize_weights(resampled_weights)"
   ]
  },
  {
   "cell_type": "code",
   "execution_count": 14,
   "metadata": {},
   "outputs": [
    {
     "data": {
      "text/plain": [
       "[<matplotlib.lines.Line2D at 0x7ffac0299d68>]"
      ]
     },
     "execution_count": 14,
     "metadata": {},
     "output_type": "execute_result"
    },
    {
     "data": {
      "image/png": "[encoded data removed]",
      "text/plain": [
       "<Figure size 432x288 with 1 Axes>"
      ]
     },
     "metadata": {},
     "output_type": "display_data"
    }
   ],
   "source": [
    "plt.scatter(importance_points.detach().numpy(), resampled_weights.exp())\n",
    "plt.plot(sample.detach().numpy(), sample_probs.detach().numpy())"
   ]
  },
  {
   "cell_type": "code",
   "execution_count": null,
   "metadata": {},
   "outputs": [],
   "source": []
  }
 ],
 "metadata": {
  "kernelspec": {
   "display_name": "Python [conda env:funcytorch]",
   "language": "python",
   "name": "conda-env-funcytorch-py"
  },
  "language_info": {
   "codemirror_mode": {
    "name": "ipython",
    "version": 3
   },
   "file_extension": ".py",
   "mimetype": "text/x-python",
   "name": "python",
   "nbconvert_exporter": "python",
   "pygments_lexer": "ipython3",
   "version": "3.6.6"
  }
 },
 "nbformat": 4,
 "nbformat_minor": 2
}
