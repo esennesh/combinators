{
 "cells": [
  {
   "cell_type": "code",
   "execution_count": 1,
   "metadata": {},
   "outputs": [
    {
     "name": "stdout",
     "output_type": "stream",
     "text": [
      "/home/eli/AnacondaProjects/combinators\n"
     ]
    }
   ],
   "source": [
    "%cd ../.."
   ]
  },
  {
   "cell_type": "code",
   "execution_count": 2,
   "metadata": {},
   "outputs": [],
   "source": [
    "import logging\n",
    "\n",
    "import numpy as np\n",
    "import probtorch\n",
    "import torch\n",
    "\n",
    "from combinators.inference import importance, mcmc\n",
    "from combinators.kernel import kernel, mh\n",
    "from combinators import utils"
   ]
  },
  {
   "cell_type": "code",
   "execution_count": 3,
   "metadata": {},
   "outputs": [],
   "source": [
    "import examples.ais.ais_1d_gaussians as ais_example"
   ]
  },
  {
   "cell_type": "code",
   "execution_count": 4,
   "metadata": {},
   "outputs": [],
   "source": [
    "logging.basicConfig(format='%(asctime)s %(message)s', datefmt='%m/%d/%Y %H:%M:%S',\n",
    "                    level=logging.INFO)"
   ]
  },
  {
   "cell_type": "code",
   "execution_count": 5,
   "metadata": {},
   "outputs": [],
   "source": [
    "target = ais_example.AnnealingTarget(annealing_steps=200, batch_shape=(100,))"
   ]
  },
  {
   "cell_type": "code",
   "execution_count": 6,
   "metadata": {},
   "outputs": [],
   "source": [
    "ais = ais_example.annealed_importance(target, kernel.GaussianKernel('AnnealingTarget', 'X_0', scale=2.0), moves=200)"
   ]
  },
  {
   "cell_type": "code",
   "execution_count": 7,
   "metadata": {},
   "outputs": [],
   "source": [
    "annealed_points, trace, log_weight = ais()"
   ]
  },
  {
   "cell_type": "code",
   "execution_count": 8,
   "metadata": {},
   "outputs": [],
   "source": [
    "import matplotlib.pyplot as plt\n",
    "from torch.distributions import Normal"
   ]
  },
  {
   "cell_type": "code",
   "execution_count": 9,
   "metadata": {},
   "outputs": [],
   "source": [
    "sample = torch.linspace(-10, 10, 100)\n",
    "sample_probs = Normal(loc=torch.ones(1) * 3, scale=torch.ones(1) / 4).log_prob(sample).exp()"
   ]
  },
  {
   "cell_type": "code",
   "execution_count": 10,
   "metadata": {},
   "outputs": [
    {
     "data": {
      "text/plain": [
       "[<matplotlib.lines.Line2D at 0x7f8b0c4e3390>]"
      ]
     },
     "execution_count": 10,
     "metadata": {},
     "output_type": "execute_result"
    },
    {
     "data": {
      "image/png": "[encoded data removed]",
      "text/plain": [
       "<Figure size 432x288 with 1 Axes>"
      ]
     },
     "metadata": {},
     "output_type": "display_data"
    }
   ],
   "source": [
    "plt.scatter(annealed_points.detach().numpy(), log_weight.exp())\n",
    "plt.plot(sample.detach().numpy(), sample_probs.detach().numpy())"
   ]
  },
  {
   "cell_type": "code",
   "execution_count": 11,
   "metadata": {},
   "outputs": [
    {
     "data": {
      "text/plain": [
       "tensor([3.4516, 2.5918, 2.9086, 2.9086, 2.5833, 2.5453, 2.7160, 3.2202, 2.5833,\n",
       "        2.5833, 2.9644, 2.9644, 2.5833, 3.0700, 2.5918, 2.9086, 2.5453, 2.5918,\n",
       "        3.1816, 3.1167, 3.1982, 3.1816, 2.8723, 3.0700, 2.9086, 3.4098, 3.2628,\n",
       "        2.5918, 3.2628, 2.5918, 2.9086, 3.0700, 3.4563, 3.0700, 2.9644, 2.9644,\n",
       "        2.5453, 2.5918, 3.2554, 2.9644, 2.7160, 2.5453, 2.5833, 3.0700, 3.2202,\n",
       "        2.4304, 2.5453, 2.5833, 3.2628, 2.5833, 2.9644, 2.7160, 2.1635, 3.0700,\n",
       "        2.5833, 2.5918, 2.5833, 2.7160, 2.9644, 2.9086, 2.9086, 3.3521, 2.9086,\n",
       "        2.7160, 2.9644, 3.1816, 2.9086, 2.4304, 2.9086, 3.2554, 2.5833, 2.8723,\n",
       "        3.1816, 2.7160, 2.9644, 2.7160, 2.8723, 2.5918, 2.8723, 3.0700, 2.4304,\n",
       "        2.8723, 2.5833, 2.7160, 2.8723, 2.5918, 2.9086, 3.1167, 2.8723, 2.4304,\n",
       "        3.2628, 3.2202, 3.1816, 3.1816, 2.8723, 3.1816, 2.5918, 2.5918, 3.1167,\n",
       "        2.4304])"
      ]
     },
     "execution_count": 11,
     "metadata": {},
     "output_type": "execute_result"
    }
   ],
   "source": [
    "annealed_points"
   ]
  },
  {
   "cell_type": "code",
   "execution_count": 12,
   "metadata": {},
   "outputs": [
    {
     "data": {
      "text/plain": [
       "tensor([-1504.6849, -1026.4868,  -115.1099, -1274.9784,  -337.6727,  -275.5338,\n",
       "        -1334.3756,  -468.5168, -1561.9540, -1023.8796,  -647.2771,  -891.8556,\n",
       "         -747.7423,  -795.6306,  -310.1716,  -615.2143,  -418.4622, -1011.1089,\n",
       "        -1004.3877,  -619.8002,  -481.3037,  -557.2946,  -730.4116,  -498.7650,\n",
       "        -1615.8185,  -678.3578,  -206.2448,  -627.3015, -1055.6187,  -640.0431,\n",
       "         -597.9260, -1301.4529,  -972.2427,  -646.3692,  -379.8051, -1519.3824,\n",
       "         -764.5388,  -840.1979, -1399.8593,  -702.6642,  -838.9931,  -543.9776,\n",
       "         -954.0566,  -596.9593, -1826.6505, -1149.0197,  -520.5046, -1023.1819,\n",
       "        -1361.0071, -1506.1777,  -483.7529, -1213.5249,    -4.6052,  -925.5590,\n",
       "        -1045.2670,  -858.2974,  -406.2123, -1288.6505,  -530.6011,  -969.1282,\n",
       "         -966.3917,  -897.3083,  -676.2756, -1235.9615,  -771.9922,  -686.4807,\n",
       "        -1275.4316, -1136.3344, -1162.2811,  -800.1711, -1162.5239,  -892.9766,\n",
       "         -583.9436,  -629.6329,  -980.1559,  -593.5696,  -857.8542,  -971.0646,\n",
       "         -686.3296, -1098.5748,   -37.3974,  -222.8109,  -608.0586,  -494.2731,\n",
       "         -792.5284,  -904.3154,  -668.7849,  -805.8697, -1473.0632,  -553.0214,\n",
       "         -747.4572, -1236.9003, -1052.5980,  -401.5190,  -199.9657,  -349.9920,\n",
       "         -378.1496, -1202.0938, -1166.7656,  -859.1426])"
      ]
     },
     "execution_count": 12,
     "metadata": {},
     "output_type": "execute_result"
    }
   ],
   "source": [
    "log_weight"
   ]
  },
  {
   "cell_type": "code",
   "execution_count": null,
   "metadata": {},
   "outputs": [],
   "source": []
  }
 ],
 "metadata": {
  "kernelspec": {
   "display_name": "Python [conda env:funcytorch]",
   "language": "python",
   "name": "conda-env-funcytorch-py"
  },
  "language_info": {
   "codemirror_mode": {
    "name": "ipython",
    "version": 3
   },
   "file_extension": ".py",
   "mimetype": "text/x-python",
   "name": "python",
   "nbconvert_exporter": "python",
   "pygments_lexer": "ipython3",
   "version": "3.6.6"
  }
 },
 "nbformat": 4,
 "nbformat_minor": 2
}
