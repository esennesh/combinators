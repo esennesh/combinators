{
 "cells": [
  {
   "cell_type": "code",
   "execution_count": 1,
   "metadata": {},
   "outputs": [
    {
     "name": "stdout",
     "output_type": "stream",
     "text": [
      "/home/eli/AnacondaProjects/combinators\n"
     ]
    }
   ],
   "source": [
    "%cd ../.."
   ]
  },
  {
   "cell_type": "code",
   "execution_count": 2,
   "metadata": {},
   "outputs": [],
   "source": [
    "import logging\n",
    "\n",
    "import numpy as np\n",
    "import probtorch\n",
    "import torch\n",
    "\n",
    "from combinators.inference import importance, mcmc\n",
    "from combinators.kernel import kernel, mh\n",
    "from combinators import utils"
   ]
  },
  {
   "cell_type": "code",
   "execution_count": 3,
   "metadata": {},
   "outputs": [],
   "source": [
    "import examples.ais.ais_1d_gaussians as ais_example"
   ]
  },
  {
   "cell_type": "code",
   "execution_count": 4,
   "metadata": {},
   "outputs": [],
   "source": [
    "logging.basicConfig(format='%(asctime)s %(message)s', datefmt='%m/%d/%Y %H:%M:%S',\n",
    "                    level=logging.INFO)"
   ]
  },
  {
   "cell_type": "code",
   "execution_count": 5,
   "metadata": {},
   "outputs": [],
   "source": [
    "target = ais_example.AnnealingTarget(annealing_steps=10, batch_shape=(100,))"
   ]
  },
  {
   "cell_type": "code",
   "execution_count": 6,
   "metadata": {},
   "outputs": [],
   "source": [
    "ais = importance.resample(mcmc.Move(target, kernel.GaussianKernel('AnnealingTarget', 'X_0', scale=1.0), moves=10, count_target=True))"
   ]
  },
  {
   "cell_type": "code",
   "execution_count": 7,
   "metadata": {},
   "outputs": [],
   "source": [
    "annealed_points, trace, log_weight = ais()"
   ]
  },
  {
   "cell_type": "code",
   "execution_count": 8,
   "metadata": {},
   "outputs": [],
   "source": [
    "import matplotlib.pyplot as plt\n",
    "from torch.distributions import Normal"
   ]
  },
  {
   "cell_type": "code",
   "execution_count": 9,
   "metadata": {},
   "outputs": [],
   "source": [
    "sample = torch.linspace(-10, 10, 100)\n",
    "sample_probs = Normal(loc=torch.ones(1) * 3, scale=torch.ones(1) / 4).log_prob(sample).exp()"
   ]
  },
  {
   "cell_type": "code",
   "execution_count": 10,
   "metadata": {},
   "outputs": [
    {
     "data": {
      "text/plain": [
       "[<matplotlib.lines.Line2D at 0x7f6b5525bbe0>]"
      ]
     },
     "execution_count": 10,
     "metadata": {},
     "output_type": "execute_result"
    },
    {
     "data": {
      "image/png": "[encoded data removed]",
      "text/plain": [
       "<Figure size 432x288 with 1 Axes>"
      ]
     },
     "metadata": {},
     "output_type": "display_data"
    }
   ],
   "source": [
    "plt.scatter(annealed_points.detach().numpy(), log_weight.exp())\n",
    "plt.plot(sample.detach().numpy(), sample_probs.detach().numpy())"
   ]
  },
  {
   "cell_type": "code",
   "execution_count": 11,
   "metadata": {},
   "outputs": [
    {
     "data": {
      "text/plain": [
       "tensor([2.5329, 3.1184, 2.8118, 2.9371, 2.9371, 2.9371, 2.4658, 3.3616, 2.3893,\n",
       "        2.4211, 3.3616, 2.2533, 3.2478, 2.9371, 3.1184, 3.2115, 2.4658, 2.9371,\n",
       "        2.5117, 2.9613, 2.6662, 2.5731, 2.6662, 2.8118, 2.9371, 2.8849, 2.4912,\n",
       "        3.1184, 2.7177, 2.5731, 2.9371, 2.8849, 3.1184, 2.9613, 3.0571, 2.8171,\n",
       "        2.4912, 2.9119, 2.7841, 2.9947, 3.0571, 2.8655, 2.4896, 3.0901, 2.9609,\n",
       "        3.0901, 3.1184, 2.8849, 2.7248, 2.9947, 2.7969, 2.7969, 2.8171, 2.7841,\n",
       "        2.5329, 2.6662, 2.8705, 2.8655, 2.6127, 2.7351, 2.4658, 2.4896, 2.5682,\n",
       "        2.9119, 2.7177, 2.9609, 2.7248, 2.7351, 2.5319, 3.0571, 2.7841, 2.8705,\n",
       "        2.7841, 2.4658, 3.0901, 2.6662, 2.6127, 2.8655, 2.9371, 3.1184, 3.2823,\n",
       "        2.7969, 2.8171, 2.5319, 2.8849, 2.9371, 2.5319, 2.7841, 2.8171, 2.8171,\n",
       "        3.1159, 2.7248, 2.7177, 3.0901, 2.7841, 2.6662, 2.5329, 2.5682, 2.5319,\n",
       "        2.8118])"
      ]
     },
     "execution_count": 11,
     "metadata": {},
     "output_type": "execute_result"
    }
   ],
   "source": [
    "annealed_points"
   ]
  },
  {
   "cell_type": "code",
   "execution_count": 12,
   "metadata": {},
   "outputs": [
    {
     "data": {
      "text/plain": [
       "tensor([-106.5116,  -87.8490, -106.0773,  -72.0179,  -78.5150,  -87.5756,\n",
       "        -102.9056,  -87.2719,  -89.7346,  -75.8130,  -77.3310, -103.2141,\n",
       "        -106.0006,  -64.0742, -104.0903, -102.7027,  -54.0096,  -91.2509,\n",
       "         -98.8045, -110.2742,  -77.4608,  -25.0404,  -85.4363,  -91.3591,\n",
       "         -79.9739,  -81.0725,  -74.5956,  -72.6751,  -35.6349,  -32.9022,\n",
       "         -62.4375, -100.9128,  -89.2454,  -71.7911,  -60.6977, -102.3192,\n",
       "         -33.8703,  -24.5469,  -14.6459, -101.5576, -105.1373,  -75.4160,\n",
       "         -86.3154,  -46.8860,  -83.0803,  -69.1809,  -76.4868,  -58.0663,\n",
       "         -77.9876, -108.1367, -102.3660,  -85.4291, -105.5746,  -97.6221,\n",
       "         -91.7913, -101.5536, -122.2102,  -26.8166,  -95.7692, -101.0890,\n",
       "         -76.7112,  -90.3307, -101.9457,  -87.0963,  -74.5946,  -74.6319,\n",
       "         -60.1190,  -66.1064, -118.4123,  -88.8182,  -85.4709,  -47.9945,\n",
       "         -99.9628,  -68.5634,  -95.6403, -118.1562,  -51.2510,  -78.3196,\n",
       "        -106.7556,   -0.0000,  -38.5935,  -87.9469, -118.9867,  -77.9762,\n",
       "         -29.9532,  -62.7022,  -86.7798,  -39.4274,  -74.0214,  -99.2344,\n",
       "         -64.7332,  -52.4417,  -64.3935,  -94.7546,  -73.4243,  -85.7535,\n",
       "         -72.0493,  -49.5983,  -78.7191,  -51.2991])"
      ]
     },
     "execution_count": 12,
     "metadata": {},
     "output_type": "execute_result"
    }
   ],
   "source": [
    "log_weight"
   ]
  },
  {
   "cell_type": "code",
   "execution_count": null,
   "metadata": {},
   "outputs": [],
   "source": []
  }
 ],
 "metadata": {
  "kernelspec": {
   "display_name": "Python [conda env:funcytorch]",
   "language": "python",
   "name": "conda-env-funcytorch-py"
  },
  "language_info": {
   "codemirror_mode": {
    "name": "ipython",
    "version": 3
   },
   "file_extension": ".py",
   "mimetype": "text/x-python",
   "name": "python",
   "nbconvert_exporter": "python",
   "pygments_lexer": "ipython3",
   "version": "3.6.6"
  }
 },
 "nbformat": 4,
 "nbformat_minor": 2
}
