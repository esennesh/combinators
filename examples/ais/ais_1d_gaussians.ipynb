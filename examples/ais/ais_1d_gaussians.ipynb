{
 "cells": [
  {
   "cell_type": "code",
   "execution_count": 1,
   "metadata": {},
   "outputs": [
    {
     "name": "stdout",
     "output_type": "stream",
     "text": [
      "/home/eli/AnacondaProjects/combinators\n"
     ]
    }
   ],
   "source": [
    "%cd ../.."
   ]
  },
  {
   "cell_type": "code",
   "execution_count": 2,
   "metadata": {},
   "outputs": [],
   "source": [
    "import logging\n",
    "\n",
    "import numpy as np\n",
    "import probtorch\n",
    "import torch\n",
    "\n",
    "from combinators.inference import importance, mcmc\n",
    "from combinators.kernel import kernel, mh\n",
    "from combinators import utils"
   ]
  },
  {
   "cell_type": "code",
   "execution_count": 3,
   "metadata": {},
   "outputs": [],
   "source": [
    "import examples.ais.ais_1d_gaussians as ais_example"
   ]
  },
  {
   "cell_type": "code",
   "execution_count": 4,
   "metadata": {},
   "outputs": [],
   "source": [
    "logging.basicConfig(format='%(asctime)s %(message)s', datefmt='%m/%d/%Y %H:%M:%S',\n",
    "                    level=logging.INFO)"
   ]
  },
  {
   "cell_type": "code",
   "execution_count": 5,
   "metadata": {},
   "outputs": [],
   "source": [
    "target = ais_example.AnnealingTarget(annealing_steps=5, batch_shape=(100,))"
   ]
  },
  {
   "cell_type": "code",
   "execution_count": 6,
   "metadata": {},
   "outputs": [],
   "source": [
    "ais = ais_example.annealed_importance(target, kernel.GaussianKernel('AnnealingTarget', 'X_0', scale=1.0, ), moves=5)"
   ]
  },
  {
   "cell_type": "code",
   "execution_count": 7,
   "metadata": {},
   "outputs": [],
   "source": [
    "annealed_points, trace, log_weight = ais()\n",
    "log_probs = utils.normalize_weights(log_weight)"
   ]
  },
  {
   "cell_type": "code",
   "execution_count": 8,
   "metadata": {},
   "outputs": [],
   "source": [
    "import matplotlib.pyplot as plt\n",
    "from torch.distributions import Normal"
   ]
  },
  {
   "cell_type": "code",
   "execution_count": 9,
   "metadata": {},
   "outputs": [],
   "source": [
    "sample = torch.linspace(-10, 10, 100)\n",
    "sample_probs = Normal(loc=torch.zeros(1), scale=torch.ones(1)).log_prob(sample).exp()"
   ]
  },
  {
   "cell_type": "code",
   "execution_count": 10,
   "metadata": {},
   "outputs": [
    {
     "data": {
      "text/plain": [
       "[<matplotlib.lines.Line2D at 0x7f973fc45d68>]"
      ]
     },
     "execution_count": 10,
     "metadata": {},
     "output_type": "execute_result"
    },
    {
     "data": {
      "image/png": "[encoded data removed]",
      "text/plain": [
       "<Figure size 432x288 with 1 Axes>"
      ]
     },
     "metadata": {
      "needs_background": "light"
     },
     "output_type": "display_data"
    }
   ],
   "source": [
    "plt.scatter(annealed_points.detach().numpy(), log_weight.exp())\n",
    "plt.plot(sample.detach().numpy(), sample_probs.detach().numpy())"
   ]
  },
  {
   "cell_type": "code",
   "execution_count": 11,
   "metadata": {},
   "outputs": [
    {
     "data": {
      "text/plain": [
       "tensor([ 11.1424,   6.0071,  -2.4243,  -3.7292,   7.1299,  -2.5119,   2.3438,\n",
       "          1.8765,  -4.5342,   1.8949,   7.5051,  -7.9953,  -6.4536,   4.4170,\n",
       "        -11.3497,  -2.2675,  -5.0313,   2.8545,   1.3482,  -3.5002,  -0.5614,\n",
       "          6.0857,  -3.9470,   4.9719,   5.1899,   3.5459,  -9.0538,   2.2259,\n",
       "          1.9306,   1.8330,  -4.4918,   0.1950,   1.1893,  11.8133,  -3.4602,\n",
       "         -6.5864,  -1.8046,  -5.3967,  -0.9779,   2.5992,   0.1039,  12.3156,\n",
       "          4.4152,  -3.4345,   9.1053,  -1.1788, -11.2974,   1.4329,   3.7488,\n",
       "         -5.9902,  -3.9413,   0.5552,   2.7307,   1.3454,   9.8923,   2.6521,\n",
       "        -14.2315,  -5.4692,  -1.8828,   1.2565,  13.2325,   0.3466,  -6.1214,\n",
       "         -1.1470,  -3.9621,  -2.8041,  -3.6788,   2.4183,  -6.0297,   5.9824,\n",
       "         -6.8070,  -7.4572,  -6.3897,   1.6424,  -7.5609,  -2.4244,  10.0746,\n",
       "          3.6362,  -3.0313,  -4.7621,   6.1726,  -2.2560,   2.5014, -12.0967,\n",
       "          2.5660, -11.8788,  13.7591,  -1.1199, -11.2391,   9.3648,  -5.1580,\n",
       "          0.7086,  -4.2411, -12.6268, -13.5706,  -6.1138,   1.7569, -10.4019,\n",
       "         10.0336, -13.7064])"
      ]
     },
     "execution_count": 11,
     "metadata": {},
     "output_type": "execute_result"
    }
   ],
   "source": [
    "annealed_points"
   ]
  },
  {
   "cell_type": "code",
   "execution_count": 12,
   "metadata": {},
   "outputs": [
    {
     "data": {
      "text/plain": [
       "tensor([1.6700e-29, 7.5464e-10, 4.1642e-03, 6.7209e-05, 3.8539e-13, 3.3345e-03,\n",
       "        5.0722e-03, 1.3972e-02, 2.2021e-06, 1.3484e-02, 2.2922e-14, 4.6184e-16,\n",
       "        4.3259e-11, 3.7763e-06, 1.5209e-30, 6.0773e-03, 1.9125e-07, 1.2961e-03,\n",
       "        3.3536e-02, 1.5736e-04, 7.2581e-02, 4.6312e-10, 2.8460e-05, 2.5961e-07,\n",
       "        8.3162e-08, 1.3337e-04, 4.3335e-20, 6.6889e-03, 1.2571e-02, 1.5182e-02,\n",
       "        2.6809e-06, 8.3692e-02, 4.1259e-02, 6.1061e-33, 1.8156e-04, 1.7759e-11,\n",
       "        1.6010e-02, 2.6986e-08, 5.2207e-02, 2.6506e-03, 8.4871e-02, 1.2035e-35,\n",
       "        3.8067e-06, 1.9889e-04, 2.6802e-20, 4.1788e-02, 2.7953e-30, 2.9710e-02,\n",
       "        6.2335e-05, 8.3752e-10, 2.9126e-05, 7.2843e-02, 1.8493e-03, 3.3668e-02,\n",
       "        1.2342e-23, 2.2982e-03, 0.0000e+00, 1.8004e-08, 1.3805e-02, 3.7917e-02,\n",
       "        7.1218e-41, 8.0233e-02, 3.7016e-10, 4.3406e-02, 2.6765e-05, 1.5007e-03,\n",
       "        8.1421e-05, 4.2270e-03, 6.5600e-10, 8.7839e-10, 3.8927e-12, 3.3136e-14,\n",
       "        6.5950e-11, 2.1336e-02, 1.4878e-14, 4.1627e-03, 1.9018e-24, 9.5564e-05,\n",
       "        7.5922e-04, 7.4120e-07, 2.6774e-10, 6.2411e-03, 3.4256e-03, 1.8767e-34,\n",
       "        2.8949e-03, 2.7483e-33, 4.7644e-44, 4.4799e-02, 5.4921e-30, 2.2820e-21,\n",
       "        9.8533e-08, 6.5934e-02, 8.2581e-06, 2.2303e-37, 6.7683e-43, 3.8824e-10,\n",
       "        1.7468e-02, 6.0711e-26, 2.9035e-24, 1.0089e-43])"
      ]
     },
     "execution_count": 12,
     "metadata": {},
     "output_type": "execute_result"
    }
   ],
   "source": [
    "log_probs.exp()"
   ]
  },
  {
   "cell_type": "code",
   "execution_count": 13,
   "metadata": {},
   "outputs": [],
   "source": [
    "importance_points, _, resampled_weights = target(t=4)\n",
    "resampled_probs = utils.normalize_weights(resampled_weights)"
   ]
  },
  {
   "cell_type": "code",
   "execution_count": 14,
   "metadata": {},
   "outputs": [
    {
     "data": {
      "text/plain": [
       "[<matplotlib.lines.Line2D at 0x7f973967e6a0>]"
      ]
     },
     "execution_count": 14,
     "metadata": {},
     "output_type": "execute_result"
    },
    {
     "data": {
      "image/png": "[encoded data removed]",
      "text/plain": [
       "<Figure size 432x288 with 1 Axes>"
      ]
     },
     "metadata": {
      "needs_background": "light"
     },
     "output_type": "display_data"
    }
   ],
   "source": [
    "plt.scatter(importance_points.detach().numpy(), resampled_weights.exp())\n",
    "plt.plot(sample.detach().numpy(), sample_probs.detach().numpy())"
   ]
  },
  {
   "cell_type": "code",
   "execution_count": null,
   "metadata": {},
   "outputs": [],
   "source": []
  }
 ],
 "metadata": {
  "kernelspec": {
   "display_name": "Python [conda env:funcytorch] *",
   "language": "python",
   "name": "conda-env-funcytorch-py"
  },
  "language_info": {
   "codemirror_mode": {
    "name": "ipython",
    "version": 3
   },
   "file_extension": ".py",
   "mimetype": "text/x-python",
   "name": "python",
   "nbconvert_exporter": "python",
   "pygments_lexer": "ipython3",
   "version": "3.6.7"
  }
 },
 "nbformat": 4,
 "nbformat_minor": 4
}
