{
 "cells": [
  {
   "cell_type": "code",
   "execution_count": 1,
   "metadata": {},
   "outputs": [
    {
     "name": "stdout",
     "output_type": "stream",
     "text": [
      "/home/eli/AnacondaProjects/combinators\n"
     ]
    }
   ],
   "source": [
    "%cd ../.."
   ]
  },
  {
   "cell_type": "code",
   "execution_count": 2,
   "metadata": {},
   "outputs": [],
   "source": [
    "import logging\n",
    "\n",
    "import numpy as np\n",
    "import probtorch\n",
    "import torch\n",
    "\n",
    "from combinators.inference import importance, mcmc\n",
    "from combinators.kernel import kernel, mh\n",
    "import combinators.model as model\n",
    "from combinators import utils"
   ]
  },
  {
   "cell_type": "code",
   "execution_count": 3,
   "metadata": {},
   "outputs": [],
   "source": [
    "import examples.ais.ais_1d_gaussians as ais_example\n",
    "import examples.ais.image_density as image_density"
   ]
  },
  {
   "cell_type": "code",
   "execution_count": 4,
   "metadata": {},
   "outputs": [],
   "source": [
    "logging.basicConfig(format='%(asctime)s %(message)s', datefmt='%m/%d/%Y %H:%M:%S',\n",
    "                    level=logging.INFO)"
   ]
  },
  {
   "cell_type": "code",
   "execution_count": 5,
   "metadata": {},
   "outputs": [],
   "source": [
    "from scipy.misc import imread\n",
    "from scipy.ndimage.filters import gaussian_filter\n",
    "import matplotlib.pyplot as plt\n",
    "\n",
    "img_ary = imread('examples/ais/probtorch-logo-bw.png', mode='L')\n",
    "img_ary = gaussian_filter(img_ary, sigma=1)"
   ]
  },
  {
   "cell_type": "code",
   "execution_count": 6,
   "metadata": {},
   "outputs": [],
   "source": [
    "ANNEALING_STEPS = 50"
   ]
  },
  {
   "cell_type": "code",
   "execution_count": 7,
   "metadata": {},
   "outputs": [],
   "source": [
    "BATCH_SHAPE = (1000,)"
   ]
  },
  {
   "cell_type": "code",
   "execution_count": 8,
   "metadata": {},
   "outputs": [],
   "source": [
    "proposal = image_density.AnnealingProposal(image_density.ImageProposal(batch_shape=BATCH_SHAPE), ANNEALING_STEPS)"
   ]
  },
  {
   "cell_type": "code",
   "execution_count": 9,
   "metadata": {},
   "outputs": [],
   "source": [
    "target = model.Compose(image_density.ProbtorchLogoDensity(batch_shape=BATCH_SHAPE), proposal)"
   ]
  },
  {
   "cell_type": "code",
   "execution_count": 10,
   "metadata": {},
   "outputs": [],
   "source": [
    "ais = ais_example.annealed_importance(target, kernel.GaussianKernel('ProbtorchLogoDensity.ImageProposal/ImageProposal', 'ImageProposal'), moves=ANNEALING_STEPS)"
   ]
  },
  {
   "cell_type": "code",
   "execution_count": 11,
   "metadata": {},
   "outputs": [],
   "source": [
    "annealed_points, trace, log_weight = ais(data={'image': torch.Tensor(img_ary)})"
   ]
  },
  {
   "cell_type": "code",
   "execution_count": 12,
   "metadata": {},
   "outputs": [
    {
     "data": {
      "text/plain": [
       "tensor([[ 0.8692, -1.1841],\n",
       "        [ 0.4833,  0.0643],\n",
       "        [-0.1026, -1.0016],\n",
       "        ...,\n",
       "        [-0.2969, -0.7619],\n",
       "        [-0.0546, -1.5329],\n",
       "        [-0.5544, -1.4626]])"
      ]
     },
     "execution_count": 12,
     "metadata": {},
     "output_type": "execute_result"
    }
   ],
   "source": [
    "annealed_points"
   ]
  },
  {
   "cell_type": "code",
   "execution_count": 13,
   "metadata": {},
   "outputs": [
    {
     "data": {
      "text/plain": [
       "tensor([-0.1952,  0.3057,  2.1612,  5.4186,  1.9493,  4.1834,  0.8116, -0.4628,\n",
       "         0.7057,  2.4691,  1.9957,  0.2215,  1.3301,  0.3407,  1.4054,  2.3947,\n",
       "         1.8177,  1.2754, -0.5559,  0.5554, -0.4978, -0.0422, -0.4360,  1.7801,\n",
       "         0.3543, -0.3313,  3.3655,  5.1616,  0.3401, -1.7151, -0.0714,  0.1057,\n",
       "        -0.4090,  2.8026,  4.5878,  1.1701,  1.5937, -0.1350, 10.5832, -0.8007,\n",
       "        -1.4316,  0.1773, -0.3088,  1.5186,  0.7234,  1.6295,  0.1889, -1.1720,\n",
       "         1.2260,  1.2386,  3.9992,  4.7447,  4.9331, -0.7019,  1.8001, -0.0150,\n",
       "         0.0676, -0.4390,  2.5118,  0.2490,  1.0276,  1.7310,  0.9792,  0.0083,\n",
       "         0.4202,  0.2728,  0.2339,  0.1709,  4.7318,  3.1152, -0.0488,  2.2991,\n",
       "         1.1012,  3.6829,  0.4044,  0.6944,  2.4018,  0.3220,  4.1019,  2.2280,\n",
       "        -0.0278,  1.9594,  3.0136,  1.0402, -0.0846, -0.2688,  0.7980,  0.1285,\n",
       "         0.5394,  0.4810,  0.7735,  2.1980,  0.5397,  0.1017,  0.5237,  0.7806,\n",
       "         1.5382,  1.4525,  0.9854,  0.0711,  1.1688,  1.8871,  1.7335,  4.1054,\n",
       "        -0.4836,  0.0232,  0.1201,  0.4405,  0.6173,  1.0645,  2.6270,  2.4805,\n",
       "        -0.8760,  4.8257, -0.0262,  2.7199,  3.7997,  0.8731,  0.0280,  1.4834,\n",
       "        -0.2936,  1.4401, -0.3703,  1.0371,  0.4889,  0.5297,  1.7489, -1.1996,\n",
       "         0.8898,  1.2334,  0.1540,  4.6949,  1.4331,  1.1405,  3.2864,  0.3786,\n",
       "         3.9452, -0.4604,  1.3294,  2.5917,  2.6617,  0.3878,  1.7090,  4.0120,\n",
       "         5.6501,  0.9411,  0.2267, -0.8154,  0.2292,  0.9396, -0.0712,  0.2667,\n",
       "        -0.5362,  6.6734, -0.2770,  0.7417,  1.9826, -0.6752,  1.3952,  6.2114,\n",
       "         0.6691, -1.3885,  1.4171,  0.1754,  1.5997,  2.9397,  1.7457, -0.4173,\n",
       "         0.7396,  0.8798,  1.4691,  0.0060,  0.1276,  1.4414, -0.0775,  0.1789,\n",
       "        -0.3862, -0.5262,  0.6207,  0.3192,  0.8322,  5.1293,  0.5517, -0.7413,\n",
       "         0.4709,  3.0902,  0.5417,  3.7118,  4.4226, -0.1149, -0.1107, -0.7305,\n",
       "         2.1802,  3.1702,  0.1209,  1.0249,  1.3209,  4.0895,  0.7751,  1.3566,\n",
       "         1.2453, -0.0184,  1.3287,  0.4673,  4.9201, -0.8457,  0.3614,  0.9848,\n",
       "         0.7615,  0.0982,  2.9285,  1.2706,  0.0823,  1.2440,  0.5532,  0.1402,\n",
       "         0.0664, -1.4048,  1.6795,  1.6226,  0.3794,  4.0095,  1.1557,  0.3075,\n",
       "         5.2589, -0.5300,  0.5239, -0.7468, -0.2836, -0.8328,  0.5997, -0.5683,\n",
       "        -0.0947, -0.2130,  1.6520, -2.2798, -0.0445,  0.3467,  0.1387, -0.2467,\n",
       "        -1.5482, -0.4422, -0.7807,  0.1163, -0.3317,  3.1773,  2.5964,  1.1008,\n",
       "         6.9900,  0.6403,  0.5053,  2.4375, -0.4146, -1.0006, -1.3184,  1.1393,\n",
       "         0.1098,  2.1537,  1.7916, -0.0274,  0.8395, -0.2162,  0.8532,  0.3177,\n",
       "         0.0833,  4.0125,  8.0750,  0.2101,  1.6396, -1.4164,  1.2432,  0.0420,\n",
       "         0.0446,  1.0688,  0.7354, -1.1815,  0.5211,  0.3013,  1.7198,  2.2454,\n",
       "         2.2236,  3.8188,  0.2658, -0.9104,  1.1150,  0.6092, -0.6082,  1.1129,\n",
       "         1.0674,  0.5595,  1.8948,  0.4353,  1.5847,  3.6257, -0.3042, -0.5266,\n",
       "         1.3104, -1.1852,  0.9811, -0.1343, -0.0771, -0.0659,  0.6861,  0.2017,\n",
       "         5.2471,  0.4015, -0.3175,  0.0268,  2.0513,  1.8621,  1.0223,  1.5513,\n",
       "         1.3263, -0.2826,  2.2605, -0.1055,  0.4002,  0.6247,  1.5503,  2.4641,\n",
       "         1.0571, -0.1028, -0.1166,  2.1737, -0.0200,  0.6543,  1.2268,  0.3125,\n",
       "        -0.3394,  0.2273,  1.3002,  2.0170,  2.9755,  1.1577, -0.4626,  1.3308,\n",
       "         0.2770,  2.8418,  1.8396,  0.6836,  0.3799,  0.9307, -0.0665,  0.3695,\n",
       "         2.3102, -0.7404,  0.5953,  3.8290,  0.8195,  0.2536,  0.3571,  2.0907,\n",
       "         7.5997,  1.2944, -0.0487,  0.0906,  0.3504,  0.5808, -0.8029,  0.6910,\n",
       "         6.4248,  1.4924, -1.0388,  0.5203,  0.0862,  2.4675,  2.5507,  2.4681,\n",
       "         2.8379,  0.7540, -2.5541, -0.4399, -0.8672,  2.0032, -0.1053,  8.5615,\n",
       "         2.1748,  0.1895,  1.1048,  7.4672, -0.6565,  0.9186,  2.5890,  0.1327,\n",
       "        -0.5378,  0.7071,  0.9723,  3.0651,  2.3330,  0.0346,  0.3062,  2.2791,\n",
       "         1.1431,  3.0928,  4.8762,  6.6117,  1.7449,  0.0662, -0.8761, -0.1176,\n",
       "         1.8197,  1.1435,  0.8688, -0.6835,  0.8634,  2.0100,  0.5793, -0.1615,\n",
       "         0.2864,  4.1438,  0.7971,  0.0173,  1.0439,  0.0544, -0.6538, -0.5543,\n",
       "         1.3199,  1.6607, -0.1089,  1.2985,  0.7456, -2.0128,  3.5449,  7.0181,\n",
       "         0.7164, -0.8640,  0.3570,  0.1203,  0.2443, -0.0451,  1.8231,  1.8865,\n",
       "         0.4528, -1.0395,  1.1845,  3.8079,  0.1392,  4.0847,  2.4211,  0.0888,\n",
       "         0.2753, -0.7184,  2.2059,  2.6861, -0.0516,  4.0495,  1.8989, -0.2785,\n",
       "        -0.9982,  2.1136,  0.0521, -0.3697,  0.9824, -0.2791,  3.5605, -0.3016,\n",
       "        -1.3229, -0.0040, -0.2748,  2.2286,  1.4390,  1.7549,  0.1884, -0.2287,\n",
       "         0.6616,  0.1549, -0.0260, -0.1758,  0.0856,  0.8544,  5.6318,  2.5775,\n",
       "        -1.3745,  0.5929, -0.0279,  0.5960,  1.4297,  0.1187,  1.2389, -0.2925,\n",
       "         0.7479,  0.2004,  4.5542,  0.6117, -0.0278, -0.0698, -0.9184,  1.8399,\n",
       "        -0.2214, -0.1144,  0.7970,  0.1786,  1.1184, -0.2702, -1.1721,  0.2636,\n",
       "         1.1949, -0.4123, -0.0160,  0.0298,  1.4602,  0.0467,  1.6245,  1.2296,\n",
       "         8.2032,  0.4280,  3.1032, -0.1809,  4.2981,  0.5966,  0.6348,  0.5847,\n",
       "         2.4110, -1.1644,  1.1484,  1.7335,  0.3228, -2.1354,  3.5604, -0.0705,\n",
       "         0.9612, -0.9356, -0.4788, -0.0417, -0.1980,  3.6404,  6.0594,  2.7589,\n",
       "         0.5495,  3.3049,  1.3743, -1.3151, -1.3449, -1.7764, -0.8883,  0.1762,\n",
       "         0.9711,  1.2453,  1.4876,  1.0651, -0.1093, -0.5281, -1.4561, -0.1420,\n",
       "         0.1437,  1.3298,  1.2685,  1.2665,  1.4071,  0.9285,  6.9161,  1.4716,\n",
       "         0.7334, -0.1755, -2.3017, -1.3091, -0.7305,  1.0362,  1.1028,  0.6978,\n",
       "         1.2278,  0.2386,  1.7364, -0.3402,  1.2649, -1.1080,  0.1859,  3.1167,\n",
       "         0.2284, -0.2500,  0.1962,  0.5999,  2.5903,  1.0250, -0.1741,  4.5910,\n",
       "        -1.3676,  0.6179,  0.3460,  3.3835, -0.0139, -0.0301,  2.6858, -0.1781,\n",
       "         3.2185, -0.9840, -0.3673,  6.4112,  0.2621,  0.2004,  0.7398,  1.7169,\n",
       "         2.6150,  1.6721,  1.3091,  0.4406,  6.6161,  1.8078,  0.7019, -0.0008,\n",
       "         0.8400,  2.1002,  0.3461,  0.5465, -1.6437,  0.1680,  1.1604, -0.5689,\n",
       "        -0.3965,  0.1374,  2.5241, -1.1522,  0.3710, -1.9446, -0.3012,  3.5765,\n",
       "         1.8483,  1.9953,  0.0923,  0.9036,  3.3942,  2.2015,  2.3596,  1.1581,\n",
       "         0.0590,  0.7837, -0.0874,  4.0753,  0.5064, -1.0173,  0.6103,  1.9456,\n",
       "         1.3843,  3.1870,  1.0495, -0.1162,  3.5027,  2.7450,  1.3012,  1.7253,\n",
       "        -0.1638, -0.4495, -0.2295, -1.5520,  1.1927,  1.3863, -0.1341,  1.5922,\n",
       "         0.0243, -1.0991,  1.4227,  0.9428, -1.3257,  0.1633,  0.3317,  2.6033,\n",
       "         1.0534, -0.0773,  2.5416,  0.1765,  0.4184,  5.4458,  1.5435,  1.1131,\n",
       "         0.0365,  4.6116, -0.9378,  1.4010,  0.3010,  2.8130,  0.6256, -0.1563,\n",
       "         1.2838, -0.7742,  1.3867, -0.2769,  0.5800,  0.0517,  0.4572,  0.1379,\n",
       "        -0.1524, -0.5358, -0.4529,  0.8866,  0.3253,  0.9924,  0.2942,  1.1149,\n",
       "         0.1548, -0.4463,  0.5159,  0.3036, -1.4815,  0.9546,  1.8678,  2.4672,\n",
       "         2.0437,  0.6183, -0.3527,  1.5016,  2.2693, -0.8768,  0.5567,  1.5032,\n",
       "         8.6067,  1.2880, -1.0424,  0.8849,  0.2688,  0.8577,  2.7222, -0.5730,\n",
       "        -0.0874,  0.6834, -0.7910,  2.4371, -1.1855, -1.3088,  1.1732,  1.6805,\n",
       "         0.7080,  0.4662,  0.4876,  5.0676,  0.2760,  1.1224,  2.3921, -0.3736,\n",
       "        -0.2249,  1.0482, -0.2672,  1.6054, -0.8936,  0.7586,  1.6233,  2.2880,\n",
       "         4.4193,  2.1729,  4.3831, -0.0851,  0.2189,  2.6673, -1.2993,  2.7845,\n",
       "         1.9823,  0.0118,  0.7211,  0.0423,  2.6829,  1.8078, -1.4273, -2.9254,\n",
       "        -0.3709,  1.0102,  0.9318,  0.6264, -1.1283, -0.0037,  2.0521, -0.1754,\n",
       "         1.8601,  0.2552,  0.5764,  2.3883,  1.6034, -1.7878,  0.4946, -0.5087,\n",
       "         0.4639,  0.6179,  1.0078, -0.0506,  1.3905,  1.8351, -0.6390,  0.4001,\n",
       "        -0.6911,  0.7808,  1.6685,  0.4231,  1.8620,  1.6935,  0.2592,  0.2186,\n",
       "        -0.2302, -0.6865,  0.5223, -1.8802, -0.8011,  0.1109,  1.5001, -0.3334,\n",
       "         0.6130,  4.9834,  1.6008,  1.4335,  1.1500,  0.9853,  1.5187,  1.0007,\n",
       "        -0.0433,  1.5914,  6.6922, -0.3454,  0.3735,  0.0000, -0.4752, -0.0092,\n",
       "         0.5366,  2.6380,  1.8631,  1.6527,  1.8924,  1.2136,  0.1958, -0.1022,\n",
       "         3.0635, -0.3894,  1.2998,  0.8855,  0.6821, -0.1668,  2.5237, -0.4558,\n",
       "        -0.2488,  0.2831,  2.9238,  1.9674,  0.6283, -0.0132,  0.8858,  1.5624,\n",
       "        -0.4526,  0.0422, -0.0776,  0.4042,  4.9090, -2.0653,  0.5803,  1.1273,\n",
       "        -0.2230,  1.6122,  0.4817, -0.5395,  0.7939,  1.7360,  1.1015,  0.4221,\n",
       "        -2.8509, -0.1662,  4.2984,  0.6618, -0.2696, -0.1633,  0.0317,  0.1376,\n",
       "        -0.8005,  0.3281,  0.5696, -0.3960,  1.2379,  0.9223,  0.3043,  0.1970,\n",
       "         0.0018,  3.4143,  0.1607, -0.2215,  1.6745, -3.2194,  1.0371, -0.9727,\n",
       "         0.6199,  0.5543, -0.0849,  0.3904, -0.2005,  0.5468, -0.7299,  6.1830,\n",
       "         0.8361,  2.6207, -0.0049,  0.1204, -1.1655,  0.8908,  2.3255,  0.9627,\n",
       "         1.4328, -0.5048,  0.3937,  1.2057,  3.8457,  2.5089,  0.9506,  2.1720,\n",
       "         2.7375,  2.1652,  1.2439,  0.4791,  1.0584, -0.1920,  0.0365,  1.8999,\n",
       "        -0.3315,  3.8044, -0.4206,  0.2775,  0.6876,  0.5264,  3.3960,  0.1271,\n",
       "        -2.7263, -0.5396,  0.3213, -0.9240,  4.7160,  0.7130,  2.8870, -0.8857,\n",
       "         2.0017,  0.4745, -0.0614, -0.0747,  5.4757,  0.3052,  0.4569, -0.3803,\n",
       "        -0.1725, -0.0395,  2.1136,  0.3107,  1.9941,  0.2750, -0.4903,  0.2179,\n",
       "         1.1803, -0.4415,  2.2146, -0.3358,  1.0966,  3.0147,  0.3898,  1.3391,\n",
       "        -1.0477,  0.6478,  0.9803,  1.9651, -1.1095, -1.7193,  3.6977,  0.5009,\n",
       "         2.4785,  2.6507, -0.4857,  3.9254,  2.3270, -0.1198,  0.3042,  0.0719,\n",
       "         7.0891,  0.1444,  2.2080,  2.6408, -0.7179, -0.6659,  0.2434,  6.1319,\n",
       "        -0.1381,  0.2543, -0.0894,  1.9585, -3.1243,  0.5630,  1.0504,  0.0412,\n",
       "         0.1347, -0.7317,  4.2952, -0.0365,  4.1538,  0.3600,  1.5151,  0.1505,\n",
       "         0.0522,  2.2139,  0.3690, -0.6561,  1.7577,  0.9476, -0.2893,  1.6532,\n",
       "         5.9554,  0.6203,  0.7133, -0.3174,  0.6998,  0.6024,  1.0838, -0.2143])"
      ]
     },
     "execution_count": 13,
     "metadata": {},
     "output_type": "execute_result"
    }
   ],
   "source": [
    "log_weight"
   ]
  },
  {
   "cell_type": "code",
   "execution_count": 14,
   "metadata": {},
   "outputs": [
    {
     "data": {
      "text/plain": [
       "<matplotlib.collections.PathCollection at 0x7f756c443710>"
      ]
     },
     "execution_count": 14,
     "metadata": {},
     "output_type": "execute_result"
    },
    {
     "data": {
      "image/png": "[encoded data removed]",
      "text/plain": [
       "<Figure size 432x288 with 1 Axes>"
      ]
     },
     "metadata": {},
     "output_type": "display_data"
    }
   ],
   "source": [
    "plt.scatter(annealed_points[:, 0], annealed_points[:, 1], c='r')"
   ]
  }
 ],
 "metadata": {
  "kernelspec": {
   "display_name": "Python [conda env:funcytorch]",
   "language": "python",
   "name": "conda-env-funcytorch-py"
  },
  "language_info": {
   "codemirror_mode": {
    "name": "ipython",
    "version": 3
   },
   "file_extension": ".py",
   "mimetype": "text/x-python",
   "name": "python",
   "nbconvert_exporter": "python",
   "pygments_lexer": "ipython3",
   "version": "3.6.6"
  }
 },
 "nbformat": 4,
 "nbformat_minor": 2
}
