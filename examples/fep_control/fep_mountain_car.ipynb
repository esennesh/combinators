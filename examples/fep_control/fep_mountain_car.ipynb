{
 "cells": [
  {
   "cell_type": "code",
   "execution_count": 1,
   "metadata": {},
   "outputs": [
    {
     "name": "stdout",
     "output_type": "stream",
     "text": [
      "/home/eli/AnacondaProjects/combinators\n"
     ]
    }
   ],
   "source": [
    "%cd ../.."
   ]
  },
  {
   "cell_type": "code",
   "execution_count": 2,
   "metadata": {},
   "outputs": [],
   "source": [
    "import logging\n",
    "\n",
    "import numpy as np\n",
    "import probtorch\n",
    "import torch\n",
    "\n",
    "from examples.fep_control import fep_control\n",
    "from combinators.model import active\n",
    "from combinators.model import compose, foldable\n",
    "from combinators.inference import importance\n",
    "from combinators import utils"
   ]
  },
  {
   "cell_type": "code",
   "execution_count": 3,
   "metadata": {},
   "outputs": [],
   "source": [
    "logging.basicConfig(format='%(asctime)s %(message)s', datefmt='%m/%d/%Y %H:%M:%S',\n",
    "                    level=logging.INFO)"
   ]
  },
  {
   "cell_type": "code",
   "execution_count": 4,
   "metadata": {},
   "outputs": [],
   "source": [
    "target = fep_control.MountainCarAgent(observation_dim=2, functional_dim=2, perceptual_dim=1, batch_shape=(10,), trainable=False)\n",
    "proposal = fep_control.RecognitionAgent(functional_dim=2, perceptual_dim=1, action_dim=1, observation_dim=2, batch_shape=(10,),\n",
    "                                        discrete_actions=False, name='MountainCarAgent', trainable=True)\n",
    "agent = importance.propose(target, proposal)"
   ]
  },
  {
   "cell_type": "code",
   "execution_count": 5,
   "metadata": {},
   "outputs": [],
   "source": [
    "episode = active.ActiveEpisode(agent, 'MountainCarContinuous-v0')"
   ]
  },
  {
   "cell_type": "code",
   "execution_count": 6,
   "metadata": {},
   "outputs": [],
   "source": [
    "(control, prediction, t), graph, log_weight = episode(render=True)"
   ]
  },
  {
   "cell_type": "code",
   "execution_count": 7,
   "metadata": {},
   "outputs": [
    {
     "name": "stderr",
     "output_type": "stream",
     "text": [
      "06/28/2019 15:17:18 Episode length: 233\n",
      "06/28/2019 15:17:19 ELBO=-1.86641968e+03 per step at epoch 1\n",
      "06/28/2019 15:17:24 Episode length: 1000\n",
      "06/28/2019 15:17:28 ELBO=-1.72887585e+03 per step at epoch 2\n",
      "06/28/2019 15:17:30 Episode length: 482\n",
      "06/28/2019 15:17:32 ELBO=-1.72407898e+03 per step at epoch 3\n",
      "06/28/2019 15:17:35 Episode length: 616\n",
      "06/28/2019 15:17:38 ELBO=-1.77447766e+03 per step at epoch 4\n",
      "06/28/2019 15:17:38 Episode length: 170\n",
      "06/28/2019 15:17:39 ELBO=-2.04024121e+03 per step at epoch 5\n",
      "06/28/2019 15:17:43 Episode length: 946\n",
      "06/28/2019 15:17:47 ELBO=-1.72717542e+03 per step at epoch 6\n",
      "06/28/2019 15:17:50 Episode length: 707\n",
      "06/28/2019 15:17:53 ELBO=-1.70503589e+03 per step at epoch 7\n",
      "06/28/2019 15:17:56 Episode length: 658\n",
      "06/28/2019 15:17:59 ELBO=-1.59411877e+03 per step at epoch 8\n",
      "06/28/2019 15:18:01 Episode length: 408\n",
      "06/28/2019 15:18:02 ELBO=-1.77763525e+03 per step at epoch 9\n",
      "06/28/2019 15:18:04 Episode length: 493\n",
      "06/28/2019 15:18:06 ELBO=-1.79776624e+03 per step at epoch 10\n",
      "06/28/2019 15:18:11 Episode length: 1000\n",
      "06/28/2019 15:18:14 ELBO=-1.83044580e+03 per step at epoch 11\n",
      "06/28/2019 15:18:15 Episode length: 208\n",
      "06/28/2019 15:18:16 ELBO=-1.71433386e+03 per step at epoch 12\n",
      "06/28/2019 15:18:17 Episode length: 251\n",
      "06/28/2019 15:18:18 ELBO=-1.71112268e+03 per step at epoch 13\n",
      "06/28/2019 15:18:22 Episode length: 849\n",
      "06/28/2019 15:18:25 ELBO=-1.58822839e+03 per step at epoch 14\n",
      "06/28/2019 15:18:28 Episode length: 634\n",
      "06/28/2019 15:18:30 ELBO=-1.67215967e+03 per step at epoch 15\n",
      "06/28/2019 15:18:31 Episode length: 179\n",
      "06/28/2019 15:18:32 ELBO=-1.96159998e+03 per step at epoch 16\n",
      "06/28/2019 15:18:34 Episode length: 404\n",
      "06/28/2019 15:18:35 ELBO=-1.64858264e+03 per step at epoch 17\n",
      "06/28/2019 15:18:37 Episode length: 506\n",
      "06/28/2019 15:18:39 ELBO=-1.72982654e+03 per step at epoch 18\n",
      "06/28/2019 15:18:44 Episode length: 1000\n",
      "06/28/2019 15:18:47 ELBO=-1.76318628e+03 per step at epoch 19\n",
      "06/28/2019 15:18:49 Episode length: 425\n",
      "06/28/2019 15:18:51 ELBO=-1.92884180e+03 per step at epoch 20\n",
      "06/28/2019 15:18:52 Episode length: 353\n",
      "06/28/2019 15:18:53 ELBO=-1.84225830e+03 per step at epoch 21\n",
      "06/28/2019 15:18:58 Episode length: 1000\n",
      "06/28/2019 15:19:01 ELBO=-6.66302795e+02 per step at epoch 22\n",
      "06/28/2019 15:19:03 Episode length: 503\n",
      "06/28/2019 15:19:05 ELBO=-1.83940918e+03 per step at epoch 23\n",
      "06/28/2019 15:19:09 Episode length: 828\n",
      "06/28/2019 15:19:12 ELBO=-1.59272083e+03 per step at epoch 24\n",
      "06/28/2019 15:19:14 Episode length: 531\n",
      "06/28/2019 15:19:16 ELBO=-1.73477185e+03 per step at epoch 25\n",
      "06/28/2019 15:19:17 Episode length: 238\n",
      "06/28/2019 15:19:18 ELBO=-1.88952271e+03 per step at epoch 26\n",
      "06/28/2019 15:19:20 Episode length: 429\n",
      "06/28/2019 15:19:22 ELBO=-1.55346851e+03 per step at epoch 27\n",
      "06/28/2019 15:19:23 Episode length: 237\n",
      "06/28/2019 15:19:24 ELBO=-1.76334546e+03 per step at epoch 28\n",
      "06/28/2019 15:19:25 Episode length: 383\n",
      "06/28/2019 15:19:27 ELBO=-1.63245984e+03 per step at epoch 29\n",
      "06/28/2019 15:19:31 Episode length: 1000\n",
      "06/28/2019 15:19:35 ELBO=-9.90768738e+02 per step at epoch 30\n",
      "06/28/2019 15:19:38 Episode length: 807\n",
      "06/28/2019 15:19:41 ELBO=-1.72280640e+03 per step at epoch 31\n",
      "06/28/2019 15:19:42 Episode length: 228\n",
      "06/28/2019 15:19:43 ELBO=-1.56940112e+03 per step at epoch 32\n",
      "06/28/2019 15:19:45 Episode length: 408\n",
      "06/28/2019 15:19:47 ELBO=-1.71140588e+03 per step at epoch 33\n",
      "06/28/2019 15:19:49 Episode length: 545\n",
      "06/28/2019 15:19:51 ELBO=-9.29058838e+02 per step at epoch 34\n",
      "06/28/2019 15:19:53 Episode length: 467\n",
      "06/28/2019 15:19:55 ELBO=-1.63827124e+03 per step at epoch 35\n",
      "06/28/2019 15:19:56 Episode length: 233\n",
      "06/28/2019 15:19:57 ELBO=-1.88466418e+03 per step at epoch 36\n",
      "06/28/2019 15:20:00 Episode length: 820\n",
      "06/28/2019 15:20:03 ELBO=-1.82784583e+03 per step at epoch 37\n",
      "06/28/2019 15:20:05 Episode length: 398\n",
      "06/28/2019 15:20:07 ELBO=-1.69139600e+03 per step at epoch 38\n",
      "06/28/2019 15:20:09 Episode length: 601\n",
      "06/28/2019 15:20:11 ELBO=-1.73079456e+03 per step at epoch 39\n",
      "06/28/2019 15:20:13 Episode length: 438\n",
      "06/28/2019 15:20:15 ELBO=-1.83253809e+03 per step at epoch 40\n",
      "06/28/2019 15:20:16 Episode length: 197\n",
      "06/28/2019 15:20:16 ELBO=-1.77903076e+03 per step at epoch 41\n",
      "06/28/2019 15:20:17 Episode length: 268\n",
      "06/28/2019 15:20:18 ELBO=-1.66810315e+03 per step at epoch 42\n",
      "06/28/2019 15:20:22 Episode length: 950\n",
      "06/28/2019 15:20:26 ELBO=-7.54611023e+02 per step at epoch 43\n",
      "06/28/2019 15:20:29 Episode length: 758\n",
      "06/28/2019 15:20:32 ELBO=-1.69944397e+03 per step at epoch 44\n",
      "06/28/2019 15:20:34 Episode length: 497\n",
      "06/28/2019 15:20:36 ELBO=-1.62027466e+03 per step at epoch 45\n",
      "06/28/2019 15:20:37 Episode length: 376\n",
      "06/28/2019 15:20:39 ELBO=-1.76497339e+03 per step at epoch 46\n",
      "06/28/2019 15:20:41 Episode length: 650\n",
      "06/28/2019 15:20:44 ELBO=-1.77112976e+03 per step at epoch 47\n",
      "06/28/2019 15:20:46 Episode length: 648\n",
      "06/28/2019 15:20:49 ELBO=-1.71707971e+03 per step at epoch 48\n",
      "06/28/2019 15:20:51 Episode length: 509\n",
      "06/28/2019 15:20:53 ELBO=-1.31601245e+03 per step at epoch 49\n",
      "06/28/2019 15:20:54 Episode length: 294\n",
      "06/28/2019 15:20:55 ELBO=-1.64874829e+03 per step at epoch 50\n",
      "06/28/2019 15:20:57 Episode length: 382\n",
      "06/28/2019 15:20:58 ELBO=-1.66341443e+03 per step at epoch 51\n",
      "06/28/2019 15:21:00 Episode length: 454\n",
      "06/28/2019 15:21:01 ELBO=-1.68649609e+03 per step at epoch 52\n",
      "06/28/2019 15:21:03 Episode length: 409\n",
      "06/28/2019 15:21:05 ELBO=-1.81630847e+03 per step at epoch 53\n",
      "06/28/2019 15:21:06 Episode length: 207\n",
      "06/28/2019 15:21:06 ELBO=-2.13111060e+03 per step at epoch 54\n",
      "06/28/2019 15:21:08 Episode length: 300\n",
      "06/28/2019 15:21:09 ELBO=-1.17019568e+03 per step at epoch 55\n",
      "06/28/2019 15:21:10 Episode length: 325\n",
      "06/28/2019 15:21:11 ELBO=-1.77996863e+03 per step at epoch 56\n",
      "06/28/2019 15:21:15 Episode length: 1000\n",
      "06/28/2019 15:21:19 ELBO=-1.73024792e+03 per step at epoch 57\n",
      "06/28/2019 15:21:20 Episode length: 400\n",
      "06/28/2019 15:21:22 ELBO=-1.79116052e+03 per step at epoch 58\n",
      "06/28/2019 15:21:24 Episode length: 500\n",
      "06/28/2019 15:21:26 ELBO=-1.60429309e+03 per step at epoch 59\n",
      "06/28/2019 15:21:30 Episode length: 1000\n",
      "06/28/2019 15:21:34 ELBO=-1.63776892e+03 per step at epoch 60\n",
      "06/28/2019 15:21:35 Episode length: 322\n",
      "06/28/2019 15:21:36 ELBO=-1.90436548e+03 per step at epoch 61\n",
      "06/28/2019 15:21:37 Episode length: 216\n",
      "06/28/2019 15:21:38 ELBO=-1.61535242e+03 per step at epoch 62\n",
      "06/28/2019 15:21:39 Episode length: 167\n",
      "06/28/2019 15:21:39 ELBO=-1.81111157e+03 per step at epoch 63\n",
      "06/28/2019 15:21:41 Episode length: 361\n",
      "06/28/2019 15:21:42 ELBO=-1.79368127e+03 per step at epoch 64\n",
      "06/28/2019 15:21:44 Episode length: 508\n",
      "06/28/2019 15:21:46 ELBO=-1.60990161e+03 per step at epoch 65\n",
      "06/28/2019 15:21:47 Episode length: 387\n",
      "06/28/2019 15:21:49 ELBO=-1.87156897e+03 per step at epoch 66\n",
      "06/28/2019 15:21:50 Episode length: 349\n",
      "06/28/2019 15:21:52 ELBO=-1.67997400e+03 per step at epoch 67\n",
      "06/28/2019 15:21:55 Episode length: 1000\n",
      "06/28/2019 15:21:59 ELBO=-1.71430127e+03 per step at epoch 68\n",
      "06/28/2019 15:22:00 Episode length: 222\n",
      "06/28/2019 15:22:01 ELBO=-1.60171765e+03 per step at epoch 69\n",
      "06/28/2019 15:22:02 Episode length: 244\n",
      "06/28/2019 15:22:03 ELBO=-1.67434302e+03 per step at epoch 70\n",
      "06/28/2019 15:22:04 Episode length: 200\n",
      "06/28/2019 15:22:04 ELBO=-1.91305396e+03 per step at epoch 71\n",
      "06/28/2019 15:22:08 Episode length: 1000\n",
      "06/28/2019 15:22:12 ELBO=-1.24911963e+03 per step at epoch 72\n",
      "06/28/2019 15:22:14 Episode length: 629\n",
      "06/28/2019 15:22:17 ELBO=-1.59457886e+03 per step at epoch 73\n",
      "06/28/2019 15:22:21 Episode length: 960\n",
      "06/28/2019 15:22:24 ELBO=-1.68627039e+03 per step at epoch 74\n",
      "06/28/2019 15:22:26 Episode length: 500\n",
      "06/28/2019 15:22:28 ELBO=-1.72172986e+03 per step at epoch 75\n",
      "06/28/2019 15:22:32 Episode length: 844\n",
      "06/28/2019 15:22:35 ELBO=-1.71468872e+03 per step at epoch 76\n",
      "06/28/2019 15:22:36 Episode length: 277\n",
      "06/28/2019 15:22:37 ELBO=-1.60975525e+03 per step at epoch 77\n",
      "06/28/2019 15:22:38 Episode length: 250\n",
      "06/28/2019 15:22:39 ELBO=-1.71575159e+03 per step at epoch 78\n",
      "06/28/2019 15:22:43 Episode length: 1000\n",
      "06/28/2019 15:22:46 ELBO=-1.68879456e+03 per step at epoch 79\n",
      "06/28/2019 15:22:49 Episode length: 553\n",
      "06/28/2019 15:22:51 ELBO=-1.59510742e+03 per step at epoch 80\n",
      "06/28/2019 15:22:55 Episode length: 938\n",
      "06/28/2019 15:22:58 ELBO=-9.10073120e+02 per step at epoch 81\n",
      "06/28/2019 15:23:00 Episode length: 375\n",
      "06/28/2019 15:23:01 ELBO=-1.90880579e+03 per step at epoch 82\n",
      "06/28/2019 15:23:04 Episode length: 697\n",
      "06/28/2019 15:23:06 ELBO=-1.73950952e+03 per step at epoch 83\n",
      "06/28/2019 15:23:09 Episode length: 601\n",
      "06/28/2019 15:23:11 ELBO=-1.49655676e+03 per step at epoch 84\n",
      "06/28/2019 15:23:13 Episode length: 330\n",
      "06/28/2019 15:23:14 ELBO=-1.67946643e+03 per step at epoch 85\n",
      "06/28/2019 15:23:15 Episode length: 255\n",
      "06/28/2019 15:23:16 ELBO=-1.69829053e+03 per step at epoch 86\n",
      "06/28/2019 15:23:19 Episode length: 757\n",
      "06/28/2019 15:23:22 ELBO=-1.73622229e+03 per step at epoch 87\n",
      "06/28/2019 15:23:26 Episode length: 1000\n",
      "06/28/2019 15:23:29 ELBO=-1.71030591e+03 per step at epoch 88\n",
      "06/28/2019 15:23:32 Episode length: 699\n",
      "06/28/2019 15:23:34 ELBO=-1.69991956e+03 per step at epoch 89\n",
      "06/28/2019 15:23:39 Episode length: 1000\n",
      "06/28/2019 15:23:42 ELBO=-1.65035010e+03 per step at epoch 90\n",
      "06/28/2019 15:23:46 Episode length: 1000\n",
      "06/28/2019 15:23:50 ELBO=-1.37401428e+03 per step at epoch 91\n",
      "06/28/2019 15:23:51 Episode length: 265\n",
      "06/28/2019 15:23:52 ELBO=-1.77987012e+03 per step at epoch 92\n",
      "06/28/2019 15:23:53 Episode length: 244\n",
      "06/28/2019 15:23:54 ELBO=-1.45897363e+03 per step at epoch 93\n",
      "06/28/2019 15:23:57 Episode length: 766\n",
      "06/28/2019 15:24:00 ELBO=-1.41282861e+03 per step at epoch 94\n",
      "06/28/2019 15:24:02 Episode length: 556\n",
      "06/28/2019 15:24:04 ELBO=-1.60813477e+03 per step at epoch 95\n",
      "06/28/2019 15:24:05 Episode length: 258\n",
      "06/28/2019 15:24:06 ELBO=-1.84605115e+03 per step at epoch 96\n",
      "06/28/2019 15:24:09 Episode length: 726\n",
      "06/28/2019 15:24:12 ELBO=-1.67388501e+03 per step at epoch 97\n",
      "06/28/2019 15:24:14 Episode length: 642\n",
      "06/28/2019 15:24:17 ELBO=-9.60292664e+02 per step at epoch 98\n",
      "06/28/2019 15:24:19 Episode length: 665\n",
      "06/28/2019 15:24:22 ELBO=-1.73292871e+03 per step at epoch 99\n",
      "06/28/2019 15:24:23 Episode length: 296\n",
      "06/28/2019 15:24:24 ELBO=-1.87053162e+03 per step at epoch 100\n"
     ]
    }
   ],
   "source": [
    "xi, trained_params, elbos = active.active_variational(episode, 100, lr=1e-3, log_estimator=True, patience=None)"
   ]
  },
  {
   "cell_type": "code",
   "execution_count": 15,
   "metadata": {},
   "outputs": [
    {
     "data": {
      "image/png": "[encoded data removed]",
      "text/plain": [
       "<Figure size 720x720 with 1 Axes>"
      ]
     },
     "metadata": {
      "needs_background": "light"
     },
     "output_type": "display_data"
    }
   ],
   "source": [
    "utils.plot_evidence_bounds(elbos[:, 0].cpu().detach().numpy())"
   ]
  },
  {
   "cell_type": "code",
   "execution_count": 16,
   "metadata": {},
   "outputs": [],
   "source": [
    "(control, prediction, t), graph, log_weight = episode(render=True)"
   ]
  },
  {
   "cell_type": "code",
   "execution_count": 10,
   "metadata": {},
   "outputs": [
    {
     "data": {
      "text/plain": [
       "tensor([[1.4658],\n",
       "        [1.4658],\n",
       "        [1.4658],\n",
       "        [1.4658],\n",
       "        [1.4658],\n",
       "        [1.4658],\n",
       "        [1.4658],\n",
       "        [1.4658],\n",
       "        [1.4658],\n",
       "        [1.4658]], grad_fn=<ExpandBackward>)"
      ]
     },
     "execution_count": 10,
     "metadata": {},
     "output_type": "execute_result"
    }
   ],
   "source": [
    "control"
   ]
  },
  {
   "cell_type": "code",
   "execution_count": 11,
   "metadata": {},
   "outputs": [
    {
     "data": {
      "text/plain": [
       "{'loc': tensor([[-0.0841, -0.0699,  0.2696],\n",
       "         [-0.0745, -0.0702,  0.2657],\n",
       "         [-0.0435, -0.0653,  0.2884],\n",
       "         [-0.0935, -0.0690,  0.2662],\n",
       "         [-0.0649, -0.0704,  0.2702],\n",
       "         [-0.0598, -0.0713,  0.2723],\n",
       "         [-0.0449, -0.0644,  0.2624],\n",
       "         [-0.0512, -0.0609,  0.2794],\n",
       "         [-0.0735, -0.0717,  0.2674],\n",
       "         [-0.0855, -0.0698,  0.2721]], grad_fn=<SelectBackward>),\n",
       " 'scale': tensor([[0.7554, 0.6618, 1.0527],\n",
       "         [0.7556, 0.6429, 1.0290],\n",
       "         [0.7401, 0.6486, 1.1011],\n",
       "         [0.7559, 0.6605, 1.0461],\n",
       "         [0.7539, 0.6442, 1.0443],\n",
       "         [0.7516, 0.6484, 1.0521],\n",
       "         [0.7419, 0.6328, 1.0255],\n",
       "         [0.7409, 0.6443, 1.0680],\n",
       "         [0.7563, 0.6502, 1.0474],\n",
       "         [0.7543, 0.6621, 1.0573]], grad_fn=<SoftplusBackward>)}"
      ]
     },
     "execution_count": 11,
     "metadata": {},
     "output_type": "execute_result"
    }
   ],
   "source": [
    "prediction"
   ]
  },
  {
   "cell_type": "code",
   "execution_count": 12,
   "metadata": {},
   "outputs": [
    {
     "data": {
      "text/plain": [
       "481"
      ]
     },
     "execution_count": 12,
     "metadata": {},
     "output_type": "execute_result"
    }
   ],
   "source": [
    "t"
   ]
  },
  {
   "cell_type": "code",
   "execution_count": 13,
   "metadata": {},
   "outputs": [
    {
     "data": {
      "text/plain": [
       "tensor([  -806375.3750,   -807592.6250,   -806382.3125,   -806258.5000,\n",
       "          -810097.7500,   -806266.1250,   -806290.0000,   -806275.6875,\n",
       "        -67876376.0000,   -806705.6875], grad_fn=<AddBackward0>)"
      ]
     },
     "execution_count": 13,
     "metadata": {},
     "output_type": "execute_result"
    }
   ],
   "source": [
    "log_weight"
   ]
  },
  {
   "cell_type": "code",
   "execution_count": 14,
   "metadata": {},
   "outputs": [],
   "source": [
    "torch.save(agent, 'examples/fep_control/fep_mountain_car_agent.dat')"
   ]
  },
  {
   "cell_type": "code",
   "execution_count": null,
   "metadata": {},
   "outputs": [],
   "source": []
  }
 ],
 "metadata": {
  "kernelspec": {
   "display_name": "Python [conda env:funcytorch] *",
   "language": "python",
   "name": "conda-env-funcytorch-py"
  },
  "language_info": {
   "codemirror_mode": {
    "name": "ipython",
    "version": 3
   },
   "file_extension": ".py",
   "mimetype": "text/x-python",
   "name": "python",
   "nbconvert_exporter": "python",
   "pygments_lexer": "ipython3",
   "version": "3.6.8"
  }
 },
 "nbformat": 4,
 "nbformat_minor": 2
}
