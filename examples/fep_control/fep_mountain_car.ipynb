{
 "cells": [
  {
   "cell_type": "code",
   "execution_count": 1,
   "metadata": {},
   "outputs": [
    {
     "name": "stdout",
     "output_type": "stream",
     "text": [
      "/home/work/AnacondaProjects/combinators\n"
     ]
    }
   ],
   "source": [
    "%cd ../.."
   ]
  },
  {
   "cell_type": "code",
   "execution_count": 2,
   "metadata": {},
   "outputs": [],
   "source": [
    "import logging\n",
    "\n",
    "import numpy as np\n",
    "import probtorch\n",
    "import torch\n",
    "\n",
    "from examples.fep_control import fep_control\n",
    "from combinators.model import active\n",
    "from combinators.model import compose, foldable\n",
    "from combinators.inference import importance\n",
    "from combinators import utils"
   ]
  },
  {
   "cell_type": "code",
   "execution_count": 3,
   "metadata": {},
   "outputs": [],
   "source": [
    "logging.basicConfig(format='%(asctime)s %(message)s', datefmt='%m/%d/%Y %H:%M:%S',\n",
    "                    level=logging.INFO)"
   ]
  },
  {
   "cell_type": "code",
   "execution_count": 4,
   "metadata": {},
   "outputs": [],
   "source": [
    "target = fep_control.MountainCarAgent(observation_dim=2, state_dim=2, batch_shape=(10,), trainable=False)\n",
    "proposal = fep_control.RecognitionAgent(state_dim=2, action_dim=1, observation_dim=2, batch_shape=(10,),\n",
    "                                        discrete_actions=False, name='MountainCarAgent', trainable=True,\n",
    "                                        goal=target.goal)\n",
    "agent = importance.propose(target, proposal)"
   ]
  },
  {
   "cell_type": "code",
   "execution_count": 5,
   "metadata": {},
   "outputs": [],
   "source": [
    "episode = active.ActiveEpisode(agent, 'MountainCarContinuous-v0')"
   ]
  },
  {
   "cell_type": "code",
   "execution_count": 6,
   "metadata": {},
   "outputs": [],
   "source": [
    "theta, graph, log_weight = episode(render=True)"
   ]
  },
  {
   "cell_type": "code",
   "execution_count": 7,
   "metadata": {},
   "outputs": [
    {
     "name": "stderr",
     "output_type": "stream",
     "text": [
      "07/11/2019 13:49:42 Episode length: 1000\n",
      "07/11/2019 13:49:44 ELBO=-2.17968170e+02 per step at epoch 1\n",
      "07/11/2019 13:49:47 Episode length: 404\n",
      "07/11/2019 13:49:49 ELBO=-2.13514984e+02 per step at epoch 2\n",
      "07/11/2019 13:49:51 Episode length: 332\n",
      "07/11/2019 13:49:53 ELBO=-1.90134232e+02 per step at epoch 3\n",
      "07/11/2019 13:49:55 Episode length: 319\n",
      "07/11/2019 13:49:56 ELBO=-1.88786301e+02 per step at epoch 4\n",
      "07/11/2019 13:50:03 Episode length: 1000\n",
      "07/11/2019 13:50:06 ELBO=-1.83310486e+02 per step at epoch 5\n",
      "07/11/2019 13:50:12 Episode length: 1000\n",
      "07/11/2019 13:50:16 ELBO=-1.68770538e+02 per step at epoch 6\n",
      "07/11/2019 13:50:22 Episode length: 1000\n",
      "07/11/2019 13:50:26 ELBO=-1.67256500e+02 per step at epoch 7\n",
      "07/11/2019 13:50:31 Episode length: 778\n",
      "07/11/2019 13:50:34 ELBO=-1.59012177e+02 per step at epoch 8\n",
      "07/11/2019 13:50:37 Episode length: 516\n",
      "07/11/2019 13:50:39 ELBO=-1.54756210e+02 per step at epoch 9\n",
      "07/11/2019 13:50:44 Episode length: 819\n",
      "07/11/2019 13:50:47 ELBO=-1.47274246e+02 per step at epoch 10\n"
     ]
    }
   ],
   "source": [
    "xi, trained_params, elbos = active.active_variational(episode, 10, lr=1e-2, log_estimator=True, patience=None)"
   ]
  },
  {
   "cell_type": "code",
   "execution_count": 8,
   "metadata": {},
   "outputs": [
    {
     "data": {
      "image/png": "[encoded data removed]",
      "text/plain": [
       "<Figure size 720x720 with 1 Axes>"
      ]
     },
     "metadata": {
      "needs_background": "light"
     },
     "output_type": "display_data"
    }
   ],
   "source": [
    "utils.plot_evidence_bounds(elbos[:, 0].cpu().detach().numpy())"
   ]
  },
  {
   "cell_type": "code",
   "execution_count": 9,
   "metadata": {},
   "outputs": [],
   "source": [
    "theta, graph, log_weight = episode(render=True)"
   ]
  },
  {
   "cell_type": "code",
   "execution_count": 10,
   "metadata": {},
   "outputs": [
    {
     "data": {
      "text/plain": [
       "{'dynamics': tensor([[0.4213, 0.0570],\n",
       "         [0.4223, 0.0639],\n",
       "         [0.3986, 0.0607],\n",
       "         [0.4120, 0.0599],\n",
       "         [0.3913, 0.0596],\n",
       "         [0.4527, 0.0542],\n",
       "         [0.4097, 0.0601],\n",
       "         [0.4090, 0.0625],\n",
       "         [0.3999, 0.0608],\n",
       "         [0.4118, 0.0638]], grad_fn=<AddmmBackward>), 'control': tensor([[1.],\n",
       "         [1.],\n",
       "         [1.],\n",
       "         [1.],\n",
       "         [1.],\n",
       "         [1.],\n",
       "         [1.],\n",
       "         [1.],\n",
       "         [1.],\n",
       "         [1.]], grad_fn=<HardtanhBackward0>), 't': 628}"
      ]
     },
     "execution_count": 10,
     "metadata": {},
     "output_type": "execute_result"
    }
   ],
   "source": [
    "theta"
   ]
  },
  {
   "cell_type": "code",
   "execution_count": 11,
   "metadata": {},
   "outputs": [
    {
     "data": {
      "text/plain": [
       "tensor([ -91748.0469, -100284.3984,  -95216.3125,  -93318.7266,  -91142.9375,\n",
       "         -89414.2656,  -93858.3438,  -90241.8281,  -90313.5781,  -89801.6172],\n",
       "       grad_fn=<AddBackward0>)"
      ]
     },
     "execution_count": 11,
     "metadata": {},
     "output_type": "execute_result"
    }
   ],
   "source": [
    "log_weight"
   ]
  },
  {
   "cell_type": "code",
   "execution_count": 12,
   "metadata": {},
   "outputs": [],
   "source": [
    "torch.save(agent, 'examples/fep_control/fep_mountain_car_agent.dat')"
   ]
  },
  {
   "cell_type": "code",
   "execution_count": null,
   "metadata": {},
   "outputs": [],
   "source": []
  }
 ],
 "metadata": {
  "kernelspec": {
   "display_name": "Python [conda env:funcytorch] *",
   "language": "python",
   "name": "conda-env-funcytorch-py"
  },
  "language_info": {
   "codemirror_mode": {
    "name": "ipython",
    "version": 3
   },
   "file_extension": ".py",
   "mimetype": "text/x-python",
   "name": "python",
   "nbconvert_exporter": "python",
   "pygments_lexer": "ipython3",
   "version": "3.7.3"
  }
 },
 "nbformat": 4,
 "nbformat_minor": 2
}
