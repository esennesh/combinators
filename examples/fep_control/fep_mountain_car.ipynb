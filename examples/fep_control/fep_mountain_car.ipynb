{
 "cells": [
  {
   "cell_type": "code",
   "execution_count": 1,
   "metadata": {},
   "outputs": [
    {
     "name": "stdout",
     "output_type": "stream",
     "text": [
      "/home/work/AnacondaProjects/combinators\n"
     ]
    }
   ],
   "source": [
    "%cd ../.."
   ]
  },
  {
   "cell_type": "code",
   "execution_count": 2,
   "metadata": {},
   "outputs": [],
   "source": [
    "import logging\n",
    "\n",
    "import numpy as np\n",
    "import probtorch\n",
    "import torch\n",
    "\n",
    "from examples.fep_control import fep_control\n",
    "from combinators.model import active\n",
    "from combinators.model import compose, foldable\n",
    "from combinators.inference import importance\n",
    "from combinators import utils"
   ]
  },
  {
   "cell_type": "code",
   "execution_count": 3,
   "metadata": {},
   "outputs": [],
   "source": [
    "logging.basicConfig(format='%(asctime)s %(message)s', datefmt='%m/%d/%Y %H:%M:%S',\n",
    "                    level=logging.INFO)"
   ]
  },
  {
   "cell_type": "code",
   "execution_count": 4,
   "metadata": {},
   "outputs": [],
   "source": [
    "target_actor = fep_control.MountainCarActor(state_dim=2, batch_shape=(1,), trainable=False)\n",
    "target_observer = fep_control.GenerativeObserver(observation_dim=2, batch_shape=(1,), trainable=False)\n",
    "target = compose(target_observer, target_actor)\n",
    "\n",
    "proposal_actor = fep_control.RecognitionActor(state_dim=2, action_dim=1, observation_dim=2, batch_shape=(1,),\n",
    "                                              discrete_actions=False, name='MountainCarActor', trainable=True)\n",
    "proposal_encoder = fep_control.RecognitionEncoder(state_dim=2, observation_dim=2, batch_shape=(1,), trainable=True)\n",
    "proposal = compose(proposal_encoder, proposal_actor)\n",
    "\n",
    "agent = importance.propose(target, proposal)"
   ]
  },
  {
   "cell_type": "code",
   "execution_count": 5,
   "metadata": {},
   "outputs": [],
   "source": [
    "theta, graph, log_weight = active.active_inference_test(agent, 'MountainCarContinuous-v0', online_inference=False, iterations=1000)"
   ]
  },
  {
   "cell_type": "code",
   "execution_count": 6,
   "metadata": {},
   "outputs": [
    {
     "name": "stderr",
     "output_type": "stream",
     "text": [
      "06/06/2019 16:47:10 ELBO=-1.09549367e+05 at episode 0 of length 1000\n",
      "06/06/2019 16:47:23 ELBO=-6.49738984e+04 at episode 1 of length 1000\n",
      "06/06/2019 16:47:35 ELBO=-2.22765273e+04 at episode 2 of length 303\n",
      "06/06/2019 16:47:48 ELBO=-9.49189453e+03 at episode 3 of length 1000\n",
      "06/06/2019 16:48:01 ELBO=-8.50049512e+03 at episode 4 of length 370\n",
      "06/06/2019 16:48:15 ELBO=-3.39635078e+04 at episode 5 of length 979\n",
      "06/06/2019 16:48:28 ELBO=-2.39988223e+04 at episode 6 of length 1000\n",
      "06/06/2019 16:48:41 ELBO=-1.21972783e+04 at episode 7 of length 1000\n",
      "06/06/2019 16:48:54 ELBO=-5.92782129e+03 at episode 8 of length 700\n",
      "06/06/2019 16:49:07 ELBO=-4.70251904e+03 at episode 9 of length 273\n",
      "06/06/2019 16:49:20 ELBO=-6.60590381e+03 at episode 10 of length 542\n",
      "06/06/2019 16:49:33 ELBO=-9.70266895e+03 at episode 11 of length 770\n",
      "06/06/2019 16:49:44 ELBO=-9.56446680e+03 at episode 12 of length 666\n",
      "06/06/2019 16:49:54 ELBO=-7.82974268e+03 at episode 13 of length 337\n",
      "06/06/2019 16:50:05 ELBO=-1.26402148e+04 at episode 14 of length 1000\n",
      "06/06/2019 16:50:16 ELBO=-9.07050391e+03 at episode 15 of length 819\n",
      "06/06/2019 16:50:27 ELBO=-8.79979102e+03 at episode 16 of length 1000\n",
      "06/06/2019 16:50:38 ELBO=-7.89456738e+03 at episode 17 of length 1000\n",
      "06/06/2019 16:50:49 ELBO=-5.27927832e+03 at episode 18 of length 1000\n",
      "06/06/2019 16:51:00 ELBO=-3.56190747e+03 at episode 19 of length 1000\n",
      "06/06/2019 16:51:11 ELBO=-4.47288428e+03 at episode 20 of length 764\n",
      "06/06/2019 16:51:22 ELBO=-6.81758740e+03 at episode 21 of length 256\n",
      "06/06/2019 16:51:33 ELBO=-9.38925000e+03 at episode 22 of length 1000\n",
      "06/06/2019 16:51:45 ELBO=-6.96114355e+03 at episode 23 of length 1000\n",
      "06/06/2019 16:51:58 ELBO=-5.46072510e+03 at episode 24 of length 1000\n",
      "06/06/2019 16:52:10 ELBO=-4.70413916e+03 at episode 25 of length 1000\n",
      "06/06/2019 16:52:21 ELBO=-5.97644678e+03 at episode 26 of length 1000\n",
      "06/06/2019 16:52:32 ELBO=-4.54017725e+03 at episode 27 of length 1000\n",
      "06/06/2019 16:52:43 ELBO=-5.71306348e+03 at episode 28 of length 675\n",
      "06/06/2019 16:52:54 ELBO=-5.77086963e+03 at episode 29 of length 1000\n",
      "06/06/2019 16:53:05 ELBO=-4.86980078e+03 at episode 30 of length 1000\n",
      "06/06/2019 16:53:16 ELBO=-8.45144531e+03 at episode 31 of length 909\n",
      "06/06/2019 16:53:29 ELBO=-4.50674707e+03 at episode 32 of length 1000\n",
      "06/06/2019 16:53:41 ELBO=-4.31691016e+03 at episode 33 of length 1000\n",
      "06/06/2019 16:53:53 ELBO=-4.82685791e+03 at episode 34 of length 798\n",
      "06/06/2019 16:54:04 ELBO=-4.05261108e+03 at episode 35 of length 519\n",
      "06/06/2019 16:54:15 ELBO=-3.91148291e+03 at episode 36 of length 961\n",
      "06/06/2019 16:54:26 ELBO=-5.77488867e+03 at episode 37 of length 815\n",
      "06/06/2019 16:54:38 ELBO=-4.12298193e+03 at episode 38 of length 963\n",
      "06/06/2019 16:54:49 ELBO=-3.84933569e+03 at episode 39 of length 1000\n",
      "06/06/2019 16:55:00 ELBO=-4.13843359e+03 at episode 40 of length 777\n",
      "06/06/2019 16:55:11 ELBO=-3.82200879e+03 at episode 41 of length 803\n",
      "06/06/2019 16:55:22 ELBO=-4.38963428e+03 at episode 42 of length 1000\n",
      "06/06/2019 16:55:34 ELBO=-3.47741602e+03 at episode 43 of length 1000\n",
      "06/06/2019 16:55:45 ELBO=-4.33853320e+03 at episode 44 of length 1000\n",
      "06/06/2019 16:55:57 ELBO=-3.29744995e+03 at episode 45 of length 885\n",
      "06/06/2019 16:56:08 ELBO=-3.57994678e+03 at episode 46 of length 1000\n",
      "06/06/2019 16:56:19 ELBO=-3.24799048e+03 at episode 47 of length 1000\n",
      "06/06/2019 16:56:31 ELBO=-3.88550195e+03 at episode 48 of length 805\n",
      "06/06/2019 16:56:42 ELBO=-4.04384692e+03 at episode 49 of length 986\n",
      "06/06/2019 16:56:53 ELBO=-5.81061523e+03 at episode 50 of length 475\n",
      "06/06/2019 16:57:05 ELBO=-3.54276538e+03 at episode 51 of length 859\n",
      "06/06/2019 16:57:20 ELBO=-3.76035059e+03 at episode 52 of length 767\n",
      "06/06/2019 16:57:33 ELBO=-3.34028589e+03 at episode 53 of length 1000\n",
      "06/06/2019 16:57:46 ELBO=-4.58268164e+03 at episode 54 of length 266\n",
      "06/06/2019 16:58:00 ELBO=-3.32048828e+03 at episode 55 of length 1000\n",
      "06/06/2019 16:58:13 ELBO=-3.94181665e+03 at episode 56 of length 667\n",
      "06/06/2019 16:58:26 ELBO=-4.24892773e+03 at episode 57 of length 354\n",
      "06/06/2019 16:58:40 ELBO=-4.35684668e+03 at episode 58 of length 333\n",
      "06/06/2019 16:58:53 ELBO=-4.10601465e+03 at episode 59 of length 596\n",
      "06/06/2019 16:59:06 ELBO=-3.61956714e+03 at episode 60 of length 1000\n",
      "06/06/2019 16:59:20 ELBO=-4.70179932e+03 at episode 61 of length 522\n",
      "06/06/2019 16:59:33 ELBO=-3.50421069e+03 at episode 62 of length 874\n",
      "06/06/2019 16:59:46 ELBO=-4.21701611e+03 at episode 63 of length 348\n",
      "06/06/2019 17:00:00 ELBO=-3.29497681e+03 at episode 64 of length 1000\n",
      "06/06/2019 17:00:13 ELBO=-3.36351099e+03 at episode 65 of length 1000\n",
      "06/06/2019 17:00:27 ELBO=-3.21374146e+03 at episode 66 of length 1000\n",
      "06/06/2019 17:00:40 ELBO=-3.34092139e+03 at episode 67 of length 1000\n",
      "06/06/2019 17:00:53 ELBO=-3.55338672e+03 at episode 68 of length 1000\n",
      "06/06/2019 17:01:07 ELBO=-3.17639355e+03 at episode 69 of length 1000\n",
      "06/06/2019 17:01:20 ELBO=-3.93291968e+03 at episode 70 of length 1000\n",
      "06/06/2019 17:01:34 ELBO=-3.41267505e+03 at episode 71 of length 1000\n",
      "06/06/2019 17:01:48 ELBO=-4.23280127e+03 at episode 72 of length 807\n",
      "06/06/2019 17:02:02 ELBO=-3.23082324e+03 at episode 73 of length 1000\n",
      "06/06/2019 17:02:16 ELBO=-3.39216577e+03 at episode 74 of length 902\n",
      "06/06/2019 17:02:29 ELBO=-4.16953760e+03 at episode 75 of length 1000\n",
      "06/06/2019 17:02:43 ELBO=-3.76939087e+03 at episode 76 of length 774\n",
      "06/06/2019 17:02:58 ELBO=-4.31902539e+03 at episode 77 of length 937\n",
      "06/06/2019 17:03:13 ELBO=-3.51876929e+03 at episode 78 of length 1000\n",
      "06/06/2019 17:03:28 ELBO=-4.40892236e+03 at episode 79 of length 213\n",
      "06/06/2019 17:03:40 ELBO=-4.38128369e+03 at episode 80 of length 299\n",
      "06/06/2019 17:03:53 ELBO=-4.20374268e+03 at episode 81 of length 345\n",
      "06/06/2019 17:04:06 ELBO=-3.88242188e+03 at episode 82 of length 785\n",
      "06/06/2019 17:04:20 ELBO=-3.92099048e+03 at episode 83 of length 521\n",
      "06/06/2019 17:04:33 ELBO=-3.47034399e+03 at episode 84 of length 1000\n",
      "06/06/2019 17:04:46 ELBO=-4.73160645e+03 at episode 85 of length 296\n",
      "06/06/2019 17:04:59 ELBO=-3.91763208e+03 at episode 86 of length 798\n",
      "06/06/2019 17:05:12 ELBO=-3.66569751e+03 at episode 87 of length 1000\n",
      "06/06/2019 17:05:25 ELBO=-3.18638013e+03 at episode 88 of length 1000\n",
      "06/06/2019 17:05:38 ELBO=-4.57828711e+03 at episode 89 of length 243\n",
      "06/06/2019 17:05:52 ELBO=-3.19639185e+03 at episode 90 of length 1000\n",
      "06/06/2019 17:06:05 ELBO=-3.79389722e+03 at episode 91 of length 647\n",
      "06/06/2019 17:06:18 ELBO=-3.35701147e+03 at episode 92 of length 1000\n",
      "06/06/2019 17:06:31 ELBO=-3.64269897e+03 at episode 93 of length 619\n",
      "06/06/2019 17:06:44 ELBO=-3.11247266e+03 at episode 94 of length 1000\n",
      "06/06/2019 17:06:57 ELBO=-3.19363696e+03 at episode 95 of length 1000\n",
      "06/06/2019 17:07:11 ELBO=-6.59432666e+03 at episode 96 of length 1000\n",
      "06/06/2019 17:07:24 ELBO=-3.88994775e+03 at episode 97 of length 494\n",
      "06/06/2019 17:07:37 ELBO=-4.01310278e+03 at episode 98 of length 467\n",
      "06/06/2019 17:07:50 ELBO=-4.11199463e+03 at episode 99 of length 472\n"
     ]
    }
   ],
   "source": [
    "theta, graph, log_weight = active.active_inference(agent, 'MountainCarContinuous-v0', lr=1e-2, episodes=100, episode_length=1000, dream=False)"
   ]
  },
  {
   "cell_type": "code",
   "execution_count": 7,
   "metadata": {},
   "outputs": [
    {
     "data": {
      "text/plain": [
       "tensor([-4111.9946], device='cuda:0', grad_fn=<AddBackward0>)"
      ]
     },
     "execution_count": 7,
     "metadata": {},
     "output_type": "execute_result"
    }
   ],
   "source": [
    "log_weight"
   ]
  },
  {
   "cell_type": "code",
   "execution_count": 12,
   "metadata": {},
   "outputs": [],
   "source": [
    "theta, graph, log_weight = active.active_inference_test(agent, 'MountainCarContinuous-v0', online_inference=False, iterations=1000)"
   ]
  },
  {
   "cell_type": "code",
   "execution_count": 9,
   "metadata": {},
   "outputs": [
    {
     "data": {
      "text/plain": [
       "(tensor([[0.1552, 0.2662]], device='cuda:0', grad_fn=<AddBackward0>),\n",
       " tensor([[0.8682]], device='cuda:0', grad_fn=<AddBackward0>))"
      ]
     },
     "execution_count": 9,
     "metadata": {},
     "output_type": "execute_result"
    }
   ],
   "source": [
    "theta"
   ]
  },
  {
   "cell_type": "code",
   "execution_count": 10,
   "metadata": {},
   "outputs": [
    {
     "data": {
      "text/plain": [
       "tensor([-3030.3499], device='cuda:0', grad_fn=<AddBackward0>)"
      ]
     },
     "execution_count": 10,
     "metadata": {},
     "output_type": "execute_result"
    }
   ],
   "source": [
    "log_weight"
   ]
  },
  {
   "cell_type": "code",
   "execution_count": 11,
   "metadata": {},
   "outputs": [],
   "source": [
    "torch.save(agent, 'examples/fep_control/fep_mountain_car_agent.dat')"
   ]
  },
  {
   "cell_type": "code",
   "execution_count": null,
   "metadata": {},
   "outputs": [],
   "source": []
  }
 ],
 "metadata": {
  "kernelspec": {
   "display_name": "funcytorch",
   "language": "python",
   "name": "funcytorch"
  },
  "language_info": {
   "codemirror_mode": {
    "name": "ipython",
    "version": 3
   },
   "file_extension": ".py",
   "mimetype": "text/x-python",
   "name": "python",
   "nbconvert_exporter": "python",
   "pygments_lexer": "ipython3",
   "version": "3.6.5"
  }
 },
 "nbformat": 4,
 "nbformat_minor": 2
}
