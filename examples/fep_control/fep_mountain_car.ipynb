{
 "cells": [
  {
   "cell_type": "code",
   "execution_count": 1,
   "metadata": {},
   "outputs": [
    {
     "name": "stdout",
     "output_type": "stream",
     "text": [
      "/home/work/AnacondaProjects/combinators\n"
     ]
    }
   ],
   "source": [
    "%cd ../.."
   ]
  },
  {
   "cell_type": "code",
   "execution_count": 2,
   "metadata": {},
   "outputs": [],
   "source": [
    "import logging\n",
    "\n",
    "import numpy as np\n",
    "import probtorch\n",
    "import torch\n",
    "\n",
    "from examples.fep_control import fep_control\n",
    "from combinators.model import active\n",
    "from combinators.model import compose, foldable\n",
    "from combinators.inference import importance\n",
    "from combinators import utils"
   ]
  },
  {
   "cell_type": "code",
   "execution_count": 3,
   "metadata": {},
   "outputs": [],
   "source": [
    "logging.basicConfig(format='%(asctime)s %(message)s', datefmt='%m/%d/%Y %H:%M:%S',\n",
    "                    level=logging.INFO)"
   ]
  },
  {
   "cell_type": "code",
   "execution_count": 4,
   "metadata": {},
   "outputs": [],
   "source": [
    "target_actor = fep_control.MountainCarActor(state_dim=2, batch_shape=(1,), trainable=False)\n",
    "target_observer = fep_control.GenerativeObserver(observation_dim=2, batch_shape=(1,), trainable=False)\n",
    "\n",
    "proposal_actor = fep_control.RecognitionActor(state_dim=2, observation_dim=2, batch_shape=(1,), discrete_actions=False,\n",
    "                                              name='MountainCarActor', trainable=True)\n",
    "proposal_encoder = fep_control.RecognitionEncoder(state_dim=2, observation_dim=2, batch_shape=(1,), trainable=True)\n",
    "\n",
    "actor = importance.propose(target_actor, proposal_actor)\n",
    "observer = importance.propose(target_observer, proposal_encoder)\n",
    "\n",
    "agent = compose(observer, actor)"
   ]
  },
  {
   "cell_type": "code",
   "execution_count": 5,
   "metadata": {},
   "outputs": [],
   "source": [
    "theta, graph, log_weight = active.active_inference_test(agent, 'MountainCarContinuous-v0', online_inference=False, iterations=1000)"
   ]
  },
  {
   "cell_type": "code",
   "execution_count": 6,
   "metadata": {},
   "outputs": [
    {
     "name": "stderr",
     "output_type": "stream",
     "text": [
      "05/31/2019 12:00:51 ELBO=-2.64198496e+04 at episode 0 of length 1000\n",
      "05/31/2019 12:00:57 ELBO=-1.03526279e+04 at episode 1 of length 317\n",
      "05/31/2019 12:01:05 ELBO=-2.73290594e+05 at episode 2 of length 1000\n",
      "05/31/2019 12:01:13 ELBO=-1.97716191e+04 at episode 3 of length 1000\n",
      "05/31/2019 12:01:21 ELBO=-2.31757891e+04 at episode 4 of length 1000\n",
      "05/31/2019 12:01:28 ELBO=-1.62074121e+04 at episode 5 of length 180\n",
      "05/31/2019 12:01:36 ELBO=-8.67365430e+03 at episode 6 of length 186\n",
      "05/31/2019 12:01:43 ELBO=-7.21401562e+03 at episode 7 of length 240\n",
      "05/31/2019 12:01:51 ELBO=-6.83507812e+03 at episode 8 of length 247\n",
      "05/31/2019 12:01:58 ELBO=-5.72624561e+03 at episode 9 of length 135\n"
     ]
    }
   ],
   "source": [
    "theta, graph, log_weight = active.active_inference(agent, 'MountainCarContinuous-v0', lr=1e-2, episodes=10, episode_length=1000, dream=False)"
   ]
  },
  {
   "cell_type": "code",
   "execution_count": 7,
   "metadata": {},
   "outputs": [
    {
     "data": {
      "text/plain": [
       "tensor([-5726.2456], grad_fn=<AddBackward0>)"
      ]
     },
     "execution_count": 7,
     "metadata": {},
     "output_type": "execute_result"
    }
   ],
   "source": [
    "log_weight"
   ]
  },
  {
   "cell_type": "code",
   "execution_count": 8,
   "metadata": {},
   "outputs": [],
   "source": [
    "theta, graph, log_weight = active.active_inference_test(agent, 'MountainCarContinuous-v0', online_inference=False, iterations=1000)"
   ]
  },
  {
   "cell_type": "code",
   "execution_count": 9,
   "metadata": {},
   "outputs": [
    {
     "data": {
      "text/plain": [
       "(tensor([[-2.1389, -0.5148]], grad_fn=<AddBackward0>),\n",
       " tensor([[0.3280]], grad_fn=<AddBackward0>))"
      ]
     },
     "execution_count": 9,
     "metadata": {},
     "output_type": "execute_result"
    }
   ],
   "source": [
    "theta"
   ]
  },
  {
   "cell_type": "code",
   "execution_count": 10,
   "metadata": {},
   "outputs": [
    {
     "data": {
      "text/plain": [
       "tensor([-7796.7012], grad_fn=<AddBackward0>)"
      ]
     },
     "execution_count": 10,
     "metadata": {},
     "output_type": "execute_result"
    }
   ],
   "source": [
    "log_weight"
   ]
  },
  {
   "cell_type": "code",
   "execution_count": 11,
   "metadata": {},
   "outputs": [],
   "source": [
    "torch.save(agent, 'examples/fep_control/fep_mountain_car_agent.dat')"
   ]
  },
  {
   "cell_type": "code",
   "execution_count": null,
   "metadata": {},
   "outputs": [],
   "source": []
  }
 ],
 "metadata": {
  "kernelspec": {
   "display_name": "Python [conda env:funcytorch] *",
   "language": "python",
   "name": "conda-env-funcytorch-py"
  },
  "language_info": {
   "codemirror_mode": {
    "name": "ipython",
    "version": 3
   },
   "file_extension": ".py",
   "mimetype": "text/x-python",
   "name": "python",
   "nbconvert_exporter": "python",
   "pygments_lexer": "ipython3",
   "version": "3.7.3"
  }
 },
 "nbformat": 4,
 "nbformat_minor": 2
}
