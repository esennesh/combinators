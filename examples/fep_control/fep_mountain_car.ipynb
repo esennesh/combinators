{
 "cells": [
  {
   "cell_type": "code",
   "execution_count": 1,
   "metadata": {},
   "outputs": [
    {
     "name": "stdout",
     "output_type": "stream",
     "text": [
      "/home/eli/AnacondaProjects/combinators\n"
     ]
    }
   ],
   "source": [
    "%cd ../.."
   ]
  },
  {
   "cell_type": "code",
   "execution_count": 2,
   "metadata": {},
   "outputs": [],
   "source": [
    "import logging\n",
    "\n",
    "import numpy as np\n",
    "import probtorch\n",
    "import torch\n",
    "\n",
    "from examples.fep_control import fep_control\n",
    "from combinators.model import active\n",
    "from combinators.model import compose, foldable\n",
    "from combinators.inference import importance\n",
    "from combinators import utils"
   ]
  },
  {
   "cell_type": "code",
   "execution_count": 3,
   "metadata": {},
   "outputs": [],
   "source": [
    "logging.basicConfig(format='%(asctime)s %(message)s', datefmt='%m/%d/%Y %H:%M:%S',\n",
    "                    level=logging.INFO)"
   ]
  },
  {
   "cell_type": "code",
   "execution_count": 4,
   "metadata": {},
   "outputs": [],
   "source": [
    "target = fep_control.MountainCarAgent(observation_dim=2, state_dim=2, batch_shape=(10,), trainable=False)\n",
    "proposal = fep_control.RecognitionAgent(state_dim=2, action_dim=1, observation_dim=2, batch_shape=(10,),\n",
    "                                        discrete_actions=False, name='MountainCarAgent', trainable=True,\n",
    "                                        goal=target.goal)\n",
    "agent = importance.propose(target, proposal)"
   ]
  },
  {
   "cell_type": "code",
   "execution_count": 5,
   "metadata": {},
   "outputs": [],
   "source": [
    "episode = active.ActiveEpisode(agent, 'MountainCarContinuous-v0')"
   ]
  },
  {
   "cell_type": "code",
   "execution_count": 6,
   "metadata": {},
   "outputs": [],
   "source": [
    "theta, graph, log_weight = episode(render=True)"
   ]
  },
  {
   "cell_type": "code",
   "execution_count": 7,
   "metadata": {},
   "outputs": [
    {
     "name": "stderr",
     "output_type": "stream",
     "text": [
      "11/08/2019 15:13:37 Episode length: 992\n",
      "11/08/2019 15:13:44 Episode length: 1000\n",
      "11/08/2019 15:13:50 ELBO=-2.37657928e+02 per step at epoch 1\n",
      "11/08/2019 15:13:55 Episode length: 768\n",
      "11/08/2019 15:14:00 ELBO=-2.30177078e+02 per step at epoch 2\n",
      "11/08/2019 15:14:07 Episode length: 1000\n",
      "11/08/2019 15:14:13 ELBO=-2.11793762e+02 per step at epoch 3\n",
      "11/08/2019 15:14:18 Episode length: 779\n",
      "11/08/2019 15:14:23 ELBO=-2.07499466e+02 per step at epoch 4\n",
      "11/08/2019 15:14:26 Episode length: 297\n",
      "11/08/2019 15:14:28 ELBO=-1.83879105e+02 per step at epoch 5\n",
      "11/08/2019 15:14:32 Episode length: 716\n",
      "11/08/2019 15:14:37 ELBO=-1.78403244e+02 per step at epoch 6\n",
      "11/08/2019 15:14:39 Episode length: 314\n",
      "11/08/2019 15:14:41 ELBO=-1.75077591e+02 per step at epoch 7\n",
      "11/08/2019 15:14:46 Episode length: 703\n",
      "11/08/2019 15:14:50 ELBO=-1.57911102e+02 per step at epoch 8\n",
      "11/08/2019 15:14:55 Episode length: 696\n",
      "11/08/2019 15:14:59 ELBO=-1.48472458e+02 per step at epoch 9\n",
      "11/08/2019 15:15:04 Episode length: 739\n",
      "11/08/2019 15:15:09 ELBO=-1.38287354e+02 per step at epoch 10\n"
     ]
    }
   ],
   "source": [
    "xi, elbos = active.active_variational(episode, 10, lr=1e-2, log_estimator=True, patience=None)"
   ]
  },
  {
   "cell_type": "code",
   "execution_count": 8,
   "metadata": {},
   "outputs": [
    {
     "data": {
      "image/png": "[encoded data removed]",
      "text/plain": [
       "<Figure size 720x720 with 1 Axes>"
      ]
     },
     "metadata": {
      "needs_background": "light"
     },
     "output_type": "display_data"
    }
   ],
   "source": [
    "utils.plot_evidence_bounds(elbos[:, 0].cpu().detach().numpy())"
   ]
  },
  {
   "cell_type": "code",
   "execution_count": 9,
   "metadata": {},
   "outputs": [],
   "source": [
    "theta, graph, log_weight = episode(render=True)"
   ]
  },
  {
   "cell_type": "code",
   "execution_count": 10,
   "metadata": {},
   "outputs": [
    {
     "data": {
      "text/plain": [
       "{'dynamics': tensor([[-0.8564,  0.1956],\n",
       "         [-0.8698,  0.0809],\n",
       "         [-0.8792,  0.0523],\n",
       "         [-0.8967,  0.0870],\n",
       "         [-0.8136,  0.0475],\n",
       "         [-0.8810,  0.0740],\n",
       "         [-0.8650,  0.0621],\n",
       "         [-0.8577,  0.0881],\n",
       "         [-0.8423,  0.0714],\n",
       "         [-0.8678,  0.1140]], grad_fn=<AddmmBackward>),\n",
       " 'control': tensor([[-0.4726],\n",
       "         [-0.4726],\n",
       "         [-0.4726],\n",
       "         [-0.4726],\n",
       "         [-0.4726],\n",
       "         [-0.4726],\n",
       "         [-0.4726],\n",
       "         [-0.4726],\n",
       "         [-0.4726],\n",
       "         [-0.4726]], grad_fn=<HardtanhBackward0>),\n",
       " 't': 969}"
      ]
     },
     "execution_count": 10,
     "metadata": {},
     "output_type": "execute_result"
    }
   ],
   "source": [
    "theta"
   ]
  },
  {
   "cell_type": "code",
   "execution_count": 11,
   "metadata": {},
   "outputs": [
    {
     "data": {
      "text/plain": [
       "tensor([-128215.6484, -132631.1875, -123350.6094, -123364.4609, -121481.8203,\n",
       "        -127287.8125, -124221.4219, -126753.8203, -128652.0938, -123636.1953],\n",
       "       grad_fn=<AddBackward0>)"
      ]
     },
     "execution_count": 11,
     "metadata": {},
     "output_type": "execute_result"
    }
   ],
   "source": [
    "log_weight"
   ]
  },
  {
   "cell_type": "code",
   "execution_count": 12,
   "metadata": {},
   "outputs": [
    {
     "name": "stderr",
     "output_type": "stream",
     "text": [
      "/home/eli/anaconda3/envs/funcytorch/lib/python3.6/site-packages/torch/serialization.py:292: UserWarning: Couldn't retrieve source code for container of type Propose. It won't be checked for correctness upon loading.\n",
      "  \"type \" + obj.__name__ + \". It won't be checked \"\n",
      "/home/eli/anaconda3/envs/funcytorch/lib/python3.6/site-packages/torch/serialization.py:292: UserWarning: Couldn't retrieve source code for container of type MountainCarAgent. It won't be checked for correctness upon loading.\n",
      "  \"type \" + obj.__name__ + \". It won't be checked \"\n",
      "/home/eli/anaconda3/envs/funcytorch/lib/python3.6/site-packages/torch/serialization.py:292: UserWarning: Couldn't retrieve source code for container of type MountainCarEnergy. It won't be checked for correctness upon loading.\n",
      "  \"type \" + obj.__name__ + \". It won't be checked \"\n",
      "/home/eli/anaconda3/envs/funcytorch/lib/python3.6/site-packages/torch/serialization.py:292: UserWarning: Couldn't retrieve source code for container of type Sequential. It won't be checked for correctness upon loading.\n",
      "  \"type \" + obj.__name__ + \". It won't be checked \"\n",
      "/home/eli/anaconda3/envs/funcytorch/lib/python3.6/site-packages/torch/serialization.py:292: UserWarning: Couldn't retrieve source code for container of type Linear. It won't be checked for correctness upon loading.\n",
      "  \"type \" + obj.__name__ + \". It won't be checked \"\n",
      "/home/eli/anaconda3/envs/funcytorch/lib/python3.6/site-packages/torch/serialization.py:292: UserWarning: Couldn't retrieve source code for container of type PReLU. It won't be checked for correctness upon loading.\n",
      "  \"type \" + obj.__name__ + \". It won't be checked \"\n",
      "/home/eli/anaconda3/envs/funcytorch/lib/python3.6/site-packages/torch/serialization.py:292: UserWarning: Couldn't retrieve source code for container of type Identity. It won't be checked for correctness upon loading.\n",
      "  \"type \" + obj.__name__ + \". It won't be checked \"\n",
      "/home/eli/anaconda3/envs/funcytorch/lib/python3.6/site-packages/torch/serialization.py:292: UserWarning: Couldn't retrieve source code for container of type RecognitionAgent. It won't be checked for correctness upon loading.\n",
      "  \"type \" + obj.__name__ + \". It won't be checked \"\n"
     ]
    }
   ],
   "source": [
    "torch.save(agent, 'examples/fep_control/fep_mountain_car_agent.dat')"
   ]
  },
  {
   "cell_type": "code",
   "execution_count": null,
   "metadata": {},
   "outputs": [],
   "source": []
  }
 ],
 "metadata": {
  "kernelspec": {
   "display_name": "Python [conda env:funcytorch] *",
   "language": "python",
   "name": "conda-env-funcytorch-py"
  },
  "language_info": {
   "codemirror_mode": {
    "name": "ipython",
    "version": 3
   },
   "file_extension": ".py",
   "mimetype": "text/x-python",
   "name": "python",
   "nbconvert_exporter": "python",
   "pygments_lexer": "ipython3",
   "version": "3.6.7"
  }
 },
 "nbformat": 4,
 "nbformat_minor": 4
}
