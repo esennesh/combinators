{
 "cells": [
  {
   "cell_type": "code",
   "execution_count": 1,
   "metadata": {},
   "outputs": [
    {
     "name": "stdout",
     "output_type": "stream",
     "text": [
      "/home/eli/AnacondaProjects/combinators\n"
     ]
    }
   ],
   "source": [
    "%cd ../.."
   ]
  },
  {
   "cell_type": "code",
   "execution_count": 2,
   "metadata": {},
   "outputs": [],
   "source": [
    "import logging\n",
    "\n",
    "import numpy as np\n",
    "import probtorch\n",
    "import torch\n",
    "\n",
    "from examples.fep_control import fep_control\n",
    "from combinators.model import active\n",
    "from combinators.model import compose, foldable\n",
    "from combinators.inference import importance\n",
    "from combinators import utils"
   ]
  },
  {
   "cell_type": "code",
   "execution_count": 3,
   "metadata": {},
   "outputs": [],
   "source": [
    "logging.basicConfig(format='%(asctime)s %(message)s', datefmt='%m/%d/%Y %H:%M:%S',\n",
    "                    level=logging.INFO)"
   ]
  },
  {
   "cell_type": "code",
   "execution_count": 4,
   "metadata": {},
   "outputs": [],
   "source": [
    "target = fep_control.MountainCarAgent(observation_dim=2, state_dim=2, batch_shape=(10,), trainable=False)\n",
    "proposal = fep_control.RecognitionAgent(state_dim=2, action_dim=1, observation_dim=2, batch_shape=(10,),\n",
    "                                        discrete_actions=False, name='MountainCarAgent', trainable=True,\n",
    "                                        goal=target.goal)\n",
    "agent = importance.propose(target, proposal)"
   ]
  },
  {
   "cell_type": "code",
   "execution_count": 5,
   "metadata": {},
   "outputs": [],
   "source": [
    "episode = active.ActiveEpisode(agent, 'MountainCarContinuous-v0')"
   ]
  },
  {
   "cell_type": "code",
   "execution_count": 6,
   "metadata": {},
   "outputs": [],
   "source": [
    "theta, graph, log_weight = episode(render=True)"
   ]
  },
  {
   "cell_type": "code",
   "execution_count": 7,
   "metadata": {},
   "outputs": [
    {
     "name": "stderr",
     "output_type": "stream",
     "text": [
      "07/08/2019 18:04:41 Episode length: 438\n",
      "07/08/2019 18:04:43 ELBO=-3.24859558e+02 per step at epoch 1\n",
      "07/08/2019 18:04:47 Episode length: 804\n",
      "07/08/2019 18:04:50 ELBO=-3.08228394e+02 per step at epoch 2\n",
      "07/08/2019 18:04:56 Episode length: 1000\n",
      "07/08/2019 18:05:00 ELBO=-2.89167786e+02 per step at epoch 3\n",
      "07/08/2019 18:05:02 Episode length: 298\n",
      "07/08/2019 18:05:03 ELBO=-2.75337372e+02 per step at epoch 4\n",
      "07/08/2019 18:05:07 Episode length: 685\n",
      "07/08/2019 18:05:10 ELBO=-2.52207321e+02 per step at epoch 5\n",
      "07/08/2019 18:05:12 Episode length: 323\n",
      "07/08/2019 18:05:13 ELBO=-2.34754593e+02 per step at epoch 6\n",
      "07/08/2019 18:05:14 Episode length: 168\n",
      "07/08/2019 18:05:15 ELBO=-2.24173248e+02 per step at epoch 7\n",
      "07/08/2019 18:05:17 Episode length: 407\n",
      "07/08/2019 18:05:19 ELBO=-2.19090027e+02 per step at epoch 8\n",
      "07/08/2019 18:05:23 Episode length: 650\n",
      "07/08/2019 18:05:25 ELBO=-2.09529037e+02 per step at epoch 9\n",
      "07/08/2019 18:05:31 Episode length: 1000\n",
      "07/08/2019 18:05:35 ELBO=-1.92066895e+02 per step at epoch 10\n"
     ]
    }
   ],
   "source": [
    "xi, trained_params, elbos = active.active_variational(episode, 10, lr=1e-2, log_estimator=True, patience=None)"
   ]
  },
  {
   "cell_type": "code",
   "execution_count": 8,
   "metadata": {},
   "outputs": [
    {
     "data": {
      "image/png": "[encoded data removed]",
      "text/plain": [
       "<Figure size 720x720 with 1 Axes>"
      ]
     },
     "metadata": {
      "needs_background": "light"
     },
     "output_type": "display_data"
    }
   ],
   "source": [
    "utils.plot_evidence_bounds(elbos[:, 0].cpu().detach().numpy())"
   ]
  },
  {
   "cell_type": "code",
   "execution_count": 9,
   "metadata": {},
   "outputs": [],
   "source": [
    "theta, graph, log_weight = episode(render=True)"
   ]
  },
  {
   "cell_type": "code",
   "execution_count": 10,
   "metadata": {},
   "outputs": [
    {
     "data": {
      "text/plain": [
       "{'dynamics': tensor([[-0.2210, -0.5732],\n",
       "         [-0.2301, -0.5659],\n",
       "         [-0.2308, -0.5657],\n",
       "         [-0.2278, -0.5677],\n",
       "         [-0.2356, -0.5618],\n",
       "         [-0.2280, -0.5679],\n",
       "         [-0.2260, -0.5693],\n",
       "         [-0.2300, -0.5661],\n",
       "         [-0.2333, -0.5636],\n",
       "         [-0.2247, -0.5704]], grad_fn=<AddmmBackward>),\n",
       " 'control': tensor([[-0.7734],\n",
       "         [-0.7734],\n",
       "         [-0.7734],\n",
       "         [-0.7734],\n",
       "         [-0.7734],\n",
       "         [-0.7734],\n",
       "         [-0.7734],\n",
       "         [-0.7734],\n",
       "         [-0.7734],\n",
       "         [-0.7734]], grad_fn=<HardtanhBackward0>),\n",
       " 't': 530}"
      ]
     },
     "execution_count": 10,
     "metadata": {},
     "output_type": "execute_result"
    }
   ],
   "source": [
    "theta"
   ]
  },
  {
   "cell_type": "code",
   "execution_count": 11,
   "metadata": {},
   "outputs": [
    {
     "data": {
      "text/plain": [
       "tensor([-100401.5703, -105975.5312, -100687.0156, -108201.3750,  -97385.6094,\n",
       "        -100510.5156, -106271.6250, -100439.9062, -106108.7891, -106827.6484],\n",
       "       grad_fn=<AddBackward0>)"
      ]
     },
     "execution_count": 11,
     "metadata": {},
     "output_type": "execute_result"
    }
   ],
   "source": [
    "log_weight"
   ]
  },
  {
   "cell_type": "code",
   "execution_count": 12,
   "metadata": {},
   "outputs": [],
   "source": [
    "torch.save(agent, 'examples/fep_control/fep_mountain_car_agent.dat')"
   ]
  },
  {
   "cell_type": "code",
   "execution_count": null,
   "metadata": {},
   "outputs": [],
   "source": []
  }
 ],
 "metadata": {
  "kernelspec": {
   "display_name": "Python [conda env:funcytorch] *",
   "language": "python",
   "name": "conda-env-funcytorch-py"
  },
  "language_info": {
   "codemirror_mode": {
    "name": "ipython",
    "version": 3
   },
   "file_extension": ".py",
   "mimetype": "text/x-python",
   "name": "python",
   "nbconvert_exporter": "python",
   "pygments_lexer": "ipython3",
   "version": "3.6.8"
  }
 },
 "nbformat": 4,
 "nbformat_minor": 2
}
