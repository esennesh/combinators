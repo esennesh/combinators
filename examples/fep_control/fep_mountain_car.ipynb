{
 "cells": [
  {
   "cell_type": "code",
   "execution_count": 1,
   "metadata": {},
   "outputs": [
    {
     "name": "stdout",
     "output_type": "stream",
     "text": [
      "/home/eli/AnacondaProjects/combinators\n"
     ]
    }
   ],
   "source": [
    "%cd ../.."
   ]
  },
  {
   "cell_type": "code",
   "execution_count": 2,
   "metadata": {},
   "outputs": [],
   "source": [
    "import logging\n",
    "\n",
    "import numpy as np\n",
    "import probtorch\n",
    "import torch\n",
    "\n",
    "from examples.fep_control import fep_control\n",
    "from combinators.model import active\n",
    "from combinators.model import compose, foldable\n",
    "from combinators.inference import importance\n",
    "from combinators import utils"
   ]
  },
  {
   "cell_type": "code",
   "execution_count": 3,
   "metadata": {},
   "outputs": [],
   "source": [
    "logging.basicConfig(format='%(asctime)s %(message)s', datefmt='%m/%d/%Y %H:%M:%S',\n",
    "                    level=logging.INFO)"
   ]
  },
  {
   "cell_type": "code",
   "execution_count": 4,
   "metadata": {},
   "outputs": [],
   "source": [
    "target = fep_control.MountainCarAgent(observation_dim=2, state_dim=2, batch_shape=(10,), trainable=False)\n",
    "proposal = fep_control.RecognitionAgent(state_dim=2, action_dim=1, observation_dim=2, batch_shape=(10,),\n",
    "                                        discrete_actions=False, name='MountainCarAgent', trainable=True)\n",
    "agent = importance.propose(target, proposal)"
   ]
  },
  {
   "cell_type": "code",
   "execution_count": 5,
   "metadata": {},
   "outputs": [],
   "source": [
    "episode = active.ActiveEpisode(agent, 'MountainCarContinuous-v0')"
   ]
  },
  {
   "cell_type": "code",
   "execution_count": 6,
   "metadata": {},
   "outputs": [],
   "source": [
    "(control, prediction, t), graph, log_weight = episode(render=True)"
   ]
  },
  {
   "cell_type": "code",
   "execution_count": 7,
   "metadata": {},
   "outputs": [
    {
     "name": "stderr",
     "output_type": "stream",
     "text": [
      "06/25/2019 17:37:30 Episode length: 199\n",
      "06/25/2019 17:37:31 ELBO=-1.93148901e+03 at epoch 1\n",
      "06/25/2019 17:37:33 Episode length: 406\n",
      "06/25/2019 17:37:34 ELBO=-1.73134961e+03 at epoch 2\n",
      "06/25/2019 17:37:37 Episode length: 618\n",
      "06/25/2019 17:37:40 ELBO=-1.81874902e+03 at epoch 3\n",
      "06/25/2019 17:37:41 Episode length: 229\n",
      "06/25/2019 17:37:42 ELBO=-2.10816431e+03 at epoch 4\n",
      "06/25/2019 17:37:43 Episode length: 210\n",
      "06/25/2019 17:37:44 ELBO=-2.02879224e+03 at epoch 5\n",
      "06/25/2019 17:37:45 Episode length: 333\n",
      "06/25/2019 17:37:47 ELBO=-1.77473560e+03 at epoch 6\n",
      "06/25/2019 17:37:50 Episode length: 795\n",
      "06/25/2019 17:37:53 ELBO=-1.89503943e+03 at epoch 7\n",
      "06/25/2019 17:37:57 Episode length: 816\n",
      "06/25/2019 17:38:00 ELBO=-1.77815588e+03 at epoch 8\n",
      "06/25/2019 17:38:02 Episode length: 327\n",
      "06/25/2019 17:38:04 ELBO=-1.76797559e+03 at epoch 9\n",
      "06/25/2019 17:38:07 Episode length: 651\n",
      "06/25/2019 17:38:09 ELBO=-1.83398096e+03 at epoch 10\n",
      "06/25/2019 17:38:11 Episode length: 412\n",
      "06/25/2019 17:38:13 ELBO=-1.79048474e+03 at epoch 11\n",
      "06/25/2019 17:38:17 Episode length: 868\n",
      "06/25/2019 17:38:20 ELBO=-1.91186060e+03 at epoch 12\n",
      "06/25/2019 17:38:25 Episode length: 999\n",
      "06/25/2019 17:38:29 ELBO=-1.68887988e+03 at epoch 13\n",
      "06/25/2019 17:38:32 Episode length: 557\n",
      "06/25/2019 17:38:34 ELBO=-1.78637378e+03 at epoch 14\n",
      "06/25/2019 17:38:37 Episode length: 656\n",
      "06/25/2019 17:38:40 ELBO=-1.75170630e+03 at epoch 15\n",
      "06/25/2019 17:38:43 Episode length: 637\n",
      "06/25/2019 17:38:46 ELBO=-1.75319312e+03 at epoch 16\n",
      "06/25/2019 17:38:50 Episode length: 845\n",
      "06/25/2019 17:38:53 ELBO=-1.76400024e+03 at epoch 17\n",
      "06/25/2019 17:38:56 Episode length: 607\n",
      "06/25/2019 17:38:59 ELBO=-1.93723083e+03 at epoch 18\n",
      "06/25/2019 17:39:02 Episode length: 660\n",
      "06/25/2019 17:39:04 ELBO=-2.04919312e+03 at epoch 19\n",
      "06/25/2019 17:39:09 Episode length: 999\n",
      "06/25/2019 17:39:13 ELBO=-1.81332788e+03 at epoch 20\n",
      "06/25/2019 17:39:14 Episode length: 95\n",
      "06/25/2019 17:39:14 ELBO=-1.69776929e+03 at epoch 21\n",
      "06/25/2019 17:39:16 Episode length: 315\n",
      "06/25/2019 17:39:17 ELBO=-1.96388379e+03 at epoch 22\n",
      "06/25/2019 17:39:19 Episode length: 454\n",
      "06/25/2019 17:39:21 ELBO=-1.83615942e+03 at epoch 23\n",
      "06/25/2019 17:39:23 Episode length: 335\n",
      "06/25/2019 17:39:24 ELBO=-1.98562708e+03 at epoch 24\n",
      "06/25/2019 17:39:27 Episode length: 531\n",
      "06/25/2019 17:39:29 ELBO=-1.83169153e+03 at epoch 25\n",
      "06/25/2019 17:39:31 Episode length: 578\n",
      "06/25/2019 17:39:34 ELBO=-1.95391589e+03 at epoch 26\n",
      "06/25/2019 17:39:39 Episode length: 999\n",
      "06/25/2019 17:39:43 ELBO=-1.80304907e+03 at epoch 27\n",
      "06/25/2019 17:39:45 Episode length: 343\n",
      "06/25/2019 17:39:47 ELBO=-2.11042749e+03 at epoch 28\n",
      "06/25/2019 17:39:48 Episode length: 216\n",
      "06/25/2019 17:39:49 ELBO=-2.31096509e+03 at epoch 29\n",
      "06/25/2019 17:39:50 Episode length: 241\n",
      "06/25/2019 17:39:51 ELBO=-1.89027576e+03 at epoch 30\n",
      "06/25/2019 17:39:52 Episode length: 299\n",
      "06/25/2019 17:39:54 ELBO=-1.93151440e+03 at epoch 31\n",
      "06/25/2019 17:39:59 Episode length: 999\n",
      "06/25/2019 17:40:03 ELBO=-1.76447986e+03 at epoch 32\n",
      "06/25/2019 17:40:06 Episode length: 583\n",
      "06/25/2019 17:40:08 ELBO=-1.82942346e+03 at epoch 33\n",
      "06/25/2019 17:40:11 Episode length: 626\n",
      "06/25/2019 17:40:14 ELBO=-1.77193323e+03 at epoch 34\n",
      "06/25/2019 17:40:16 Episode length: 258\n",
      "06/25/2019 17:40:17 ELBO=-1.88809155e+03 at epoch 35\n",
      "06/25/2019 17:40:20 Episode length: 647\n",
      "06/25/2019 17:40:22 ELBO=-1.92319714e+03 at epoch 36\n",
      "06/25/2019 17:40:26 Episode length: 646\n",
      "06/25/2019 17:40:28 ELBO=-1.81642761e+03 at epoch 37\n",
      "06/25/2019 17:40:31 Episode length: 468\n",
      "06/25/2019 17:40:32 ELBO=-1.88350562e+03 at epoch 38\n",
      "06/25/2019 17:40:36 Episode length: 719\n",
      "06/25/2019 17:40:39 ELBO=-1.89189966e+03 at epoch 39\n",
      "06/25/2019 17:40:40 Episode length: 196\n",
      "06/25/2019 17:40:41 ELBO=-1.92522766e+03 at epoch 40\n",
      "06/25/2019 17:40:43 Episode length: 586\n",
      "06/25/2019 17:40:46 ELBO=-1.80105859e+03 at epoch 41\n",
      "06/25/2019 17:40:48 Episode length: 452\n",
      "06/25/2019 17:40:50 ELBO=-2.08469092e+03 at epoch 42\n",
      "06/25/2019 17:40:52 Episode length: 389\n",
      "06/25/2019 17:40:53 ELBO=-1.84764575e+03 at epoch 43\n",
      "06/25/2019 17:40:56 Episode length: 583\n",
      "06/25/2019 17:40:58 ELBO=-1.95957935e+03 at epoch 44\n",
      "06/25/2019 17:41:01 Episode length: 538\n",
      "06/25/2019 17:41:03 ELBO=-1.79381189e+03 at epoch 45\n",
      "06/25/2019 17:41:07 Episode length: 821\n",
      "06/25/2019 17:41:10 ELBO=-1.74178345e+03 at epoch 46\n",
      "06/25/2019 17:41:12 Episode length: 405\n",
      "06/25/2019 17:41:13 ELBO=-1.83339673e+03 at epoch 47\n",
      "06/25/2019 17:41:15 Episode length: 236\n",
      "06/25/2019 17:41:16 ELBO=-2.21911816e+03 at epoch 48\n",
      "06/25/2019 17:41:18 Episode length: 517\n",
      "06/25/2019 17:41:20 ELBO=-1.85938098e+03 at epoch 49\n",
      "06/25/2019 17:41:22 Episode length: 356\n",
      "06/25/2019 17:41:24 ELBO=-1.95119519e+03 at epoch 50\n",
      "06/25/2019 17:41:28 Episode length: 999\n",
      "06/25/2019 17:41:33 ELBO=-1.84504309e+03 at epoch 51\n",
      "06/25/2019 17:41:34 Episode length: 266\n",
      "06/25/2019 17:41:35 ELBO=-1.68102222e+03 at epoch 52\n",
      "06/25/2019 17:41:40 Episode length: 999\n",
      "06/25/2019 17:41:44 ELBO=-1.75358789e+03 at epoch 53\n",
      "06/25/2019 17:41:48 Episode length: 815\n",
      "06/25/2019 17:41:52 ELBO=-1.74683899e+03 at epoch 54\n",
      "06/25/2019 17:41:53 Episode length: 197\n",
      "06/25/2019 17:41:54 ELBO=-1.74846472e+03 at epoch 55\n",
      "06/25/2019 17:41:57 Episode length: 696\n",
      "06/25/2019 17:42:01 ELBO=-1.90633838e+03 at epoch 56\n",
      "06/25/2019 17:42:01 Episode length: 159\n",
      "06/25/2019 17:42:02 ELBO=-1.99775940e+03 at epoch 57\n",
      "06/25/2019 17:42:05 Episode length: 532\n",
      "06/25/2019 17:42:07 ELBO=-1.81860474e+03 at epoch 58\n",
      "06/25/2019 17:42:12 Episode length: 999\n",
      "06/25/2019 17:42:15 ELBO=-1.86563416e+03 at epoch 59\n",
      "06/25/2019 17:42:18 Episode length: 431\n",
      "06/25/2019 17:42:19 ELBO=-1.78943469e+03 at epoch 60\n",
      "06/25/2019 17:42:20 Episode length: 115\n",
      "06/25/2019 17:42:21 ELBO=-1.91650513e+03 at epoch 61\n",
      "06/25/2019 17:42:23 Episode length: 425\n",
      "06/25/2019 17:42:24 ELBO=-1.82469836e+03 at epoch 62\n",
      "06/25/2019 17:42:25 Episode length: 196\n",
      "06/25/2019 17:42:26 ELBO=-1.72493750e+03 at epoch 63\n",
      "06/25/2019 17:42:30 Episode length: 757\n",
      "06/25/2019 17:42:33 ELBO=-1.81165869e+03 at epoch 64\n",
      "06/25/2019 17:42:34 Episode length: 293\n",
      "06/25/2019 17:42:35 ELBO=-1.56928101e+03 at epoch 65\n",
      "06/25/2019 17:42:38 Episode length: 549\n",
      "06/25/2019 17:42:40 ELBO=-1.88221289e+03 at epoch 66\n",
      "06/25/2019 17:42:42 Episode length: 404\n",
      "06/25/2019 17:42:43 ELBO=-1.87758423e+03 at epoch 67\n",
      "06/25/2019 17:42:48 Episode length: 999\n",
      "06/25/2019 17:42:52 ELBO=-1.84967773e+03 at epoch 68\n",
      "06/25/2019 17:42:57 Episode length: 999\n",
      "06/25/2019 17:43:01 ELBO=-1.82946802e+03 at epoch 69\n",
      "06/25/2019 17:43:04 Episode length: 488\n",
      "06/25/2019 17:43:06 ELBO=-1.98445044e+03 at epoch 70\n",
      "06/25/2019 17:43:10 Episode length: 999\n",
      "06/25/2019 17:43:14 ELBO=-1.85077454e+03 at epoch 71\n",
      "06/25/2019 17:43:15 Episode length: 220\n",
      "06/25/2019 17:43:17 ELBO=-1.74929810e+03 at epoch 72\n",
      "06/25/2019 17:43:19 Episode length: 563\n",
      "06/25/2019 17:43:21 ELBO=-1.73490259e+03 at epoch 73\n",
      "06/25/2019 17:43:25 Episode length: 726\n",
      "06/25/2019 17:43:28 ELBO=-1.87164795e+03 at epoch 74\n",
      "06/25/2019 17:43:30 Episode length: 414\n",
      "06/25/2019 17:43:32 ELBO=-1.84355322e+03 at epoch 75\n",
      "06/25/2019 17:43:34 Episode length: 431\n",
      "06/25/2019 17:43:35 ELBO=-1.84423181e+03 at epoch 76\n",
      "06/25/2019 17:43:40 Episode length: 999\n",
      "06/25/2019 17:43:44 ELBO=-1.80930908e+03 at epoch 77\n",
      "06/25/2019 17:43:47 Episode length: 545\n",
      "06/25/2019 17:43:49 ELBO=-1.81997595e+03 at epoch 78\n",
      "06/25/2019 17:43:54 Episode length: 999\n",
      "06/25/2019 17:43:58 ELBO=-1.79160803e+03 at epoch 79\n",
      "06/25/2019 17:43:59 Episode length: 245\n",
      "06/25/2019 17:44:00 ELBO=-1.67320483e+03 at epoch 80\n",
      "06/25/2019 17:44:04 Episode length: 709\n",
      "06/25/2019 17:44:07 ELBO=-1.68518921e+03 at epoch 81\n",
      "06/25/2019 17:44:11 Episode length: 999\n",
      "06/25/2019 17:44:15 ELBO=-1.73037585e+03 at epoch 82\n",
      "06/25/2019 17:44:18 Episode length: 506\n",
      "06/25/2019 17:44:20 ELBO=-1.80532605e+03 at epoch 83\n",
      "06/25/2019 17:44:21 Episode length: 260\n",
      "06/25/2019 17:44:22 ELBO=-1.58457458e+03 at epoch 84\n",
      "06/25/2019 17:44:24 Episode length: 385\n",
      "06/25/2019 17:44:25 ELBO=-1.76738428e+03 at epoch 85\n",
      "06/25/2019 17:44:29 Episode length: 798\n",
      "06/25/2019 17:44:32 ELBO=-1.85649939e+03 at epoch 86\n",
      "06/25/2019 17:44:35 Episode length: 563\n",
      "06/25/2019 17:44:37 ELBO=-1.79900037e+03 at epoch 87\n",
      "06/25/2019 17:44:38 Episode length: 153\n",
      "06/25/2019 17:44:39 ELBO=-2.34941016e+03 at epoch 88\n",
      "06/25/2019 17:44:42 Episode length: 730\n",
      "06/25/2019 17:44:45 ELBO=-1.81953137e+03 at epoch 89\n",
      "06/25/2019 17:44:46 Episode length: 252\n",
      "06/25/2019 17:44:47 ELBO=-1.74671338e+03 at epoch 90\n",
      "06/25/2019 17:44:50 Episode length: 599\n",
      "06/25/2019 17:44:52 ELBO=-1.81259277e+03 at epoch 91\n",
      "06/25/2019 17:44:54 Episode length: 267\n",
      "06/25/2019 17:44:55 ELBO=-1.79894641e+03 at epoch 92\n",
      "06/25/2019 17:44:58 Episode length: 600\n",
      "06/25/2019 17:45:00 ELBO=-2.03469751e+03 at epoch 93\n",
      "06/25/2019 17:45:01 Episode length: 253\n",
      "06/25/2019 17:45:02 ELBO=-1.92686865e+03 at epoch 94\n",
      "06/25/2019 17:45:04 Episode length: 386\n",
      "06/25/2019 17:45:06 ELBO=-2.00808679e+03 at epoch 95\n",
      "06/25/2019 17:45:09 Episode length: 686\n",
      "06/25/2019 17:45:12 ELBO=-1.71248608e+03 at epoch 96\n",
      "06/25/2019 17:45:13 Episode length: 338\n",
      "06/25/2019 17:45:15 ELBO=-1.82939246e+03 at epoch 97\n",
      "06/25/2019 17:45:19 Episode length: 999\n",
      "06/25/2019 17:45:23 ELBO=-1.77119055e+03 at epoch 98\n",
      "06/25/2019 17:45:25 Episode length: 270\n",
      "06/25/2019 17:45:26 ELBO=-2.03032959e+03 at epoch 99\n",
      "06/25/2019 17:45:28 Episode length: 578\n",
      "06/25/2019 17:45:31 ELBO=-1.82487219e+03 at epoch 100\n"
     ]
    }
   ],
   "source": [
    "xi, trained_params, elbos = active.active_variational(episode, 100, lr=1e-3, log_estimator=True, patience=None)"
   ]
  },
  {
   "cell_type": "code",
   "execution_count": 8,
   "metadata": {},
   "outputs": [
    {
     "data": {
      "image/png": "[encoded data removed]",
      "text/plain": [
       "<Figure size 720x720 with 1 Axes>"
      ]
     },
     "metadata": {
      "needs_background": "light"
     },
     "output_type": "display_data"
    }
   ],
   "source": [
    "utils.plot_evidence_bounds(-elbos[:, 0].cpu().detach().numpy())"
   ]
  },
  {
   "cell_type": "code",
   "execution_count": 9,
   "metadata": {},
   "outputs": [],
   "source": [
    "(control, prediction, t), graph, log_weight = episode(render=True)"
   ]
  },
  {
   "cell_type": "code",
   "execution_count": 10,
   "metadata": {},
   "outputs": [
    {
     "data": {
      "text/plain": [
       "tensor([[1.0408],\n",
       "        [1.0408],\n",
       "        [1.0408],\n",
       "        [1.0408],\n",
       "        [1.0408],\n",
       "        [1.0408],\n",
       "        [1.0408],\n",
       "        [1.0408],\n",
       "        [1.0408],\n",
       "        [1.0408]], grad_fn=<ExpandBackward>)"
      ]
     },
     "execution_count": 10,
     "metadata": {},
     "output_type": "execute_result"
    }
   ],
   "source": [
    "control"
   ]
  },
  {
   "cell_type": "code",
   "execution_count": 11,
   "metadata": {},
   "outputs": [
    {
     "data": {
      "text/plain": [
       "{'loc': tensor([[0.1208, 0.2936],\n",
       "         [0.1221, 0.2721],\n",
       "         [0.1214, 0.2844],\n",
       "         [0.1215, 0.2877],\n",
       "         [0.1205, 0.2994],\n",
       "         [0.1258, 0.2859],\n",
       "         [0.1246, 0.2753],\n",
       "         [0.1241, 0.2843],\n",
       "         [0.1207, 0.2916],\n",
       "         [0.1253, 0.2858]], grad_fn=<SelectBackward>),\n",
       " 'scale': tensor([[0.6710, 0.6813],\n",
       "         [0.6669, 0.6806],\n",
       "         [0.6709, 0.6816],\n",
       "         [0.6708, 0.6811],\n",
       "         [0.6708, 0.6805],\n",
       "         [0.6563, 0.6840],\n",
       "         [0.6628, 0.6823],\n",
       "         [0.6681, 0.6811],\n",
       "         [0.6711, 0.6817],\n",
       "         [0.6673, 0.6810]], grad_fn=<SoftplusBackward>)}"
      ]
     },
     "execution_count": 11,
     "metadata": {},
     "output_type": "execute_result"
    }
   ],
   "source": [
    "prediction"
   ]
  },
  {
   "cell_type": "code",
   "execution_count": 12,
   "metadata": {},
   "outputs": [
    {
     "data": {
      "text/plain": [
       "435"
      ]
     },
     "execution_count": 12,
     "metadata": {},
     "output_type": "execute_result"
    }
   ],
   "source": [
    "t"
   ]
  },
  {
   "cell_type": "code",
   "execution_count": 13,
   "metadata": {},
   "outputs": [
    {
     "data": {
      "text/plain": [
       "tensor([-833352.5625, -833357.2500, -833372.6250, -833366.5000, -833364.3750,\n",
       "        -833357.8750, -833364.8125, -833358.6875, -833371.1250, -833367.1875],\n",
       "       grad_fn=<AddBackward0>)"
      ]
     },
     "execution_count": 13,
     "metadata": {},
     "output_type": "execute_result"
    }
   ],
   "source": [
    "log_weight"
   ]
  },
  {
   "cell_type": "code",
   "execution_count": 14,
   "metadata": {},
   "outputs": [],
   "source": [
    "torch.save(agent, 'examples/fep_control/fep_mountain_car_agent.dat')"
   ]
  },
  {
   "cell_type": "code",
   "execution_count": null,
   "metadata": {},
   "outputs": [],
   "source": []
  }
 ],
 "metadata": {
  "kernelspec": {
   "display_name": "funcytorch",
   "language": "python",
   "name": "funcytorch"
  },
  "language_info": {
   "codemirror_mode": {
    "name": "ipython",
    "version": 3
   },
   "file_extension": ".py",
   "mimetype": "text/x-python",
   "name": "python",
   "nbconvert_exporter": "python",
   "pygments_lexer": "ipython3",
   "version": "3.6.5"
  }
 },
 "nbformat": 4,
 "nbformat_minor": 2
}
