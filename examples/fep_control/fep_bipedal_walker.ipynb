{
 "cells": [
  {
   "cell_type": "code",
   "execution_count": 1,
   "metadata": {},
   "outputs": [
    {
     "name": "stdout",
     "output_type": "stream",
     "text": [
      "/home/work/AnacondaProjects/combinators\n"
     ]
    }
   ],
   "source": [
    "%cd ../.."
   ]
  },
  {
   "cell_type": "code",
   "execution_count": 2,
   "metadata": {},
   "outputs": [],
   "source": [
    "import logging\n",
    "\n",
    "import numpy as np\n",
    "import probtorch\n",
    "import torch\n",
    "\n",
    "from examples.fep_control import fep_control\n",
    "from combinators.model import active\n",
    "from combinators.model import compose, foldable\n",
    "from combinators.inference import importance, mcmc\n",
    "from combinators import utils"
   ]
  },
  {
   "cell_type": "code",
   "execution_count": 3,
   "metadata": {},
   "outputs": [],
   "source": [
    "logging.basicConfig(format='%(asctime)s %(message)s', datefmt='%m/%d/%Y %H:%M:%S',\n",
    "                    level=logging.INFO)"
   ]
  },
  {
   "cell_type": "code",
   "execution_count": 4,
   "metadata": {},
   "outputs": [],
   "source": [
    "target_actor = fep_control.BipedalWalkerActor(state_dim=12, batch_shape=(10,), trainable=False)\n",
    "target_observer = fep_control.GenerativeObserver(observation_dim=24, batch_shape=(10,), trainable=False)\n",
    "target = compose(target_observer, target_actor)\n",
    "\n",
    "proposal_actor = fep_control.RecognitionActor(state_dim=12, action_dim=4, observation_dim=24, batch_shape=(10,),\n",
    "                                              discrete_actions=False, name='BipedalWalkerActor', trainable=True)\n",
    "proposal_encoder = fep_control.RecognitionEncoder(state_dim=12, observation_dim=24, batch_shape=(10,), trainable=True)\n",
    "proposal = compose(proposal_encoder, proposal_actor)\n",
    "\n",
    "agent = importance.propose(target, proposal)"
   ]
  },
  {
   "cell_type": "code",
   "execution_count": 5,
   "metadata": {},
   "outputs": [],
   "source": [
    "theta, graph, log_weight = active.active_inference_test(agent, 'BipedalWalker-v2', online_inference=False, iterations=1000)"
   ]
  },
  {
   "cell_type": "code",
   "execution_count": 6,
   "metadata": {},
   "outputs": [
    {
     "name": "stderr",
     "output_type": "stream",
     "text": [
      "06/06/2019 16:57:23 ELBO=-6.83765033e+12 at episode 0 of length 105\n",
      "06/06/2019 16:57:38 ELBO=-2.94854250e+12 at episode 1 of length 47\n",
      "06/06/2019 16:57:53 ELBO=-1.65828782e+12 at episode 2 of length 85\n",
      "06/06/2019 16:58:09 ELBO=-5.33672821e+11 at episode 3 of length 741\n",
      "06/06/2019 16:58:24 ELBO=-3.39013193e+12 at episode 4 of length 74\n",
      "06/06/2019 16:58:40 ELBO=-4.99447267e+11 at episode 5 of length 49\n",
      "06/06/2019 16:58:56 ELBO=-8.84089867e+12 at episode 6 of length 67\n",
      "06/06/2019 16:59:12 ELBO=-4.50738415e+12 at episode 7 of length 98\n",
      "06/06/2019 16:59:28 ELBO=-3.00886209e+12 at episode 8 of length 54\n",
      "06/06/2019 16:59:43 ELBO=-1.75727693e+12 at episode 9 of length 48\n",
      "06/06/2019 16:59:59 ELBO=-4.28541051e+11 at episode 10 of length 74\n",
      "06/06/2019 17:00:15 ELBO=-9.38139402e+10 at episode 11 of length 1000\n",
      "06/06/2019 17:00:31 ELBO=-1.72031043e+12 at episode 12 of length 43\n",
      "06/06/2019 17:00:47 ELBO=-2.67388416e+10 at episode 13 of length 1000\n",
      "06/06/2019 17:01:02 ELBO=-5.33913108e+11 at episode 14 of length 54\n",
      "06/06/2019 17:01:18 ELBO=-8.52749926e+09 at episode 15 of length 1000\n",
      "06/06/2019 17:01:34 ELBO=-2.12221809e+10 at episode 16 of length 1000\n",
      "06/06/2019 17:01:50 ELBO=-1.75685919e+10 at episode 17 of length 1000\n",
      "06/06/2019 17:02:07 ELBO=-9.48780483e+10 at episode 18 of length 1000\n",
      "06/06/2019 17:02:23 ELBO=-1.94801172e+10 at episode 19 of length 1000\n",
      "06/06/2019 17:02:40 ELBO=-9.20944640e+09 at episode 20 of length 1000\n",
      "06/06/2019 17:02:58 ELBO=-6.03298714e+09 at episode 21 of length 1000\n",
      "06/06/2019 17:03:15 ELBO=-2.95530107e+10 at episode 22 of length 1000\n",
      "06/06/2019 17:03:32 ELBO=-3.23872282e+09 at episode 23 of length 1000\n",
      "06/06/2019 17:03:47 ELBO=-8.37648077e+09 at episode 24 of length 1000\n",
      "06/06/2019 17:04:03 ELBO=-1.23674552e+10 at episode 25 of length 1000\n",
      "06/06/2019 17:04:18 ELBO=-3.10335857e+10 at episode 26 of length 672\n",
      "06/06/2019 17:04:34 ELBO=-6.03249306e+09 at episode 27 of length 1000\n",
      "06/06/2019 17:04:50 ELBO=-3.33966172e+10 at episode 28 of length 1000\n",
      "06/06/2019 17:05:05 ELBO=-7.59360102e+09 at episode 29 of length 1000\n",
      "06/06/2019 17:05:20 ELBO=-7.07813939e+09 at episode 30 of length 1000\n",
      "06/06/2019 17:05:36 ELBO=-6.51542659e+12 at episode 31 of length 389\n",
      "06/06/2019 17:05:52 ELBO=-1.89297664e+10 at episode 32 of length 1000\n",
      "06/06/2019 17:06:08 ELBO=-2.05675704e+10 at episode 33 of length 1000\n",
      "06/06/2019 17:06:23 ELBO=-6.75966925e+09 at episode 34 of length 1000\n",
      "06/06/2019 17:06:38 ELBO=-2.40461742e+10 at episode 35 of length 1000\n",
      "06/06/2019 17:06:54 ELBO=-1.52942920e+10 at episode 36 of length 1000\n",
      "06/06/2019 17:07:10 ELBO=-1.54909557e+11 at episode 37 of length 53\n",
      "06/06/2019 17:07:26 ELBO=-2.24527892e+10 at episode 38 of length 1000\n",
      "06/06/2019 17:07:41 ELBO=-7.94933760e+09 at episode 39 of length 1000\n",
      "06/06/2019 17:07:56 ELBO=-3.19269192e+10 at episode 40 of length 1000\n",
      "06/06/2019 17:08:09 ELBO=-1.71291075e+10 at episode 41 of length 1000\n",
      "06/06/2019 17:08:22 ELBO=-3.09062943e+10 at episode 42 of length 1000\n",
      "06/06/2019 17:08:35 ELBO=-4.22130278e+09 at episode 43 of length 1000\n",
      "06/06/2019 17:08:47 ELBO=-8.39048550e+09 at episode 44 of length 1000\n",
      "06/06/2019 17:09:00 ELBO=-1.58283497e+11 at episode 45 of length 92\n",
      "06/06/2019 17:09:13 ELBO=-7.25871952e+11 at episode 46 of length 93\n",
      "06/06/2019 17:09:25 ELBO=-8.69221581e+10 at episode 47 of length 113\n",
      "06/06/2019 17:09:38 ELBO=-6.13403904e+09 at episode 48 of length 1000\n",
      "06/06/2019 17:09:51 ELBO=-5.61909043e+09 at episode 49 of length 1000\n",
      "06/06/2019 17:10:04 ELBO=-9.22437878e+10 at episode 50 of length 65\n",
      "06/06/2019 17:10:16 ELBO=-2.98362569e+11 at episode 51 of length 57\n",
      "06/06/2019 17:10:29 ELBO=-6.37060874e+10 at episode 52 of length 49\n",
      "06/06/2019 17:10:42 ELBO=-1.92620646e+10 at episode 53 of length 1000\n",
      "06/06/2019 17:10:55 ELBO=-1.60557558e+10 at episode 54 of length 1000\n",
      "06/06/2019 17:11:07 ELBO=-8.38640435e+10 at episode 55 of length 77\n",
      "06/06/2019 17:11:20 ELBO=-2.66327982e+10 at episode 56 of length 961\n",
      "06/06/2019 17:11:33 ELBO=-1.05300681e+11 at episode 57 of length 467\n",
      "06/06/2019 17:11:46 ELBO=-4.85811618e+11 at episode 58 of length 106\n",
      "06/06/2019 17:11:58 ELBO=-2.69380698e+11 at episode 59 of length 60\n",
      "06/06/2019 17:12:11 ELBO=-2.09655644e+10 at episode 60 of length 843\n",
      "06/06/2019 17:12:24 ELBO=-4.41145033e+11 at episode 61 of length 114\n",
      "06/06/2019 17:12:37 ELBO=-1.10753808e+11 at episode 62 of length 1000\n",
      "06/06/2019 17:12:49 ELBO=-8.17053942e+10 at episode 63 of length 73\n",
      "06/06/2019 17:13:02 ELBO=-2.05235139e+10 at episode 64 of length 1000\n",
      "06/06/2019 17:13:15 ELBO=-4.05681504e+11 at episode 65 of length 79\n",
      "06/06/2019 17:13:28 ELBO=-1.92729231e+10 at episode 66 of length 1000\n",
      "06/06/2019 17:13:40 ELBO=-9.75126036e+10 at episode 67 of length 437\n",
      "06/06/2019 17:13:53 ELBO=-9.35921254e+09 at episode 68 of length 1000\n",
      "06/06/2019 17:14:06 ELBO=-7.59593779e+10 at episode 69 of length 97\n",
      "06/06/2019 17:14:19 ELBO=-8.10748160e+09 at episode 70 of length 1000\n",
      "06/06/2019 17:14:32 ELBO=-3.57320589e+11 at episode 71 of length 206\n",
      "06/06/2019 17:14:44 ELBO=-1.31474493e+10 at episode 72 of length 1000\n",
      "06/06/2019 17:14:57 ELBO=-3.48584083e+11 at episode 73 of length 99\n",
      "06/06/2019 17:15:10 ELBO=-9.70953933e+09 at episode 74 of length 1000\n",
      "06/06/2019 17:15:23 ELBO=-6.69234227e+09 at episode 75 of length 1000\n",
      "06/06/2019 17:15:35 ELBO=-3.63380710e+09 at episode 76 of length 1000\n",
      "06/06/2019 17:15:48 ELBO=-4.45309542e+09 at episode 77 of length 1000\n",
      "06/06/2019 17:16:01 ELBO=-1.08228649e+11 at episode 78 of length 104\n",
      "06/06/2019 17:16:13 ELBO=-3.27526246e+09 at episode 79 of length 1000\n",
      "06/06/2019 17:16:26 ELBO=-2.65698673e+10 at episode 80 of length 1000\n",
      "06/06/2019 17:16:39 ELBO=-4.98327020e+10 at episode 81 of length 147\n",
      "06/06/2019 17:16:52 ELBO=-1.80732518e+10 at episode 82 of length 1000\n",
      "06/06/2019 17:17:04 ELBO=-1.19606010e+11 at episode 83 of length 78\n",
      "06/06/2019 17:17:17 ELBO=-3.17229896e+10 at episode 84 of length 1000\n",
      "06/06/2019 17:17:30 ELBO=-1.62666675e+09 at episode 85 of length 1000\n",
      "06/06/2019 17:17:42 ELBO=-4.92172186e+09 at episode 86 of length 1000\n",
      "06/06/2019 17:17:55 ELBO=-1.62267469e+09 at episode 87 of length 1000\n",
      "06/06/2019 17:18:08 ELBO=-9.62113229e+09 at episode 88 of length 1000\n",
      "06/06/2019 17:18:20 ELBO=-8.66828083e+09 at episode 89 of length 1000\n",
      "06/06/2019 17:18:33 ELBO=-1.22496721e+11 at episode 90 of length 115\n",
      "06/06/2019 17:18:46 ELBO=-6.16317542e+10 at episode 91 of length 125\n",
      "06/06/2019 17:18:58 ELBO=-1.03013335e+10 at episode 92 of length 1000\n",
      "06/06/2019 17:19:11 ELBO=-1.57921690e+09 at episode 93 of length 1000\n",
      "06/06/2019 17:19:24 ELBO=-3.25018624e+09 at episode 94 of length 1000\n",
      "06/06/2019 17:19:36 ELBO=-5.43100846e+10 at episode 95 of length 121\n",
      "06/06/2019 17:19:49 ELBO=-1.52898519e+11 at episode 96 of length 138\n",
      "06/06/2019 17:20:02 ELBO=-2.11189914e+09 at episode 97 of length 1000\n",
      "06/06/2019 17:20:15 ELBO=-1.31742024e+10 at episode 98 of length 1000\n",
      "06/06/2019 17:20:27 ELBO=-7.11208141e+09 at episode 99 of length 1000\n"
     ]
    }
   ],
   "source": [
    "theta, graph, log_weight = active.active_inference(agent, 'BipedalWalker-v2', lr=5e-3, episodes=100, episode_length=1000, dream=False)"
   ]
  },
  {
   "cell_type": "code",
   "execution_count": 7,
   "metadata": {},
   "outputs": [
    {
     "data": {
      "text/plain": [
       "tensor([-6.3714e+10, -2.9943e+10, -5.5353e+11, -8.5832e+09, -8.3724e+10,\n",
       "        -1.1613e+12, -7.1121e+09, -2.0174e+10, -5.3515e+10, -7.6192e+11],\n",
       "       device='cuda:0', grad_fn=<AddBackward0>)"
      ]
     },
     "execution_count": 7,
     "metadata": {},
     "output_type": "execute_result"
    }
   ],
   "source": [
    "log_weight"
   ]
  },
  {
   "cell_type": "code",
   "execution_count": 8,
   "metadata": {},
   "outputs": [],
   "source": [
    "agent = mcmc.resample_move_smc(agent, moves=5)"
   ]
  },
  {
   "cell_type": "code",
   "execution_count": 13,
   "metadata": {},
   "outputs": [],
   "source": [
    "theta, graph, log_weight = active.active_inference_test(agent, 'BipedalWalker-v2', online_inference=False, iterations=1000)"
   ]
  },
  {
   "cell_type": "code",
   "execution_count": 10,
   "metadata": {},
   "outputs": [
    {
     "data": {
      "text/plain": [
       "(tensor([[-0.2444, -0.1347,  0.1068, -0.1160,  0.0289,  0.0774,  0.5279, -0.4575,\n",
       "          -0.0143,  0.1037, -0.2604, -0.4259],\n",
       "         [ 0.5905,  0.1118,  0.1545, -0.0925, -0.2623,  0.0334,  0.1364, -0.5172,\n",
       "           0.2354, -0.0140,  0.2086, -0.6469],\n",
       "         [ 0.5218,  0.0843,  0.2776, -0.0996, -0.1614,  0.0172,  0.4568, -0.8193,\n",
       "          -0.1028, -0.7541,  0.4037, -0.2714],\n",
       "         [ 0.5905,  0.1118,  0.1545, -0.0925, -0.2623,  0.0334,  0.1364, -0.5172,\n",
       "           0.2354, -0.0140,  0.2086, -0.6469],\n",
       "         [-0.2444, -0.1347,  0.1068, -0.1160,  0.0289,  0.0774,  0.5279, -0.4575,\n",
       "          -0.0143,  0.1037, -0.2604, -0.4259],\n",
       "         [ 0.5905,  0.1118,  0.1545, -0.0925, -0.2623,  0.0334,  0.1364, -0.5172,\n",
       "           0.2354, -0.0140,  0.2086, -0.6469],\n",
       "         [-0.2444, -0.1347,  0.1068, -0.1160,  0.0289,  0.0774,  0.5279, -0.4575,\n",
       "          -0.0143,  0.1037, -0.2604, -0.4259],\n",
       "         [ 0.5905,  0.1118,  0.1545, -0.0925, -0.2623,  0.0334,  0.1364, -0.5172,\n",
       "           0.2354, -0.0140,  0.2086, -0.6469],\n",
       "         [-0.2444, -0.1347,  0.1068, -0.1160,  0.0289,  0.0774,  0.5279, -0.4575,\n",
       "          -0.0143,  0.1037, -0.2604, -0.4259],\n",
       "         [ 0.5905,  0.1118,  0.1545, -0.0925, -0.2623,  0.0334,  0.1364, -0.5172,\n",
       "           0.2354, -0.0140,  0.2086, -0.6469]], device='cuda:0',\n",
       "        grad_fn=<AsStridedBackward>),\n",
       " tensor([[-1.3245,  0.1004,  2.5290, -0.4934],\n",
       "         [-1.3245,  0.1004,  2.5290, -0.4934],\n",
       "         [-1.3245,  0.1004,  2.5290, -0.4934],\n",
       "         [-1.3245,  0.1004,  2.5290, -0.4934],\n",
       "         [-1.3245,  0.1004,  2.5290, -0.4934],\n",
       "         [-1.3245,  0.1004,  2.5290, -0.4934],\n",
       "         [-1.3245,  0.1004,  2.5290, -0.4934],\n",
       "         [-1.3245,  0.1004,  2.5290, -0.4934],\n",
       "         [-1.3245,  0.1004,  2.5290, -0.4934],\n",
       "         [-1.3245,  0.1004,  2.5290, -0.4934]], device='cuda:0',\n",
       "        grad_fn=<AsStridedBackward>))"
      ]
     },
     "execution_count": 10,
     "metadata": {},
     "output_type": "execute_result"
    }
   ],
   "source": [
    "theta"
   ]
  },
  {
   "cell_type": "code",
   "execution_count": 11,
   "metadata": {},
   "outputs": [
    {
     "data": {
      "text/plain": [
       "tensor([-3682839.5000, -3068946.2500, -5431378.0000, -3591961.5000,\n",
       "        -5023071.0000, -6094434.0000, -4884586.0000, -4503638.0000,\n",
       "        -2264719.5000, -4564189.5000], device='cuda:0', grad_fn=<AddBackward0>)"
      ]
     },
     "execution_count": 11,
     "metadata": {},
     "output_type": "execute_result"
    }
   ],
   "source": [
    "log_weight"
   ]
  },
  {
   "cell_type": "code",
   "execution_count": 12,
   "metadata": {},
   "outputs": [],
   "source": [
    "torch.save(agent, 'examples/fep_control/fep_bipedal_walker_agent.dat')"
   ]
  },
  {
   "cell_type": "code",
   "execution_count": null,
   "metadata": {},
   "outputs": [],
   "source": []
  }
 ],
 "metadata": {
  "kernelspec": {
   "display_name": "funcytorch",
   "language": "python",
   "name": "funcytorch"
  },
  "language_info": {
   "codemirror_mode": {
    "name": "ipython",
    "version": 3
   },
   "file_extension": ".py",
   "mimetype": "text/x-python",
   "name": "python",
   "nbconvert_exporter": "python",
   "pygments_lexer": "ipython3",
   "version": "3.6.5"
  }
 },
 "nbformat": 4,
 "nbformat_minor": 2
}
