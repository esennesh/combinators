{
 "cells": [
  {
   "cell_type": "code",
   "execution_count": 1,
   "metadata": {},
   "outputs": [
    {
     "name": "stdout",
     "output_type": "stream",
     "text": [
      "/home/eli/AnacondaProjects/combinators\n"
     ]
    }
   ],
   "source": [
    "%cd ../.."
   ]
  },
  {
   "cell_type": "code",
   "execution_count": 2,
   "metadata": {},
   "outputs": [],
   "source": [
    "import logging\n",
    "\n",
    "import numpy as np\n",
    "import probtorch\n",
    "import torch\n",
    "\n",
    "from examples.fep_control import fep_control\n",
    "from combinators.model import active\n",
    "from combinators.model import compose, foldable\n",
    "from combinators.inference import importance, mcmc\n",
    "from combinators import utils"
   ]
  },
  {
   "cell_type": "code",
   "execution_count": 3,
   "metadata": {},
   "outputs": [],
   "source": [
    "logging.basicConfig(format='%(asctime)s %(message)s', datefmt='%m/%d/%Y %H:%M:%S',\n",
    "                    level=logging.INFO)"
   ]
  },
  {
   "cell_type": "code",
   "execution_count": 4,
   "metadata": {},
   "outputs": [],
   "source": [
    "target = fep_control.BipedalWalkerAgent(functional_dim=12, perceptual_dim=12, batch_shape=(10,), trainable=False)\n",
    "proposal = fep_control.RecognitionAgent(functional_dim=12, perceptual_dim=12, action_dim=4, observation_dim=24, batch_shape=(10,),\n",
    "                                        discrete_actions=False, name='BipedalWalkerAgent', trainable=True)\n",
    "agent = importance.propose(target, proposal)"
   ]
  },
  {
   "cell_type": "code",
   "execution_count": 5,
   "metadata": {},
   "outputs": [],
   "source": [
    "episode = active.ActiveEpisode(agent, 'BipedalWalker-v2')"
   ]
  },
  {
   "cell_type": "code",
   "execution_count": 6,
   "metadata": {},
   "outputs": [],
   "source": [
    "(control, prediction, t), graph, log_weight = episode(render=True)"
   ]
  },
  {
   "cell_type": "code",
   "execution_count": 7,
   "metadata": {},
   "outputs": [
    {
     "name": "stderr",
     "output_type": "stream",
     "text": [
      "06/28/2019 15:43:42 Episode length: 236\n",
      "06/28/2019 15:43:43 ELBO=-8.60828750e+04 per step at epoch 1\n",
      "06/28/2019 15:43:44 Episode length: 260\n",
      "06/28/2019 15:43:45 ELBO=-8.54877656e+04 per step at epoch 2\n",
      "06/28/2019 15:43:46 Episode length: 65\n",
      "06/28/2019 15:43:46 ELBO=-9.60230391e+04 per step at epoch 3\n",
      "06/28/2019 15:43:46 Episode length: 55\n",
      "06/28/2019 15:43:46 ELBO=-8.45359531e+04 per step at epoch 4\n",
      "06/28/2019 15:43:47 Episode length: 74\n",
      "06/28/2019 15:43:47 ELBO=-8.28399062e+04 per step at epoch 5\n",
      "06/28/2019 15:43:47 Episode length: 97\n",
      "06/28/2019 15:43:48 ELBO=-7.55310234e+04 per step at epoch 6\n",
      "06/28/2019 15:43:48 Episode length: 92\n",
      "06/28/2019 15:43:49 ELBO=-1.06143117e+05 per step at epoch 7\n",
      "06/28/2019 15:43:49 Episode length: 191\n",
      "06/28/2019 15:43:50 ELBO=-7.82233594e+04 per step at epoch 8\n",
      "06/28/2019 15:43:50 Episode length: 65\n",
      "06/28/2019 15:43:51 ELBO=-1.09900070e+05 per step at epoch 9\n",
      "06/28/2019 15:43:51 Episode length: 50\n",
      "06/28/2019 15:43:51 ELBO=-1.02194922e+05 per step at epoch 10\n",
      "06/28/2019 15:43:51 Episode length: 43\n",
      "06/28/2019 15:43:51 ELBO=-7.10758438e+04 per step at epoch 11\n",
      "06/28/2019 15:43:52 Episode length: 72\n",
      "06/28/2019 15:43:52 ELBO=-6.84306172e+04 per step at epoch 12\n",
      "06/28/2019 15:43:55 Episode length: 639\n",
      "06/28/2019 15:43:57 ELBO=-7.78941328e+04 per step at epoch 13\n",
      "06/28/2019 15:43:57 Episode length: 89\n",
      "06/28/2019 15:43:58 ELBO=-6.41592461e+04 per step at epoch 14\n",
      "06/28/2019 15:43:58 Episode length: 53\n",
      "06/28/2019 15:43:58 ELBO=-8.55832891e+04 per step at epoch 15\n",
      "06/28/2019 15:43:58 Episode length: 66\n",
      "06/28/2019 15:43:59 ELBO=-6.49723320e+04 per step at epoch 16\n",
      "06/28/2019 15:43:59 Episode length: 51\n",
      "06/28/2019 15:43:59 ELBO=-6.52728828e+04 per step at epoch 17\n",
      "06/28/2019 15:44:00 Episode length: 141\n",
      "06/28/2019 15:44:00 ELBO=-6.38393672e+04 per step at epoch 18\n",
      "06/28/2019 15:44:01 Episode length: 266\n",
      "06/28/2019 15:44:02 ELBO=-8.34887109e+04 per step at epoch 19\n",
      "06/28/2019 15:44:03 Episode length: 65\n",
      "06/28/2019 15:44:03 ELBO=-1.11923391e+05 per step at epoch 20\n",
      "06/28/2019 15:44:03 Episode length: 64\n",
      "06/28/2019 15:44:03 ELBO=-1.06702180e+05 per step at epoch 21\n",
      "06/28/2019 15:44:04 Episode length: 112\n",
      "06/28/2019 15:44:04 ELBO=-8.51808906e+04 per step at epoch 22\n",
      "06/28/2019 15:44:05 Episode length: 64\n",
      "06/28/2019 15:44:05 ELBO=-9.26218359e+04 per step at epoch 23\n",
      "06/28/2019 15:44:06 Episode length: 166\n",
      "06/28/2019 15:44:06 ELBO=-7.16644609e+04 per step at epoch 24\n",
      "06/28/2019 15:44:10 Episode length: 951\n",
      "06/28/2019 15:44:14 ELBO=-7.88014453e+04 per step at epoch 25\n",
      "06/28/2019 15:44:16 Episode length: 532\n",
      "06/28/2019 15:44:19 ELBO=-8.25803125e+04 per step at epoch 26\n",
      "06/28/2019 15:44:19 Episode length: 197\n",
      "06/28/2019 15:44:20 ELBO=-8.08252812e+04 per step at epoch 27\n",
      "06/28/2019 15:44:21 Episode length: 80\n",
      "06/28/2019 15:44:21 ELBO=-9.70237188e+04 per step at epoch 28\n",
      "06/28/2019 15:44:21 Episode length: 98\n",
      "06/28/2019 15:44:22 ELBO=-5.88431797e+04 per step at epoch 29\n",
      "06/28/2019 15:44:22 Episode length: 36\n",
      "06/28/2019 15:44:22 ELBO=-8.07397109e+04 per step at epoch 30\n",
      "06/28/2019 15:44:22 Episode length: 35\n",
      "06/28/2019 15:44:22 ELBO=-8.38858906e+04 per step at epoch 31\n",
      "06/28/2019 15:44:23 Episode length: 62\n",
      "06/28/2019 15:44:23 ELBO=-9.87438125e+04 per step at epoch 32\n",
      "06/28/2019 15:44:23 Episode length: 57\n",
      "06/28/2019 15:44:23 ELBO=-7.89376172e+04 per step at epoch 33\n",
      "06/28/2019 15:44:24 Episode length: 71\n",
      "06/28/2019 15:44:24 ELBO=-8.36176094e+04 per step at epoch 34\n",
      "06/28/2019 15:44:24 Episode length: 58\n",
      "06/28/2019 15:44:24 ELBO=-8.81230078e+04 per step at epoch 35\n",
      "06/28/2019 15:44:26 Episode length: 395\n",
      "06/28/2019 15:44:28 ELBO=-7.17616016e+04 per step at epoch 36\n",
      "06/28/2019 15:44:28 Episode length: 57\n",
      "06/28/2019 15:44:28 ELBO=-8.29239141e+04 per step at epoch 37\n",
      "06/28/2019 15:44:29 Episode length: 181\n",
      "06/28/2019 15:44:30 ELBO=-7.42011094e+04 per step at epoch 38\n",
      "06/28/2019 15:44:30 Episode length: 40\n",
      "06/28/2019 15:44:30 ELBO=-8.20187656e+04 per step at epoch 39\n",
      "06/28/2019 15:44:30 Episode length: 88\n",
      "06/28/2019 15:44:31 ELBO=-7.89823828e+04 per step at epoch 40\n",
      "06/28/2019 15:44:32 Episode length: 394\n",
      "06/28/2019 15:44:34 ELBO=-6.84883438e+04 per step at epoch 41\n",
      "06/28/2019 15:44:34 Episode length: 100\n",
      "06/28/2019 15:44:35 ELBO=-9.53131406e+04 per step at epoch 42\n",
      "06/28/2019 15:44:35 Episode length: 45\n",
      "06/28/2019 15:44:35 ELBO=-8.34048359e+04 per step at epoch 43\n",
      "06/28/2019 15:44:35 Episode length: 55\n",
      "06/28/2019 15:44:36 ELBO=-8.15186172e+04 per step at epoch 44\n",
      "06/28/2019 15:44:36 Episode length: 59\n",
      "06/28/2019 15:44:36 ELBO=-7.16810859e+04 per step at epoch 45\n",
      "06/28/2019 15:44:36 Episode length: 88\n",
      "06/28/2019 15:44:37 ELBO=-1.25271125e+05 per step at epoch 46\n",
      "06/28/2019 15:44:37 Episode length: 58\n",
      "06/28/2019 15:44:37 ELBO=-6.51388672e+04 per step at epoch 47\n",
      "06/28/2019 15:44:38 Episode length: 81\n",
      "06/28/2019 15:44:38 ELBO=-7.98727188e+04 per step at epoch 48\n",
      "06/28/2019 15:44:41 Episode length: 664\n",
      "06/28/2019 15:44:43 ELBO=-7.24740781e+04 per step at epoch 49\n",
      "06/28/2019 15:44:43 Episode length: 83\n",
      "06/28/2019 15:44:44 ELBO=-9.93375938e+04 per step at epoch 50\n",
      "06/28/2019 15:44:44 Episode length: 45\n",
      "06/28/2019 15:44:44 ELBO=-1.06674109e+05 per step at epoch 51\n",
      "06/28/2019 15:44:45 Episode length: 76\n",
      "06/28/2019 15:44:45 ELBO=-9.11300703e+04 per step at epoch 52\n",
      "06/28/2019 15:44:45 Episode length: 69\n",
      "06/28/2019 15:44:45 ELBO=-6.48285156e+04 per step at epoch 53\n",
      "06/28/2019 15:44:46 Episode length: 74\n",
      "06/28/2019 15:44:46 ELBO=-7.69178906e+04 per step at epoch 54\n",
      "06/28/2019 15:44:46 Episode length: 84\n",
      "06/28/2019 15:44:47 ELBO=-6.16925664e+04 per step at epoch 55\n",
      "06/28/2019 15:44:49 Episode length: 506\n",
      "06/28/2019 15:44:51 ELBO=-7.86441250e+04 per step at epoch 56\n",
      "06/28/2019 15:44:51 Episode length: 53\n",
      "06/28/2019 15:44:51 ELBO=-7.03170781e+04 per step at epoch 57\n",
      "06/28/2019 15:44:53 Episode length: 501\n",
      "06/28/2019 15:44:55 ELBO=-7.94568906e+04 per step at epoch 58\n",
      "06/28/2019 15:44:55 Episode length: 73\n",
      "06/28/2019 15:44:56 ELBO=-8.93371797e+04 per step at epoch 59\n",
      "06/28/2019 15:44:56 Episode length: 159\n",
      "06/28/2019 15:44:57 ELBO=-1.12116789e+05 per step at epoch 60\n",
      "06/28/2019 15:44:57 Episode length: 37\n",
      "06/28/2019 15:44:57 ELBO=-8.90186562e+04 per step at epoch 61\n",
      "06/28/2019 15:44:58 Episode length: 65\n",
      "06/28/2019 15:44:58 ELBO=-6.23183906e+04 per step at epoch 62\n",
      "06/28/2019 15:44:58 Episode length: 100\n",
      "06/28/2019 15:44:59 ELBO=-7.45078516e+04 per step at epoch 63\n",
      "06/28/2019 15:45:01 Episode length: 498\n",
      "06/28/2019 15:45:03 ELBO=-8.29545781e+04 per step at epoch 64\n",
      "06/28/2019 15:45:03 Episode length: 53\n",
      "06/28/2019 15:45:03 ELBO=-7.35115234e+04 per step at epoch 65\n",
      "06/28/2019 15:45:04 Episode length: 45\n",
      "06/28/2019 15:45:04 ELBO=-6.73925859e+04 per step at epoch 66\n",
      "06/28/2019 15:45:04 Episode length: 116\n",
      "06/28/2019 15:45:05 ELBO=-6.40557656e+04 per step at epoch 67\n",
      "06/28/2019 15:45:05 Episode length: 93\n",
      "06/28/2019 15:45:05 ELBO=-1.14584305e+05 per step at epoch 68\n",
      "06/28/2019 15:45:06 Episode length: 220\n",
      "06/28/2019 15:45:07 ELBO=-6.11233633e+04 per step at epoch 69\n",
      "06/28/2019 15:45:08 Episode length: 55\n",
      "06/28/2019 15:45:08 ELBO=-8.63553672e+04 per step at epoch 70\n",
      "06/28/2019 15:45:08 Episode length: 47\n",
      "06/28/2019 15:45:08 ELBO=-4.54477539e+04 per step at epoch 71\n",
      "06/28/2019 15:45:10 Episode length: 384\n",
      "06/28/2019 15:45:11 ELBO=-8.46839141e+04 per step at epoch 72\n",
      "06/28/2019 15:45:12 Episode length: 79\n",
      "06/28/2019 15:45:12 ELBO=-9.46766328e+04 per step at epoch 73\n",
      "06/28/2019 15:45:12 Episode length: 44\n",
      "06/28/2019 15:45:12 ELBO=-8.36040625e+04 per step at epoch 74\n",
      "06/28/2019 15:45:13 Episode length: 153\n",
      "06/28/2019 15:45:14 ELBO=-7.66169141e+04 per step at epoch 75\n",
      "06/28/2019 15:45:14 Episode length: 77\n",
      "06/28/2019 15:45:14 ELBO=-2.55860234e+04 per step at epoch 76\n",
      "06/28/2019 15:45:15 Episode length: 56\n",
      "06/28/2019 15:45:15 ELBO=-8.32174375e+04 per step at epoch 77\n",
      "06/28/2019 15:45:16 Episode length: 286\n",
      "06/28/2019 15:45:17 ELBO=-7.94149375e+04 per step at epoch 78\n",
      "06/28/2019 15:45:17 Episode length: 60\n",
      "06/28/2019 15:45:17 ELBO=-9.04231562e+04 per step at epoch 79\n",
      "06/28/2019 15:45:18 Episode length: 46\n",
      "06/28/2019 15:45:18 ELBO=-7.46970234e+04 per step at epoch 80\n",
      "06/28/2019 15:45:18 Episode length: 98\n",
      "06/28/2019 15:45:19 ELBO=-5.75510469e+04 per step at epoch 81\n",
      "06/28/2019 15:45:19 Episode length: 76\n",
      "06/28/2019 15:45:19 ELBO=-1.16738656e+05 per step at epoch 82\n",
      "06/28/2019 15:45:20 Episode length: 54\n",
      "06/28/2019 15:45:20 ELBO=-4.28743047e+04 per step at epoch 83\n",
      "06/28/2019 15:45:20 Episode length: 42\n",
      "06/28/2019 15:45:20 ELBO=-8.67018203e+04 per step at epoch 84\n",
      "06/28/2019 15:45:20 Episode length: 76\n",
      "06/28/2019 15:45:21 ELBO=-6.97107031e+04 per step at epoch 85\n",
      "06/28/2019 15:45:21 Episode length: 58\n",
      "06/28/2019 15:45:21 ELBO=-4.53445664e+04 per step at epoch 86\n",
      "06/28/2019 15:45:21 Episode length: 55\n",
      "06/28/2019 15:45:22 ELBO=-6.35826172e+04 per step at epoch 87\n",
      "06/28/2019 15:45:22 Episode length: 68\n",
      "06/28/2019 15:45:22 ELBO=-7.06018750e+04 per step at epoch 88\n",
      "06/28/2019 15:45:23 Episode length: 113\n",
      "06/28/2019 15:45:23 ELBO=-8.54852578e+04 per step at epoch 89\n",
      "06/28/2019 15:45:23 Episode length: 45\n",
      "06/28/2019 15:45:23 ELBO=-7.42720312e+04 per step at epoch 90\n",
      "06/28/2019 15:45:24 Episode length: 100\n",
      "06/28/2019 15:45:24 ELBO=-9.36745312e+04 per step at epoch 91\n",
      "06/28/2019 15:45:26 Episode length: 351\n",
      "06/28/2019 15:45:27 ELBO=-8.60124922e+04 per step at epoch 92\n",
      "06/28/2019 15:45:27 Episode length: 53\n",
      "06/28/2019 15:45:27 ELBO=-6.50693359e+04 per step at epoch 93\n",
      "06/28/2019 15:45:28 Episode length: 61\n",
      "06/28/2019 15:45:28 ELBO=-7.47649375e+04 per step at epoch 94\n",
      "06/28/2019 15:45:28 Episode length: 65\n",
      "06/28/2019 15:45:28 ELBO=-2.71344355e+04 per step at epoch 95\n",
      "06/28/2019 15:45:29 Episode length: 53\n",
      "06/28/2019 15:45:29 ELBO=-1.06406992e+05 per step at epoch 96\n",
      "06/28/2019 15:45:29 Episode length: 52\n",
      "06/28/2019 15:45:29 ELBO=-8.42921719e+04 per step at epoch 97\n",
      "06/28/2019 15:45:29 Episode length: 49\n",
      "06/28/2019 15:45:30 ELBO=-9.01888438e+04 per step at epoch 98\n",
      "06/28/2019 15:45:30 Episode length: 48\n",
      "06/28/2019 15:45:30 ELBO=-4.75393125e+04 per step at epoch 99\n",
      "06/28/2019 15:45:30 Episode length: 50\n",
      "06/28/2019 15:45:30 ELBO=-6.31148984e+04 per step at epoch 100\n"
     ]
    }
   ],
   "source": [
    "xi, trained_params, elbos = active.active_variational(episode, 100, lr=1e-3, log_estimator=True, patience=None)"
   ]
  },
  {
   "cell_type": "code",
   "execution_count": 8,
   "metadata": {},
   "outputs": [
    {
     "data": {
      "image/png": "[encoded data removed]",
      "text/plain": [
       "<Figure size 720x720 with 1 Axes>"
      ]
     },
     "metadata": {
      "needs_background": "light"
     },
     "output_type": "display_data"
    }
   ],
   "source": [
    "utils.plot_evidence_bounds(elbos[:, 0].cpu().detach().numpy())"
   ]
  },
  {
   "cell_type": "code",
   "execution_count": null,
   "metadata": {},
   "outputs": [],
   "source": [
    "(control, prediction, t), graph, log_weight = episode(render=True)"
   ]
  },
  {
   "cell_type": "code",
   "execution_count": 10,
   "metadata": {},
   "outputs": [
    {
     "data": {
      "text/plain": [
       "tensor([[ 0.3182, -0.4804, -0.7812,  0.0889],\n",
       "        [ 0.3182, -0.4804, -0.7812,  0.0889],\n",
       "        [ 0.3182, -0.4804, -0.7812,  0.0889],\n",
       "        [ 0.3182, -0.4804, -0.7812,  0.0889],\n",
       "        [ 0.3182, -0.4804, -0.7812,  0.0889],\n",
       "        [ 0.3182, -0.4804, -0.7812,  0.0889],\n",
       "        [ 0.3182, -0.4804, -0.7812,  0.0889],\n",
       "        [ 0.3182, -0.4804, -0.7812,  0.0889],\n",
       "        [ 0.3182, -0.4804, -0.7812,  0.0889],\n",
       "        [ 0.3182, -0.4804, -0.7812,  0.0889]], grad_fn=<ExpandBackward>)"
      ]
     },
     "execution_count": 10,
     "metadata": {},
     "output_type": "execute_result"
    }
   ],
   "source": [
    "control"
   ]
  },
  {
   "cell_type": "code",
   "execution_count": 11,
   "metadata": {},
   "outputs": [
    {
     "data": {
      "text/plain": [
       "{'loc': tensor([[ 1.5955e-02,  6.2251e-02, -4.4485e-02,  1.2307e-04,  3.6645e-02,\n",
       "           5.1393e-03,  2.7895e-02, -1.1177e-02, -1.7841e-02,  5.0468e-02,\n",
       "           2.7216e-02,  2.4106e-02, -1.6215e-01, -5.5781e-02,  1.5816e-01,\n",
       "          -1.8630e-01, -3.3667e-02, -8.5307e-02,  1.4422e-02, -2.1256e-01,\n",
       "          -7.9198e-02, -1.3165e-01,  6.8515e-02,  9.9637e-02],\n",
       "         [ 4.2067e-03,  3.2866e-02, -4.4460e-02,  2.1540e-02,  2.9879e-02,\n",
       "           1.7779e-02,  4.2255e-02, -2.5539e-02, -5.2270e-02,  2.3679e-02,\n",
       "           1.7962e-02,  4.2102e-02, -1.8654e-01, -6.1588e-02,  1.3696e-01,\n",
       "          -2.2060e-01, -3.2557e-02, -1.2264e-01,  3.8451e-02, -2.5778e-01,\n",
       "          -8.6270e-02, -1.8850e-01,  1.1020e-01,  1.1329e-01],\n",
       "         [ 1.4012e-02,  4.5353e-02, -3.5089e-02, -1.3581e-02,  2.2729e-02,\n",
       "          -2.8831e-03,  3.8776e-02, -2.5500e-02, -2.2743e-02,  3.3708e-02,\n",
       "           6.0445e-02,  4.2846e-02, -1.4918e-01, -1.6341e-02,  1.4319e-01,\n",
       "          -1.9670e-01, -2.6671e-02, -1.1578e-01,  1.9286e-02, -1.8670e-01,\n",
       "          -6.7063e-02, -1.1476e-01,  6.8531e-02,  8.1092e-02],\n",
       "         [ 1.8855e-02,  3.8578e-02, -1.9890e-02,  4.5717e-03,  2.5806e-02,\n",
       "          -3.3602e-04,  1.5932e-02, -3.1385e-03, -1.5085e-02,  3.5076e-02,\n",
       "           2.7624e-02,  3.3010e-02, -1.8946e-01, -7.8470e-02,  1.5038e-01,\n",
       "          -2.1056e-01, -1.7981e-02, -9.3563e-02,  4.4580e-02, -2.4049e-01,\n",
       "          -6.4562e-02, -1.9159e-01,  9.4672e-02,  7.4876e-02],\n",
       "         [-4.1946e-03,  2.8293e-03, -2.6949e-02,  1.5832e-02,  3.1782e-03,\n",
       "           3.1101e-02,  5.1198e-03, -6.6680e-03, -2.0603e-02,  2.3877e-02,\n",
       "           3.7582e-02,  3.5301e-02, -1.7184e-01, -2.4289e-02,  1.1375e-01,\n",
       "          -1.6630e-01, -4.3081e-02, -9.3682e-02,  4.7447e-02, -1.7260e-01,\n",
       "          -7.5233e-02, -1.2411e-01,  6.0904e-02,  6.8784e-02],\n",
       "         [ 3.7585e-02,  2.9234e-02, -4.6383e-02, -9.4516e-03,  2.9217e-02,\n",
       "           2.4918e-02,  4.1793e-02,  1.2924e-02, -3.1630e-02,  3.3917e-02,\n",
       "           2.7825e-02,  4.8670e-02, -1.2568e-01, -4.1305e-02,  1.0575e-01,\n",
       "          -1.6818e-01, -1.3831e-02, -7.3727e-02,  4.2386e-02, -1.8781e-01,\n",
       "          -6.0586e-02, -1.1353e-01,  4.1212e-02,  7.2506e-02],\n",
       "         [ 7.0769e-03, -6.2742e-03, -2.3208e-02,  4.0306e-02,  1.4351e-02,\n",
       "           1.0973e-02,  2.5166e-02,  3.4645e-03, -2.7644e-02,  1.1994e-02,\n",
       "           3.0097e-02,  2.1464e-02, -1.6000e-01, -1.7264e-02,  1.2539e-01,\n",
       "          -1.5695e-01, -4.6317e-02, -7.7789e-02,  6.1443e-02, -1.8630e-01,\n",
       "          -7.8102e-02, -1.2100e-01,  5.6863e-02,  8.1507e-02],\n",
       "         [-1.4007e-02,  2.9981e-02, -3.4766e-02, -1.7023e-03,  1.9467e-02,\n",
       "           2.3933e-03,  1.6753e-02, -3.2785e-02, -1.6904e-02,  2.7698e-02,\n",
       "           3.0798e-02,  3.4165e-02, -2.1104e-01, -4.4637e-02,  1.6330e-01,\n",
       "          -2.2642e-01, -4.0654e-02, -1.1687e-01,  5.4908e-02, -2.2812e-01,\n",
       "          -7.6249e-02, -1.7113e-01,  1.0370e-01,  8.0182e-02],\n",
       "         [ 2.6419e-03,  2.4571e-02, -3.4708e-02,  2.4989e-02,  1.8832e-02,\n",
       "          -6.9451e-04,  1.7211e-02, -1.8024e-02, -3.5623e-02,  1.1894e-02,\n",
       "           3.0307e-02,  4.0294e-02, -1.6048e-01, -5.2420e-02,  1.6654e-01,\n",
       "          -2.0697e-01, -8.3559e-04, -1.2575e-01,  2.6454e-02, -2.0672e-01,\n",
       "          -7.5590e-02, -1.7346e-01,  8.7620e-02,  9.3740e-02],\n",
       "         [ 2.6537e-02,  1.6226e-02, -7.6667e-02, -1.8470e-02, -1.5086e-03,\n",
       "           3.4389e-02,  2.2425e-02,  1.5921e-02, -3.7267e-02,  5.5339e-03,\n",
       "           2.8586e-02,  1.4863e-02, -1.3859e-01, -8.3398e-02,  1.3758e-01,\n",
       "          -1.9566e-01, -2.9892e-02, -9.0491e-02,  1.3687e-03, -1.9800e-01,\n",
       "          -7.0463e-02, -1.6799e-01,  8.0469e-02,  8.7254e-02]],\n",
       "        grad_fn=<SelectBackward>),\n",
       " 'scale': tensor([[0.6889, 0.7204, 0.7128, 0.7174, 0.7191, 0.6827, 0.6861, 0.6996, 0.7308,\n",
       "          0.7063, 0.7075, 0.6985, 0.6534, 0.7288, 0.6564, 0.6930, 0.7192, 0.6618,\n",
       "          0.7002, 0.9242, 0.6726, 0.6868, 0.7692, 0.6526],\n",
       "         [0.7067, 0.7315, 0.7189, 0.7071, 0.7077, 0.7004, 0.7033, 0.6914, 0.7336,\n",
       "          0.7078, 0.7186, 0.7023, 0.6541, 0.7535, 0.6299, 0.7239, 0.7488, 0.6728,\n",
       "          0.7761, 1.0692, 0.6680, 0.7011, 0.8474, 0.6508],\n",
       "         [0.6763, 0.7102, 0.7126, 0.7217, 0.6983, 0.6925, 0.6772, 0.6940, 0.7201,\n",
       "          0.6920, 0.7075, 0.6910, 0.6606, 0.7314, 0.6650, 0.6962, 0.7212, 0.6834,\n",
       "          0.7198, 0.9071, 0.6646, 0.6944, 0.8054, 0.6577],\n",
       "         [0.6964, 0.7123, 0.7151, 0.7299, 0.6997, 0.6796, 0.6925, 0.6967, 0.7255,\n",
       "          0.7176, 0.7075, 0.7000, 0.6617, 0.7347, 0.6475, 0.7046, 0.7119, 0.6770,\n",
       "          0.7199, 0.9750, 0.6503, 0.6914, 0.7808, 0.6573],\n",
       "         [0.7005, 0.7123, 0.7024, 0.7068, 0.6977, 0.6900, 0.6958, 0.6963, 0.7238,\n",
       "          0.6984, 0.7053, 0.6909, 0.6709, 0.7262, 0.6775, 0.7102, 0.7178, 0.6960,\n",
       "          0.7387, 0.9105, 0.6692, 0.7093, 0.7958, 0.6669],\n",
       "         [0.6845, 0.7084, 0.6882, 0.7245, 0.6917, 0.6870, 0.7083, 0.6983, 0.7308,\n",
       "          0.7110, 0.7201, 0.6855, 0.6755, 0.7101, 0.6550, 0.6920, 0.7067, 0.6873,\n",
       "          0.7136, 0.8764, 0.6624, 0.6969, 0.7804, 0.6658],\n",
       "         [0.6895, 0.7188, 0.7024, 0.7203, 0.7051, 0.6929, 0.6932, 0.6898, 0.7255,\n",
       "          0.7061, 0.7096, 0.6953, 0.6709, 0.7187, 0.6691, 0.6981, 0.7242, 0.6996,\n",
       "          0.7367, 0.9107, 0.6668, 0.7054, 0.7905, 0.6655],\n",
       "         [0.6968, 0.7243, 0.7146, 0.7149, 0.6846, 0.6855, 0.6849, 0.7042, 0.7176,\n",
       "          0.6983, 0.7109, 0.6998, 0.6522, 0.7437, 0.6574, 0.7119, 0.7289, 0.6741,\n",
       "          0.7302, 0.9766, 0.6501, 0.6961, 0.7973, 0.6500],\n",
       "         [0.6809, 0.7141, 0.7058, 0.7037, 0.6966, 0.6902, 0.6984, 0.6844, 0.7191,\n",
       "          0.7036, 0.7113, 0.7030, 0.6609, 0.7455, 0.6545, 0.7239, 0.7228, 0.6773,\n",
       "          0.7281, 0.9744, 0.6451, 0.6949, 0.8327, 0.6536],\n",
       "         [0.7011, 0.7178, 0.6824, 0.7244, 0.6994, 0.6760, 0.7024, 0.7033, 0.7363,\n",
       "          0.7119, 0.7203, 0.6839, 0.6613, 0.7079, 0.6598, 0.6811, 0.7044, 0.6830,\n",
       "          0.7271, 0.9247, 0.6771, 0.7014, 0.7767, 0.6717]],\n",
       "        grad_fn=<SoftplusBackward>)}"
      ]
     },
     "execution_count": 11,
     "metadata": {},
     "output_type": "execute_result"
    }
   ],
   "source": [
    "prediction"
   ]
  },
  {
   "cell_type": "code",
   "execution_count": 12,
   "metadata": {},
   "outputs": [
    {
     "data": {
      "text/plain": [
       "45"
      ]
     },
     "execution_count": 12,
     "metadata": {},
     "output_type": "execute_result"
    }
   ],
   "source": [
    "t"
   ]
  },
  {
   "cell_type": "code",
   "execution_count": 13,
   "metadata": {},
   "outputs": [
    {
     "data": {
      "text/plain": [
       "tensor([-3904137.5000, -3904147.0000, -3904155.2500, -3904178.7500,\n",
       "        -3904131.7500, -3904183.0000, -3904149.7500, -3904196.0000,\n",
       "        -3904158.7500, -3904168.7500], grad_fn=<AddBackward0>)"
      ]
     },
     "execution_count": 13,
     "metadata": {},
     "output_type": "execute_result"
    }
   ],
   "source": [
    "log_weight"
   ]
  },
  {
   "cell_type": "code",
   "execution_count": 14,
   "metadata": {},
   "outputs": [],
   "source": [
    "torch.save(agent, 'examples/fep_control/fep_bipedal_walker_agent.dat')"
   ]
  },
  {
   "cell_type": "code",
   "execution_count": null,
   "metadata": {},
   "outputs": [],
   "source": []
  }
 ],
 "metadata": {
  "kernelspec": {
   "display_name": "Python [conda env:funcytorch] *",
   "language": "python",
   "name": "conda-env-funcytorch-py"
  },
  "language_info": {
   "codemirror_mode": {
    "name": "ipython",
    "version": 3
   },
   "file_extension": ".py",
   "mimetype": "text/x-python",
   "name": "python",
   "nbconvert_exporter": "python",
   "pygments_lexer": "ipython3",
   "version": "3.6.8"
  }
 },
 "nbformat": 4,
 "nbformat_minor": 2
}
