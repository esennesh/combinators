{
 "cells": [
  {
   "cell_type": "code",
   "execution_count": 1,
   "metadata": {},
   "outputs": [
    {
     "name": "stdout",
     "output_type": "stream",
     "text": [
      "/home/eli/AnacondaProjects/combinators\n"
     ]
    }
   ],
   "source": [
    "%cd ../.."
   ]
  },
  {
   "cell_type": "code",
   "execution_count": 2,
   "metadata": {},
   "outputs": [],
   "source": [
    "import logging\n",
    "\n",
    "import numpy as np\n",
    "import probtorch\n",
    "import torch\n",
    "\n",
    "from examples.fep_control import fep_control\n",
    "from combinators.model import active\n",
    "from combinators.model import compose, foldable\n",
    "from combinators.inference import importance, mcmc\n",
    "from combinators import utils"
   ]
  },
  {
   "cell_type": "code",
   "execution_count": 3,
   "metadata": {},
   "outputs": [],
   "source": [
    "logging.basicConfig(format='%(asctime)s %(message)s', datefmt='%m/%d/%Y %H:%M:%S',\n",
    "                    level=logging.INFO)"
   ]
  },
  {
   "cell_type": "code",
   "execution_count": 4,
   "metadata": {},
   "outputs": [],
   "source": [
    "target_actor = fep_control.BipedalWalkerActor(state_dim=12, batch_shape=(10,), trainable=True)\n",
    "target_observer = fep_control.GenerativeObserver(observation_dim=24, batch_shape=(10,), trainable=False)\n",
    "target = compose(target_observer, target_actor)\n",
    "\n",
    "proposal_actor = fep_control.RecognitionActor(state_dim=12, action_dim=4, observation_dim=24, batch_shape=(10,),\n",
    "                                              discrete_actions=False, name='BipedalWalkerActor', trainable=True)\n",
    "proposal_encoder = fep_control.RecognitionEncoder(state_dim=12, observation_dim=24, batch_shape=(10,), trainable=True)\n",
    "proposal = compose(proposal_encoder, proposal_actor)\n",
    "\n",
    "agent = importance.propose(target, proposal)"
   ]
  },
  {
   "cell_type": "code",
   "execution_count": 5,
   "metadata": {},
   "outputs": [],
   "source": [
    "theta, graph, log_weight = active.active_inference_test(agent, 'BipedalWalker-v2', online_inference=False, iterations=1000)"
   ]
  },
  {
   "cell_type": "code",
   "execution_count": 6,
   "metadata": {},
   "outputs": [
    {
     "name": "stderr",
     "output_type": "stream",
     "text": [
      "06/02/2019 18:18:00 ELBO=-3.49276242e+10 at episode 0 of length 1000\n",
      "06/02/2019 18:18:12 ELBO=-1.41101902e+13 at episode 1 of length 68\n",
      "06/02/2019 18:18:24 ELBO=-3.44590528e+14 at episode 2 of length 67\n",
      "06/02/2019 18:18:37 ELBO=-3.31420716e+12 at episode 3 of length 62\n",
      "06/02/2019 18:18:49 ELBO=-6.48390509e+11 at episode 4 of length 116\n",
      "06/02/2019 18:19:00 ELBO=-3.98686585e+11 at episode 5 of length 77\n",
      "06/02/2019 18:19:13 ELBO=-9.41829652e+11 at episode 6 of length 81\n",
      "06/02/2019 18:19:25 ELBO=-1.37365566e+12 at episode 7 of length 60\n",
      "06/02/2019 18:19:37 ELBO=-3.80222702e+11 at episode 8 of length 54\n",
      "06/02/2019 18:19:48 ELBO=-5.61514611e+11 at episode 9 of length 139\n",
      "06/02/2019 18:20:00 ELBO=-2.42427167e+11 at episode 10 of length 54\n",
      "06/02/2019 18:20:13 ELBO=-1.03951919e+12 at episode 11 of length 97\n",
      "06/02/2019 18:20:25 ELBO=-1.17920144e+12 at episode 12 of length 112\n",
      "06/02/2019 18:20:36 ELBO=-2.02498140e+12 at episode 13 of length 134\n",
      "06/02/2019 18:20:48 ELBO=-4.06397452e+11 at episode 14 of length 53\n",
      "06/02/2019 18:21:00 ELBO=-3.10819881e+11 at episode 15 of length 294\n",
      "06/02/2019 18:21:12 ELBO=-1.40904890e+11 at episode 16 of length 167\n",
      "06/02/2019 18:21:24 ELBO=-6.00431264e+11 at episode 17 of length 73\n",
      "06/02/2019 18:21:37 ELBO=-2.01121110e+12 at episode 18 of length 44\n",
      "06/02/2019 18:21:49 ELBO=-3.66566310e+11 at episode 19 of length 71\n",
      "06/02/2019 18:22:01 ELBO=-3.49658710e+11 at episode 20 of length 81\n",
      "06/02/2019 18:22:13 ELBO=-2.11638551e+11 at episode 21 of length 41\n",
      "06/02/2019 18:22:24 ELBO=-1.18040822e+11 at episode 22 of length 453\n",
      "06/02/2019 18:22:36 ELBO=-6.29818720e+11 at episode 23 of length 47\n",
      "06/02/2019 18:22:48 ELBO=-9.14792907e+11 at episode 24 of length 182\n",
      "06/02/2019 18:23:01 ELBO=-1.09505151e+11 at episode 25 of length 66\n",
      "06/02/2019 18:23:12 ELBO=-1.98849937e+11 at episode 26 of length 195\n",
      "06/02/2019 18:23:24 ELBO=-4.69224227e+11 at episode 27 of length 75\n",
      "06/02/2019 18:23:37 ELBO=-1.62539684e+11 at episode 28 of length 161\n",
      "06/02/2019 18:23:49 ELBO=-2.95920239e+11 at episode 29 of length 75\n",
      "06/02/2019 18:24:01 ELBO=-2.51931689e+11 at episode 30 of length 111\n",
      "06/02/2019 18:24:13 ELBO=-3.76572543e+11 at episode 31 of length 79\n",
      "06/02/2019 18:24:25 ELBO=-1.31114492e+11 at episode 32 of length 78\n",
      "06/02/2019 18:24:37 ELBO=-3.74542762e+11 at episode 33 of length 35\n",
      "06/02/2019 18:24:49 ELBO=-3.71633947e+11 at episode 34 of length 198\n",
      "06/02/2019 18:25:01 ELBO=-8.48109814e+10 at episode 35 of length 315\n",
      "06/02/2019 18:25:13 ELBO=-7.05453261e+10 at episode 36 of length 143\n",
      "06/02/2019 18:25:24 ELBO=-2.50597147e+11 at episode 37 of length 335\n",
      "06/02/2019 18:25:36 ELBO=-8.81202545e+10 at episode 38 of length 63\n",
      "06/02/2019 18:25:48 ELBO=-1.29265230e+11 at episode 39 of length 123\n",
      "06/02/2019 18:25:59 ELBO=-1.42281490e+11 at episode 40 of length 104\n",
      "06/02/2019 18:26:12 ELBO=-4.60421207e+13 at episode 41 of length 101\n",
      "06/02/2019 18:26:25 ELBO=-1.19890035e+11 at episode 42 of length 57\n",
      "06/02/2019 18:26:37 ELBO=-1.75522628e+11 at episode 43 of length 48\n",
      "06/02/2019 18:26:49 ELBO=-3.07518767e+11 at episode 44 of length 73\n",
      "06/02/2019 18:27:01 ELBO=-1.65815796e+11 at episode 45 of length 72\n",
      "06/02/2019 18:27:13 ELBO=-7.33114778e+10 at episode 46 of length 135\n",
      "06/02/2019 18:27:26 ELBO=-1.62001125e+11 at episode 47 of length 68\n",
      "06/02/2019 18:27:38 ELBO=-9.18533734e+10 at episode 48 of length 48\n",
      "06/02/2019 18:27:50 ELBO=-3.13249497e+11 at episode 49 of length 66\n",
      "06/02/2019 18:28:03 ELBO=-1.48201800e+11 at episode 50 of length 80\n",
      "06/02/2019 18:28:15 ELBO=-1.03000236e+11 at episode 51 of length 61\n",
      "06/02/2019 18:28:27 ELBO=-1.42831387e+11 at episode 52 of length 145\n",
      "06/02/2019 18:28:39 ELBO=-6.88273981e+10 at episode 53 of length 151\n",
      "06/02/2019 18:28:51 ELBO=-2.03327111e+11 at episode 54 of length 80\n",
      "06/02/2019 18:29:03 ELBO=-9.03785595e+10 at episode 55 of length 72\n",
      "06/02/2019 18:29:15 ELBO=-8.16485171e+10 at episode 56 of length 380\n",
      "06/02/2019 18:29:27 ELBO=-9.02767493e+10 at episode 57 of length 60\n",
      "06/02/2019 18:29:40 ELBO=-1.12560587e+11 at episode 58 of length 58\n",
      "06/02/2019 18:29:52 ELBO=-2.36920074e+10 at episode 59 of length 243\n",
      "06/02/2019 18:30:04 ELBO=-3.55730358e+11 at episode 60 of length 37\n",
      "06/02/2019 18:30:16 ELBO=-3.43389307e+11 at episode 61 of length 79\n",
      "06/02/2019 18:30:28 ELBO=-7.81950484e+10 at episode 62 of length 60\n",
      "06/02/2019 18:30:40 ELBO=-4.87651738e+10 at episode 63 of length 382\n",
      "06/02/2019 18:30:53 ELBO=-6.30823404e+10 at episode 64 of length 255\n",
      "06/02/2019 18:31:04 ELBO=-9.39018977e+10 at episode 65 of length 104\n",
      "06/02/2019 18:31:16 ELBO=-1.29775157e+11 at episode 66 of length 64\n",
      "06/02/2019 18:31:28 ELBO=-1.85661637e+11 at episode 67 of length 64\n",
      "06/02/2019 18:31:41 ELBO=-2.56666534e+11 at episode 68 of length 170\n",
      "06/02/2019 18:31:52 ELBO=-5.94620293e+10 at episode 69 of length 66\n",
      "06/02/2019 18:32:05 ELBO=-7.95032781e+10 at episode 70 of length 71\n",
      "06/02/2019 18:32:17 ELBO=-5.04532869e+10 at episode 71 of length 144\n",
      "06/02/2019 18:32:29 ELBO=-2.87230657e+11 at episode 72 of length 42\n",
      "06/02/2019 18:32:42 ELBO=-2.05074248e+10 at episode 73 of length 126\n",
      "06/02/2019 18:32:55 ELBO=-2.68870484e+11 at episode 74 of length 152\n",
      "06/02/2019 18:33:07 ELBO=-3.20997396e+10 at episode 75 of length 71\n",
      "06/02/2019 18:33:20 ELBO=-2.29925650e+11 at episode 76 of length 130\n",
      "06/02/2019 18:33:32 ELBO=-4.39714734e+10 at episode 77 of length 48\n",
      "06/02/2019 18:33:44 ELBO=-4.56763924e+10 at episode 78 of length 60\n",
      "06/02/2019 18:33:55 ELBO=-2.79270359e+11 at episode 79 of length 57\n",
      "06/02/2019 18:34:07 ELBO=-3.72270981e+10 at episode 80 of length 61\n",
      "06/02/2019 18:34:19 ELBO=-7.17983007e+10 at episode 81 of length 53\n",
      "06/02/2019 18:34:31 ELBO=-2.00048558e+11 at episode 82 of length 101\n",
      "06/02/2019 18:34:43 ELBO=-1.11441773e+11 at episode 83 of length 65\n",
      "06/02/2019 18:34:55 ELBO=-1.38866246e+11 at episode 84 of length 82\n",
      "06/02/2019 18:35:07 ELBO=-9.66199296e+10 at episode 85 of length 121\n",
      "06/02/2019 18:35:18 ELBO=-1.15782418e+11 at episode 86 of length 121\n",
      "06/02/2019 18:35:30 ELBO=-1.53021137e+11 at episode 87 of length 70\n",
      "06/02/2019 18:35:41 ELBO=-2.28848910e+11 at episode 88 of length 168\n",
      "06/02/2019 18:35:53 ELBO=-7.42718996e+10 at episode 89 of length 72\n",
      "06/02/2019 18:36:05 ELBO=-3.47746755e+10 at episode 90 of length 279\n",
      "06/02/2019 18:36:16 ELBO=-3.59742095e+10 at episode 91 of length 385\n",
      "06/02/2019 18:36:29 ELBO=-9.80707738e+10 at episode 92 of length 70\n",
      "06/02/2019 18:36:41 ELBO=-8.44078940e+10 at episode 93 of length 85\n",
      "06/02/2019 18:36:52 ELBO=-1.39365990e+11 at episode 94 of length 157\n",
      "06/02/2019 18:37:05 ELBO=-9.56820685e+10 at episode 95 of length 61\n",
      "06/02/2019 18:37:16 ELBO=-5.26902723e+11 at episode 96 of length 65\n",
      "06/02/2019 18:37:29 ELBO=-1.44173597e+11 at episode 97 of length 173\n",
      "06/02/2019 18:37:42 ELBO=-3.15619758e+10 at episode 98 of length 71\n",
      "06/02/2019 18:37:54 ELBO=-1.17129052e+11 at episode 99 of length 112\n"
     ]
    }
   ],
   "source": [
    "theta, graph, log_weight = active.active_inference(agent, 'BipedalWalker-v2', lr=1e-2, episodes=100, episode_length=1000, dream=False)"
   ]
  },
  {
   "cell_type": "code",
   "execution_count": 7,
   "metadata": {},
   "outputs": [
    {
     "data": {
      "text/plain": [
       "tensor([-1.5191e+11, -1.9372e+11, -1.1713e+11, -1.8498e+13, -7.8495e+11,\n",
       "        -8.2063e+11, -7.7951e+12, -6.8708e+16, -2.8796e+12, -3.2363e+11],\n",
       "       device='cuda:0', grad_fn=<AddBackward0>)"
      ]
     },
     "execution_count": 7,
     "metadata": {},
     "output_type": "execute_result"
    }
   ],
   "source": [
    "log_weight"
   ]
  },
  {
   "cell_type": "code",
   "execution_count": 8,
   "metadata": {},
   "outputs": [],
   "source": [
    "agent = mcmc.resample_move_smc(agent, moves=5)"
   ]
  },
  {
   "cell_type": "code",
   "execution_count": 13,
   "metadata": {},
   "outputs": [],
   "source": [
    "theta, graph, log_weight = active.active_inference_test(agent, 'BipedalWalker-v2', online_inference=False, iterations=1000)"
   ]
  },
  {
   "cell_type": "code",
   "execution_count": 10,
   "metadata": {},
   "outputs": [
    {
     "data": {
      "text/plain": [
       "(tensor([[-0.1081,  0.1715,  0.0919, -0.3152,  0.0275,  0.0248,  0.4536, -0.1008,\n",
       "           0.3715, -0.0021,  0.2669,  0.1505],\n",
       "         [-0.0420,  0.1028, -0.0468, -0.2645, -0.0529,  0.0652,  0.2222,  0.0269,\n",
       "           0.1933, -0.1356,  0.2426,  0.2001],\n",
       "         [-0.0420,  0.1028, -0.0468, -0.2645, -0.0529,  0.0652,  0.2222,  0.0269,\n",
       "           0.1933, -0.1356,  0.2426,  0.2001],\n",
       "         [-0.0420,  0.1028, -0.0468, -0.2645, -0.0529,  0.0652,  0.2222,  0.0269,\n",
       "           0.1933, -0.1356,  0.2426,  0.2001],\n",
       "         [-0.0420,  0.1028, -0.0468, -0.2645, -0.0529,  0.0652,  0.2222,  0.0269,\n",
       "           0.1933, -0.1356,  0.2426,  0.2001],\n",
       "         [-0.1081,  0.1715,  0.0919, -0.3152,  0.0275,  0.0248,  0.4536, -0.1008,\n",
       "           0.3715, -0.0021,  0.2669,  0.1505],\n",
       "         [-0.0420,  0.1028, -0.0468, -0.2645, -0.0529,  0.0652,  0.2222,  0.0269,\n",
       "           0.1933, -0.1356,  0.2426,  0.2001],\n",
       "         [-0.0847,  0.1888,  0.4589, -1.0179, -0.0095,  0.1721,  0.5825, -0.0686,\n",
       "           0.6293,  0.0541,  0.4860,  0.2256],\n",
       "         [-0.3197,  0.4054,  0.1853, -0.9399, -0.3238, -0.1152,  0.3245, -0.0459,\n",
       "           0.4450,  0.1208,  0.6112,  0.5539],\n",
       "         [-0.0420,  0.1028, -0.0468, -0.2645, -0.0529,  0.0652,  0.2222,  0.0269,\n",
       "           0.1933, -0.1356,  0.2426,  0.2001]], device='cuda:0',\n",
       "        grad_fn=<AsStridedBackward>),\n",
       " tensor([[-0.3419,  0.2481,  1.1144, -0.9071],\n",
       "         [-0.3419,  0.2481,  1.1144, -0.9071],\n",
       "         [-0.3419,  0.2481,  1.1144, -0.9071],\n",
       "         [-0.3419,  0.2481,  1.1144, -0.9071],\n",
       "         [-0.3419,  0.2481,  1.1144, -0.9071],\n",
       "         [-0.3419,  0.2481,  1.1144, -0.9071],\n",
       "         [-0.3419,  0.2481,  1.1144, -0.9071],\n",
       "         [-0.0054, -1.1724, -0.0059, -1.4953],\n",
       "         [ 0.4144,  2.0781,  1.2604,  0.8121],\n",
       "         [-0.3419,  0.2481,  1.1144, -0.9071]], device='cuda:0',\n",
       "        grad_fn=<AsStridedBackward>))"
      ]
     },
     "execution_count": 10,
     "metadata": {},
     "output_type": "execute_result"
    }
   ],
   "source": [
    "theta"
   ]
  },
  {
   "cell_type": "code",
   "execution_count": 11,
   "metadata": {},
   "outputs": [
    {
     "data": {
      "text/plain": [
       "tensor([-3017.0237, -3661.3679, -2564.0474, -3260.7517, -2857.3252, -1928.5608,\n",
       "        -2940.8086, -2261.2805, -3813.4050, -2186.5847], device='cuda:0',\n",
       "       grad_fn=<AddBackward0>)"
      ]
     },
     "execution_count": 11,
     "metadata": {},
     "output_type": "execute_result"
    }
   ],
   "source": [
    "log_weight"
   ]
  },
  {
   "cell_type": "code",
   "execution_count": 12,
   "metadata": {},
   "outputs": [],
   "source": [
    "torch.save(agent, 'examples/fep_control/fep_bipedal_walker_agent.dat')"
   ]
  },
  {
   "cell_type": "code",
   "execution_count": null,
   "metadata": {},
   "outputs": [],
   "source": []
  }
 ],
 "metadata": {
  "kernelspec": {
   "display_name": "Python [conda env:funcytorch] *",
   "language": "python",
   "name": "conda-env-funcytorch-py"
  },
  "language_info": {
   "codemirror_mode": {
    "name": "ipython",
    "version": 3
   },
   "file_extension": ".py",
   "mimetype": "text/x-python",
   "name": "python",
   "nbconvert_exporter": "python",
   "pygments_lexer": "ipython3",
   "version": "3.6.8"
  }
 },
 "nbformat": 4,
 "nbformat_minor": 2
}
