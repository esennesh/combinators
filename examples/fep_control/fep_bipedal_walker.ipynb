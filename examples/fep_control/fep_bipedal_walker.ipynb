{
 "cells": [
  {
   "cell_type": "code",
   "execution_count": 1,
   "metadata": {},
   "outputs": [
    {
     "name": "stdout",
     "output_type": "stream",
     "text": [
      "/home/work/AnacondaProjects/combinators\n"
     ]
    }
   ],
   "source": [
    "%cd ../.."
   ]
  },
  {
   "cell_type": "code",
   "execution_count": 2,
   "metadata": {},
   "outputs": [],
   "source": [
    "import logging\n",
    "\n",
    "import numpy as np\n",
    "import probtorch\n",
    "import torch\n",
    "\n",
    "from examples.fep_control import fep_control\n",
    "from combinators.model import active\n",
    "from combinators.model import compose, foldable\n",
    "from combinators.inference import importance\n",
    "from combinators import utils"
   ]
  },
  {
   "cell_type": "code",
   "execution_count": 3,
   "metadata": {},
   "outputs": [],
   "source": [
    "logging.basicConfig(format='%(asctime)s %(message)s', datefmt='%m/%d/%Y %H:%M:%S',\n",
    "                    level=logging.INFO)"
   ]
  },
  {
   "cell_type": "code",
   "execution_count": 4,
   "metadata": {},
   "outputs": [],
   "source": [
    "target_actor = fep_control.BipedalWalkerActor(state_dim=12, batch_shape=(10,), trainable=True)\n",
    "target_observer = fep_control.GenerativeObserver(observation_dim=24, batch_shape=(10,), trainable=False)\n",
    "\n",
    "\n",
    "proposal_actor = fep_control.RecognitionActor(state_dim=12, action_dim=4, observation_dim=24, batch_shape=(10,),\n",
    "                                              discrete_actions=False, name='BipedalWalkerActor', trainable=True)\n",
    "proposal_encoder = fep_control.RecognitionEncoder(state_dim=12, observation_dim=24, batch_shape=(10,), trainable=True)"
   ]
  },
  {
   "cell_type": "code",
   "execution_count": 5,
   "metadata": {},
   "outputs": [],
   "source": [
    "actor = importance.propose(target_actor, proposal_actor)\n",
    "observer = importance.propose(target_observer, proposal_encoder)\n",
    "\n",
    "agent = compose(observer, actor)"
   ]
  },
  {
   "cell_type": "code",
   "execution_count": 6,
   "metadata": {},
   "outputs": [],
   "source": [
    "theta, graph, log_weight = active.active_inference_test(agent, 'BipedalWalker-v2', online_inference=False, iterations=1000)"
   ]
  },
  {
   "cell_type": "code",
   "execution_count": 7,
   "metadata": {},
   "outputs": [
    {
     "name": "stderr",
     "output_type": "stream",
     "text": [
      "05/31/2019 14:27:48 ELBO=-1.50721298e+11 at episode 0 of length 104\n",
      "05/31/2019 14:28:01 ELBO=-1.39589981e+13 at episode 1 of length 1000\n",
      "05/31/2019 14:28:16 ELBO=-5.26194353e+13 at episode 2 of length 92\n",
      "05/31/2019 14:28:32 ELBO=-2.62495969e+14 at episode 3 of length 52\n",
      "05/31/2019 14:28:46 ELBO=-2.53405776e+13 at episode 4 of length 97\n",
      "05/31/2019 14:28:58 ELBO=-7.50161085e+13 at episode 5 of length 73\n",
      "05/31/2019 14:29:10 ELBO=-6.74843675e+13 at episode 6 of length 92\n",
      "05/31/2019 14:29:23 ELBO=-1.01206891e+15 at episode 7 of length 115\n",
      "05/31/2019 14:29:36 ELBO=-2.27674186e+14 at episode 8 of length 126\n",
      "05/31/2019 14:29:49 ELBO=-5.19564610e+14 at episode 9 of length 59\n",
      "05/31/2019 14:30:01 ELBO=-5.51150462e+13 at episode 10 of length 76\n",
      "05/31/2019 14:30:15 ELBO=-3.21401429e+14 at episode 11 of length 1000\n",
      "05/31/2019 14:30:28 ELBO=-3.02405732e+13 at episode 12 of length 1000\n",
      "05/31/2019 14:30:47 ELBO=-1.28327306e+14 at episode 13 of length 1000\n",
      "05/31/2019 14:31:12 ELBO=-6.86764641e+13 at episode 14 of length 1000\n",
      "05/31/2019 14:31:32 ELBO=-6.36146262e+14 at episode 15 of length 1000\n",
      "05/31/2019 14:31:48 ELBO=-8.32204523e+13 at episode 16 of length 1000\n",
      "05/31/2019 14:32:04 ELBO=-1.07539606e+13 at episode 17 of length 1000\n",
      "05/31/2019 14:32:20 ELBO=-1.31886146e+13 at episode 18 of length 1000\n",
      "05/31/2019 14:32:33 ELBO=-1.08114805e+12 at episode 19 of length 1000\n",
      "05/31/2019 14:32:51 ELBO=-5.53495455e+12 at episode 20 of length 1000\n",
      "05/31/2019 14:33:09 ELBO=-3.28708653e+13 at episode 21 of length 1000\n",
      "05/31/2019 14:33:25 ELBO=-3.29658852e+13 at episode 22 of length 1000\n",
      "05/31/2019 14:33:38 ELBO=-2.08499953e+12 at episode 23 of length 1000\n",
      "05/31/2019 14:33:50 ELBO=-1.10190364e+13 at episode 24 of length 1000\n",
      "05/31/2019 14:34:02 ELBO=-1.76598653e+13 at episode 25 of length 1000\n",
      "05/31/2019 14:34:15 ELBO=-3.44576046e+12 at episode 26 of length 1000\n",
      "05/31/2019 14:34:28 ELBO=-1.72900549e+12 at episode 27 of length 1000\n",
      "05/31/2019 14:34:41 ELBO=-3.86364421e+12 at episode 28 of length 1000\n",
      "05/31/2019 14:34:55 ELBO=-4.47066564e+12 at episode 29 of length 1000\n",
      "05/31/2019 14:35:08 ELBO=-1.63092116e+12 at episode 30 of length 1000\n",
      "05/31/2019 14:35:28 ELBO=-3.53458926e+12 at episode 31 of length 1000\n",
      "05/31/2019 14:35:44 ELBO=-2.08722690e+11 at episode 32 of length 1000\n",
      "05/31/2019 14:35:56 ELBO=-2.31912636e+12 at episode 33 of length 1000\n",
      "05/31/2019 14:36:08 ELBO=-6.79327406e+12 at episode 34 of length 1000\n",
      "05/31/2019 14:36:26 ELBO=-1.32636030e+12 at episode 35 of length 1000\n",
      "05/31/2019 14:36:38 ELBO=-5.37385029e+12 at episode 36 of length 1000\n",
      "05/31/2019 14:36:51 ELBO=-7.12692099e+12 at episode 37 of length 1000\n",
      "05/31/2019 14:37:04 ELBO=-2.67258115e+12 at episode 38 of length 1000\n",
      "05/31/2019 14:37:27 ELBO=-9.01559222e+11 at episode 39 of length 1000\n",
      "05/31/2019 14:37:41 ELBO=-3.51557648e+11 at episode 40 of length 1000\n",
      "05/31/2019 14:37:56 ELBO=-4.05892039e+11 at episode 41 of length 1000\n",
      "05/31/2019 14:38:10 ELBO=-2.33868204e+12 at episode 42 of length 1000\n",
      "05/31/2019 14:38:23 ELBO=-3.12817680e+11 at episode 43 of length 1000\n",
      "05/31/2019 14:38:35 ELBO=-1.73978031e+13 at episode 44 of length 50\n",
      "05/31/2019 14:38:48 ELBO=-5.96269859e+11 at episode 45 of length 1000\n",
      "05/31/2019 14:39:01 ELBO=-1.02020317e+12 at episode 46 of length 1000\n",
      "05/31/2019 14:39:14 ELBO=-4.78037803e+11 at episode 47 of length 1000\n",
      "05/31/2019 14:39:28 ELBO=-5.98854730e+11 at episode 48 of length 1000\n",
      "05/31/2019 14:39:40 ELBO=-1.54372958e+12 at episode 49 of length 1000\n",
      "05/31/2019 14:39:52 ELBO=-2.12255153e+12 at episode 50 of length 1000\n",
      "05/31/2019 14:40:05 ELBO=-1.27390628e+13 at episode 51 of length 1000\n",
      "05/31/2019 14:40:18 ELBO=-1.46868679e+12 at episode 52 of length 1000\n",
      "05/31/2019 14:40:30 ELBO=-6.26545787e+11 at episode 53 of length 1000\n",
      "05/31/2019 14:40:44 ELBO=-1.73629558e+12 at episode 54 of length 1000\n",
      "05/31/2019 14:40:57 ELBO=-1.88744498e+13 at episode 55 of length 1000\n",
      "05/31/2019 14:41:10 ELBO=-6.67592622e+11 at episode 56 of length 1000\n",
      "05/31/2019 14:41:23 ELBO=-1.66113391e+12 at episode 57 of length 1000\n",
      "05/31/2019 14:41:35 ELBO=-3.78075559e+12 at episode 58 of length 1000\n",
      "05/31/2019 14:41:47 ELBO=-3.60752008e+12 at episode 59 of length 1000\n",
      "05/31/2019 14:42:00 ELBO=-7.61292757e+12 at episode 60 of length 1000\n",
      "05/31/2019 14:42:13 ELBO=-7.26253306e+11 at episode 61 of length 1000\n",
      "05/31/2019 14:42:25 ELBO=-1.01803367e+12 at episode 62 of length 1000\n",
      "05/31/2019 14:42:37 ELBO=-7.13205219e+11 at episode 63 of length 1000\n",
      "05/31/2019 14:42:50 ELBO=-3.21143099e+12 at episode 64 of length 1000\n",
      "05/31/2019 14:43:05 ELBO=-2.73162594e+12 at episode 65 of length 1000\n",
      "05/31/2019 14:43:19 ELBO=-2.01715188e+11 at episode 66 of length 1000\n",
      "05/31/2019 14:43:32 ELBO=-1.51894229e+11 at episode 67 of length 1000\n",
      "05/31/2019 14:43:46 ELBO=-1.79280691e+11 at episode 68 of length 1000\n",
      "05/31/2019 14:44:01 ELBO=-1.43536200e+10 at episode 69 of length 1000\n",
      "05/31/2019 14:44:15 ELBO=-7.79869307e+10 at episode 70 of length 1000\n",
      "05/31/2019 14:44:30 ELBO=-4.00846750e+11 at episode 71 of length 1000\n",
      "05/31/2019 14:44:44 ELBO=-3.77902924e+11 at episode 72 of length 1000\n",
      "05/31/2019 14:44:57 ELBO=-1.70650943e+11 at episode 73 of length 1000\n",
      "05/31/2019 14:45:14 ELBO=-7.71828204e+10 at episode 74 of length 1000\n",
      "05/31/2019 14:45:30 ELBO=-2.77616820e+11 at episode 75 of length 1000\n",
      "05/31/2019 14:45:44 ELBO=-6.45437587e+11 at episode 76 of length 1000\n",
      "05/31/2019 14:45:56 ELBO=-1.25278069e+11 at episode 77 of length 1000\n",
      "05/31/2019 14:46:09 ELBO=-5.02988734e+11 at episode 78 of length 1000\n",
      "05/31/2019 14:46:21 ELBO=-3.37052938e+10 at episode 79 of length 1000\n",
      "05/31/2019 14:46:33 ELBO=-5.04317583e+10 at episode 80 of length 1000\n",
      "05/31/2019 14:46:45 ELBO=-1.72383568e+11 at episode 81 of length 1000\n",
      "05/31/2019 14:47:02 ELBO=-3.18793613e+11 at episode 82 of length 1000\n",
      "05/31/2019 14:47:16 ELBO=-9.58054072e+10 at episode 83 of length 1000\n",
      "05/31/2019 14:47:28 ELBO=-8.04996301e+10 at episode 84 of length 1000\n",
      "05/31/2019 14:47:41 ELBO=-4.17654322e+12 at episode 85 of length 49\n",
      "05/31/2019 14:47:54 ELBO=-9.95045474e+11 at episode 86 of length 1000\n",
      "05/31/2019 14:48:07 ELBO=-1.71566629e+11 at episode 87 of length 1000\n",
      "05/31/2019 14:48:21 ELBO=-1.03593853e+11 at episode 88 of length 1000\n",
      "05/31/2019 14:48:34 ELBO=-2.67750703e+11 at episode 89 of length 1000\n",
      "05/31/2019 14:48:46 ELBO=-2.70193017e+11 at episode 90 of length 1000\n",
      "05/31/2019 14:48:58 ELBO=-1.34364594e+11 at episode 91 of length 1000\n",
      "05/31/2019 14:49:11 ELBO=-1.02882568e+12 at episode 92 of length 1000\n",
      "05/31/2019 14:49:23 ELBO=-3.46496926e+11 at episode 93 of length 1000\n",
      "05/31/2019 14:49:35 ELBO=-5.31494306e+11 at episode 94 of length 1000\n",
      "05/31/2019 14:49:48 ELBO=-7.16376474e+10 at episode 95 of length 1000\n",
      "05/31/2019 14:50:04 ELBO=-2.97962111e+11 at episode 96 of length 1000\n",
      "05/31/2019 14:50:19 ELBO=-1.14564620e+11 at episode 97 of length 1000\n",
      "05/31/2019 14:50:34 ELBO=-1.44197452e+11 at episode 98 of length 1000\n",
      "05/31/2019 14:50:48 ELBO=-1.20305500e+11 at episode 99 of length 1000\n"
     ]
    }
   ],
   "source": [
    "theta, graph, log_weight = active.active_inference(agent, 'BipedalWalker-v2', lr=1e-2, episodes=100, episode_length=1000, dream=False)"
   ]
  },
  {
   "cell_type": "code",
   "execution_count": 8,
   "metadata": {},
   "outputs": [
    {
     "data": {
      "text/plain": [
       "tensor([-7.5268e+11, -1.2031e+11, -1.9584e+15, -2.1537e+11, -2.7224e+14,\n",
       "        -2.5100e+11, -5.3390e+14, -1.2227e+12, -1.3600e+11, -2.8096e+13],\n",
       "       grad_fn=<AddBackward0>)"
      ]
     },
     "execution_count": 8,
     "metadata": {},
     "output_type": "execute_result"
    }
   ],
   "source": [
    "log_weight"
   ]
  },
  {
   "cell_type": "code",
   "execution_count": 9,
   "metadata": {},
   "outputs": [],
   "source": [
    "agent = importance.smc(agent)"
   ]
  },
  {
   "cell_type": "code",
   "execution_count": null,
   "metadata": {},
   "outputs": [],
   "source": [
    "theta, graph, log_weight = active.active_inference_test(agent, 'BipedalWalker-v2', online_inference=False, iterations=1000)"
   ]
  },
  {
   "cell_type": "code",
   "execution_count": 11,
   "metadata": {},
   "outputs": [
    {
     "data": {
      "text/plain": [
       "(tensor([[-10.7290, -12.5822,   7.8599, -21.5004, -12.0851,   7.5835,  14.0497,\n",
       "           -6.8767,   4.8493,  16.4500,   0.1189,  16.8472],\n",
       "         [-10.7290, -12.5822,   7.8599, -21.5004, -12.0851,   7.5835,  14.0497,\n",
       "           -6.8767,   4.8493,  16.4500,   0.1189,  16.8472],\n",
       "         [-10.7290, -12.5822,   7.8599, -21.5004, -12.0851,   7.5835,  14.0497,\n",
       "           -6.8767,   4.8493,  16.4500,   0.1189,  16.8472],\n",
       "         [-10.7290, -12.5822,   7.8599, -21.5004, -12.0851,   7.5835,  14.0497,\n",
       "           -6.8767,   4.8493,  16.4500,   0.1189,  16.8472],\n",
       "         [-10.7290, -12.5822,   7.8599, -21.5004, -12.0851,   7.5835,  14.0497,\n",
       "           -6.8767,   4.8493,  16.4500,   0.1189,  16.8472],\n",
       "         [-10.7290, -12.5822,   7.8599, -21.5004, -12.0851,   7.5835,  14.0497,\n",
       "           -6.8767,   4.8493,  16.4500,   0.1189,  16.8472],\n",
       "         [-10.7290, -12.5822,   7.8599, -21.5004, -12.0851,   7.5835,  14.0497,\n",
       "           -6.8767,   4.8493,  16.4500,   0.1189,  16.8472],\n",
       "         [-10.7290, -12.5822,   7.8599, -21.5004, -12.0851,   7.5835,  14.0497,\n",
       "           -6.8767,   4.8493,  16.4500,   0.1189,  16.8472],\n",
       "         [-10.7290, -12.5822,   7.8599, -21.5004, -12.0851,   7.5835,  14.0497,\n",
       "           -6.8767,   4.8493,  16.4500,   0.1189,  16.8472],\n",
       "         [-10.7290, -12.5822,   7.8599, -21.5004, -12.0851,   7.5835,  14.0497,\n",
       "           -6.8767,   4.8493,  16.4500,   0.1189,  16.8472]],\n",
       "        grad_fn=<AsStridedBackward>),\n",
       " tensor([[-1011.5903, -1009.4546,   995.3265, -1041.4423],\n",
       "         [-1011.5903, -1009.4546,   995.3265, -1041.4423],\n",
       "         [-1011.5903, -1009.4546,   995.3265, -1041.4423],\n",
       "         [-1011.5903, -1009.4546,   995.3265, -1041.4423],\n",
       "         [-1011.5903, -1009.4546,   995.3265, -1041.4423],\n",
       "         [-1011.5903, -1009.4546,   995.3265, -1041.4423],\n",
       "         [-1011.5903, -1009.4546,   995.3265, -1041.4423],\n",
       "         [-1011.5903, -1009.4546,   995.3265, -1041.4423],\n",
       "         [-1011.5903, -1009.4546,   995.3265, -1041.4423],\n",
       "         [-1011.5903, -1009.4546,   995.3265, -1041.4423]],\n",
       "        grad_fn=<AsStridedBackward>))"
      ]
     },
     "execution_count": 11,
     "metadata": {},
     "output_type": "execute_result"
    }
   ],
   "source": [
    "theta"
   ]
  },
  {
   "cell_type": "code",
   "execution_count": 12,
   "metadata": {},
   "outputs": [
    {
     "data": {
      "text/plain": [
       "tensor([-172047.4844, -172047.4844, -172047.4844, -172047.4844, -172047.4844,\n",
       "        -172047.4844, -172047.4844, -172047.4844, -172047.4844, -172047.4844],\n",
       "       grad_fn=<AddBackward0>)"
      ]
     },
     "execution_count": 12,
     "metadata": {},
     "output_type": "execute_result"
    }
   ],
   "source": [
    "log_weight"
   ]
  },
  {
   "cell_type": "code",
   "execution_count": 13,
   "metadata": {},
   "outputs": [],
   "source": [
    "torch.save(agent, 'examples/fep_control/fep_bipedal_walker_agent.dat')"
   ]
  },
  {
   "cell_type": "code",
   "execution_count": null,
   "metadata": {},
   "outputs": [],
   "source": []
  }
 ],
 "metadata": {
  "kernelspec": {
   "display_name": "Python [conda env:funcytorch] *",
   "language": "python",
   "name": "conda-env-funcytorch-py"
  },
  "language_info": {
   "codemirror_mode": {
    "name": "ipython",
    "version": 3
   },
   "file_extension": ".py",
   "mimetype": "text/x-python",
   "name": "python",
   "nbconvert_exporter": "python",
   "pygments_lexer": "ipython3",
   "version": "3.7.3"
  }
 },
 "nbformat": 4,
 "nbformat_minor": 2
}
