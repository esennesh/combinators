{
 "cells": [
  {
   "cell_type": "code",
   "execution_count": 1,
   "metadata": {},
   "outputs": [
    {
     "name": "stdout",
     "output_type": "stream",
     "text": [
      "/home/work/AnacondaProjects/combinators\n"
     ]
    }
   ],
   "source": [
    "%cd ../.."
   ]
  },
  {
   "cell_type": "code",
   "execution_count": 2,
   "metadata": {},
   "outputs": [],
   "source": [
    "import logging\n",
    "\n",
    "import numpy as np\n",
    "import probtorch\n",
    "import torch\n",
    "\n",
    "from examples.fep_control import fep_control\n",
    "from combinators.model import active\n",
    "from combinators.model import compose, foldable\n",
    "from combinators.inference import importance, mcmc\n",
    "from combinators import utils"
   ]
  },
  {
   "cell_type": "code",
   "execution_count": 3,
   "metadata": {},
   "outputs": [],
   "source": [
    "logging.basicConfig(format='%(asctime)s %(message)s', datefmt='%m/%d/%Y %H:%M:%S',\n",
    "                    level=logging.INFO)"
   ]
  },
  {
   "cell_type": "code",
   "execution_count": 4,
   "metadata": {},
   "outputs": [],
   "source": [
    "target = fep_control.BipedalWalkerAgent(state_dim=12, batch_shape=(10,), trainable=False)\n",
    "proposal = fep_control.RecognitionAgent(state_dim=12, action_dim=4, observation_dim=24, batch_shape=(10,),\n",
    "                                        discrete_actions=False, name='BipedalWalkerAgent', trainable=True,\n",
    "                                        goal=target.goal)\n",
    "agent = importance.propose(target, proposal)"
   ]
  },
  {
   "cell_type": "code",
   "execution_count": 5,
   "metadata": {},
   "outputs": [],
   "source": [
    "episode = active.ActiveEpisode(agent, 'BipedalWalker-v2')"
   ]
  },
  {
   "cell_type": "code",
   "execution_count": 6,
   "metadata": {},
   "outputs": [],
   "source": [
    "theta, graph, log_weight = episode(render=True)"
   ]
  },
  {
   "cell_type": "code",
   "execution_count": 7,
   "metadata": {},
   "outputs": [
    {
     "name": "stderr",
     "output_type": "stream",
     "text": [
      "07/11/2019 14:01:08 Episode length: 38\n",
      "07/11/2019 14:01:08 ELBO=-1.52057690e+03 per step at epoch 1\n",
      "07/11/2019 14:01:13 Episode length: 656\n",
      "07/11/2019 14:01:15 ELBO=-1.48852454e+03 per step at epoch 2\n",
      "07/11/2019 14:01:16 Episode length: 73\n",
      "07/11/2019 14:01:16 ELBO=-1.46153394e+03 per step at epoch 3\n",
      "07/11/2019 14:01:27 Episode length: 1601\n",
      "07/11/2019 14:01:32 ELBO=-1.47003870e+03 per step at epoch 4\n",
      "07/11/2019 14:01:33 Episode length: 72\n",
      "07/11/2019 14:01:34 ELBO=-1.44618237e+03 per step at epoch 5\n",
      "07/11/2019 14:01:34 Episode length: 74\n",
      "07/11/2019 14:01:34 ELBO=-1.41989612e+03 per step at epoch 6\n",
      "07/11/2019 14:01:46 Episode length: 1601\n",
      "07/11/2019 14:01:53 ELBO=-1.43178564e+03 per step at epoch 7\n",
      "07/11/2019 14:01:54 Episode length: 72\n",
      "07/11/2019 14:01:54 ELBO=-1.43216272e+03 per step at epoch 8\n",
      "07/11/2019 14:01:55 Episode length: 111\n",
      "07/11/2019 14:01:56 ELBO=-1.38578101e+03 per step at epoch 9\n",
      "07/11/2019 14:02:06 Episode length: 1252\n",
      "07/11/2019 14:02:11 ELBO=-1.39205798e+03 per step at epoch 10\n",
      "07/11/2019 14:02:11 Episode length: 75\n",
      "07/11/2019 14:02:12 ELBO=-1.39888391e+03 per step at epoch 11\n",
      "07/11/2019 14:02:12 Episode length: 59\n",
      "07/11/2019 14:02:13 ELBO=-1.35433264e+03 per step at epoch 12\n",
      "07/11/2019 14:02:13 Episode length: 72\n",
      "07/11/2019 14:02:13 ELBO=-1.33427319e+03 per step at epoch 13\n",
      "07/11/2019 14:02:16 Episode length: 364\n",
      "07/11/2019 14:02:18 ELBO=-1.35662146e+03 per step at epoch 14\n",
      "07/11/2019 14:02:29 Episode length: 1601\n",
      "07/11/2019 14:02:34 ELBO=-1.34404810e+03 per step at epoch 15\n",
      "07/11/2019 14:02:45 Episode length: 1601\n",
      "07/11/2019 14:02:51 ELBO=-1.32506555e+03 per step at epoch 16\n",
      "07/11/2019 14:03:02 Episode length: 1601\n",
      "07/11/2019 14:03:09 ELBO=-1.31328467e+03 per step at epoch 17\n",
      "07/11/2019 14:03:10 Episode length: 76\n",
      "07/11/2019 14:03:11 ELBO=-1.28488879e+03 per step at epoch 18\n",
      "07/11/2019 14:03:17 Episode length: 880\n",
      "07/11/2019 14:03:20 ELBO=-1.28477222e+03 per step at epoch 19\n",
      "07/11/2019 14:03:28 Episode length: 1184\n",
      "07/11/2019 14:03:33 ELBO=-1.26656104e+03 per step at epoch 20\n",
      "07/11/2019 14:03:39 Episode length: 897\n",
      "07/11/2019 14:03:43 ELBO=-1.24524133e+03 per step at epoch 21\n",
      "07/11/2019 14:03:46 Episode length: 384\n",
      "07/11/2019 14:03:48 ELBO=-1.20035962e+03 per step at epoch 22\n",
      "07/11/2019 14:03:49 Episode length: 125\n",
      "07/11/2019 14:03:50 ELBO=-1.17623071e+03 per step at epoch 23\n",
      "07/11/2019 14:03:52 Episode length: 240\n",
      "07/11/2019 14:03:53 ELBO=-1.18076575e+03 per step at epoch 24\n",
      "07/11/2019 14:03:54 Episode length: 46\n",
      "07/11/2019 14:03:54 ELBO=-1.15366711e+03 per step at epoch 25\n",
      "07/11/2019 14:03:54 Episode length: 53\n",
      "07/11/2019 14:03:55 ELBO=-1.17014514e+03 per step at epoch 26\n",
      "07/11/2019 14:04:07 Episode length: 1507\n",
      "07/11/2019 14:04:13 ELBO=-1.11967322e+03 per step at epoch 27\n",
      "07/11/2019 14:04:13 Episode length: 115\n",
      "07/11/2019 14:04:14 ELBO=-1.11264087e+03 per step at epoch 28\n",
      "07/11/2019 14:04:15 Episode length: 45\n",
      "07/11/2019 14:04:15 ELBO=-1.10135168e+03 per step at epoch 29\n",
      "07/11/2019 14:04:28 Episode length: 1601\n",
      "07/11/2019 14:04:33 ELBO=-1.03748389e+03 per step at epoch 30\n",
      "07/11/2019 14:04:44 Episode length: 1601\n",
      "07/11/2019 14:04:50 ELBO=-1.01723291e+03 per step at epoch 31\n",
      "07/11/2019 14:05:00 Episode length: 1452\n",
      "07/11/2019 14:05:06 ELBO=-9.92388611e+02 per step at epoch 32\n",
      "07/11/2019 14:05:18 Episode length: 1601\n",
      "07/11/2019 14:05:24 ELBO=-9.65724854e+02 per step at epoch 33\n",
      "07/11/2019 14:05:25 Episode length: 42\n",
      "07/11/2019 14:05:26 ELBO=-9.86425781e+02 per step at epoch 34\n",
      "07/11/2019 14:05:26 Episode length: 78\n",
      "07/11/2019 14:05:26 ELBO=-9.65257812e+02 per step at epoch 35\n",
      "07/11/2019 14:05:38 Episode length: 1601\n",
      "07/11/2019 14:05:43 ELBO=-8.82718201e+02 per step at epoch 36\n",
      "07/11/2019 14:05:43 Episode length: 48\n",
      "07/11/2019 14:05:44 ELBO=-9.35093689e+02 per step at epoch 37\n",
      "07/11/2019 14:05:46 Episode length: 332\n",
      "07/11/2019 14:05:47 ELBO=-8.60448059e+02 per step at epoch 38\n",
      "07/11/2019 14:05:50 Episode length: 308\n",
      "07/11/2019 14:05:51 ELBO=-8.60700256e+02 per step at epoch 39\n",
      "07/11/2019 14:05:52 Episode length: 128\n",
      "07/11/2019 14:05:52 ELBO=-9.26820618e+02 per step at epoch 40\n",
      "07/11/2019 14:05:56 Episode length: 557\n",
      "07/11/2019 14:05:58 ELBO=-8.37767029e+02 per step at epoch 41\n",
      "07/11/2019 14:05:59 Episode length: 62\n",
      "07/11/2019 14:05:59 ELBO=-8.82291382e+02 per step at epoch 42\n",
      "07/11/2019 14:06:04 Episode length: 802\n",
      "07/11/2019 14:06:07 ELBO=-8.58552368e+02 per step at epoch 43\n",
      "07/11/2019 14:06:18 Episode length: 1601\n",
      "07/11/2019 14:06:24 ELBO=-8.15314270e+02 per step at epoch 44\n",
      "07/11/2019 14:06:25 Episode length: 88\n",
      "07/11/2019 14:06:25 ELBO=-9.38406860e+02 per step at epoch 45\n",
      "07/11/2019 14:06:36 Episode length: 1601\n",
      "07/11/2019 14:06:42 ELBO=-8.93015015e+02 per step at epoch 46\n",
      "07/11/2019 14:06:43 Episode length: 224\n",
      "07/11/2019 14:06:45 ELBO=-9.86334595e+02 per step at epoch 47\n",
      "07/11/2019 14:06:54 Episode length: 1309\n",
      "07/11/2019 14:06:58 ELBO=-1.03744763e+03 per step at epoch 48\n",
      "07/11/2019 14:07:00 Episode length: 285\n",
      "07/11/2019 14:07:02 ELBO=-1.14063257e+03 per step at epoch 49\n",
      "07/11/2019 14:07:13 Episode length: 1601\n",
      "07/11/2019 14:07:19 ELBO=-1.40032153e+03 per step at epoch 50\n",
      "07/11/2019 14:07:30 Episode length: 1601\n",
      "07/11/2019 14:07:36 ELBO=-1.72884802e+03 per step at epoch 51\n",
      "07/11/2019 14:07:36 Episode length: 72\n",
      "07/11/2019 14:07:37 ELBO=-2.25195752e+03 per step at epoch 52\n",
      "07/11/2019 14:07:38 Episode length: 93\n",
      "07/11/2019 14:07:38 ELBO=-2.74509570e+03 per step at epoch 53\n",
      "07/11/2019 14:07:47 Episode length: 1324\n",
      "07/11/2019 14:07:52 ELBO=-3.68133374e+03 per step at epoch 54\n",
      "07/11/2019 14:07:57 Episode length: 693\n",
      "07/11/2019 14:08:00 ELBO=-2.27939014e+03 per step at epoch 55\n",
      "07/11/2019 14:08:00 Episode length: 87\n",
      "07/11/2019 14:08:01 ELBO=-1.80818054e+03 per step at epoch 56\n",
      "07/11/2019 14:08:01 Episode length: 66\n",
      "07/11/2019 14:08:02 ELBO=-1.91672791e+03 per step at epoch 57\n",
      "07/11/2019 14:08:02 Episode length: 58\n",
      "07/11/2019 14:08:02 ELBO=-2.07108325e+03 per step at epoch 58\n",
      "07/11/2019 14:08:03 Episode length: 56\n",
      "07/11/2019 14:08:03 ELBO=-1.60629712e+03 per step at epoch 59\n",
      "07/11/2019 14:08:03 Episode length: 60\n",
      "07/11/2019 14:08:04 ELBO=-1.64954602e+03 per step at epoch 60\n",
      "07/11/2019 14:08:15 Episode length: 1601\n",
      "07/11/2019 14:08:20 ELBO=-1.42607214e+03 per step at epoch 61\n",
      "07/11/2019 14:08:24 Episode length: 558\n",
      "07/11/2019 14:08:26 ELBO=-1.42067285e+03 per step at epoch 62\n",
      "07/11/2019 14:08:37 Episode length: 1513\n",
      "07/11/2019 14:08:42 ELBO=-1.40736902e+03 per step at epoch 63\n",
      "07/11/2019 14:08:43 Episode length: 70\n",
      "07/11/2019 14:08:43 ELBO=-1.34288477e+03 per step at epoch 64\n",
      "07/11/2019 14:08:54 Episode length: 1601\n",
      "07/11/2019 14:09:00 ELBO=-1.31054663e+03 per step at epoch 65\n",
      "07/11/2019 14:09:11 Episode length: 1601\n",
      "07/11/2019 14:09:17 ELBO=-1.31293408e+03 per step at epoch 66\n",
      "07/11/2019 14:09:28 Episode length: 1601\n",
      "07/11/2019 14:09:35 ELBO=-1.32115991e+03 per step at epoch 67\n",
      "07/11/2019 14:09:46 Episode length: 1601\n",
      "07/11/2019 14:09:52 ELBO=-1.36959668e+03 per step at epoch 68\n",
      "07/11/2019 14:10:03 Episode length: 1514\n",
      "07/11/2019 14:10:09 ELBO=-1.40008459e+03 per step at epoch 69\n",
      "07/11/2019 14:10:21 Episode length: 1601\n",
      "07/11/2019 14:10:27 ELBO=-1.45523499e+03 per step at epoch 70\n",
      "07/11/2019 14:10:28 Episode length: 89\n",
      "07/11/2019 14:10:29 ELBO=-1.74809570e+03 per step at epoch 71\n",
      "07/11/2019 14:10:40 Episode length: 1601\n",
      "07/11/2019 14:10:45 ELBO=-1.58685693e+03 per step at epoch 72\n",
      "07/11/2019 14:10:46 Episode length: 61\n",
      "07/11/2019 14:10:46 ELBO=-1.81034888e+03 per step at epoch 73\n",
      "07/11/2019 14:10:57 Episode length: 1601\n",
      "07/11/2019 14:11:03 ELBO=-1.82281360e+03 per step at epoch 74\n",
      "07/11/2019 14:11:14 Episode length: 1601\n",
      "07/11/2019 14:11:20 ELBO=-1.84776013e+03 per step at epoch 75\n",
      "07/11/2019 14:11:31 Episode length: 1601\n",
      "07/11/2019 14:11:37 ELBO=-1.83758264e+03 per step at epoch 76\n",
      "07/11/2019 14:11:46 Episode length: 1279\n",
      "07/11/2019 14:11:52 ELBO=-1.85172424e+03 per step at epoch 77\n",
      "07/11/2019 14:12:03 Episode length: 1601\n",
      "07/11/2019 14:12:09 ELBO=-1.82726099e+03 per step at epoch 78\n",
      "07/11/2019 14:12:21 Episode length: 1601\n",
      "07/11/2019 14:12:27 ELBO=-1.79100793e+03 per step at epoch 79\n",
      "07/11/2019 14:12:28 Episode length: 69\n",
      "07/11/2019 14:12:29 ELBO=-1.91211951e+03 per step at epoch 80\n",
      "07/11/2019 14:12:37 Episode length: 1264\n",
      "07/11/2019 14:12:41 ELBO=-1.83703979e+03 per step at epoch 81\n",
      "07/11/2019 14:12:42 Episode length: 62\n",
      "07/11/2019 14:12:42 ELBO=-2.30596533e+03 per step at epoch 82\n",
      "07/11/2019 14:12:53 Episode length: 1601\n",
      "07/11/2019 14:12:59 ELBO=-1.88361023e+03 per step at epoch 83\n",
      "07/11/2019 14:13:10 Episode length: 1601\n",
      "07/11/2019 14:13:16 ELBO=-1.94457141e+03 per step at epoch 84\n",
      "07/11/2019 14:13:27 Episode length: 1601\n",
      "07/11/2019 14:13:33 ELBO=-2.00494641e+03 per step at epoch 85\n",
      "07/11/2019 14:13:34 Episode length: 112\n",
      "07/11/2019 14:13:35 ELBO=-2.50176709e+03 per step at epoch 86\n",
      "07/11/2019 14:13:46 Episode length: 1601\n",
      "07/11/2019 14:13:52 ELBO=-2.13395508e+03 per step at epoch 87\n",
      "07/11/2019 14:13:52 Episode length: 66\n",
      "07/11/2019 14:13:53 ELBO=-2.31827979e+03 per step at epoch 88\n",
      "07/11/2019 14:14:03 Episode length: 1601\n",
      "07/11/2019 14:14:09 ELBO=-2.07295557e+03 per step at epoch 89\n",
      "07/11/2019 14:14:21 Episode length: 1601\n",
      "07/11/2019 14:14:27 ELBO=-2.09584106e+03 per step at epoch 90\n",
      "07/11/2019 14:14:38 Episode length: 1601\n",
      "07/11/2019 14:14:45 ELBO=-2.03079028e+03 per step at epoch 91\n",
      "07/11/2019 14:14:56 Episode length: 1601\n",
      "07/11/2019 14:15:02 ELBO=-1.96522473e+03 per step at epoch 92\n",
      "07/11/2019 14:15:03 Episode length: 75\n",
      "07/11/2019 14:15:04 ELBO=-2.39825928e+03 per step at epoch 93\n",
      "07/11/2019 14:15:14 Episode length: 1601\n",
      "07/11/2019 14:15:20 ELBO=-1.94486279e+03 per step at epoch 94\n",
      "07/11/2019 14:15:31 Episode length: 1601\n",
      "07/11/2019 14:15:37 ELBO=-2.01724487e+03 per step at epoch 95\n",
      "07/11/2019 14:15:38 Episode length: 87\n",
      "07/11/2019 14:15:39 ELBO=-2.69177881e+03 per step at epoch 96\n",
      "07/11/2019 14:15:39 Episode length: 77\n",
      "07/11/2019 14:15:40 ELBO=-2.63693335e+03 per step at epoch 97\n",
      "07/11/2019 14:15:50 Episode length: 1601\n",
      "07/11/2019 14:15:56 ELBO=-2.03700891e+03 per step at epoch 98\n",
      "07/11/2019 14:15:56 Episode length: 50\n",
      "07/11/2019 14:15:57 ELBO=-2.79131177e+03 per step at epoch 99\n",
      "07/11/2019 14:16:08 Episode length: 1601\n",
      "07/11/2019 14:16:13 ELBO=-2.08603833e+03 per step at epoch 100\n"
     ]
    }
   ],
   "source": [
    "xi, trained_params, elbos = active.active_variational(episode, 100, lr=1e-3, log_estimator=True, patience=100)"
   ]
  },
  {
   "cell_type": "code",
   "execution_count": 8,
   "metadata": {},
   "outputs": [
    {
     "data": {
      "image/png": "[encoded data removed]",
      "text/plain": [
       "<Figure size 720x720 with 1 Axes>"
      ]
     },
     "metadata": {
      "needs_background": "light"
     },
     "output_type": "display_data"
    }
   ],
   "source": [
    "utils.plot_evidence_bounds(elbos[:, 0].cpu().detach().numpy())"
   ]
  },
  {
   "cell_type": "code",
   "execution_count": 13,
   "metadata": {},
   "outputs": [],
   "source": [
    "theta, graph, log_weight = episode(render=True)"
   ]
  },
  {
   "cell_type": "code",
   "execution_count": 14,
   "metadata": {},
   "outputs": [
    {
     "data": {
      "text/plain": [
       "{'dynamics': tensor([[ 3.2660, -0.1906, -3.5716, -5.1467, -3.5507,  3.1837, -3.5034, -3.4695,\n",
       "           2.9271, -4.5507, -2.2921,  2.1139],\n",
       "         [ 3.0762, -0.1754, -3.3456, -4.7956, -3.3301,  2.9825, -3.2817, -3.2418,\n",
       "           2.7439, -4.2470, -2.1573,  1.9697],\n",
       "         [ 3.1467, -0.1848, -3.4374, -4.9532, -3.4218,  3.0646, -3.3632, -3.3311,\n",
       "           2.8274, -4.3719, -2.1934,  2.0150],\n",
       "         [ 3.2539, -0.1863, -3.5432, -5.0986, -3.5236,  3.1514, -3.4757, -3.4416,\n",
       "           2.9051, -4.5065, -2.2778,  2.0963],\n",
       "         [ 3.1175, -0.1730, -3.3893, -4.8588, -3.3681,  3.0199, -3.3154, -3.2852,\n",
       "           2.7788, -4.3026, -2.1784,  1.9979],\n",
       "         [ 3.1637, -0.1877, -3.4506, -4.9638, -3.4263,  3.0840, -3.3656, -3.3493,\n",
       "           2.8277, -4.3903, -2.2068,  2.0167],\n",
       "         [ 3.1266, -0.1824, -3.4292, -4.9107, -3.4000,  3.0540, -3.3496, -3.3083,\n",
       "           2.8199, -4.3449, -2.1949,  2.0022],\n",
       "         [ 3.1623, -0.1908, -3.4545, -4.9609, -3.4260,  3.0701, -3.3751, -3.3409,\n",
       "           2.8375, -4.3791, -2.2125,  2.0138],\n",
       "         [ 3.2233, -0.1809, -3.5081, -5.0231, -3.4730,  3.1203, -3.4295, -3.4045,\n",
       "           2.8709, -4.4555, -2.2603,  2.0700],\n",
       "         [ 3.2040, -0.1883, -3.5070, -5.0463, -3.4911,  3.1228, -3.4368, -3.3959,\n",
       "           2.8814, -4.4568, -2.2436,  2.0621]], grad_fn=<AddmmBackward>),\n",
       " 'control': tensor([[-1.,  1.,  1.,  1.],\n",
       "         [-1.,  1.,  1.,  1.],\n",
       "         [-1.,  1.,  1.,  1.],\n",
       "         [-1.,  1.,  1.,  1.],\n",
       "         [-1.,  1.,  1.,  1.],\n",
       "         [-1.,  1.,  1.,  1.],\n",
       "         [-1.,  1.,  1.,  1.],\n",
       "         [-1.,  1.,  1.,  1.],\n",
       "         [-1.,  1.,  1.,  1.],\n",
       "         [-1.,  1.,  1.,  1.]], grad_fn=<HardtanhBackward0>),\n",
       " 't': 1601}"
      ]
     },
     "execution_count": 14,
     "metadata": {},
     "output_type": "execute_result"
    }
   ],
   "source": [
    "theta"
   ]
  },
  {
   "cell_type": "code",
   "execution_count": 15,
   "metadata": {},
   "outputs": [
    {
     "data": {
      "text/plain": [
       "tensor([-3287627.2500, -3282931.7500, -3287794.5000, -3292553.0000,\n",
       "        -3294712.7500, -3290381.0000, -3290476.5000, -3278280.7500,\n",
       "        -3312996.7500, -3286522.7500], grad_fn=<AddBackward0>)"
      ]
     },
     "execution_count": 15,
     "metadata": {},
     "output_type": "execute_result"
    }
   ],
   "source": [
    "log_weight"
   ]
  },
  {
   "cell_type": "code",
   "execution_count": 16,
   "metadata": {},
   "outputs": [],
   "source": [
    "torch.save(agent, 'examples/fep_control/fep_bipedal_walker_agent.dat')"
   ]
  },
  {
   "cell_type": "code",
   "execution_count": null,
   "metadata": {},
   "outputs": [],
   "source": []
  }
 ],
 "metadata": {
  "kernelspec": {
   "display_name": "Python [conda env:funcytorch] *",
   "language": "python",
   "name": "conda-env-funcytorch-py"
  },
  "language_info": {
   "codemirror_mode": {
    "name": "ipython",
    "version": 3
   },
   "file_extension": ".py",
   "mimetype": "text/x-python",
   "name": "python",
   "nbconvert_exporter": "python",
   "pygments_lexer": "ipython3",
   "version": "3.7.3"
  }
 },
 "nbformat": 4,
 "nbformat_minor": 2
}
