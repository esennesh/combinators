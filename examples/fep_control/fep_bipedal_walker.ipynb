{
 "cells": [
  {
   "cell_type": "code",
   "execution_count": 1,
   "metadata": {},
   "outputs": [
    {
     "name": "stdout",
     "output_type": "stream",
     "text": [
      "/home/work/AnacondaProjects/combinators\n"
     ]
    }
   ],
   "source": [
    "%cd ../.."
   ]
  },
  {
   "cell_type": "code",
   "execution_count": 2,
   "metadata": {},
   "outputs": [],
   "source": [
    "import logging\n",
    "\n",
    "import numpy as np\n",
    "import probtorch\n",
    "import torch\n",
    "\n",
    "from examples.fep_control import fep_control\n",
    "from combinators.model import active\n",
    "from combinators.model import compose, foldable\n",
    "from combinators.inference import importance, mcmc\n",
    "from combinators import utils"
   ]
  },
  {
   "cell_type": "code",
   "execution_count": 3,
   "metadata": {},
   "outputs": [],
   "source": [
    "logging.basicConfig(format='%(asctime)s %(message)s', datefmt='%m/%d/%Y %H:%M:%S',\n",
    "                    level=logging.INFO)"
   ]
  },
  {
   "cell_type": "code",
   "execution_count": null,
   "metadata": {},
   "outputs": [],
   "source": [
    "target = fep_control.BipedalWalkerAgent(state_dim=12, batch_shape=(10,), trainable=False)\n",
    "proposal = fep_control.RecognitionAgent(state_dim=12, action_dim=4, observation_dim=24, batch_shape=(10,),\n",
    "                                        discrete_actions=False, name='BipedalWalkerAgent', trainable=True,\n",
    "                                        goal=target.goal)\n",
    "agent = importance.propose(target, proposal)"
   ]
  },
  {
   "cell_type": "code",
   "execution_count": null,
   "metadata": {},
   "outputs": [],
   "source": [
    "episode = active.ActiveEpisode(agent, 'BipedalWalker-v2')"
   ]
  },
  {
   "cell_type": "code",
   "execution_count": null,
   "metadata": {},
   "outputs": [],
   "source": [
    "theta, graph, log_weight = episode(render=True)"
   ]
  },
  {
   "cell_type": "code",
   "execution_count": null,
   "metadata": {},
   "outputs": [
    {
     "name": "stderr",
     "output_type": "stream",
     "text": [
      "07/07/2019 10:30:00 Episode length: 74\n",
      "07/07/2019 10:30:00 ELBO=-1.86026215e+02 per step at epoch 1\n",
      "07/07/2019 10:30:01 Episode length: 57\n",
      "07/07/2019 10:30:01 ELBO=-9.20053940e+01 per step at epoch 2\n",
      "07/07/2019 10:30:01 Episode length: 36\n",
      "07/07/2019 10:30:01 ELBO=-7.11589584e+01 per step at epoch 3\n",
      "07/07/2019 10:30:07 Episode length: 1086\n",
      "07/07/2019 10:30:11 ELBO=-5.49399300e+01 per step at epoch 4\n",
      "07/07/2019 10:30:11 Episode length: 65\n",
      "07/07/2019 10:30:11 ELBO=-7.88883591e+01 per step at epoch 5\n",
      "07/07/2019 10:30:12 Episode length: 72\n",
      "07/07/2019 10:30:12 ELBO=-7.78507996e+01 per step at epoch 6\n",
      "07/07/2019 10:30:12 Episode length: 53\n",
      "07/07/2019 10:30:12 ELBO=-7.23149490e+01 per step at epoch 7\n",
      "07/07/2019 10:30:13 Episode length: 64\n",
      "07/07/2019 10:30:13 ELBO=-6.10128784e+01 per step at epoch 8\n",
      "07/07/2019 10:30:14 Episode length: 59\n",
      "07/07/2019 10:30:14 ELBO=-5.81140442e+01 per step at epoch 9\n",
      "07/07/2019 10:30:24 Episode length: 1601\n",
      "07/07/2019 10:30:29 ELBO=-5.27227859e+01 per step at epoch 10\n",
      "07/07/2019 10:30:32 Episode length: 398\n",
      "07/07/2019 10:30:33 ELBO=-5.22259827e+01 per step at epoch 11\n",
      "07/07/2019 10:30:35 Episode length: 272\n",
      "07/07/2019 10:30:36 ELBO=-5.22619247e+01 per step at epoch 12\n",
      "07/07/2019 10:30:37 Episode length: 78\n",
      "07/07/2019 10:30:37 ELBO=-5.69888992e+01 per step at epoch 13\n",
      "07/07/2019 10:30:37 Episode length: 56\n",
      "07/07/2019 10:30:38 ELBO=-6.58354568e+01 per step at epoch 14\n",
      "07/07/2019 10:30:38 Episode length: 38\n",
      "07/07/2019 10:30:38 ELBO=-6.61487885e+01 per step at epoch 15\n",
      "07/07/2019 10:30:39 Episode length: 110\n",
      "07/07/2019 10:30:39 ELBO=-5.61241112e+01 per step at epoch 16\n",
      "07/07/2019 10:30:45 Episode length: 877\n",
      "07/07/2019 10:30:47 ELBO=-5.08704262e+01 per step at epoch 17\n",
      "07/07/2019 10:30:50 Episode length: 500\n",
      "07/07/2019 10:30:52 ELBO=-4.91546249e+01 per step at epoch 18\n",
      "07/07/2019 10:30:52 Episode length: 53\n",
      "07/07/2019 10:30:53 ELBO=-5.71863861e+01 per step at epoch 19\n",
      "07/07/2019 10:30:53 Episode length: 58\n",
      "07/07/2019 10:30:53 ELBO=-6.00579681e+01 per step at epoch 20\n",
      "07/07/2019 10:30:54 Episode length: 73\n",
      "07/07/2019 10:30:54 ELBO=-5.65032120e+01 per step at epoch 21\n",
      "07/07/2019 10:30:54 Episode length: 51\n",
      "07/07/2019 10:30:54 ELBO=-6.28536263e+01 per step at epoch 22\n",
      "07/07/2019 10:30:55 Episode length: 91\n",
      "07/07/2019 10:30:55 ELBO=-5.57172623e+01 per step at epoch 23\n",
      "07/07/2019 10:30:56 Episode length: 61\n",
      "07/07/2019 10:30:56 ELBO=-5.66090126e+01 per step at epoch 24\n",
      "07/07/2019 10:30:56 Episode length: 79\n",
      "07/07/2019 10:30:57 ELBO=-5.38824348e+01 per step at epoch 25\n",
      "07/07/2019 10:30:57 Episode length: 63\n",
      "07/07/2019 10:30:57 ELBO=-6.15526047e+01 per step at epoch 26\n",
      "07/07/2019 10:30:59 Episode length: 276\n",
      "07/07/2019 10:31:00 ELBO=-4.97103233e+01 per step at epoch 27\n",
      "07/07/2019 10:31:10 Episode length: 1601\n",
      "07/07/2019 10:31:15 ELBO=-4.54034538e+01 per step at epoch 28\n",
      "07/07/2019 10:31:26 Episode length: 1601\n",
      "07/07/2019 10:31:31 ELBO=-4.41412506e+01 per step at epoch 29\n",
      "07/07/2019 10:31:32 Episode length: 70\n",
      "07/07/2019 10:31:33 ELBO=-5.56096001e+01 per step at epoch 30\n",
      "07/07/2019 10:31:33 Episode length: 54\n",
      "07/07/2019 10:31:33 ELBO=-7.57799911e+01 per step at epoch 31\n",
      "07/07/2019 10:31:42 Episode length: 1436\n",
      "07/07/2019 10:31:47 ELBO=-4.95321541e+01 per step at epoch 32\n",
      "07/07/2019 10:31:47 Episode length: 47\n",
      "07/07/2019 10:31:48 ELBO=-5.67008133e+01 per step at epoch 33\n",
      "07/07/2019 10:31:48 Episode length: 96\n",
      "07/07/2019 10:31:49 ELBO=-5.10390511e+01 per step at epoch 34\n",
      "07/07/2019 10:31:59 Episode length: 1601\n",
      "07/07/2019 10:32:07 ELBO=-4.43550224e+01 per step at epoch 35\n",
      "07/07/2019 10:32:26 Episode length: 1601\n",
      "07/07/2019 10:32:33 ELBO=-4.23647232e+01 per step at epoch 36\n",
      "07/07/2019 10:32:34 Episode length: 49\n",
      "07/07/2019 10:32:34 ELBO=-4.80927887e+01 per step at epoch 37\n",
      "07/07/2019 10:32:36 Episode length: 132\n",
      "07/07/2019 10:32:37 ELBO=-5.61421318e+01 per step at epoch 38\n",
      "07/07/2019 10:32:37 Episode length: 74\n",
      "07/07/2019 10:32:38 ELBO=-6.19582634e+01 per step at epoch 39\n",
      "07/07/2019 10:32:38 Episode length: 100\n",
      "07/07/2019 10:32:39 ELBO=-7.17309341e+01 per step at epoch 40\n",
      "07/07/2019 10:32:39 Episode length: 49\n",
      "07/07/2019 10:32:40 ELBO=-6.25413513e+01 per step at epoch 41\n",
      "07/07/2019 10:32:41 Episode length: 107\n",
      "07/07/2019 10:32:41 ELBO=-5.24028473e+01 per step at epoch 42\n",
      "07/07/2019 10:32:42 Episode length: 55\n",
      "07/07/2019 10:32:42 ELBO=-5.34843788e+01 per step at epoch 43\n",
      "07/07/2019 10:32:44 Episode length: 199\n",
      "07/07/2019 10:32:45 ELBO=-4.63140068e+01 per step at epoch 44\n",
      "07/07/2019 10:32:48 Episode length: 301\n",
      "07/07/2019 10:32:50 ELBO=-4.68398972e+01 per step at epoch 45\n",
      "07/07/2019 10:32:50 Episode length: 66\n",
      "07/07/2019 10:32:51 ELBO=-5.46094742e+01 per step at epoch 46\n",
      "07/07/2019 10:32:51 Episode length: 73\n",
      "07/07/2019 10:32:52 ELBO=-5.10090752e+01 per step at epoch 47\n",
      "07/07/2019 10:32:52 Episode length: 74\n",
      "07/07/2019 10:32:53 ELBO=-4.77707710e+01 per step at epoch 48\n",
      "07/07/2019 10:32:53 Episode length: 35\n",
      "07/07/2019 10:32:53 ELBO=-5.37857857e+01 per step at epoch 49\n",
      "07/07/2019 10:32:54 Episode length: 69\n",
      "07/07/2019 10:32:54 ELBO=-4.66975517e+01 per step at epoch 50\n",
      "07/07/2019 10:32:55 Episode length: 68\n",
      "07/07/2019 10:32:55 ELBO=-4.85237770e+01 per step at epoch 51\n",
      "07/07/2019 10:32:56 Episode length: 85\n",
      "07/07/2019 10:32:56 ELBO=-4.80946846e+01 per step at epoch 52\n",
      "07/07/2019 10:32:58 Episode length: 189\n",
      "07/07/2019 10:32:59 ELBO=-4.74332275e+01 per step at epoch 53\n",
      "07/07/2019 10:33:03 Episode length: 463\n",
      "07/07/2019 10:33:04 ELBO=-4.22842331e+01 per step at epoch 54\n",
      "07/07/2019 10:33:05 Episode length: 42\n",
      "07/07/2019 10:33:05 ELBO=-4.91003304e+01 per step at epoch 55\n",
      "07/07/2019 10:33:06 Episode length: 67\n",
      "07/07/2019 10:33:06 ELBO=-4.79393349e+01 per step at epoch 56\n",
      "07/07/2019 10:33:07 Episode length: 145\n",
      "07/07/2019 10:33:08 ELBO=-4.99029083e+01 per step at epoch 57\n",
      "07/07/2019 10:33:08 Episode length: 88\n",
      "07/07/2019 10:33:09 ELBO=-4.35352135e+01 per step at epoch 58\n",
      "07/07/2019 10:33:09 Episode length: 40\n",
      "07/07/2019 10:33:09 ELBO=-4.69996605e+01 per step at epoch 59\n",
      "07/07/2019 10:33:10 Episode length: 60\n",
      "07/07/2019 10:33:10 ELBO=-5.25401115e+01 per step at epoch 60\n",
      "07/07/2019 10:33:11 Episode length: 82\n",
      "07/07/2019 10:33:11 ELBO=-4.60192795e+01 per step at epoch 61\n",
      "07/07/2019 10:33:12 Episode length: 79\n",
      "07/07/2019 10:33:12 ELBO=-4.33326721e+01 per step at epoch 62\n",
      "07/07/2019 10:33:13 Episode length: 56\n",
      "07/07/2019 10:33:13 ELBO=-4.32395439e+01 per step at epoch 63\n",
      "07/07/2019 10:33:13 Episode length: 34\n",
      "07/07/2019 10:33:14 ELBO=-4.84491119e+01 per step at epoch 64\n",
      "07/07/2019 10:33:14 Episode length: 37\n",
      "07/07/2019 10:33:14 ELBO=-4.36379509e+01 per step at epoch 65\n",
      "07/07/2019 10:33:15 Episode length: 49\n",
      "07/07/2019 10:33:15 ELBO=-4.61183548e+01 per step at epoch 66\n",
      "07/07/2019 10:33:16 Episode length: 87\n",
      "07/07/2019 10:33:16 ELBO=-4.04387894e+01 per step at epoch 67\n",
      "07/07/2019 10:33:16 Episode length: 49\n",
      "07/07/2019 10:33:16 ELBO=-4.25957413e+01 per step at epoch 68\n",
      "07/07/2019 10:33:17 Episode length: 53\n",
      "07/07/2019 10:33:17 ELBO=-4.26856270e+01 per step at epoch 69\n",
      "07/07/2019 10:33:17 Episode length: 83\n",
      "07/07/2019 10:33:18 ELBO=-4.17089767e+01 per step at epoch 70\n",
      "07/07/2019 10:33:18 Episode length: 86\n",
      "07/07/2019 10:33:19 ELBO=-3.96478310e+01 per step at epoch 71\n",
      "07/07/2019 10:33:19 Episode length: 60\n",
      "07/07/2019 10:33:19 ELBO=-4.01693192e+01 per step at epoch 72\n",
      "07/07/2019 10:33:20 Episode length: 56\n",
      "07/07/2019 10:33:20 ELBO=-4.46204109e+01 per step at epoch 73\n",
      "07/07/2019 10:33:20 Episode length: 43\n",
      "07/07/2019 10:33:20 ELBO=-4.40377464e+01 per step at epoch 74\n",
      "07/07/2019 10:33:21 Episode length: 76\n",
      "07/07/2019 10:33:21 ELBO=-4.15913620e+01 per step at epoch 75\n",
      "07/07/2019 10:33:21 Episode length: 40\n",
      "07/07/2019 10:33:21 ELBO=-4.34390297e+01 per step at epoch 76\n",
      "07/07/2019 10:33:22 Episode length: 65\n",
      "07/07/2019 10:33:22 ELBO=-3.93867950e+01 per step at epoch 77\n",
      "07/07/2019 10:33:24 Episode length: 300\n",
      "07/07/2019 10:33:24 ELBO=-4.33051758e+01 per step at epoch 78\n",
      "07/07/2019 10:33:25 Episode length: 79\n",
      "07/07/2019 10:33:25 ELBO=-4.52479591e+01 per step at epoch 79\n",
      "07/07/2019 10:33:26 Episode length: 61\n",
      "07/07/2019 10:33:26 ELBO=-4.29412613e+01 per step at epoch 80\n",
      "07/07/2019 10:33:27 Episode length: 169\n",
      "07/07/2019 10:33:28 ELBO=-4.06944046e+01 per step at epoch 81\n",
      "07/07/2019 10:33:28 Episode length: 52\n",
      "07/07/2019 10:33:28 ELBO=-4.04887733e+01 per step at epoch 82\n",
      "07/07/2019 10:33:29 Episode length: 112\n",
      "07/07/2019 10:33:30 ELBO=-3.82676926e+01 per step at epoch 83\n",
      "07/07/2019 10:33:30 Episode length: 44\n",
      "07/07/2019 10:33:30 ELBO=-4.07757721e+01 per step at epoch 84\n",
      "07/07/2019 10:33:31 Episode length: 78\n",
      "07/07/2019 10:33:31 ELBO=-4.37633324e+01 per step at epoch 85\n",
      "07/07/2019 10:33:31 Episode length: 71\n",
      "07/07/2019 10:33:32 ELBO=-4.43069763e+01 per step at epoch 86\n",
      "07/07/2019 10:33:34 Episode length: 256\n",
      "07/07/2019 10:33:35 ELBO=-4.00364799e+01 per step at epoch 87\n",
      "07/07/2019 10:33:36 Episode length: 112\n",
      "07/07/2019 10:33:36 ELBO=-4.10790520e+01 per step at epoch 88\n",
      "07/07/2019 10:33:37 Episode length: 105\n",
      "07/07/2019 10:33:38 ELBO=-3.86199532e+01 per step at epoch 89\n",
      "07/07/2019 10:33:39 Episode length: 91\n",
      "07/07/2019 10:33:39 ELBO=-3.82018471e+01 per step at epoch 90\n",
      "07/07/2019 10:33:40 Episode length: 107\n",
      "07/07/2019 10:33:40 ELBO=-3.94877396e+01 per step at epoch 91\n",
      "07/07/2019 10:33:40 Episode length: 52\n",
      "07/07/2019 10:33:41 ELBO=-4.11431351e+01 per step at epoch 92\n",
      "07/07/2019 10:33:41 Episode length: 89\n",
      "07/07/2019 10:33:42 ELBO=-3.82128868e+01 per step at epoch 93\n",
      "07/07/2019 10:33:43 Episode length: 163\n",
      "07/07/2019 10:33:44 ELBO=-4.04045563e+01 per step at epoch 94\n",
      "07/07/2019 10:33:46 Episode length: 312\n",
      "07/07/2019 10:33:48 ELBO=-3.47710648e+01 per step at epoch 95\n"
     ]
    }
   ],
   "source": [
    "xi, trained_params, elbos = active.active_variational(episode, 100, lr=1e-2, log_estimator=True, patience=100)"
   ]
  },
  {
   "cell_type": "code",
   "execution_count": null,
   "metadata": {},
   "outputs": [],
   "source": [
    "utils.plot_evidence_bounds(elbos[:, 0].cpu().detach().numpy())"
   ]
  },
  {
   "cell_type": "code",
   "execution_count": null,
   "metadata": {},
   "outputs": [],
   "source": [
    "theta, graph, log_weight = episode(render=True)"
   ]
  },
  {
   "cell_type": "code",
   "execution_count": null,
   "metadata": {},
   "outputs": [],
   "source": [
    "theta"
   ]
  },
  {
   "cell_type": "code",
   "execution_count": null,
   "metadata": {},
   "outputs": [],
   "source": [
    "log_weight"
   ]
  },
  {
   "cell_type": "code",
   "execution_count": null,
   "metadata": {},
   "outputs": [],
   "source": [
    "torch.save(agent, 'examples/fep_control/fep_bipedal_walker_agent.dat')"
   ]
  },
  {
   "cell_type": "code",
   "execution_count": null,
   "metadata": {},
   "outputs": [],
   "source": []
  }
 ],
 "metadata": {
  "kernelspec": {
   "display_name": "Python [conda env:funcytorch] *",
   "language": "python",
   "name": "conda-env-funcytorch-py"
  },
  "language_info": {
   "codemirror_mode": {
    "name": "ipython",
    "version": 3
   },
   "file_extension": ".py",
   "mimetype": "text/x-python",
   "name": "python",
   "nbconvert_exporter": "python",
   "pygments_lexer": "ipython3",
   "version": "3.7.3"
  }
 },
 "nbformat": 4,
 "nbformat_minor": 2
}
