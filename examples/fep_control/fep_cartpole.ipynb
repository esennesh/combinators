{
 "cells": [
  {
   "cell_type": "code",
   "execution_count": 1,
   "metadata": {},
   "outputs": [
    {
     "name": "stdout",
     "output_type": "stream",
     "text": [
      "/home/work/AnacondaProjects/combinators\n"
     ]
    }
   ],
   "source": [
    "%cd ../.."
   ]
  },
  {
   "cell_type": "code",
   "execution_count": 2,
   "metadata": {},
   "outputs": [],
   "source": [
    "import logging\n",
    "\n",
    "import numpy as np\n",
    "import probtorch\n",
    "import torch\n",
    "\n",
    "from examples.fep_rl import fep_rl\n",
    "from combinators.model import active\n",
    "from combinators.model import compose, foldable\n",
    "from combinators.inference import importance\n",
    "from combinators import utils"
   ]
  },
  {
   "cell_type": "code",
   "execution_count": 3,
   "metadata": {},
   "outputs": [],
   "source": [
    "logging.basicConfig(format='%(asctime)s %(message)s', datefmt='%m/%d/%Y %H:%M:%S',\n",
    "                    level=logging.INFO)"
   ]
  },
  {
   "cell_type": "code",
   "execution_count": 4,
   "metadata": {},
   "outputs": [],
   "source": [
    "target = fep_rl.CartpoleStep(state_dim=4, action_dim=2, observation_dim=4, batch_shape=(1,), trainable=False)\n",
    "proposal = fep_rl.AiStep(state_dim=4, action_dim=2, observation_dim=4, batch_shape=(1,), trainable=False)\n",
    "agent = importance.propose(target, proposal)"
   ]
  },
  {
   "cell_type": "code",
   "execution_count": 5,
   "metadata": {},
   "outputs": [],
   "source": [
    "prior_target = fep_rl.AiStatePrior(state_dim=4, batch_shape=(1,), trainable=False)\n",
    "prior_proposal = fep_rl.AiStatePrior(state_dim=4, batch_shape=(1,), trainable=True)\n",
    "prior = importance.propose(prior_target, prior_proposal)\n",
    "\n",
    "initial_observer = fep_rl.AiInit(state_dim=4, observation_dim=4, batch_shape=(1,), trainable=True)\n",
    "\n",
    "initializer = compose(initial_observer, prior)"
   ]
  },
  {
   "cell_type": "code",
   "execution_count": 6,
   "metadata": {},
   "outputs": [],
   "source": [
    "agent_step = foldable.step(agent, initializer=initializer)"
   ]
  },
  {
   "cell_type": "code",
   "execution_count": null,
   "metadata": {},
   "outputs": [
    {
     "name": "stderr",
     "output_type": "stream",
     "text": [
      "04/02/2019 13:21:40 ELBO=-8.82299121e+03 at episode 0 of length 27\n",
      "04/02/2019 13:21:58 ELBO=-5.65915088e+03 at episode 1 of length 15\n",
      "04/02/2019 13:22:30 ELBO=-1.32532656e+04 at episode 2 of length 26\n",
      "04/02/2019 13:22:51 ELBO=-1.52968555e+04 at episode 3 of length 17\n",
      "04/02/2019 13:23:05 ELBO=-8.56789453e+03 at episode 4 of length 11\n",
      "04/02/2019 13:23:21 ELBO=-3.77167627e+03 at episode 5 of length 13\n",
      "04/02/2019 13:23:35 ELBO=-4.92067285e+03 at episode 6 of length 11\n",
      "04/02/2019 13:24:01 ELBO=-4.32117334e+03 at episode 7 of length 22\n",
      "04/02/2019 13:25:01 ELBO=-2.39362910e+04 at episode 8 of length 48\n",
      "04/02/2019 13:25:35 ELBO=-2.81944160e+04 at episode 9 of length 26\n",
      "04/02/2019 13:25:49 ELBO=-2.36566914e+04 at episode 10 of length 11\n",
      "04/02/2019 13:26:08 ELBO=-9.21218945e+03 at episode 11 of length 16\n",
      "04/02/2019 13:26:23 ELBO=-9.41592188e+03 at episode 12 of length 12\n",
      "04/02/2019 13:26:43 ELBO=-1.19624915e+03 at episode 13 of length 16\n",
      "04/02/2019 13:26:58 ELBO=-4.28529883e+03 at episode 14 of length 12\n",
      "04/02/2019 13:27:14 ELBO=-1.06065552e+03 at episode 15 of length 13\n",
      "04/02/2019 13:28:37 ELBO=-2.24850566e+04 at episode 16 of length 67\n",
      "04/02/2019 13:28:56 ELBO=-1.72548066e+04 at episode 17 of length 15\n",
      "04/02/2019 13:29:50 ELBO=-1.16976895e+04 at episode 18 of length 42\n",
      "04/02/2019 13:30:30 ELBO=-5.08731406e+04 at episode 19 of length 32\n",
      "04/02/2019 13:30:54 ELBO=-1.93366797e+04 at episode 20 of length 20\n",
      "04/02/2019 13:31:12 ELBO=-1.12105303e+04 at episode 21 of length 14\n",
      "04/02/2019 13:31:23 ELBO=-5.60180420e+03 at episode 22 of length 9\n",
      "04/02/2019 13:31:59 ELBO=-1.46147930e+04 at episode 23 of length 25\n",
      "04/02/2019 13:32:27 ELBO=-1.21406426e+04 at episode 24 of length 21\n",
      "04/02/2019 13:32:38 ELBO=-3.32528984e+04 at episode 25 of length 9\n",
      "04/02/2019 13:33:22 ELBO=-5.54362344e+04 at episode 26 of length 35\n",
      "04/02/2019 13:33:38 ELBO=-2.60714023e+04 at episode 27 of length 12\n",
      "04/02/2019 13:34:24 ELBO=-2.26222344e+04 at episode 28 of length 28\n",
      "04/02/2019 13:34:46 ELBO=-3.55663945e+04 at episode 29 of length 12\n",
      "04/02/2019 13:34:59 ELBO=-3.09668359e+04 at episode 30 of length 10\n",
      "04/02/2019 13:35:32 ELBO=-3.92736758e+04 at episode 31 of length 23\n",
      "04/02/2019 13:35:47 ELBO=-3.02702070e+04 at episode 32 of length 12\n",
      "04/02/2019 13:36:02 ELBO=-2.00233281e+04 at episode 33 of length 12\n",
      "04/02/2019 13:36:20 ELBO=-8.18037061e+03 at episode 34 of length 14\n",
      "04/02/2019 13:36:51 ELBO=-1.57775244e+03 at episode 35 of length 20\n",
      "04/02/2019 13:37:19 ELBO=-1.44005139e+03 at episode 36 of length 17\n",
      "04/02/2019 13:37:32 ELBO=-2.56133911e+03 at episode 37 of length 9\n",
      "04/02/2019 13:38:16 ELBO=-5.68020850e+03 at episode 38 of length 28\n",
      "04/02/2019 13:38:29 ELBO=-9.54733398e+03 at episode 39 of length 10\n",
      "04/02/2019 13:38:51 ELBO=-2.15397900e+03 at episode 40 of length 15\n",
      "04/02/2019 13:39:13 ELBO=-1.66145581e+03 at episode 41 of length 16\n",
      "04/02/2019 13:39:25 ELBO=-1.67388831e+03 at episode 42 of length 10\n",
      "04/02/2019 13:39:51 ELBO=-1.14031787e+03 at episode 43 of length 14\n",
      "04/02/2019 13:41:02 ELBO=-1.37284766e+03 at episode 44 of length 47\n",
      "04/02/2019 13:41:17 ELBO=-8.63888062e+02 at episode 45 of length 11\n",
      "04/02/2019 13:41:35 ELBO=-5.15474915e+02 at episode 46 of length 13\n",
      "04/02/2019 13:41:59 ELBO=-4.15832062e+02 at episode 47 of length 18\n",
      "04/02/2019 13:42:31 ELBO=-4.48624786e+02 at episode 48 of length 22\n",
      "04/02/2019 13:42:46 ELBO=-6.45133911e+02 at episode 49 of length 11\n",
      "04/02/2019 13:43:14 ELBO=-4.11441132e+02 at episode 50 of length 19\n",
      "04/02/2019 13:43:46 ELBO=-3.03924011e+02 at episode 51 of length 23\n",
      "04/02/2019 13:44:06 ELBO=-5.22442810e+02 at episode 52 of length 14\n",
      "04/02/2019 13:44:31 ELBO=-5.41807922e+02 at episode 53 of length 18\n",
      "04/02/2019 13:44:42 ELBO=-5.56023743e+02 at episode 54 of length 8\n",
      "04/02/2019 13:45:10 ELBO=-3.47633484e+02 at episode 55 of length 21\n",
      "04/02/2019 13:45:44 ELBO=-7.43678223e+02 at episode 56 of length 24\n",
      "04/02/2019 13:46:10 ELBO=-4.25436859e+02 at episode 57 of length 17\n",
      "04/02/2019 13:46:52 ELBO=-5.20306641e+02 at episode 58 of length 29\n",
      "04/02/2019 13:47:12 ELBO=-1.09515308e+03 at episode 59 of length 15\n",
      "04/02/2019 13:47:41 ELBO=-8.21441833e+02 at episode 60 of length 22\n",
      "04/02/2019 13:48:10 ELBO=-3.59910675e+02 at episode 61 of length 16\n",
      "04/02/2019 13:49:38 ELBO=-6.62982861e+03 at episode 62 of length 61\n",
      "04/02/2019 13:50:10 ELBO=-5.19817383e+02 at episode 63 of length 19\n",
      "04/02/2019 13:50:46 ELBO=-2.94536084e+03 at episode 64 of length 26\n",
      "04/02/2019 13:51:08 ELBO=-2.40929980e+03 at episode 65 of length 15\n",
      "04/02/2019 13:51:49 ELBO=-1.13526135e+03 at episode 66 of length 30\n",
      "04/02/2019 13:52:02 ELBO=-3.43007690e+03 at episode 67 of length 10\n",
      "04/02/2019 13:52:36 ELBO=-9.57234985e+02 at episode 68 of length 24\n",
      "04/02/2019 13:52:55 ELBO=-1.75790430e+03 at episode 69 of length 15\n",
      "04/02/2019 13:53:23 ELBO=-9.19693848e+02 at episode 70 of length 20\n",
      "04/02/2019 13:53:38 ELBO=-7.30106934e+02 at episode 71 of length 10\n",
      "04/02/2019 13:53:56 ELBO=-6.20900085e+02 at episode 72 of length 14\n",
      "04/02/2019 13:54:21 ELBO=-5.56045776e+02 at episode 73 of length 20\n",
      "04/02/2019 13:54:43 ELBO=-4.62834259e+02 at episode 74 of length 17\n",
      "04/02/2019 13:55:17 ELBO=-5.74584656e+02 at episode 75 of length 27\n",
      "04/02/2019 13:55:59 ELBO=-4.88925049e+02 at episode 76 of length 34\n",
      "04/02/2019 13:56:14 ELBO=-3.80576599e+02 at episode 77 of length 12\n",
      "04/02/2019 13:56:28 ELBO=-4.45875183e+02 at episode 78 of length 11\n",
      "04/02/2019 13:56:58 ELBO=-4.48169067e+02 at episode 79 of length 23\n",
      "04/02/2019 13:57:24 ELBO=-2.57414856e+02 at episode 80 of length 19\n",
      "04/02/2019 13:58:00 ELBO=-6.07103333e+02 at episode 81 of length 28\n",
      "04/02/2019 13:58:18 ELBO=-5.14756042e+02 at episode 82 of length 15\n",
      "04/02/2019 13:58:37 ELBO=-3.11608368e+02 at episode 83 of length 15\n",
      "04/02/2019 13:59:13 ELBO=-2.76409210e+02 at episode 84 of length 26\n",
      "04/02/2019 13:59:42 ELBO=-2.66573242e+02 at episode 85 of length 21\n",
      "04/02/2019 14:00:02 ELBO=-4.81140778e+02 at episode 86 of length 15\n",
      "04/02/2019 14:01:10 ELBO=-1.08452527e+03 at episode 87 of length 51\n",
      "04/02/2019 14:01:28 ELBO=-2.76907684e+02 at episode 88 of length 14\n",
      "04/02/2019 14:02:04 ELBO=-5.78478760e+02 at episode 89 of length 29\n",
      "04/02/2019 14:02:41 ELBO=-9.77945801e+02 at episode 90 of length 29\n",
      "04/02/2019 14:03:04 ELBO=-3.99920776e+02 at episode 91 of length 17\n",
      "04/02/2019 14:03:25 ELBO=-6.51037170e+02 at episode 92 of length 17\n",
      "04/02/2019 14:04:13 ELBO=-6.32829346e+02 at episode 93 of length 37\n",
      "04/02/2019 14:04:35 ELBO=-4.65734100e+02 at episode 94 of length 17\n",
      "04/02/2019 14:05:16 ELBO=-4.40662354e+02 at episode 95 of length 33\n",
      "04/02/2019 14:05:42 ELBO=-2.09577896e+02 at episode 96 of length 21\n",
      "04/02/2019 14:06:01 ELBO=-1.05897485e+03 at episode 97 of length 15\n",
      "04/02/2019 14:06:18 ELBO=-3.68751801e+02 at episode 98 of length 14\n",
      "04/02/2019 14:06:34 ELBO=-4.19077728e+02 at episode 99 of length 13\n",
      "04/02/2019 14:06:47 ELBO=-3.32425629e+02 at episode 100 of length 11\n",
      "04/02/2019 14:07:01 ELBO=-3.11431183e+02 at episode 101 of length 11\n",
      "04/02/2019 14:07:33 ELBO=-3.63053101e+02 at episode 102 of length 26\n",
      "04/02/2019 14:07:49 ELBO=-2.62166626e+02 at episode 103 of length 13\n",
      "04/02/2019 14:08:22 ELBO=-2.15636414e+02 at episode 104 of length 27\n",
      "04/02/2019 14:18:47 ELBO=-7.25284058e+02 at episode 105 of length 32\n",
      "04/02/2019 14:19:20 ELBO=-2.85342255e+02 at episode 106 of length 16\n",
      "04/02/2019 14:19:51 ELBO=-4.83487549e+02 at episode 107 of length 17\n",
      "04/02/2019 14:20:41 ELBO=-1.07031775e+03 at episode 108 of length 34\n",
      "04/02/2019 14:21:18 ELBO=-1.67706812e+03 at episode 109 of length 26\n",
      "04/02/2019 14:22:02 ELBO=-4.66095557e+03 at episode 110 of length 26\n",
      "04/02/2019 14:22:38 ELBO=-9.03742383e+03 at episode 111 of length 17\n",
      "04/02/2019 14:23:10 ELBO=-8.37423730e+03 at episode 112 of length 18\n",
      "04/02/2019 14:23:44 ELBO=-9.24464922e+04 at episode 113 of length 23\n",
      "04/02/2019 14:24:04 ELBO=-2.82650234e+04 at episode 114 of length 11\n",
      "04/02/2019 14:24:30 ELBO=-5.24755312e+04 at episode 115 of length 15\n",
      "04/02/2019 14:24:45 ELBO=-1.08734828e+05 at episode 116 of length 10\n",
      "04/02/2019 14:25:11 ELBO=-7.30897500e+04 at episode 117 of length 18\n",
      "04/02/2019 14:25:51 ELBO=-5.50311211e+04 at episode 118 of length 21\n",
      "04/02/2019 14:26:30 ELBO=-5.00464766e+04 at episode 119 of length 20\n",
      "04/02/2019 14:27:05 ELBO=-1.47865109e+05 at episode 120 of length 20\n",
      "04/02/2019 14:27:33 ELBO=-2.03521938e+05 at episode 121 of length 18\n",
      "04/02/2019 14:28:10 ELBO=-3.76774062e+05 at episode 122 of length 22\n",
      "04/02/2019 14:28:51 ELBO=-5.55507438e+05 at episode 123 of length 24\n",
      "04/02/2019 14:29:29 ELBO=-2.20281225e+06 at episode 124 of length 26\n",
      "04/02/2019 14:31:04 ELBO=-2.26503000e+06 at episode 125 of length 63\n",
      "04/02/2019 14:31:44 ELBO=-2.28763000e+06 at episode 126 of length 25\n",
      "04/02/2019 14:32:13 ELBO=-2.25416375e+06 at episode 127 of length 19\n",
      "04/02/2019 14:33:35 ELBO=-2.24342725e+06 at episode 128 of length 54\n",
      "04/02/2019 14:33:56 ELBO=-2.30990250e+06 at episode 129 of length 14\n",
      "04/02/2019 14:35:01 ELBO=-2.31121575e+06 at episode 130 of length 43\n",
      "04/02/2019 14:35:32 ELBO=-2.28744675e+06 at episode 131 of length 21\n",
      "04/02/2019 14:36:15 ELBO=-2.25648800e+06 at episode 132 of length 29\n",
      "04/02/2019 14:36:36 ELBO=-2.31085425e+06 at episode 133 of length 13\n",
      "04/02/2019 14:36:55 ELBO=-2.28994100e+06 at episode 134 of length 12\n",
      "04/02/2019 14:37:24 ELBO=-2.18759475e+06 at episode 135 of length 16\n",
      "04/02/2019 14:37:40 ELBO=-2.24623000e+06 at episode 136 of length 10\n",
      "04/02/2019 14:38:19 ELBO=-2.19190650e+06 at episode 137 of length 24\n",
      "04/02/2019 14:38:47 ELBO=-2.25169250e+06 at episode 138 of length 17\n",
      "04/02/2019 14:39:23 ELBO=-2.24365925e+06 at episode 139 of length 23\n",
      "04/02/2019 14:39:43 ELBO=-2.31912200e+06 at episode 140 of length 13\n",
      "04/02/2019 14:42:00 ELBO=-2.24043425e+06 at episode 141 of length 69\n",
      "04/02/2019 14:42:22 ELBO=-2.18764475e+06 at episode 142 of length 12\n",
      "04/02/2019 14:42:40 ELBO=-2.19287625e+06 at episode 143 of length 11\n",
      "04/02/2019 14:43:15 ELBO=-2.33192150e+06 at episode 144 of length 25\n",
      "04/02/2019 14:43:50 ELBO=-2.25672600e+06 at episode 145 of length 27\n",
      "04/02/2019 14:44:15 ELBO=-2.14892875e+06 at episode 146 of length 19\n",
      "04/02/2019 14:45:06 ELBO=-2.26074350e+06 at episode 147 of length 34\n"
     ]
    },
    {
     "name": "stdout",
     "output_type": "stream",
     "text": [
      "Epoch   147: reducing learning rate of group 0 to 5.0000e-03.\n"
     ]
    },
    {
     "name": "stderr",
     "output_type": "stream",
     "text": [
      "04/02/2019 14:45:23 ELBO=-2.27231475e+06 at episode 148 of length 13\n",
      "04/02/2019 14:45:48 ELBO=-2.11983500e+06 at episode 149 of length 19\n",
      "04/02/2019 14:46:12 ELBO=-2.20754550e+06 at episode 150 of length 18\n",
      "04/02/2019 14:46:30 ELBO=-2.27498700e+06 at episode 151 of length 14\n",
      "04/02/2019 14:47:14 ELBO=-2.25950825e+06 at episode 152 of length 33\n",
      "04/02/2019 14:47:35 ELBO=-2.24404350e+06 at episode 153 of length 16\n",
      "04/02/2019 14:47:57 ELBO=-2.27307175e+06 at episode 154 of length 16\n",
      "04/02/2019 14:48:32 ELBO=-2.21009100e+06 at episode 155 of length 24\n",
      "04/02/2019 14:49:29 ELBO=-2.22051150e+06 at episode 156 of length 41\n",
      "04/02/2019 14:49:58 ELBO=-2.25606750e+06 at episode 157 of length 23\n",
      "04/02/2019 14:50:24 ELBO=-2.17670225e+06 at episode 158 of length 19\n",
      "04/02/2019 14:50:37 ELBO=-2.28982450e+06 at episode 159 of length 10\n",
      "04/02/2019 14:50:56 ELBO=-2.17209175e+06 at episode 160 of length 15\n",
      "04/02/2019 14:51:28 ELBO=-2.14034050e+06 at episode 161 of length 25\n",
      "04/02/2019 14:51:52 ELBO=-2.29107050e+06 at episode 162 of length 19\n",
      "04/02/2019 14:52:10 ELBO=-2.31076525e+06 at episode 163 of length 14\n",
      "04/02/2019 14:52:36 ELBO=-2.33576175e+06 at episode 164 of length 20\n",
      "04/02/2019 14:52:56 ELBO=-2.35942850e+06 at episode 165 of length 16\n",
      "04/02/2019 14:53:20 ELBO=-2.21171025e+06 at episode 166 of length 17\n",
      "04/02/2019 14:54:07 ELBO=-2.30253175e+06 at episode 167 of length 37\n",
      "04/02/2019 14:54:20 ELBO=-2.18012000e+06 at episode 168 of length 10\n",
      "04/02/2019 14:55:43 ELBO=-2.25164100e+06 at episode 169 of length 62\n",
      "04/02/2019 14:56:02 ELBO=-2.26735525e+06 at episode 170 of length 15\n",
      "04/02/2019 14:56:37 ELBO=-2.20047400e+06 at episode 171 of length 27\n",
      "04/02/2019 14:57:18 ELBO=-2.33256300e+06 at episode 172 of length 30\n",
      "04/02/2019 14:58:02 ELBO=-2.32192725e+06 at episode 173 of length 34\n",
      "04/02/2019 14:58:58 ELBO=-2.25027600e+06 at episode 174 of length 42\n",
      "04/02/2019 14:59:39 ELBO=-2.24843875e+06 at episode 175 of length 31\n",
      "04/02/2019 14:59:54 ELBO=-2.23978125e+06 at episode 176 of length 11\n",
      "04/02/2019 15:02:52 ELBO=-2.27370000e+06 at episode 177 of length 25\n",
      "04/02/2019 15:03:18 ELBO=-2.21631850e+06 at episode 178 of length 18\n",
      "04/02/2019 15:03:57 ELBO=-2.24602200e+06 at episode 179 of length 28\n",
      "04/02/2019 15:04:20 ELBO=-2.20141100e+06 at episode 180 of length 18\n",
      "04/02/2019 15:04:51 ELBO=-2.29977800e+06 at episode 181 of length 23\n"
     ]
    }
   ],
   "source": [
    "theta, graph, log_weight = active.active_inference(agent_step, 'CartPole-v0', lr=1e-2, episodes=500, episode_length=200)"
   ]
  },
  {
   "cell_type": "code",
   "execution_count": null,
   "metadata": {},
   "outputs": [],
   "source": [
    "log_weight"
   ]
  },
  {
   "cell_type": "code",
   "execution_count": null,
   "metadata": {},
   "outputs": [],
   "source": [
    "theta, graph, log_weight = active.active_inference_test(agent_step, 'CartPole-v0')"
   ]
  },
  {
   "cell_type": "code",
   "execution_count": null,
   "metadata": {},
   "outputs": [],
   "source": [
    "theta"
   ]
  },
  {
   "cell_type": "code",
   "execution_count": null,
   "metadata": {},
   "outputs": [],
   "source": [
    "graph"
   ]
  },
  {
   "cell_type": "code",
   "execution_count": null,
   "metadata": {},
   "outputs": [],
   "source": []
  }
 ],
 "metadata": {
  "kernelspec": {
   "display_name": "Python [conda env:funcytorch]",
   "language": "python",
   "name": "conda-env-funcytorch-py"
  },
  "language_info": {
   "codemirror_mode": {
    "name": "ipython",
    "version": 3
   },
   "file_extension": ".py",
   "mimetype": "text/x-python",
   "name": "python",
   "nbconvert_exporter": "python",
   "pygments_lexer": "ipython3",
   "version": "3.6.5"
  }
 },
 "nbformat": 4,
 "nbformat_minor": 2
}
