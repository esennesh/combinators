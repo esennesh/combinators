{
 "cells": [
  {
   "cell_type": "code",
   "execution_count": 1,
   "id": "78f70dbd",
   "metadata": {},
   "outputs": [
    {
     "data": {
      "application/vnd.jupyter.widget-view+json": {
       "model_id": "86bf31f6f7bc46a6a00f1590b4291167",
       "version_major": 2,
       "version_minor": 0
      },
      "text/plain": [
       "  0%|          | 0/3 [00:00<?, ?it/s]"
      ]
     },
     "metadata": {},
     "output_type": "display_data"
    },
    {
     "data": {
      "application/vnd.jupyter.widget-view+json": {
       "model_id": "6aff37bc0e6444e184b41c99bdeaae71",
       "version_major": 2,
       "version_minor": 0
      },
      "text/plain": [
       "  0%|          | 0/20000 [00:00<?, ?it/s]"
      ]
     },
     "metadata": {},
     "output_type": "display_data"
    },
    {
     "data": {
      "application/vnd.jupyter.widget-view+json": {
       "model_id": "b0a13eeca36e44e4aa10ef38c3baf27a",
       "version_major": 2,
       "version_minor": 0
      },
      "text/plain": [
       "  0%|          | 0/20000 [00:00<?, ?it/s]"
      ]
     },
     "metadata": {},
     "output_type": "display_data"
    },
    {
     "data": {
      "application/vnd.jupyter.widget-view+json": {
       "model_id": "aed737d7e81642e581e49c81d0b17f66",
       "version_major": 2,
       "version_minor": 0
      },
      "text/plain": [
       "  0%|          | 0/20000 [00:00<?, ?it/s]"
      ]
     },
     "metadata": {},
     "output_type": "display_data"
    },
    {
     "data": {
      "application/vnd.jupyter.widget-view+json": {
       "model_id": "639e6502766841c1ad4237fedd14039b",
       "version_major": 2,
       "version_minor": 0
      },
      "text/plain": [
       "  0%|          | 0/3 [00:00<?, ?it/s]"
      ]
     },
     "metadata": {},
     "output_type": "display_data"
    },
    {
     "data": {
      "application/vnd.jupyter.widget-view+json": {
       "model_id": "869d7b9c0a504e0a93d0e9ec47ec730e",
       "version_major": 2,
       "version_minor": 0
      },
      "text/plain": [
       "  0%|          | 0/3333 [00:00<?, ?it/s]"
      ]
     },
     "metadata": {},
     "output_type": "display_data"
    },
    {
     "data": {
      "application/vnd.jupyter.widget-view+json": {
       "model_id": "515c3af6403a4665a15f6c885807b08a",
       "version_major": 2,
       "version_minor": 0
      },
      "text/plain": [
       "  0%|          | 0/3333 [00:00<?, ?it/s]"
      ]
     },
     "metadata": {},
     "output_type": "display_data"
    },
    {
     "data": {
      "application/vnd.jupyter.widget-view+json": {
       "model_id": "429ca66864c843c7997da7c0f9a752c7",
       "version_major": 2,
       "version_minor": 0
      },
      "text/plain": [
       "  0%|          | 0/3333 [00:00<?, ?it/s]"
      ]
     },
     "metadata": {},
     "output_type": "display_data"
    },
    {
     "data": {
      "text/plain": [
       "<data.Sim_MovingMNIST at 0x7f587c351e20>"
      ]
     },
     "execution_count": 1,
     "metadata": {},
     "output_type": "execute_result"
    }
   ],
   "source": [
    "%matplotlib inline\n",
    "%load_ext autoreload\n",
    "%autoreload 2\n",
    "import torch\n",
    "# from objectives import apg_objective\n",
    "from data import *\n",
    "# from resampler import Resampler\n",
    "from utils import init_models, load_models\n",
    "device = 'cuda:1'\n",
    "model_name, data = 'APG', 'movingmnist'\n",
    "num_digits, batch_size, z_what_dim = 3, 5, 10\n",
    "sample_size, num_sweeps = 1, 10\n",
    "# exp_name = '{}_d={}-3_budget=60_sweeps=6_z={}_lr=0.0002_seed=1'.format(model_name, data, z_what_dim)\n",
    "data_args = {'data': data,\n",
    "             'batch_size': batch_size,\n",
    "             'train': True,\n",
    "             'timesteps': 10,\n",
    "             'num_digits': num_digits,\n",
    "             'dv': 0.1,\n",
    "             'frame_size': 96,\n",
    "             'shuffle': False,\n",
    "              }\n",
    "# Sim_MovingMNIST(data_args['timesteps'], data_args['num_digits'], data_args['frame_size'], data_args['dv'])"
   ]
  },
  {
   "cell_type": "code",
   "execution_count": 2,
   "id": "b0bff045",
   "metadata": {},
   "outputs": [
    {
     "data": {
      "application/vnd.jupyter.widget-view+json": {
       "model_id": "018ba4c9143a49829499e9442afae6c8",
       "version_major": 2,
       "version_minor": 0
      },
      "text/plain": [
       "  0%|          | 0/60 [00:00<?, ?it/s]"
      ]
     },
     "metadata": {},
     "output_type": "display_data"
    }
   ],
   "source": [
    "data_paths  = data_loader_indices(train=data_args['train'], \n",
    "                                  timesteps=data_args['timesteps'], \n",
    "                                  num_digits=data_args['num_digits'], \n",
    "                                  frame_size=data_args['frame_size'], \n",
    "                                  dv=data_args['dv'])\n",
    "\n",
    "pbar = tqdm(range(len(data_paths)))\n",
    "for chunk_idx in pbar:\n",
    "    train_loader = setup_data_loader(data_paths[chunk_idx], data_args['batch_size'], train=data_args['train'])"
   ]
  },
  {
   "cell_type": "code",
   "execution_count": null,
   "id": "f67b91a3",
   "metadata": {},
   "outputs": [],
   "source": []
  }
 ],
 "metadata": {
  "kernelspec": {
   "display_name": "Python [conda env:funcytorch] *",
   "language": "python",
   "name": "conda-env-funcytorch-py"
  },
  "language_info": {
   "codemirror_mode": {
    "name": "ipython",
    "version": 3
   },
   "file_extension": ".py",
   "mimetype": "text/x-python",
   "name": "python",
   "nbconvert_exporter": "python",
   "pygments_lexer": "ipython3",
   "version": "3.8.12"
  }
 },
 "nbformat": 4,
 "nbformat_minor": 5
}
