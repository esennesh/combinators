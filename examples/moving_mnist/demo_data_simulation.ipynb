{
 "cells": [
  {
   "cell_type": "code",
   "execution_count": 4,
   "id": "78f70dbd",
   "metadata": {},
   "outputs": [
    {
     "name": "stdout",
     "output_type": "stream",
     "text": [
      "The autoreload extension is already loaded. To reload it, use:\n",
      "  %reload_ext autoreload\n"
     ]
    }
   ],
   "source": [
    "%matplotlib inline\n",
    "%load_ext autoreload\n",
    "%autoreload 2\n",
    "import torch\n",
    "# from objectives import apg_objective\n",
    "from data import *\n",
    "# from resampler import Resampler\n",
    "from utils import init_models, load_models\n",
    "device = 'cuda:1'\n",
    "model_name, data = 'APG', 'movingmnist'\n",
    "num_digits, batch_size, z_what_dim = 3, 5, 10\n",
    "sample_size, num_sweeps = 1, 10\n",
    "# exp_name = '{}_d={}-3_budget=60_sweeps=6_z={}_lr=0.0002_seed=1'.format(model_name, data, z_what_dim)\n",
    "data_args = {'data': data,\n",
    "             'batch_size': batch_size,\n",
    "             'train': True,\n",
    "             'timesteps': 10,\n",
    "             'num_digits': num_digits,\n",
    "             'dv': 0.1,\n",
    "             'frame_size': 96,\n",
    "             'shuffle': False,\n",
    "              }\n",
    "# Sim_MovingMNIST(data_args['timesteps'], data_args['num_digits'], data_args['frame_size'], data_args['dv'])"
   ]
  },
  {
   "cell_type": "code",
   "execution_count": 5,
   "id": "b0bff045",
   "metadata": {},
   "outputs": [
    {
     "data": {
      "application/vnd.jupyter.widget-view+json": {
       "model_id": "e45691e352354d878ee893c41d41bd07",
       "version_major": 2,
       "version_minor": 0
      },
      "text/plain": [
       "  0%|          | 0/20 [00:00<?, ?it/s]"
      ]
     },
     "metadata": {},
     "output_type": "display_data"
    }
   ],
   "source": [
    "data_paths  = data_loader_indices(train=data_args['train'], \n",
    "                                  timesteps=data_args['timesteps'], \n",
    "                                  num_digits=data_args['num_digits'], \n",
    "                                  frame_size=data_args['frame_size'], \n",
    "                                  dv=data_args['dv'])\n",
    "\n",
    "pbar = tqdm(range(len(data_paths)))\n",
    "for chunk_idx in pbar:\n",
    "    train_loader = setup_data_loader(data_paths[chunk_idx], data_args['batch_size'], train=data_args['train'])  "
   ]
  },
  {
   "cell_type": "code",
   "execution_count": null,
   "id": "f67b91a3",
   "metadata": {},
   "outputs": [],
   "source": []
  }
 ],
 "metadata": {
  "kernelspec": {
   "display_name": "Python 3",
   "language": "python",
   "name": "python3"
  },
  "language_info": {
   "codemirror_mode": {
    "name": "ipython",
    "version": 3
   },
   "file_extension": ".py",
   "mimetype": "text/x-python",
   "name": "python",
   "nbconvert_exporter": "python",
   "pygments_lexer": "ipython3",
   "version": "3.8.5"
  }
 },
 "nbformat": 4,
 "nbformat_minor": 5
}
